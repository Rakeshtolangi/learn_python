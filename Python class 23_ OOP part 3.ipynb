{
 "cells": [
  {
   "cell_type": "markdown",
   "id": "dc49f1c8",
   "metadata": {},
   "source": [
    "#### passing members of one class to another class"
   ]
  },
  {
   "cell_type": "code",
   "execution_count": 6,
   "id": "3b9a60ff",
   "metadata": {},
   "outputs": [
    {
     "name": "stdout",
     "output_type": "stream",
     "text": [
      "Employee Number :  1\n",
      "Employee name :  rakesh\n",
      "Employee salary :  35000\n"
     ]
    }
   ],
   "source": [
    "class Employee:\n",
    "    def __init__(self,eno,ename,esal):\n",
    "        self.eno=eno\n",
    "        self.ename = ename\n",
    "        self.esal = esal\n",
    "        \n",
    "    def display(self):\n",
    "        print('Employee Number : ', self.eno)\n",
    "        print('Employee name : ', self.ename)\n",
    "        print('Employee salary : ', self.esal)\n",
    "    \n",
    "\n",
    "\n",
    "class Manager:\n",
    "    @staticmethod\n",
    "    def updatesalary(emp):    # emp object is passed as argument in another class\n",
    "        emp.esal = emp.esal + 20000\n",
    "        emp.display()\n",
    "\n",
    "        \n",
    "emp = Employee(1,'rakesh',15000)\n",
    "Manager.updatesalary(emp )\n",
    "# emp.display()"
   ]
  },
  {
   "cell_type": "code",
   "execution_count": 7,
   "id": "a17b8e2a",
   "metadata": {},
   "outputs": [],
   "source": [
    "# class which is declared inside another class = inner class\n",
    "class a:\n",
    "    class b:\n",
    "        pass\n",
    "    pass"
   ]
  },
  {
   "cell_type": "code",
   "execution_count": 5,
   "id": "98059342",
   "metadata": {},
   "outputs": [
    {
     "name": "stdout",
     "output_type": "stream",
     "text": [
      "Outer object is created\n",
      "Inner object is created\n",
      "Inner class method\n"
     ]
    }
   ],
   "source": [
    "class Outer:\n",
    "    def __init__(self):\n",
    "        print('Outer object is created')\n",
    "    class Inner:\n",
    "        def __init__(self):\n",
    "            print('Inner object is created')\n",
    "        def m(self):\n",
    "            print(\"Inner class method\")\n",
    "            \n",
    "# O = Outer()\n",
    "# I = O.Inner()\n",
    "# I.m()\n",
    "\n",
    "Outer().Inner().m()\n"
   ]
  },
  {
   "cell_type": "code",
   "execution_count": 14,
   "id": "e869cc93",
   "metadata": {},
   "outputs": [
    {
     "name": "stdout",
     "output_type": "stream",
     "text": [
      "outer class object is created\n",
      "Innerinner classes\n",
      "nested inner class instance\n",
      "\n",
      "outer class object is created\n",
      "nested inner class static class\n"
     ]
    }
   ],
   "source": [
    "#Nesting of inner classes\n",
    "\n",
    "class Outer:\n",
    "    def __init__(self):\n",
    "        print(\"outer class object is created\")\n",
    "        \n",
    "    class Inner:\n",
    "        def __init(self):\n",
    "            print(\"Inner classes\")\n",
    "        \n",
    "        class InnerInner:\n",
    "            def __init__(self):\n",
    "                print(\"Innerinner classes\")\n",
    "            \n",
    "            def m(self):\n",
    "                print(\"nested inner class instance\")\n",
    "                \n",
    "#             now way related to object. so call using class\n",
    "            @staticmethod    \n",
    "            def m1():\n",
    "                print(\"nested inner class static class\")\n",
    "                \n",
    "                \n",
    "O = Outer()\n",
    "i = O.Inner()\n",
    "ii = i.InnerInner()\n",
    "\n",
    "ii.m()\n",
    "\n",
    "print()\n",
    "# Outer().Inner().InnerInner().m()\n",
    "# to call constructor, object should be created.\n",
    "Outer().Inner().InnerInner.m1()"
   ]
  },
  {
   "cell_type": "code",
   "execution_count": 16,
   "id": "22d730aa",
   "metadata": {},
   "outputs": [
    {
     "name": "stdout",
     "output_type": "stream",
     "text": [
      "Hello Rakesh\n",
      "I am busy\n",
      "Talking\n",
      "Thinking\n"
     ]
    }
   ],
   "source": [
    "# automatically create inner object\n",
    "class Human:\n",
    "    def __init__(self,name):\n",
    "        self.name=name\n",
    "        self.head=self.Head() \n",
    "        \n",
    "    def info(self):\n",
    "        print(\"Hello\", self.name)\n",
    "        print(\"I am busy\")\n",
    "#       giving variable self.something = self.class_name \n",
    "        self.head.talk()\n",
    "        self.head.brain.think()\n",
    "        \n",
    "    class Head:\n",
    "        def __init__(self):\n",
    "            self.brain = self.Brain()\n",
    "            \n",
    "           \n",
    "        def talk(self):\n",
    "            print(\"Talking\")\n",
    "            \n",
    "        class Brain:\n",
    "            \n",
    "            def think(self):\n",
    "                print(\"Thinking\")\n",
    "\n",
    "human = Human(\"Rakesh\")\n",
    "human.info()"
   ]
  },
  {
   "cell_type": "code",
   "execution_count": 19,
   "id": "50252efb",
   "metadata": {},
   "outputs": [
    {
     "name": "stdout",
     "output_type": "stream",
     "text": [
      "Sum is 70\n",
      "Product is 1200\n",
      "Difference is  10\n",
      "\n",
      "Sum is 5000\n",
      "Product is 6000000\n",
      "Difference is  1000\n"
     ]
    }
   ],
   "source": [
    "# Nested methods\n",
    "# if repeated code comes under mtehod then we use nested method\n",
    "\n",
    "class Test:\n",
    "    def m(self):\n",
    "        def calc(a,b):\n",
    "            print('Sum is', a+b)\n",
    "            print('Product is', a * b)\n",
    "            print('Difference is ', a-b)\n",
    "        calc(40,30)\n",
    "        print()\n",
    "        calc(3000,2000)\n",
    "        \n",
    "t = Test()\n",
    "t.m()"
   ]
  },
  {
   "cell_type": "markdown",
   "id": "a21bd9f7",
   "metadata": {},
   "source": [
    "# Garbage collector"
   ]
  },
  {
   "cell_type": "code",
   "execution_count": 21,
   "id": "0262f430",
   "metadata": {},
   "outputs": [
    {
     "data": {
      "text/plain": [
       "'\\nobject is eligible for garbage collector\\n    -> if object has no reference variable\\n    \\n'"
      ]
     },
     "execution_count": 21,
     "metadata": {},
     "output_type": "execute_result"
    }
   ],
   "source": [
    "# self destructor of useless object\n",
    "\"\"\"\n",
    "object is eligible for garbage collector\n",
    "    -> if object has no reference variable\n",
    "    \n",
    "\"\"\""
   ]
  },
  {
   "cell_type": "code",
   "execution_count": 17,
   "id": "124617c5",
   "metadata": {},
   "outputs": [
    {
     "name": "stdout",
     "output_type": "stream",
     "text": [
      "True\n"
     ]
    }
   ],
   "source": [
    "import gc\n",
    "print(gc.isenabled())"
   ]
  },
  {
   "cell_type": "code",
   "execution_count": 24,
   "id": "52c7a70d",
   "metadata": {},
   "outputs": [
    {
     "name": "stdout",
     "output_type": "stream",
     "text": [
      "False\n"
     ]
    }
   ],
   "source": [
    "gc.disable()\n",
    "print(gc.isenabled())"
   ]
  },
  {
   "cell_type": "code",
   "execution_count": 18,
   "id": "89f93726",
   "metadata": {},
   "outputs": [
    {
     "name": "stdout",
     "output_type": "stream",
     "text": [
      "True\n"
     ]
    }
   ],
   "source": [
    "gc.enable()\n",
    "print(gc.isenabled())"
   ]
  },
  {
   "cell_type": "markdown",
   "id": "9dfde9df",
   "metadata": {},
   "source": [
    "# Destructor\n",
    "\n",
    "###### GC will delete object if object has no reference variable.\n",
    "###### resource de-allocation first before putting object to gc by calling destructor\n",
    "###### __init__()  will call when just before declaring object variable\n",
    "###### __del__() will call if there is no found of any allocation"
   ]
  },
  {
   "cell_type": "code",
   "execution_count": 7,
   "id": "2ceaaa7f",
   "metadata": {},
   "outputs": [
    {
     "name": "stdout",
     "output_type": "stream",
     "text": [
      "Constructor is called\n",
      "Destructor is called\n"
     ]
    }
   ],
   "source": [
    "class Test:\n",
    "    def __init__(self):\n",
    "         print('Constructor is called')\n",
    "            \n",
    "    def __del__(self):\n",
    "        print('Destructor is called')\n",
    "        \n",
    "t = Test()\n",
    "t = None"
   ]
  },
  {
   "cell_type": "code",
   "execution_count": 14,
   "id": "c8a8d95c",
   "metadata": {},
   "outputs": [],
   "source": [
    "import time"
   ]
  },
  {
   "cell_type": "code",
   "execution_count": 15,
   "id": "af7d44b2",
   "metadata": {},
   "outputs": [
    {
     "name": "stdout",
     "output_type": "stream",
     "text": [
      "I am making object\n",
      "constructor is called\n",
      "Destructor is called\n",
      "object has been created\n",
      "Destructor is called\n",
      "Constructor has been called\n",
      "constructor is called\n",
      "Destructor is called\n",
      "End of application\n"
     ]
    }
   ],
   "source": [
    " class animal:\n",
    "        def __init__(self):\n",
    "            print('constructor is called')\n",
    "        \n",
    "        def __del__(self):\n",
    "            print('Destructor is called')\n",
    "\n",
    "print('I am making object')\n",
    "time.sleep(3)\n",
    "A1 = animal()\n",
    "time.sleep(3)\n",
    "print('object has been created')\n",
    "del A1\n",
    "time.sleep(3)\n",
    "print('Constructor has been called')\n",
    "A2 = animal()\n",
    "print('End of application')\n"
   ]
  },
  {
   "cell_type": "code",
   "execution_count": 24,
   "id": "1b189a1e",
   "metadata": {},
   "outputs": [
    {
     "name": "stdout",
     "output_type": "stream",
     "text": [
      "Constructor is called\n",
      "Constructor is called\n",
      "Destructor is called\n",
      "Destructor is called\n",
      "Constructor is called\n",
      "Destructor is called\n",
      "end of app\n"
     ]
    }
   ],
   "source": [
    "class Test:\n",
    "    def __init__(self):\n",
    "        print('Constructor is called')\n",
    "    def __del__(self):\n",
    "        print('Destructor is called')\n",
    "l = [Test(),Test()]\n",
    "del l\n",
    "a = Test()\n",
    "a = 5\n",
    "print('end of app')"
   ]
  },
  {
   "cell_type": "code",
   "execution_count": 27,
   "id": "74dd4785",
   "metadata": {},
   "outputs": [
    {
     "name": "stdout",
     "output_type": "stream",
     "text": [
      "5\n"
     ]
    }
   ],
   "source": [
    "# find no. of reference cariable\n",
    "\n",
    "import sys\n",
    "class test:\n",
    "#     self variable will used so python default add self reference variable = +1+4+\n",
    "    pass\n",
    "\n",
    "t1 = test()\n",
    "t2 = t1\n",
    "t3 = t1\n",
    "t4 = t1\n",
    "print(sys.getrefcount(t1))"
   ]
  },
  {
   "cell_type": "code",
   "execution_count": null,
   "id": "e336c898",
   "metadata": {},
   "outputs": [],
   "source": []
  }
 ],
 "metadata": {
  "kernelspec": {
   "display_name": "Python 3 (ipykernel)",
   "language": "python",
   "name": "python3"
  },
  "language_info": {
   "codemirror_mode": {
    "name": "ipython",
    "version": 3
   },
   "file_extension": ".py",
   "mimetype": "text/x-python",
   "name": "python",
   "nbconvert_exporter": "python",
   "pygments_lexer": "ipython3",
   "version": "3.9.7"
  }
 },
 "nbformat": 4,
 "nbformat_minor": 5
}
