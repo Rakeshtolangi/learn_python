{
 "cells": [
  {
   "cell_type": "markdown",
   "id": "c9e7f983",
   "metadata": {},
   "source": [
    "# Function"
   ]
  },
  {
   "cell_type": "code",
   "execution_count": 9,
   "id": "c89bbbbb",
   "metadata": {},
   "outputs": [
    {
     "name": "stdout",
     "output_type": "stream",
     "text": [
      "The sum is: 2020\n",
      "The difference is: 1980\n",
      "The multiple is: 40000\n",
      "\n",
      "The sum is: 550\n",
      "The difference is: 450\n",
      "The multiple is: 25000\n",
      "\n",
      "The sum is: 1400\n",
      "The difference is: 200\n",
      "The multiple is: 480000\n"
     ]
    }
   ],
   "source": [
    "# ability of code reusability\n",
    "def function(a,b):\n",
    "    print(\"The sum is:\", a+b)\n",
    "    print(\"The difference is:\", a-b)\n",
    "    print(\"The multiple is:\", a*b)\n",
    "    \n",
    "function(2000,20)\n",
    "print()\n",
    "function(500, 50)\n",
    "print()\n",
    "function(800,600)"
   ]
  },
  {
   "cell_type": "code",
   "execution_count": 11,
   "id": "e0372eab",
   "metadata": {},
   "outputs": [
    {
     "ename": "IndentationError",
     "evalue": "unexpected indent (Temp/ipykernel_12780/3760406643.py, line 5)",
     "output_type": "error",
     "traceback": [
      "\u001b[1;36m  File \u001b[1;32m\"C:\\Users\\RAKESH~1\\AppData\\Local\\Temp/ipykernel_12780/3760406643.py\"\u001b[1;36m, line \u001b[1;32m5\u001b[0m\n\u001b[1;33m    \"\"\"\u001b[0m\n\u001b[1;37m    ^\u001b[0m\n\u001b[1;31mIndentationError\u001b[0m\u001b[1;31m:\u001b[0m unexpected indent\n"
     ]
    }
   ],
   "source": [
    "# Type of functions\n",
    "# 2 types of functions\n",
    "\n",
    "# 1. Built in function or predefined functions\n",
    "        \"\"\"\n",
    "        id()\n",
    "        type()\n",
    "        print()\n",
    "        input()\n",
    "        eval()\n",
    "        \n",
    "        \"\"\"\n",
    "# 2. userdefined fucntion"
   ]
  },
  {
   "cell_type": "code",
   "execution_count": null,
   "id": "c2548973",
   "metadata": {},
   "outputs": [],
   "source": [
    "\n",
    "\n",
    "# 2. userdefined functions\n"
   ]
  },
  {
   "cell_type": "code",
   "execution_count": 14,
   "id": "760a011c",
   "metadata": {},
   "outputs": [],
   "source": [
    "#  use of other developers functions and know about it\n",
    "def function_name(parameters):\n",
    "    \"\"\" This function helps to know about this function\"\"\"\n",
    "    pass"
   ]
  },
  {
   "cell_type": "code",
   "execution_count": 13,
   "id": "d642f641",
   "metadata": {},
   "outputs": [
    {
     "name": "stdout",
     "output_type": "stream",
     "text": [
      "Help on function function_name in module __main__:\n",
      "\n",
      "function_name(parameters)\n",
      "    This function helps to know about this function\n",
      "\n",
      "None\n"
     ]
    }
   ],
   "source": [
    "print(help(function_name))"
   ]
  },
  {
   "cell_type": "code",
   "execution_count": 19,
   "id": "33ab9014",
   "metadata": {},
   "outputs": [
    {
     "name": "stdout",
     "output_type": "stream",
     "text": [
      "Hello guys.\n",
      "Hello guys.\n",
      "Hello guys.\n",
      "Hello guys.\n",
      "Hello guys.\n"
     ]
    }
   ],
   "source": [
    "\n",
    "def wish():     # function defination\n",
    "    print('Hello guys.')\n",
    "\n",
    "wish()\n",
    "wish()\n",
    "wish()\n",
    "wish()\n",
    "wish()\n"
   ]
  },
  {
   "cell_type": "code",
   "execution_count": 24,
   "id": "7bc9e89c",
   "metadata": {},
   "outputs": [
    {
     "name": "stdout",
     "output_type": "stream",
     "text": [
      "Hello Rakesh\n",
      "Hello computer\n",
      "Hello engineer\n",
      "Hello developer\n"
     ]
    },
    {
     "ename": "TypeError",
     "evalue": "wish() missing 1 required positional argument: 'name'",
     "output_type": "error",
     "traceback": [
      "\u001b[1;31m---------------------------------------------------------------------------\u001b[0m",
      "\u001b[1;31mTypeError\u001b[0m                                 Traceback (most recent call last)",
      "\u001b[1;32mC:\\Users\\RAKESH~1\\AppData\\Local\\Temp/ipykernel_12780/2197109555.py\u001b[0m in \u001b[0;36m<module>\u001b[1;34m\u001b[0m\n\u001b[0;32m      7\u001b[0m \u001b[0mwish\u001b[0m\u001b[1;33m(\u001b[0m\u001b[1;34m\"engineer\"\u001b[0m\u001b[1;33m)\u001b[0m\u001b[1;33m\u001b[0m\u001b[1;33m\u001b[0m\u001b[0m\n\u001b[0;32m      8\u001b[0m \u001b[0mwish\u001b[0m\u001b[1;33m(\u001b[0m\u001b[1;34m\"developer\"\u001b[0m\u001b[1;33m)\u001b[0m\u001b[1;33m\u001b[0m\u001b[1;33m\u001b[0m\u001b[0m\n\u001b[1;32m----> 9\u001b[1;33m \u001b[0mwish\u001b[0m\u001b[1;33m(\u001b[0m\u001b[1;33m)\u001b[0m\u001b[1;33m\u001b[0m\u001b[1;33m\u001b[0m\u001b[0m\n\u001b[0m",
      "\u001b[1;31mTypeError\u001b[0m: wish() missing 1 required positional argument: 'name'"
     ]
    }
   ],
   "source": [
    "# function parameters are input of the function\n",
    "def wish(name):\n",
    "    print('Hello',name)\n",
    "    \n",
    "wish(\"Rakesh\")\n",
    "wish(\"computer\")\n",
    "wish(\"engineer\")\n",
    "wish(\"developer\")\n",
    "wish()"
   ]
  },
  {
   "cell_type": "code",
   "execution_count": 32,
   "id": "de84441e",
   "metadata": {},
   "outputs": [
    {
     "name": "stdout",
     "output_type": "stream",
     "text": [
      "The square of 3 is 9\n",
      "The square of 10 is 100\n"
     ]
    }
   ],
   "source": [
    "def square_the_number(num):\n",
    "    sq = num*num\n",
    "    print(f'The square of {num} is {sq}')\n",
    "\n",
    "square_the_number(3)\n",
    "square_the_number(10)"
   ]
  },
  {
   "cell_type": "code",
   "execution_count": 33,
   "id": "4e4047d6",
   "metadata": {},
   "outputs": [
    {
     "name": "stdout",
     "output_type": "stream",
     "text": [
      "The square of 5 is 25\n",
      "None\n"
     ]
    }
   ],
   "source": [
    "# diff between print and return\n",
    "\n",
    "\"\"\"\n",
    "print is just for showing the output \n",
    "\n",
    "return is a value to be passed to another function if it called out\n",
    "\"\"\"\n",
    "def square_the_number(num):\n",
    "    sq = num*num\n",
    "    print(f'The square of {num} is {sq}')\n",
    "    \n",
    "print(square_the_number(5))"
   ]
  },
  {
   "cell_type": "code",
   "execution_count": 36,
   "id": "9aa67d03",
   "metadata": {},
   "outputs": [
    {
     "name": "stdout",
     "output_type": "stream",
     "text": [
      "11\n"
     ]
    },
    {
     "data": {
      "text/plain": [
       "'\\nTwo ways to store return value\\nie . print the return value \\nor  store return value to a variable  \\n'"
      ]
     },
     "execution_count": 36,
     "metadata": {},
     "output_type": "execute_result"
    }
   ],
   "source": [
    "# Return statement\n",
    "\n",
    "def add(a,b):\n",
    "    sum = a+b\n",
    "    return sum\n",
    "\n",
    "# add(5,6)  # This will not show output becoz u have to print the return\n",
    "print(add(5,6))\n",
    "\n",
    "\"\"\"\n",
    "Two ways to store return value\n",
    "ie . print the return value \n",
    "or  store return value to a variable  \n",
    "\"\"\""
   ]
  },
  {
   "cell_type": "code",
   "execution_count": 39,
   "id": "306291ed",
   "metadata": {},
   "outputs": [
    {
     "name": "stdout",
     "output_type": "stream",
     "text": [
      "The sum is :  11\n"
     ]
    }
   ],
   "source": [
    "def add(a,b):\n",
    "    sum = a+b\n",
    "    return sum\n",
    "\n",
    "result = add(5,6)\n",
    "print(\"The sum is : \", result)"
   ]
  },
  {
   "cell_type": "code",
   "execution_count": 42,
   "id": "6c7121af",
   "metadata": {},
   "outputs": [
    {
     "name": "stdout",
     "output_type": "stream",
     "text": [
      "The sum is :  11\n"
     ]
    }
   ],
   "source": [
    "def add(a,b):\n",
    "    sum = a+b\n",
    "    return sum\n",
    "\n",
    "# result = add(5,6)\n",
    "# you can pass return value to print\n",
    "print(\"The sum is : \", add(5,6))\n",
    "\n",
    "# This is not an optimal way to use return statement"
   ]
  },
  {
   "cell_type": "code",
   "execution_count": 45,
   "id": "b6be8b22",
   "metadata": {},
   "outputs": [
    {
     "name": "stdout",
     "output_type": "stream",
     "text": [
      "the sum:  None\n",
      "why None. None is a datatype. None is empty object\n",
      "return an empty object becoz function have nothng to return\n"
     ]
    }
   ],
   "source": [
    "def add(a,b):\n",
    "    sum= a+b\n",
    "#     return sum\n",
    "\n",
    "result = add(4,5)\n",
    "print(\"the sum: \",result)\n",
    "print(\"why None. None is a datatype. None is empty object\")\n",
    "print(\"return an empty object becoz function have nothng to return\")"
   ]
  },
  {
   "cell_type": "code",
   "execution_count": 51,
   "id": "77cc57e6",
   "metadata": {},
   "outputs": [
    {
     "name": "stdout",
     "output_type": "stream",
     "text": [
      "120\n"
     ]
    }
   ],
   "source": [
    "# factorial of n number using function\n",
    "\n",
    "def factorial(num):\n",
    "    result = 1\n",
    "    while num>=1:\n",
    "        result = result * num\n",
    "        num = num -1\n",
    "    return result\n",
    "\n",
    "# print(factorial(5))\n",
    "\n",
    "x = factorial(5)      # prefered return statement store\n",
    "print(x)"
   ]
  },
  {
   "cell_type": "code",
   "execution_count": 53,
   "id": "c933f899",
   "metadata": {},
   "outputs": [
    {
     "name": "stdout",
     "output_type": "stream",
     "text": [
      "The factorial of 1 is:  1\n",
      "The factorial of 2 is:  2\n",
      "The factorial of 3 is:  6\n",
      "The factorial of 4 is:  24\n",
      "The factorial of 5 is:  120\n",
      "The factorial of 6 is:  720\n",
      "The factorial of 7 is:  5040\n",
      "The factorial of 8 is:  40320\n",
      "The factorial of 9 is:  362880\n",
      "The factorial of 10 is:  3628800\n"
     ]
    }
   ],
   "source": [
    "# function inside loop\n",
    "\n",
    "def factorial(num):\n",
    "    result = 1\n",
    "    while num>=1:\n",
    "        result = result * num\n",
    "        num = num -1\n",
    "    return result\n",
    "\n",
    "for i in range(1,11):\n",
    "    print(f\"The factorial of {i} is: \", factorial(i))"
   ]
  },
  {
   "cell_type": "code",
   "execution_count": 7,
   "id": "39bff920",
   "metadata": {},
   "outputs": [
    {
     "name": "stdout",
     "output_type": "stream",
     "text": [
      "x, y is the notation of tuple unpacking\n",
      "the sum is :  15\n",
      "the difference is: 5\n"
     ]
    }
   ],
   "source": [
    "# returning multiple values form function\n",
    "\n",
    "def add_sub(a,b):\n",
    "    sum = a+b\n",
    "    sub = a-b\n",
    "    return sum,sub    # represent as tuple # with or without () and seperated by , is called tuple\n",
    "\n",
    "x,y = add_sub(10,5)        # returns multiple values using function\n",
    "print(\"x, y is the notation of tuple unpacking\")\n",
    "print(\"the sum is : \", x)\n",
    "print(\"the difference is:\", y)\n"
   ]
  },
  {
   "cell_type": "code",
   "execution_count": 6,
   "id": "175dc5bd",
   "metadata": {},
   "outputs": [
    {
     "name": "stdout",
     "output_type": "stream",
     "text": [
      "<class 'tuple'>\n",
      "(15, 5)\n"
     ]
    }
   ],
   "source": [
    "def add_sub(a,b):\n",
    "    sum = a+b\n",
    "    sub = a-b\n",
    "    return sum,sub\n",
    "\n",
    "t = add_sub(10,5)\n",
    "print(type(t))\n",
    "print(t)"
   ]
  },
  {
   "cell_type": "code",
   "execution_count": 10,
   "id": "7cba6277",
   "metadata": {},
   "outputs": [
    {
     "name": "stdout",
     "output_type": "stream",
     "text": [
      "30\n"
     ]
    }
   ],
   "source": [
    "# Types of arguments\n",
    "def f(a,b):       # (a,b) = formal parameter f-defination\n",
    "    print(a+b)\n",
    "    \n",
    "f(10,20)          # (10,20) = actual argument  f-call\n",
    "\n",
    "\n"
   ]
  },
  {
   "cell_type": "code",
   "execution_count": 11,
   "id": "8b416fca",
   "metadata": {},
   "outputs": [
    {
     "data": {
      "text/plain": [
       "'\\n1. positional argument\\n2. keyword argument\\n3. Default argumennt\\n4. variable length argument\\n'"
      ]
     },
     "execution_count": 11,
     "metadata": {},
     "output_type": "execute_result"
    }
   ],
   "source": [
    "# Types of arguments\n",
    "\"\"\"\n",
    "1. positional argument\n",
    "        ordr is important\n",
    "        \n",
    "2. keyword argument\n",
    "        parameter is important\n",
    "        paramenter (keyword ie name=\"rakesh\", age=25)\n",
    "        \n",
    "3. Default argumennt\n",
    "4. variable length argument\n",
    "\"\"\""
   ]
  },
  {
   "cell_type": "code",
   "execution_count": 17,
   "id": "02450423",
   "metadata": {},
   "outputs": [
    {
     "name": "stdout",
     "output_type": "stream",
     "text": [
      "30\n"
     ]
    },
    {
     "data": {
      "text/plain": [
       "'\\nThe argument which are passed to argument according to positional order is called positional argument.\\norder is important.\\n'"
      ]
     },
     "execution_count": 17,
     "metadata": {},
     "output_type": "execute_result"
    }
   ],
   "source": [
    "# 1. positional argument\n",
    "\n",
    "def add(a,b):\n",
    "    print(a+b)\n",
    "\n",
    "add(10,20)\n",
    "\n",
    "\"\"\"\n",
    "The argument which are passed to argument according to positional order is called positional argument.\n",
    "order is important.\n",
    "\"\"\"\n"
   ]
  },
  {
   "cell_type": "code",
   "execution_count": 19,
   "id": "cb2b281b",
   "metadata": {},
   "outputs": [
    {
     "name": "stdout",
     "output_type": "stream",
     "text": [
      "your name is:  rakesh\n",
      "your age is:  kathmandu\n",
      "your address is:  25\n"
     ]
    }
   ],
   "source": [
    "# 2. keyword argument\n",
    "def add(name, age, address):\n",
    "    print(\"your name is: \", name)\n",
    "    print(\"your age is: \", age)\n",
    "    print(\"your address is: \", address)\n",
    "    \n",
    "add('rakesh','kathmandu', 25) # order is important"
   ]
  },
  {
   "cell_type": "code",
   "execution_count": 23,
   "id": "5b9beac3",
   "metadata": {},
   "outputs": [
    {
     "name": "stdout",
     "output_type": "stream",
     "text": [
      "your name is:  Rakesh\n",
      "your age is:  25\n",
      "your address is:  kathmadu\n",
      "even the parameter order is change keyword argument prints as argument order\n"
     ]
    }
   ],
   "source": [
    "def add(name, age, address):\n",
    "    print(\"your name is: \", name)\n",
    "    print(\"your age is: \", age)\n",
    "    print(\"your address is: \", address)\n",
    "    \n",
    "add(age=25, address=\"kathmadu\" ,name=\"Rakesh\")\n",
    "print(\"even the parameter order is change keyword argument prints as argument order\")"
   ]
  },
  {
   "cell_type": "code",
   "execution_count": 32,
   "id": "7a8fab6b",
   "metadata": {},
   "outputs": [
    {
     "name": "stdout",
     "output_type": "stream",
     "text": [
      "positional argument\n",
      "100\n",
      "keyword argument\n",
      "100\n",
      "positional and keyword argument \n",
      "100\n",
      "positional argument should be 1st if called combined with keyword argument\n"
     ]
    },
    {
     "data": {
      "text/plain": [
       "'sub(a=200, 100)'"
      ]
     },
     "execution_count": 32,
     "metadata": {},
     "output_type": "execute_result"
    }
   ],
   "source": [
    "def sub(a,b):\n",
    "    print(a-b)\n",
    "    \n",
    "print(\"positional argument\")\n",
    "sub(200,100)\n",
    "\n",
    "print(\"keyword argument\")\n",
    "sub(a=200,b=100)\n",
    "\n",
    "print(\"positional and keyword argument \")\n",
    "sub(200, b=100)\n",
    "\n",
    "print(\"positional argument should be 1st if called combined with keyword argument\")\n",
    "\"\"\"sub(a=200, 100)\"\"\""
   ]
  },
  {
   "cell_type": "code",
   "execution_count": 33,
   "id": "4cdbba74",
   "metadata": {},
   "outputs": [
    {
     "ename": "SyntaxError",
     "evalue": "positional argument follows keyword argument (Temp/ipykernel_1248/2843194509.py, line 2)",
     "output_type": "error",
     "traceback": [
      "\u001b[1;36m  File \u001b[1;32m\"C:\\Users\\RAKESH~1\\AppData\\Local\\Temp/ipykernel_1248/2843194509.py\"\u001b[1;36m, line \u001b[1;32m2\u001b[0m\n\u001b[1;33m    sub(a=200, 100)\u001b[0m\n\u001b[1;37m                  ^\u001b[0m\n\u001b[1;31mSyntaxError\u001b[0m\u001b[1;31m:\u001b[0m positional argument follows keyword argument\n"
     ]
    }
   ],
   "source": [
    "print(\"positional argument should be 1st if called combined with keyword argument\")\n",
    "sub(a=200, 100)"
   ]
  },
  {
   "cell_type": "code",
   "execution_count": 37,
   "id": "48f0cf5d",
   "metadata": {},
   "outputs": [
    {
     "name": "stdout",
     "output_type": "stream",
     "text": [
      "Hello rakesh Good evening.\n"
     ]
    }
   ],
   "source": [
    "# 3. Default arguments\n",
    "\n",
    "def wish(name):\n",
    "    print(\"Hello\", name, \"Good evening.\")\n",
    "    \n",
    "wish('rakesh')"
   ]
  },
  {
   "cell_type": "code",
   "execution_count": 39,
   "id": "d3184377",
   "metadata": {},
   "outputs": [
    {
     "name": "stdout",
     "output_type": "stream",
     "text": [
      "Hello Guest Good evening.\n"
     ]
    }
   ],
   "source": [
    "def wish(name=\"Guest\"):    # used in default argument as placeholder if name = \" \" is not gievn in program\n",
    "    print(\"Hello\", name, \"Good evening.\")\n",
    "    \n",
    "wish()"
   ]
  },
  {
   "cell_type": "code",
   "execution_count": 42,
   "id": "a171cb1c",
   "metadata": {},
   "outputs": [
    {
     "name": "stdout",
     "output_type": "stream",
     "text": [
      "Hello Rakesh Good evening.\n"
     ]
    }
   ],
   "source": [
    "def wish(name=\"Guest\"):  \n",
    "    print(\"Hello\", name, \"Good evening.\")\n",
    "    \n",
    "wish(\"Rakesh\")    # now we pass argument to parameter then it takes argument value as an replacemnt of default value of guest in this case."
   ]
  },
  {
   "cell_type": "code",
   "execution_count": 43,
   "id": "ff5fe42c",
   "metadata": {},
   "outputs": [],
   "source": [
    "def wish(name,msz):\n",
    "    pass"
   ]
  },
  {
   "cell_type": "code",
   "execution_count": 44,
   "id": "ced3dda8",
   "metadata": {},
   "outputs": [],
   "source": [
    "def wish(name=\"Guest\", msz=\"Good Morning\"):\n",
    "    pass"
   ]
  },
  {
   "cell_type": "code",
   "execution_count": 46,
   "id": "11f77814",
   "metadata": {},
   "outputs": [],
   "source": [
    "def wish(name,msz=\"Good morning\"):\n",
    "    pass"
   ]
  },
  {
   "cell_type": "code",
   "execution_count": 54,
   "id": "a4e041dd",
   "metadata": {},
   "outputs": [
    {
     "name": "stdout",
     "output_type": "stream",
     "text": [
      "will show an error becoz keyword argument comes before the positional argument\n"
     ]
    }
   ],
   "source": [
    "def wish(msz,name=\"Guess\"):\n",
    "    print(\"will show an error becoz keyword argument comes before the positional argument\")\n",
    "\n",
    "wish(\"GOod morning\")"
   ]
  },
  {
   "cell_type": "code",
   "execution_count": null,
   "id": "2d58931c",
   "metadata": {},
   "outputs": [],
   "source": [
    "def wish(name)"
   ]
  }
 ],
 "metadata": {
  "kernelspec": {
   "display_name": "Python 3 (ipykernel)",
   "language": "python",
   "name": "python3"
  },
  "language_info": {
   "codemirror_mode": {
    "name": "ipython",
    "version": 3
   },
   "file_extension": ".py",
   "mimetype": "text/x-python",
   "name": "python",
   "nbconvert_exporter": "python",
   "pygments_lexer": "ipython3",
   "version": "3.9.7"
  }
 },
 "nbformat": 4,
 "nbformat_minor": 5
}
