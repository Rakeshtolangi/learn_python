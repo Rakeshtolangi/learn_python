{
 "cells": [
  {
   "cell_type": "code",
   "execution_count": 1,
   "id": "eec66532",
   "metadata": {},
   "outputs": [
    {
     "ename": "SyntaxError",
     "evalue": "EOF while scanning triple-quoted string literal (Temp/ipykernel_8168/1085854648.py, line 4)",
     "output_type": "error",
     "traceback": [
      "\u001b[1;36m  File \u001b[1;32m\"C:\\Users\\RAKESH~1\\AppData\\Local\\Temp/ipykernel_8168/1085854648.py\"\u001b[1;36m, line \u001b[1;32m4\u001b[0m\n\u001b[1;33m    \"\"\"\u001b[0m\n\u001b[1;37m       ^\u001b[0m\n\u001b[1;31mSyntaxError\u001b[0m\u001b[1;31m:\u001b[0m EOF while scanning triple-quoted string literal\n"
     ]
    }
   ],
   "source": [
    "# strings\n",
    "\"\"\"\n",
    "any items enclosed in between ' ', \" \" and \"\" \"\"\"\n",
    "\"\"\""
   ]
  },
  {
   "cell_type": "code",
   "execution_count": 5,
   "id": "79aa355b",
   "metadata": {},
   "outputs": [
    {
     "name": "stdout",
     "output_type": "stream",
     "text": [
      "Enter name: sunil\n",
      "The character present  at +ve index : 0and-ve index is -5\n",
      "The character present  at +ve index : 1and-ve index is -4\n",
      "The character present  at +ve index : 2and-ve index is -3\n",
      "The character present  at +ve index : 3and-ve index is -2\n",
      "The character present  at +ve index : 4and-ve index is -1\n"
     ]
    }
   ],
   "source": [
    "\"\"\"\n",
    "How to access character of the string\n",
    "# By positive index\n",
    "# by negative index\n",
    "\n",
    "\n",
    "\n",
    "\"\"\"\n",
    "\n",
    "s = input(\"Enter name: \")\n",
    "i = 0\n",
    "for x in s:\n",
    "    print(f\"The character present  at +ve index : {i}and-ve index is {i-len(s)}\")\n",
    "    i= i +1"
   ]
  },
  {
   "cell_type": "code",
   "execution_count": 12,
   "id": "fca983ca",
   "metadata": {},
   "outputs": [
    {
     "name": "stdout",
     "output_type": "stream",
     "text": [
      "Ia_optregne\n"
     ]
    }
   ],
   "source": [
    "# slice operator\n",
    "# s[start:end:step]\n",
    "\n",
    "s = \"I_am_computer_engineer\"\n",
    "print(s[::2])"
   ]
  },
  {
   "cell_type": "code",
   "execution_count": 13,
   "id": "f53d6ed4",
   "metadata": {},
   "outputs": [
    {
     "name": "stdout",
     "output_type": "stream",
     "text": [
      "_a\n"
     ]
    }
   ],
   "source": [
    "s = \"I_am_computer_engineer\"\n",
    "print(s[1:3:])"
   ]
  },
  {
   "cell_type": "code",
   "execution_count": 18,
   "id": "42f1cd2e",
   "metadata": {},
   "outputs": [
    {
     "name": "stdout",
     "output_type": "stream",
     "text": [
      "Enter any name: vegas\n",
      "Expensive\n"
     ]
    },
    {
     "data": {
      "text/plain": [
       "'\\nrstrip()\\nlstrip()\\nstrip()\\n'"
      ]
     },
     "execution_count": 18,
     "metadata": {},
     "output_type": "execute_result"
    }
   ],
   "source": [
    "city = input(\"Enter any name: \").strip()    #.strip remove space around the input\n",
    "\n",
    "if city == 'Texas':\n",
    "    print(\"crowdy city\")\n",
    "elif city == \"Newyork\":\n",
    "    print(\"Most developed city\")\n",
    "elif city == \"vegas\":\n",
    "    print(\"Expensive\")\n",
    "else:\n",
    "    print(\"valid city name\")\n",
    "\n",
    "    \n",
    "    \n",
    "\"\"\"\n",
    "rstrip()\n",
    "lstrip()\n",
    "strip()\n",
    "\"\"\""
   ]
  },
  {
   "cell_type": "code",
   "execution_count": 31,
   "id": "35960716",
   "metadata": {},
   "outputs": [
    {
     "name": "stdout",
     "output_type": "stream",
     "text": [
      "2\n",
      "9\n",
      "22\n"
     ]
    },
    {
     "ename": "ValueError",
     "evalue": "substring not found",
     "output_type": "error",
     "traceback": [
      "\u001b[1;31m---------------------------------------------------------------------------\u001b[0m",
      "\u001b[1;31mValueError\u001b[0m                                Traceback (most recent call last)",
      "\u001b[1;32mC:\\Users\\RAKESH~1\\AppData\\Local\\Temp/ipykernel_8168/2789284147.py\u001b[0m in \u001b[0;36m<module>\u001b[1;34m\u001b[0m\n\u001b[0;32m     22\u001b[0m \u001b[0mprint\u001b[0m\u001b[1;33m(\u001b[0m\u001b[0ms\u001b[0m\u001b[1;33m.\u001b[0m\u001b[0mrfind\u001b[0m\u001b[1;33m(\u001b[0m\u001b[1;34m\"p\"\u001b[0m\u001b[1;33m)\u001b[0m\u001b[1;33m)\u001b[0m\u001b[1;33m\u001b[0m\u001b[1;33m\u001b[0m\u001b[0m\n\u001b[0;32m     23\u001b[0m \u001b[0mprint\u001b[0m\u001b[1;33m(\u001b[0m\u001b[0ms\u001b[0m\u001b[1;33m.\u001b[0m\u001b[0mrfind\u001b[0m\u001b[1;33m(\u001b[0m\u001b[1;34m\"y\"\u001b[0m\u001b[1;33m)\u001b[0m\u001b[1;33m)\u001b[0m\u001b[1;33m\u001b[0m\u001b[1;33m\u001b[0m\u001b[0m\n\u001b[1;32m---> 24\u001b[1;33m \u001b[0mprint\u001b[0m\u001b[1;33m(\u001b[0m\u001b[0ms\u001b[0m\u001b[1;33m.\u001b[0m\u001b[0mrindex\u001b[0m\u001b[1;33m(\u001b[0m\u001b[1;34m\"z\"\u001b[0m\u001b[1;33m)\u001b[0m\u001b[1;33m)\u001b[0m\u001b[1;33m\u001b[0m\u001b[1;33m\u001b[0m\u001b[0m\n\u001b[0m\u001b[0;32m     25\u001b[0m \u001b[0mprint\u001b[0m\u001b[1;33m(\u001b[0m\u001b[0mlen\u001b[0m\u001b[1;33m(\u001b[0m\u001b[0ms\u001b[0m\u001b[1;33m)\u001b[0m\u001b[1;33m)\u001b[0m\u001b[1;33m\u001b[0m\u001b[1;33m\u001b[0m\u001b[0m\n",
      "\u001b[1;31mValueError\u001b[0m: substring not found"
     ]
    }
   ],
   "source": [
    "# finding substring\n",
    "\"\"\"\n",
    "find() \n",
    "    forwad direction find . \n",
    "    return -1 if not find any\n",
    "    \n",
    "index()\n",
    "    return error if not find\n",
    "    \n",
    "    \n",
    "rfind()\n",
    "    search backword \n",
    "    return -1\n",
    "    \n",
    "rindex()\n",
    "\n",
    "\n",
    "\"\"\"\n",
    "\n",
    "s = \"learning python is easy\"\n",
    "print(s.find(\"a\"))\n",
    "print(s.rfind(\"p\"))\n",
    "print(s.rfind(\"y\"))\n",
    "print(s.rindex(\"z\"))\n",
    "print(len(s))"
   ]
  },
  {
   "cell_type": "code",
   "execution_count": 32,
   "id": "aafac90a",
   "metadata": {},
   "outputs": [
    {
     "name": "stdout",
     "output_type": "stream",
     "text": [
      "Enter main string:hello\n",
      "Enter sub string: he\n",
      "substring found\n"
     ]
    }
   ],
   "source": [
    "s = input(\"Enter main string:\")\n",
    "subs = input(\"Enter sub string: \")\n",
    "try:\n",
    "    n = s.index(subs)\n",
    "except ValueError:\n",
    "    print(\"Substring not found\")\n",
    "else:\n",
    "    print(\"substring found\")"
   ]
  },
  {
   "cell_type": "code",
   "execution_count": 35,
   "id": "b26bf25a",
   "metadata": {},
   "outputs": [
    {
     "name": "stdout",
     "output_type": "stream",
     "text": [
      "10\n"
     ]
    }
   ],
   "source": [
    "# substring count\n",
    "\n",
    "a = \"aaaaaaaaaa\"\n",
    "print(a.count(\"a\"))"
   ]
  },
  {
   "cell_type": "code",
   "execution_count": 37,
   "id": "713eddab",
   "metadata": {},
   "outputs": [
    {
     "name": "stdout",
     "output_type": "stream",
     "text": [
      "4\n"
     ]
    }
   ],
   "source": [
    "b = \"bbbbbbbb\"\n",
    "print(b.count(\"bb\"))"
   ]
  },
  {
   "cell_type": "code",
   "execution_count": 48,
   "id": "40aab74c",
   "metadata": {},
   "outputs": [
    {
     "name": "stdout",
     "output_type": "stream",
     "text": [
      "Enter any string: abababababababababab\n",
      "Enter any sub-string: ba\n",
      "ba present at index : 1\n",
      "ba present at index : 3\n",
      "The number of occurance:   9\n"
     ]
    }
   ],
   "source": [
    "a = input(\"Enter any string: \")\n",
    "subs =input(\"Enter any sub-string: \")\n",
    "i = a.find(subs)\n",
    "if i ==-1:\n",
    "    print(\"substring not found\")\n",
    "while i!= -1:\n",
    "    print(f\"{subs} present at index : {i}\")\n",
    "    i = a.find(subs, i+len(subs), len(s))\n",
    "print(\"The number of occurance:  \", a.count(subs))"
   ]
  },
  {
   "cell_type": "markdown",
   "id": "a1688062",
   "metadata": {},
   "source": [
    "# string part-2"
   ]
  },
  {
   "cell_type": "code",
   "execution_count": 50,
   "id": "2f1f46cd",
   "metadata": {},
   "outputs": [
    {
     "name": "stdout",
     "output_type": "stream",
     "text": [
      "AbAbAbAbAbAb\n"
     ]
    }
   ],
   "source": [
    "# .replace()\n",
    "s = \"abababababab\"\n",
    "print(s.replace('a','A'))"
   ]
  },
  {
   "cell_type": "code",
   "execution_count": 52,
   "id": "9d171503",
   "metadata": {},
   "outputs": [
    {
     "name": "stdout",
     "output_type": "stream",
     "text": [
      "rakeshiscomputerengineer\n",
      "the number of spaces 3\n"
     ]
    }
   ],
   "source": [
    "# replace() space\n",
    "s = \"rakesh is computer engineer\"\n",
    "print(s.replace(\" \",\"\"))\n",
    "print(\"the number of spaces\",s.count(\" \"))\n"
   ]
  },
  {
   "cell_type": "code",
   "execution_count": 54,
   "id": "7dc628ab",
   "metadata": {},
   "outputs": [
    {
     "name": "stdout",
     "output_type": "stream",
     "text": [
      "Rakesh is computer sciencist\n"
     ]
    }
   ],
   "source": [
    "s = \"Rakesh is computer engineer\"\n",
    "s1=s.replace('engineer', 'sciencist')\n",
    "print(s1)"
   ]
  },
  {
   "cell_type": "code",
   "execution_count": null,
   "id": "5a5cbf88",
   "metadata": {},
   "outputs": [],
   "source": []
  }
 ],
 "metadata": {
  "kernelspec": {
   "display_name": "Python 3 (ipykernel)",
   "language": "python",
   "name": "python3"
  },
  "language_info": {
   "codemirror_mode": {
    "name": "ipython",
    "version": 3
   },
   "file_extension": ".py",
   "mimetype": "text/x-python",
   "name": "python",
   "nbconvert_exporter": "python",
   "pygments_lexer": "ipython3",
   "version": "3.9.7"
  }
 },
 "nbformat": 4,
 "nbformat_minor": 5
}
