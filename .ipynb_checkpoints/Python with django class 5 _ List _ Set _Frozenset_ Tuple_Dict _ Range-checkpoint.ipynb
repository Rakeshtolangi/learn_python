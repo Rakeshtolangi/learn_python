{
 "cells": [
  {
   "cell_type": "code",
   "execution_count": 2,
   "id": "da5c89e4",
   "metadata": {},
   "outputs": [
    {
     "name": "stdout",
     "output_type": "stream",
     "text": [
      "2333764211264\n",
      "2333764211264\n",
      "[666, 2, 3, 4, 5]\n"
     ]
    }
   ],
   "source": [
    "a = [1,2,3,4,5]\n",
    "print(id(a))\n",
    "\n",
    "a[0] = 666\n",
    "print(id(a))\n",
    "print(a)\n",
    "# list is mutable"
   ]
  },
  {
   "cell_type": "markdown",
   "id": "a90cc40f",
   "metadata": {},
   "source": [
    "# revison\n"
   ]
  },
  {
   "cell_type": "code",
   "execution_count": 3,
   "id": "d6efb23c",
   "metadata": {},
   "outputs": [
    {
     "data": {
      "text/plain": [
       "' \\nint\\nstr\\ncomplex\\nbool\\nfloat\\n'"
      ]
     },
     "execution_count": 3,
     "metadata": {},
     "output_type": "execute_result"
    }
   ],
   "source": [
    "\"\"\" \n",
    "int\n",
    "str\n",
    "complex\n",
    "bool\n",
    "float\n",
    "\"\"\""
   ]
  },
  {
   "cell_type": "code",
   "execution_count": 4,
   "id": "91ca1d3e",
   "metadata": {},
   "outputs": [
    {
     "data": {
      "text/plain": [
       "\"\\na = 10\\nb = 12.4\\nc = 10+5j\\nd = True\\ne = 'Rakesh'\\n\\na, b, c = 10,20,30\\n\\n\""
      ]
     },
     "execution_count": 4,
     "metadata": {},
     "output_type": "execute_result"
    }
   ],
   "source": [
    "\"\"\"\n",
    "a = 10\n",
    "b = 12.4\n",
    "c = 10+5j\n",
    "d = True\n",
    "e = 'Rakesh'\n",
    "\n",
    "a, b, c = 10,20,30\n",
    "\n",
    "all above fundamental datatype carry single value but we \n",
    "need to carry double data type\n",
    "so we need collection related data type\n",
    "\"\"\""
   ]
  },
  {
   "cell_type": "markdown",
   "id": "8ac05435",
   "metadata": {},
   "source": [
    "# Collection related data types\n",
    "list\n",
    "\n",
    "tuple\n",
    "\n",
    "set\n",
    "\n",
    "dict\n",
    "\n",
    "frozenset\n",
    "\n",
    "dict\n",
    "\n",
    "range\n",
    "\n",
    "bytes\n",
    "\n",
    "bytearray"
   ]
  },
  {
   "cell_type": "code",
   "execution_count": null,
   "id": "f4d51291",
   "metadata": {},
   "outputs": [],
   "source": []
  }
 ],
 "metadata": {
  "kernelspec": {
   "display_name": "Python 3 (ipykernel)",
   "language": "python",
   "name": "python3"
  },
  "language_info": {
   "codemirror_mode": {
    "name": "ipython",
    "version": 3
   },
   "file_extension": ".py",
   "mimetype": "text/x-python",
   "name": "python",
   "nbconvert_exporter": "python",
   "pygments_lexer": "ipython3",
   "version": "3.9.7"
  }
 },
 "nbformat": 4,
 "nbformat_minor": 5
}
