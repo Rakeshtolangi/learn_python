{
 "cells": [
  {
   "cell_type": "markdown",
   "id": "b6b70180",
   "metadata": {},
   "source": [
    "## float"
   ]
  },
  {
   "cell_type": "code",
   "execution_count": 1,
   "id": "f6b827a6",
   "metadata": {},
   "outputs": [
    {
     "name": "stdout",
     "output_type": "stream",
     "text": [
      "<class 'int'>\n"
     ]
    }
   ],
   "source": [
    "a = 100 \n",
    "print(type(a))"
   ]
  },
  {
   "cell_type": "code",
   "execution_count": 2,
   "id": "ef6bbb93",
   "metadata": {},
   "outputs": [
    {
     "name": "stdout",
     "output_type": "stream",
     "text": [
      "<class 'float'>\n",
      "1200.0\n"
     ]
    }
   ],
   "source": [
    "a = 1.2e3    # 1.2*e^23 or 1.2*E^23\n",
    "print(type(a))\n",
    "print(a)"
   ]
  },
  {
   "cell_type": "markdown",
   "id": "8af5bd6a",
   "metadata": {},
   "source": [
    "# complex"
   ]
  },
  {
   "cell_type": "code",
   "execution_count": 7,
   "id": "7bc0400d",
   "metadata": {},
   "outputs": [
    {
     "name": "stdout",
     "output_type": "stream",
     "text": [
      "<class 'complex'>\n",
      "1.0\n",
      "5.0\n"
     ]
    }
   ],
   "source": [
    "# j^2 = -1\n",
    "# ie j = root(-1)\n",
    "\n",
    "\n",
    "a = 1 + 5j\n",
    "print(type(a))\n",
    "\n",
    "print(a.real)\n",
    "print(a.imag)\n"
   ]
  },
  {
   "cell_type": "code",
   "execution_count": 13,
   "id": "51ab0184",
   "metadata": {},
   "outputs": [
    {
     "name": "stdout",
     "output_type": "stream",
     "text": [
      "(15+15j)\n",
      "0.0\n",
      "100.0\n",
      "100j\n"
     ]
    }
   ],
   "source": [
    "a = 5+5j\n",
    "b = 10+10j\n",
    "c = a + b\n",
    "d = a * b\n",
    "print(c)\n",
    "print(d.real)\n",
    "print(d.imag)\n",
    "print(d)"
   ]
  },
  {
   "cell_type": "markdown",
   "id": "46fceb6f",
   "metadata": {},
   "source": [
    "# Bool data type"
   ]
  },
  {
   "cell_type": "code",
   "execution_count": 15,
   "id": "d21a9d53",
   "metadata": {},
   "outputs": [
    {
     "name": "stdout",
     "output_type": "stream",
     "text": [
      "<class 'bool'>\n"
     ]
    }
   ],
   "source": [
    "# True or False\n",
    "a = False\n",
    "print(type(a))"
   ]
  },
  {
   "cell_type": "code",
   "execution_count": 16,
   "id": "41a22fb5",
   "metadata": {},
   "outputs": [
    {
     "name": "stdout",
     "output_type": "stream",
     "text": [
      "True\n"
     ]
    }
   ],
   "source": [
    "a = 10\n",
    "b=20\n",
    "c = a < b\n",
    "print(c)\n"
   ]
  },
  {
   "cell_type": "code",
   "execution_count": 17,
   "id": "aa4ae94e",
   "metadata": {},
   "outputs": [
    {
     "name": "stdout",
     "output_type": "stream",
     "text": [
      "False\n"
     ]
    }
   ],
   "source": [
    "a = 10\n",
    "b=20\n",
    "c = a > b\n",
    "print(c)"
   ]
  },
  {
   "cell_type": "code",
   "execution_count": 20,
   "id": "70134e4c",
   "metadata": {},
   "outputs": [
    {
     "name": "stdout",
     "output_type": "stream",
     "text": [
      "2\n",
      "1\n"
     ]
    }
   ],
   "source": [
    "# True ==> 1\n",
    "#False ==> 0\n",
    "\n",
    "print(True + True)\n",
    "print(True - False)"
   ]
  },
  {
   "cell_type": "markdown",
   "id": "361486f6",
   "metadata": {},
   "source": [
    "# string data type"
   ]
  },
  {
   "cell_type": "code",
   "execution_count": 21,
   "id": "ab6123be",
   "metadata": {},
   "outputs": [
    {
     "name": "stdout",
     "output_type": "stream",
     "text": [
      "<class 'str'>\n"
     ]
    }
   ],
   "source": [
    "# sequence of character enclosed in quote\n",
    "a = \"sequence\"\n",
    "print(type(a))"
   ]
  },
  {
   "cell_type": "code",
   "execution_count": 22,
   "id": "5a0d15b1",
   "metadata": {},
   "outputs": [
    {
     "name": "stdout",
     "output_type": "stream",
     "text": [
      "my\n",
      "name\n",
      "is \n",
      "rakesh\n"
     ]
    }
   ],
   "source": [
    "# '''   doc string '''\n",
    "# \"\"\"  doc string  \"\"\"\n",
    "\n",
    "# multi line sting literals\n",
    "\n",
    "a = '''my\n",
    "name\n",
    "is \n",
    "rakesh'''\n",
    "print(a)"
   ]
  },
  {
   "cell_type": "code",
   "execution_count": 23,
   "id": "bfa36782",
   "metadata": {},
   "outputs": [
    {
     "name": "stdout",
     "output_type": "stream",
     "text": [
      "professor 'rakesh' is computer engineer\n"
     ]
    }
   ],
   "source": [
    "a = \"professor 'rakesh' is computer engineer\"\n",
    "print(a)"
   ]
  },
  {
   "cell_type": "code",
   "execution_count": 26,
   "id": "b0f1cc60",
   "metadata": {},
   "outputs": [
    {
     "name": "stdout",
     "output_type": "stream",
     "text": [
      "professor 'rakesh' and \"hari \" are computer engineer\n"
     ]
    }
   ],
   "source": [
    "a = \"\"\"professor 'rakesh' and \"hari \" are computer engineer\"\"\"\n",
    "print(a)"
   ]
  },
  {
   "cell_type": "code",
   "execution_count": 27,
   "id": "738d8794",
   "metadata": {},
   "outputs": [
    {
     "name": "stdout",
     "output_type": "stream",
     "text": [
      "pRaBin\n",
      "prabin\n"
     ]
    }
   ],
   "source": [
    "# to define doc string\n",
    "\"\"\"\n",
    "upper()\n",
    "lower()\n",
    "\"\"\"\n",
    "\n",
    "a = 'pRaBin'\n",
    "print(a)\n",
    "print(a.lower())"
   ]
  },
  {
   "cell_type": "code",
   "execution_count": 28,
   "id": "6791790e",
   "metadata": {},
   "outputs": [
    {
     "name": "stdout",
     "output_type": "stream",
     "text": [
      "pRaBin\n",
      "PRABIN\n"
     ]
    }
   ],
   "source": [
    "\n",
    "a = 'pRaBin'\n",
    "print(a)\n",
    "print(a.upper())"
   ]
  },
  {
   "cell_type": "code",
   "execution_count": 35,
   "id": "53488953",
   "metadata": {},
   "outputs": [
    {
     "name": "stdout",
     "output_type": "stream",
     "text": [
      "a\n",
      "r\n"
     ]
    }
   ],
   "source": [
    "a = 'rakesh is computer engineer'\n",
    "print(a[1])\n",
    "print(a[-1])"
   ]
  },
  {
   "cell_type": "markdown",
   "id": "7100b777",
   "metadata": {},
   "source": [
    "# "
   ]
  }
 ],
 "metadata": {
  "kernelspec": {
   "display_name": "Python 3 (ipykernel)",
   "language": "python",
   "name": "python3"
  },
  "language_info": {
   "codemirror_mode": {
    "name": "ipython",
    "version": 3
   },
   "file_extension": ".py",
   "mimetype": "text/x-python",
   "name": "python",
   "nbconvert_exporter": "python",
   "pygments_lexer": "ipython3",
   "version": "3.9.7"
  }
 },
 "nbformat": 4,
 "nbformat_minor": 5
}
