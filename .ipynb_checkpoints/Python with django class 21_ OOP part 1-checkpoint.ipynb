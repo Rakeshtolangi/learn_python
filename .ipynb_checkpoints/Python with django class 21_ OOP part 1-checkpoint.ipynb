{
 "cells": [
  {
   "cell_type": "markdown",
   "id": "fb2bfb88",
   "metadata": {},
   "source": [
    "# Object oriented programming"
   ]
  },
  {
   "cell_type": "code",
   "execution_count": 1,
   "id": "bd9f4be4",
   "metadata": {},
   "outputs": [
    {
     "data": {
      "text/plain": [
       "'\\nclass\\nobject\\nreference variable\\n\\n'"
      ]
     },
     "execution_count": 1,
     "metadata": {},
     "output_type": "execute_result"
    }
   ],
   "source": [
    " \"\"\"\n",
    " class\n",
    " object\n",
    " reference variable\n",
    " \n",
    " \"\"\""
   ]
  },
  {
   "cell_type": "code",
   "execution_count": 2,
   "id": "3ec83bb7",
   "metadata": {},
   "outputs": [],
   "source": [
    "# How to define a class\n",
    "\"\"\"\n",
    "class_name = capital letter\n",
    "function_name = small letter\n",
    "\"\"\"\n",
    "\n",
    "class class_name:\n",
    "    \"\"\"This is class made for demo purpose\"\"\"\n",
    "#     n no. of variables\n",
    "# n no. of methods\n",
    "#     function created inside class is method. method = class"
   ]
  },
  {
   "cell_type": "code",
   "execution_count": 3,
   "id": "1bd61d86",
   "metadata": {},
   "outputs": [
    {
     "name": "stdout",
     "output_type": "stream",
     "text": [
      "Help on class Student in module __main__:\n",
      "\n",
      "class Student(builtins.object)\n",
      " |  This is sutdent class\n",
      " |  \n",
      " |  Data descriptors defined here:\n",
      " |  \n",
      " |  __dict__\n",
      " |      dictionary for instance variables (if defined)\n",
      " |  \n",
      " |  __weakref__\n",
      " |      list of weak references to the object (if defined)\n",
      "\n"
     ]
    },
    {
     "data": {
      "text/plain": [
       "'\\ndirect execution of function gives __main__: \\n'"
      ]
     },
     "execution_count": 3,
     "metadata": {},
     "output_type": "execute_result"
    }
   ],
   "source": [
    "class Student:\n",
    "    \"\"\"This is sutdent class\"\"\"\n",
    "    \n",
    "help(Student)\n",
    "\n",
    "\"\"\"\n",
    "direct execution of function gives __main__: \n",
    "\"\"\""
   ]
  },
  {
   "cell_type": "code",
   "execution_count": 4,
   "id": "bd061c97",
   "metadata": {},
   "outputs": [
    {
     "name": "stdout",
     "output_type": "stream",
     "text": [
      "This is sutdent class\n"
     ]
    }
   ],
   "source": [
    "print(Student.__doc__)"
   ]
  },
  {
   "cell_type": "markdown",
   "id": "39d29f1c",
   "metadata": {},
   "source": [
    "# variables and methods types"
   ]
  },
  {
   "cell_type": "code",
   "execution_count": 5,
   "id": "ce6a927a",
   "metadata": {},
   "outputs": [
    {
     "data": {
      "text/plain": [
       "'\\n\\nvariables\\n\\n\\ninstance variable(object level variable)\\nstatic variable(class level variable)\\nlocal variable(methods level variable)\\n\\n\\n# methods\\ninstance method\\nclass method \\nstatic method\\n'"
      ]
     },
     "execution_count": 5,
     "metadata": {},
     "output_type": "execute_result"
    }
   ],
   "source": [
    "\"\"\"\n",
    "\n",
    "variables\n",
    "\n",
    "\n",
    "instance variable(object level variable)\n",
    "static variable(class level variable)\n",
    "local variable(methods level variable)\n",
    "\n",
    "\n",
    "# methods\n",
    "instance method\n",
    "class method \n",
    "static method\n",
    "\"\"\""
   ]
  },
  {
   "cell_type": "code",
   "execution_count": 12,
   "id": "6567f965",
   "metadata": {},
   "outputs": [
    {
     "name": "stdout",
     "output_type": "stream",
     "text": [
      "Hello my name is rakesh\n",
      "Hello my roll no is 23\n",
      "rakesh\n"
     ]
    }
   ],
   "source": [
    "class Student:\n",
    "    def __init__(self):\n",
    "        self.name = \"rakesh\"\n",
    "        self.roll=23\n",
    "    \n",
    "    def talk(self):\n",
    "        print(\"Hello my name is\", self.name)\n",
    "        print(\"Hello my roll no is\", self.roll)\n",
    "\n",
    "# class_name()\n",
    "s = Student()\n",
    "\n",
    "# class_name.reference_variable()\n",
    "# s.talk()\n",
    "\n",
    "# access name\n",
    "print(s.name)"
   ]
  },
  {
   "cell_type": "code",
   "execution_count": 7,
   "id": "cf90d993",
   "metadata": {},
   "outputs": [
    {
     "name": "stdout",
     "output_type": "stream",
     "text": [
      "3026235813216\n",
      "hello ram\n",
      "and 23\n",
      "ram\n"
     ]
    }
   ],
   "source": [
    "class Student:\n",
    "    def __init__(self,name,roll):\n",
    "        print(id(self))\n",
    "        self.names=name\n",
    "        self.rolls=roll\n",
    "    \n",
    "    def talk(self):\n",
    "        print(\"hello\", self.names)\n",
    "        print(\"and\", self.rolls)\n",
    "\n",
    "        \n",
    "\n",
    "# print(s.roll)\n",
    "\n",
    "s=Student(\"ram\", 23) # tempory place_holder for argument\n",
    "s.talk()\n",
    "print(s.names)"
   ]
  },
  {
   "cell_type": "code",
   "execution_count": 6,
   "id": "f10d6076",
   "metadata": {},
   "outputs": [
    {
     "name": "stdout",
     "output_type": "stream",
     "text": [
      "3026236674304\n"
     ]
    }
   ],
   "source": [
    "print(id(s))"
   ]
  },
  {
   "cell_type": "code",
   "execution_count": 4,
   "id": "1a85ba7e",
   "metadata": {},
   "outputs": [
    {
     "data": {
      "text/plain": [
       "' when __init__ is called\\n\\nit is called just before object is created.\\n'"
      ]
     },
     "execution_count": 4,
     "metadata": {},
     "output_type": "execute_result"
    }
   ],
   "source": [
    "\"\"\" when __init__ is called\n",
    "\n",
    "it is called just before object is created.\n",
    "\"\"\""
   ]
  },
  {
   "cell_type": "markdown",
   "id": "cd26101f",
   "metadata": {},
   "source": [
    "# self"
   ]
  },
  {
   "cell_type": "code",
   "execution_count": null,
   "id": "b7630d28",
   "metadata": {},
   "outputs": [],
   "source": [
    "\"\"\"\n",
    "\n",
    "self is used with any reference variable if variable needs to be called\n",
    "if any varable or model needs to be called inside the class then we used self.reference_variable\n",
    "\n",
    "\n",
    "if any reference variable is called outside the class then self is not used.\n",
    "\n",
    "self = s \n",
    "self is used to call reference variable inside the class \n",
    "s. is used to call reference variable outside the class\n",
    "\n",
    "\"\"\""
   ]
  }
 ],
 "metadata": {
  "kernelspec": {
   "display_name": "Python 3 (ipykernel)",
   "language": "python",
   "name": "python3"
  },
  "language_info": {
   "codemirror_mode": {
    "name": "ipython",
    "version": 3
   },
   "file_extension": ".py",
   "mimetype": "text/x-python",
   "name": "python",
   "nbconvert_exporter": "python",
   "pygments_lexer": "ipython3",
   "version": "3.9.7"
  }
 },
 "nbformat": 4,
 "nbformat_minor": 5
}
