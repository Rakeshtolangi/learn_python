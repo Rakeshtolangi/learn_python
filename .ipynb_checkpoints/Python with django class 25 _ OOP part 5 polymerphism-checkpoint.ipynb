{
 "cells": [
  {
   "cell_type": "code",
   "execution_count": 1,
   "id": "1389bad9",
   "metadata": {},
   "outputs": [
    {
     "name": "stdout",
     "output_type": "stream",
     "text": [
      "Parent class method\n",
      "Child class method\n",
      "Parent class method\n"
     ]
    }
   ],
   "source": [
    "# spuer()\n",
    "class P:\n",
    "    def m1(self):\n",
    "        print('Parent class method')\n",
    "\n",
    "class C(P):\n",
    "    def m2(self):\n",
    "        self.m1()    # m1 is inheritated and we used m1() function\n",
    "#          if we didn't inherite class P then we have to use object and call method\n",
    "\n",
    "        print(\"Child class method\")\n",
    "        \n",
    "c = C()\n",
    "c.m2()\n",
    "c.m1()"
   ]
  },
  {
   "cell_type": "code",
   "execution_count": 5,
   "id": "a64d1154",
   "metadata": {},
   "outputs": [
    {
     "name": "stdout",
     "output_type": "stream",
     "text": [
      "Parent class method\n",
      "Child class method\n"
     ]
    }
   ],
   "source": [
    "class P:\n",
    "    def m1(self):\n",
    "        print('Parent class method')\n",
    "\n",
    "class C(P):\n",
    "    def m1(self):\n",
    "        super().m1()\n",
    "        print(\"Child class method\")\n",
    "        \n",
    "        \n",
    "        # if in case both method are same in parent and child class. child class have access first rather than parent class\n",
    "        # now recursion occer (997 times) and through error.\n",
    "        # in this case we use super()   \n",
    "        # super().m1 is always looks for parent class method\n",
    "        # Explicitely we need parent class method then we need super() method\n",
    "        # To remove naming conflict we need super() mtehod\n",
    "c = C()\n",
    "c.m1()"
   ]
  },
  {
   "cell_type": "code",
   "execution_count": 12,
   "id": "5e7ebbf0",
   "metadata": {},
   "outputs": [
    {
     "name": "stdout",
     "output_type": "stream",
     "text": [
      "Child class constructor\n",
      "10\n",
      "Parent instance method\n",
      "Parent class @classmethod\n",
      "Parent class @staticmethod\n",
      "Child class constructor\n",
      "Parent class constructor\n"
     ]
    }
   ],
   "source": [
    "# another  example\n",
    "class P:\n",
    "    a=10\n",
    "    def __init__(self):\n",
    "        print('Parent class constructor')\n",
    "    \n",
    "    def m1(self):\n",
    "        print('Parent instance method')\n",
    "        \n",
    "    @classmethod\n",
    "    def m2(cls):\n",
    "        print('Parent class @classmethod')\n",
    "        \n",
    "    @staticmethod\n",
    "    def m3():\n",
    "        print('Parent class @staticmethod')\n",
    "        \n",
    "class C(P):\n",
    "    def __init__(self):\n",
    "        print('Child class constructor')\n",
    "        \n",
    "    def method1(self):\n",
    "        print(super().a)\n",
    "        super().m1()\n",
    "        super().m2()\n",
    "        super().m3()\n",
    "        self.__init__()    #gives the latest constructor\n",
    "        super().__init__()    #explicityly give constructor of parent class\n",
    "        \n",
    "c = C()\n",
    "#  after calling method1() explictly program will check all the methods in parent class\n",
    "\n",
    "\n",
    "c.method1()"
   ]
  },
  {
   "cell_type": "code",
   "execution_count": 21,
   "id": "94c57a43",
   "metadata": {},
   "outputs": [
    {
     "name": "stdout",
     "output_type": "stream",
     "text": [
      "Name is :  Rakesh\n",
      "age is :  24\n",
      "height is :  5.5\n",
      "weight is : 68\n",
      "rollno is :  23\n",
      "marks is :  90\n"
     ]
    }
   ],
   "source": [
    "# anoter program\n",
    "class Person:\n",
    "    def __init__(self,name,age,height,weight):\n",
    "        self.name=name\n",
    "        self.age=age\n",
    "        self.height=height\n",
    "        self.weight=weight\n",
    "        \n",
    "    def display(self):\n",
    "        print('Name is : ', self.name)\n",
    "        print('age is : ', self.age)\n",
    "        print('height is : ', self.height)\n",
    "        print('weight is :', self.weight)\n",
    "        \n",
    "\n",
    "class Student(Person):\n",
    "    def __init__(self,name,age,height,weight,rollno,marks):\n",
    "        # we use super() method explicitly to have access to same code not to repeat lines of code\n",
    "        super().__init__(name,age,height,weight)\n",
    "        self.rollno=rollno\n",
    "        self.marks=marks\n",
    "        \n",
    "    def display(self):\n",
    "        # same as above, we use super() method to access dislpay() method of parent class to follow DIY rule\n",
    "        super().display()\n",
    "        print('rollno is : ', self.rollno)\n",
    "        print('marks is : ', self.marks)\n",
    "        \n",
    "# c = Person(\"Rakesh\",24,5.5,68)\n",
    "# c.display()\n",
    "\n",
    "c = Student(\"Rakesh\",24,5.5,68,23,90)\n",
    "c.display()"
   ]
  },
  {
   "cell_type": "code",
   "execution_count": 25,
   "id": "4723042c",
   "metadata": {},
   "outputs": [
    {
     "name": "stdout",
     "output_type": "stream",
     "text": [
      " class A\n",
      " class D\n"
     ]
    }
   ],
   "source": [
    "# multilevel inheritance to call perticular method of each class\n",
    "\n",
    "\"\"\"\n",
    "use following instead of super() method\n",
    "\n",
    "class_name.method(self)\n",
    "\"\"\"\n",
    "class P:\n",
    "    def m1(self):\n",
    "        print(' class P')\n",
    "\n",
    "class A(P):\n",
    "    def m1(self):\n",
    "        print(' class A')\n",
    "\n",
    "class B(A):\n",
    "    def m1(self):\n",
    "        print(' class B')\n",
    "\n",
    "class C(B):\n",
    "    def m1(self):\n",
    "        print(' class C')\n",
    "        \n",
    "class D(C):\n",
    "    def m1(self):\n",
    "        A.m1(self)    # not a standard use but just for knowledge. ie. class_name.method(self)\n",
    "        \n",
    "        print(' class D')\n",
    "        \n",
    "\n",
    "d = D()\n",
    "d.m1()"
   ]
  },
  {
   "cell_type": "code",
   "execution_count": 29,
   "id": "21b1d6dd",
   "metadata": {},
   "outputs": [
    {
     "name": "stdout",
     "output_type": "stream",
     "text": [
      " class P\n",
      " class D\n"
     ]
    }
   ],
   "source": [
    "# only use super() method to access desired class in multilevel inheritance\n",
    "\"\"\"\n",
    "super method can also access required class method other than parent class\n",
    "syntax:\n",
    "    super(class_name, self).method_name()\n",
    "\"\"\"\n",
    "class P:\n",
    "    def m1(self):\n",
    "        print(' class P')\n",
    "\n",
    "class A(P):\n",
    "    def m1(self):\n",
    "        print(' class A')\n",
    "\n",
    "class B(A):\n",
    "    def m1(self):\n",
    "        print(' class B')\n",
    "\n",
    "class C(B):\n",
    "    def m1(self):\n",
    "        print(' class C')\n",
    "        \n",
    "class D(C):\n",
    "    def m1(self):\n",
    "        # This syntax will search parent class and access the mehtod inside it.\n",
    "        super(A,self).m1()    \n",
    "        print(' class D')\n",
    "        \n",
    "d = D()\n",
    "d.m1()"
   ]
  },
  {
   "cell_type": "markdown",
   "id": "edc8c462",
   "metadata": {},
   "source": [
    "# Polymerphism\n",
    "\n",
    "1. poly = many and merphs = forms ie. one name but different forms, many forms\n"
   ]
  },
  {
   "cell_type": "code",
   "execution_count": 30,
   "id": "624ae2a9",
   "metadata": {},
   "outputs": [
    {
     "name": "stdout",
     "output_type": "stream",
     "text": [
      "30\n",
      "1020\n"
     ]
    }
   ],
   "source": [
    "'''\n",
    "1. This is an example of polymerphism\n",
    "2. operator overloading is best example of polymerphism\n",
    "\n",
    "'''\n",
    "\n",
    "print(10 + 20)   \n",
    "print('10' + '20')"
   ]
  },
  {
   "cell_type": "markdown",
   "id": "9b5b80c2",
   "metadata": {},
   "source": [
    "# overloading\n",
    "\n",
    "1. operator overloading\n",
    "2. method overloading\n",
    "3. constructor overloading"
   ]
  },
  {
   "cell_type": "markdown",
   "id": "06d75903",
   "metadata": {},
   "source": [
    "# overriding\n",
    "\n",
    "1. method overriding\n",
    "2. constructor overriding"
   ]
  },
  {
   "cell_type": "markdown",
   "id": "8af58efe",
   "metadata": {},
   "source": [
    "# pythonic behaviour\n",
    "\n",
    "1. duck typing\n",
    "2. EAFP (Easier to ask forgiveness then permission)\n",
    "3. Monkey patching\n",
    "\n",
    "These are python behaviour and are internally run python behaviour"
   ]
  },
  {
   "cell_type": "code",
   "execution_count": null,
   "id": "8335a644",
   "metadata": {},
   "outputs": [],
   "source": [
    "# method overriding \n",
    "class P:\n",
    "    def m(name):\n",
    "        pass\n",
    "    \n",
    "    def m1(name,height):\n",
    "        pass\n",
    "    \n",
    "    def m1(name,height,weight):\n",
    "        pass"
   ]
  },
  {
   "cell_type": "markdown",
   "id": "eefad99c",
   "metadata": {},
   "source": [
    "## Operator overloading\n",
    "\n",
    "1. <=, >=, ==, +=, -+, "
   ]
  },
  {
   "cell_type": "code",
   "execution_count": 33,
   "id": "ff75e20b",
   "metadata": {},
   "outputs": [
    {
     "name": "stdout",
     "output_type": "stream",
     "text": [
      "30\n",
      "Helloworld\n",
      "HelloHello\n",
      "25\n",
      "\n",
      "same operator works in multiple forms in different situations\n",
      "This is the example of polymerphism\n"
     ]
    }
   ],
   "source": [
    "print(10 + 20)   \n",
    "print('Hello' + 'world')\n",
    "print('Hello' * 2)\n",
    "print(5*5)\n",
    "print()\n",
    "print('same operator works in multiple forms in different situations')\n",
    "print(\"This is the example of polymerphism\")"
   ]
  },
  {
   "cell_type": "code",
   "execution_count": 1,
   "id": "8cfd1157",
   "metadata": {},
   "outputs": [
    {
     "data": {
      "text/plain": [
       "'\\nMagic method\\n-> python use magic method internally to add two variables\\n\\n\\nnow we will change in magic method to make possible to add Two object add two object.\\n\\n\\n__add__()\\n\\n'"
      ]
     },
     "execution_count": 1,
     "metadata": {},
     "output_type": "execute_result"
    }
   ],
   "source": [
    "# another example\n",
    "\n",
    "class Book:\n",
    "    def __init__(self,pages):\n",
    "        self.pages=pages\n",
    "        \n",
    "b1=Book(100)\n",
    "b2=Book(200)\n",
    "# print(b1+b2)     # object can't be added with simple operator\n",
    "'''\n",
    "Magic method\n",
    "-> python use magic method internally to add two variables\n",
    "\n",
    "\n",
    "now we will change in magic method to make possible to add Two object add two object.\n",
    "\n",
    "\n",
    "__add__()\n",
    "\n",
    "'''\n",
    "\n"
   ]
  },
  {
   "cell_type": "code",
   "execution_count": 3,
   "id": "33ccdd4e",
   "metadata": {},
   "outputs": [
    {
     "name": "stdout",
     "output_type": "stream",
     "text": [
      "300\n"
     ]
    }
   ],
   "source": [
    "# another example\n",
    "class Book:\n",
    "    def __init__(self,pages):\n",
    "        self.pages=pages\n",
    "        \n",
    "    def __add__(self,other):    # only takes 2 arguments\n",
    "        # why only 2 arguments :  integer is the output after returning addition of two object but if we add another object to add then it will through an error.\n",
    "        \n",
    "        total_pages=self.pages+other.pages\n",
    "        return total_pages\n",
    "        \n",
    "b1=Book(100)\n",
    "b2=Book(200)\n",
    "print((b1+b2))"
   ]
  },
  {
   "cell_type": "markdown",
   "id": "ab55577d",
   "metadata": {},
   "source": [
    "## list of magic method for overloading \n",
    "\n",
    "1. + __add__\n",
    "2. - __sub__\n",
    "3. * __mul__\n",
    "4. / __div__\n",
    "5. // __floordiv__\n",
    "6. % __mod__\n",
    "7. ** ___pow__\n",
    "\n",
    "## for compound operator\n",
    "\n",
    "1. +=  __iadd__\n",
    "2. -=  --isub__\n",
    "3. ..\n",
    "4. ..\n",
    "\n",
    "\n",
    "## comparision operator\n",
    "\n",
    "1. <  __lt__\n",
    "2. >  __gt__\n",
    "3.  <= __le__\n",
    "4.  >= __ge__\n",
    "\n",
    "\n",
    "## equality operator\n",
    "\n",
    "1.   ==  __eq__\n",
    "2.  !=  __ne__"
   ]
  },
  {
   "cell_type": "code",
   "execution_count": 9,
   "id": "27c9cb51",
   "metadata": {},
   "outputs": [
    {
     "name": "stdout",
     "output_type": "stream",
     "text": [
      "True\n",
      "False\n"
     ]
    }
   ],
   "source": [
    "# example of same class performing operator overloading\n",
    "class Student:\n",
    "    def __init__(self,name,marks):\n",
    "        self.name=name\n",
    "        self.marks=marks\n",
    "    \n",
    "    # magic method\n",
    "    # operator overloading\n",
    "    def __lt__(self,other):\n",
    "        return self.marks < other.marks\n",
    "        \n",
    "s1=Student('Ishan',88)\n",
    "s2=Student('Bishak',99)\n",
    "\n",
    "# magic method\n",
    "# operator overloading\n",
    "print(s1<s2)\n",
    "\n",
    "# it is alos possible for \n",
    "print(s1>s2)"
   ]
  },
  {
   "cell_type": "code",
   "execution_count": 2,
   "id": "23519af7",
   "metadata": {},
   "outputs": [
    {
     "name": "stdout",
     "output_type": "stream",
     "text": [
      "Monthly salary 25000\n",
      "t * e will through an error. or change into magic method like def __mul__(self,othereturn self.salaryperday * other.workingdays\n"
     ]
    }
   ],
   "source": [
    "# example of different class performing operator overloading\n",
    "\n",
    "class Employee:\n",
    "    def __init__(self,name,salaryperday):\n",
    "        self.name=name\n",
    "        self.salaryperday=salaryperday\n",
    "    def __mul__(self,other):\n",
    "        return self.salaryperday * other.workingdays\n",
    "        \n",
    "class Timesheet:\n",
    "    def __init__(self,name,workingdays):\n",
    "        self.name=name\n",
    "        self.workingdays=workingdays\n",
    "        \n",
    "e= Employee('Rakesh', 5000)\n",
    "t = Timesheet('Utshav', 5)\n",
    "print('Monthly salary', e * t  )\n",
    "print(\"t * e will through an error. or change into magic method like def __mul__(self,othereturn self.salaryperday * other.workingdays\")"
   ]
  },
  {
   "cell_type": "markdown",
   "id": "f2ffb618",
   "metadata": {},
   "source": [
    "# Vimp "
   ]
  },
  {
   "cell_type": "code",
   "execution_count": null,
   "id": "71a697f2",
   "metadata": {},
   "outputs": [],
   "source": []
  },
  {
   "cell_type": "code",
   "execution_count": null,
   "id": "1427cc14",
   "metadata": {},
   "outputs": [],
   "source": []
  },
  {
   "cell_type": "code",
   "execution_count": null,
   "id": "91ee4182",
   "metadata": {},
   "outputs": [],
   "source": []
  }
 ],
 "metadata": {
  "kernelspec": {
   "display_name": "Python 3 (ipykernel)",
   "language": "python",
   "name": "python3"
  },
  "language_info": {
   "codemirror_mode": {
    "name": "ipython",
    "version": 3
   },
   "file_extension": ".py",
   "mimetype": "text/x-python",
   "name": "python",
   "nbconvert_exporter": "python",
   "pygments_lexer": "ipython3",
   "version": "3.9.7"
  }
 },
 "nbformat": 4,
 "nbformat_minor": 5
}
