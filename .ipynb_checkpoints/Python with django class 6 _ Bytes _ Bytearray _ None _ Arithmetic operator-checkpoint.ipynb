{
 "cells": [
  {
   "cell_type": "markdown",
   "id": "77d98557",
   "metadata": {},
   "source": [
    " ## bytes\n",
    " \n",
    " ##### media file handle ie image,videos,music\n",
    " ##### internally used bytes nad byte array"
   ]
  },
  {
   "cell_type": "code",
   "execution_count": 3,
   "id": "157bb8fc",
   "metadata": {},
   "outputs": [
    {
     "name": "stdout",
     "output_type": "stream",
     "text": [
      "<class 'bytes'>\n"
     ]
    },
    {
     "data": {
      "text/plain": [
       "b'\\x01\\x02\\x03\\x04\\x05\\x06'"
      ]
     },
     "execution_count": 3,
     "metadata": {},
     "output_type": "execute_result"
    }
   ],
   "source": [
    "l = [1,2,3,4,5,6]\n",
    "b = bytes(l)\n",
    "print(type(b))\n",
    "b"
   ]
  },
  {
   "cell_type": "code",
   "execution_count": 5,
   "id": "99ffa47f",
   "metadata": {},
   "outputs": [
    {
     "name": "stdout",
     "output_type": "stream",
     "text": [
      "1\n",
      "2\n",
      "3\n",
      "4\n",
      "5\n",
      "6\n"
     ]
    }
   ],
   "source": [
    "for sagar in b:     # sagar is just a variable holding value while looping\n",
    "    print(sagar)"
   ]
  },
  {
   "cell_type": "markdown",
   "id": "f721e21e",
   "metadata": {},
   "source": [
    "##### can represent values from 0 to 255"
   ]
  },
  {
   "cell_type": "code",
   "execution_count": 12,
   "id": "be15e589",
   "metadata": {},
   "outputs": [
    {
     "name": "stdout",
     "output_type": "stream",
     "text": [
      "1\n",
      "<class 'bytes'>\n",
      "b'\\x01\\x02\\x03\\x04\\x05'\n",
      "This is byte object\n"
     ]
    },
    {
     "ename": "TypeError",
     "evalue": "'bytes' object does not support item assignment",
     "output_type": "error",
     "traceback": [
      "\u001b[1;31m---------------------------------------------------------------------------\u001b[0m",
      "\u001b[1;31mTypeError\u001b[0m                                 Traceback (most recent call last)",
      "\u001b[1;32mC:\\Users\\RAKESH~1\\AppData\\Local\\Temp/ipykernel_10644/349727939.py\u001b[0m in \u001b[0;36m<module>\u001b[1;34m\u001b[0m\n\u001b[0;32m      9\u001b[0m \u001b[1;33m\u001b[0m\u001b[0m\n\u001b[0;32m     10\u001b[0m \u001b[1;33m\u001b[0m\u001b[0m\n\u001b[1;32m---> 11\u001b[1;33m \u001b[0mb\u001b[0m\u001b[1;33m[\u001b[0m\u001b[1;36m0\u001b[0m\u001b[1;33m]\u001b[0m \u001b[1;33m=\u001b[0m \u001b[1;36m44\u001b[0m\u001b[1;33m\u001b[0m\u001b[1;33m\u001b[0m\u001b[0m\n\u001b[0m\u001b[0;32m     12\u001b[0m \u001b[1;31m# byte is immutable (ie can't change value)\u001b[0m\u001b[1;33m\u001b[0m\u001b[1;33m\u001b[0m\u001b[0m\n",
      "\u001b[1;31mTypeError\u001b[0m: 'bytes' object does not support item assignment"
     ]
    }
   ],
   "source": [
    "l = [1,2,3,4,5,6,255]\n",
    "b = bytes(l)\n",
    "print(b[0])\n",
    "\n",
    "print(type(b))\n",
    "\n",
    "print(b[0:5])\n",
    "print(\"This is byte object\")\n",
    "\n",
    "\n",
    "b[0] = 44\n",
    "# byte is immutable (ie can't change value)"
   ]
  },
  {
   "cell_type": "code",
   "execution_count": 18,
   "id": "84898a53",
   "metadata": {},
   "outputs": [
    {
     "name": "stdout",
     "output_type": "stream",
     "text": [
      "1\n",
      "2\n",
      "3\n",
      "4\n",
      "5\n",
      "\n",
      "\n",
      "new slicing\n",
      "1\n",
      "2\n",
      "3\n",
      "4\n",
      "5\n",
      "6\n",
      "255\n"
     ]
    }
   ],
   "source": [
    "# slicing in byte\n",
    "l = [1,2,3,4,5,6,255]\n",
    "b = bytes(l)\n",
    "c = b[0:5]\n",
    "d = b[::]\n",
    "\n",
    "for x in c:\n",
    "    print(x)\n",
    "print(\"\\n\")\n",
    "print(\"new slicing\")\n",
    "for y in d:\n",
    "    print(y)"
   ]
  },
  {
   "cell_type": "markdown",
   "id": "2e7b11e8",
   "metadata": {},
   "source": [
    "### bytearray\n",
    "\n",
    "#####  exactely as bytes but mutable in nature"
   ]
  },
  {
   "cell_type": "code",
   "execution_count": 22,
   "id": "fb049d36",
   "metadata": {},
   "outputs": [
    {
     "name": "stdout",
     "output_type": "stream",
     "text": [
      "<class 'bytearray'>\n",
      "bytearray(b'd\\x14\\x1e(2')\n",
      "100\n",
      "20\n",
      "30\n",
      "40\n",
      "50\n"
     ]
    }
   ],
   "source": [
    "l = [10,20,30,40,50]\n",
    "b = bytearray(l)\n",
    "print(type(b))\n",
    "b[0]= 100         # supports upto 255\n",
    "print(b)\n",
    "\n",
    "for x in b:\n",
    "    print(x)"
   ]
  },
  {
   "cell_type": "code",
   "execution_count": 23,
   "id": "0b753cf7",
   "metadata": {},
   "outputs": [
    {
     "name": "stdout",
     "output_type": "stream",
     "text": [
      "100\n"
     ]
    }
   ],
   "source": [
    "print(b[0])"
   ]
  },
  {
   "cell_type": "code",
   "execution_count": 25,
   "id": "2ec21dd7",
   "metadata": {},
   "outputs": [
    {
     "name": "stdout",
     "output_type": "stream",
     "text": [
      "50\n"
     ]
    }
   ],
   "source": [
    "print(b[-1])"
   ]
  },
  {
   "cell_type": "markdown",
   "id": "8f8a01a7",
   "metadata": {},
   "source": [
    "## None data type"
   ]
  },
  {
   "cell_type": "markdown",
   "id": "ff75baab",
   "metadata": {},
   "source": [
    "###### None is object : which reference to value with nothing or empty\n",
    "\n",
    "######  for further use of variable only for existance "
   ]
  },
  {
   "cell_type": "code",
   "execution_count": 30,
   "id": "67d50a70",
   "metadata": {},
   "outputs": [
    {
     "name": "stdout",
     "output_type": "stream",
     "text": [
      "10\n"
     ]
    }
   ],
   "source": [
    "def f1():\n",
    "    return 10\n",
    "\n",
    "x = f1()\n",
    "print(x)"
   ]
  },
  {
   "cell_type": "code",
   "execution_count": 32,
   "id": "555c9faa",
   "metadata": {},
   "outputs": [
    {
     "name": "stdout",
     "output_type": "stream",
     "text": [
      "None\n"
     ]
    }
   ],
   "source": [
    "def f1():\n",
    "     pass\n",
    "\n",
    "x = f1()\n",
    "print(x)\n",
    "# creation of object but return nothing then it will return none"
   ]
  },
  {
   "cell_type": "code",
   "execution_count": 33,
   "id": "d87c16e3",
   "metadata": {},
   "outputs": [],
   "source": [
    "# existance of None\n"
   ]
  },
  {
   "cell_type": "code",
   "execution_count": 37,
   "id": "ebedd731",
   "metadata": {},
   "outputs": [
    {
     "name": "stdout",
     "output_type": "stream",
     "text": [
      "140705992940760\n",
      "None\n"
     ]
    }
   ],
   "source": [
    "# existance of None\n",
    "a = None\n",
    "print(id(a))\n",
    "# existance of object in this id\n",
    "print(a)"
   ]
  },
  {
   "cell_type": "markdown",
   "id": "59eb6ca1",
   "metadata": {},
   "source": [
    "## escape characters\n"
   ]
  },
  {
   "cell_type": "code",
   "execution_count": 39,
   "id": "7f43a04f",
   "metadata": {},
   "outputs": [
    {
     "name": "stdout",
     "output_type": "stream",
     "text": [
      "sagar's bag\n",
      "sagar's bag\n"
     ]
    }
   ],
   "source": [
    "\"\"\"\n",
    "\\n == new line\n",
    "\\'\n",
    "\"\"\"\n",
    "print(\"sagar's bag\")\n",
    "print('sagar\\'s bag')"
   ]
  },
  {
   "cell_type": "markdown",
   "id": "e2955a7e",
   "metadata": {},
   "source": [
    "## Comments"
   ]
  },
  {
   "cell_type": "code",
   "execution_count": null,
   "id": "bde7e8e3",
   "metadata": {},
   "outputs": [],
   "source": [
    "# single line comment\n",
    "\n",
    "'''\n",
    "This is multiline comment\n",
    "this is 2nd line \n",
    "this is 3rd line \n",
    "'''"
   ]
  }
 ],
 "metadata": {
  "kernelspec": {
   "display_name": "Python 3 (ipykernel)",
   "language": "python",
   "name": "python3"
  },
  "language_info": {
   "codemirror_mode": {
    "name": "ipython",
    "version": 3
   },
   "file_extension": ".py",
   "mimetype": "text/x-python",
   "name": "python",
   "nbconvert_exporter": "python",
   "pygments_lexer": "ipython3",
   "version": "3.9.7"
  }
 },
 "nbformat": 4,
 "nbformat_minor": 5
}
