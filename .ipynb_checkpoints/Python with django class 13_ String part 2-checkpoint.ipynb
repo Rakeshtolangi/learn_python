{
 "cells": [
  {
   "cell_type": "code",
   "execution_count": 1,
   "id": "39aa0acf",
   "metadata": {},
   "outputs": [
    {
     "name": "stdout",
     "output_type": "stream",
     "text": [
      "AbAbAbAbAbAb\n"
     ]
    }
   ],
   "source": [
    "# .replace()\n",
    "s = \"abababababab\"\n",
    "print(s.replace('a','A'))"
   ]
  },
  {
   "cell_type": "code",
   "execution_count": 2,
   "id": "db99e9c9",
   "metadata": {},
   "outputs": [
    {
     "name": "stdout",
     "output_type": "stream",
     "text": [
      "rakeshiscomputerengineer\n",
      "the number of spaces 3\n"
     ]
    }
   ],
   "source": [
    "# replace() space\n",
    "s = \"rakesh is computer engineer\"\n",
    "print(s.replace(\" \",\"\"))\n",
    "print(\"the number of spaces\",s.count(\" \"))\n"
   ]
  },
  {
   "cell_type": "code",
   "execution_count": 3,
   "id": "9b74b91b",
   "metadata": {},
   "outputs": [
    {
     "name": "stdout",
     "output_type": "stream",
     "text": [
      "Rakesh is computer sciencist\n"
     ]
    }
   ],
   "source": [
    "s = \"Rakesh is computer engineer\"\n",
    "s1=s.replace('engineer', 'sciencist')\n",
    "print(s1)"
   ]
  },
  {
   "cell_type": "code",
   "execution_count": 5,
   "id": "d780432d",
   "metadata": {},
   "outputs": [
    {
     "name": "stdout",
     "output_type": "stream",
     "text": [
      "['Rakesh', 'is', 'python', 'developer']\n",
      "['Rakesh', 'is', 'backend', 'developer']\n"
     ]
    }
   ],
   "source": [
    "# splitting of string\n",
    "s = \"Rakesh is python developer\"\n",
    "r = \"Rakesh-is-backend-developer\"\n",
    "print(s.split())  # [\"rakesh\" \"is\" \"python\" 'developer']\n",
    "print(r.split(\"-\"))"
   ]
  },
  {
   "cell_type": "code",
   "execution_count": 7,
   "id": "7d293ae8",
   "metadata": {},
   "outputs": [
    {
     "name": "stdout",
     "output_type": "stream",
     "text": [
      "Rakesh\n",
      "is\n",
      "python\n",
      "developer\n"
     ]
    }
   ],
   "source": [
    "# list into string\n",
    "l = s.split()\n",
    "for x in l:\n",
    "    print(x)"
   ]
  },
  {
   "cell_type": "code",
   "execution_count": 9,
   "id": "f4b5349a",
   "metadata": {},
   "outputs": [
    {
     "name": "stdout",
     "output_type": "stream",
     "text": [
      "05\n",
      "02\n",
      "2021\n"
     ]
    }
   ],
   "source": [
    "d = \"05-02-2021\"\n",
    "l = d.split(\"-\")\n",
    "for i in l:\n",
    "    print(i)"
   ]
  },
  {
   "cell_type": "markdown",
   "id": "ee33161d",
   "metadata": {},
   "source": [
    "# joining of string"
   ]
  },
  {
   "cell_type": "code",
   "execution_count": 16,
   "id": "2da061e9",
   "metadata": {},
   "outputs": [
    {
     "name": "stdout",
     "output_type": "stream",
     "text": [
      "Rakesh is python developer\n",
      "<class 'str'>\n"
     ]
    }
   ],
   "source": [
    "# syntax:  seperator.join()\n",
    "\n",
    "l=['Rakesh', 'is', 'python', 'developer']\n",
    "s = \" \".join(l)\n",
    "print(s)\n",
    "print(type(s))"
   ]
  },
  {
   "cell_type": "code",
   "execution_count": 17,
   "id": "da73d8de",
   "metadata": {},
   "outputs": [
    {
     "name": "stdout",
     "output_type": "stream",
     "text": [
      "Rakesh-is-backend-developer\n"
     ]
    }
   ],
   "source": [
    "l=['Rakesh', 'is', 'backend', 'developer']\n",
    "\n",
    "s1 = \"-\".join(l)\n",
    "\n",
    "print(s1)"
   ]
  },
  {
   "cell_type": "code",
   "execution_count": null,
   "id": "85e0b740",
   "metadata": {},
   "outputs": [],
   "source": [
    "# changing case of charactres of string\n",
    "\"\"\"\n",
    "lower()\n",
    "upper()\n",
    "swapcase()\n",
    "title()\n",
    "capitalize()\n",
    "\"\"\""
   ]
  },
  {
   "cell_type": "code",
   "execution_count": null,
   "id": "fb09af74",
   "metadata": {},
   "outputs": [],
   "source": []
  }
 ],
 "metadata": {
  "kernelspec": {
   "display_name": "Python 3 (ipykernel)",
   "language": "python",
   "name": "python3"
  },
  "language_info": {
   "codemirror_mode": {
    "name": "ipython",
    "version": 3
   },
   "file_extension": ".py",
   "mimetype": "text/x-python",
   "name": "python",
   "nbconvert_exporter": "python",
   "pygments_lexer": "ipython3",
   "version": "3.9.7"
  }
 },
 "nbformat": 4,
 "nbformat_minor": 5
}
