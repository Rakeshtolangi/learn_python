{
 "cells": [
  {
   "cell_type": "markdown",
   "id": "cfa61063",
   "metadata": {},
   "source": [
    "# Abstract methods\n",
    "\n",
    "1. abstract mehtod\n",
    "2. abstract class \n",
    "3. Interface"
   ]
  },
  {
   "cell_type": "markdown",
   "id": "550b25ff",
   "metadata": {},
   "source": [
    "## Abstract method\n",
    "\n",
    "1. Guideline or the outline (not complete)\n",
    "2. Incomplete method/class creation. latter complete.\n",
    "3. Decleration is done but not implemented\n",
    "\n",
    "Note: we need to import abc to create @abstractmethod\n",
    "\n",
    "4. we need @abstractmethod decorator to create abstract method\n",
    "\n",
    "5. to include abstractmethod class also should be abstract class\n",
    "6. to be  abstract  class, class should be child class of abc class. ie. class Vehicle(ABC):    \n",
    "7. ABC class will be import form abc "
   ]
  },
  {
   "cell_type": "code",
   "execution_count": 11,
   "id": "592017b5",
   "metadata": {},
   "outputs": [
    {
     "name": "stdout",
     "output_type": "stream",
     "text": [
      "6\n",
      "3\n"
     ]
    },
    {
     "data": {
      "text/plain": [
       "\"\\n# v=Vehicle()\\n# instantiate abstract class = object of abstract class can't be created\\n\\n# abstract class = empty class \\nTo implement abstract class, child class is used to implement \\n\\n\""
      ]
     },
     "execution_count": 11,
     "metadata": {},
     "output_type": "execute_result"
    }
   ],
   "source": [
    "from abc import abstractmethod, ABC\n",
    "class Vehicle:\n",
    "    # use only to create abstract method but not abstract class\n",
    "    @abstractmethod\n",
    "    def getnoofwheels(self):\n",
    "        pass\n",
    "\n",
    "class Bus(Vehicle):\n",
    "    # abstract method has to declare at the top of the child class\n",
    "    def getnoofwheels(self):\n",
    "        return 6\n",
    "    \n",
    "class Auto(Vehicle):\n",
    "    def getnoofwheels(self):\n",
    "        return 3\n",
    "    \n",
    "b = Bus()\n",
    "print(b.getnoofwheels())\n",
    "\n",
    "a = Auto()\n",
    "print(a.getnoofwheels())\n",
    "\n",
    "\"\"\"\n",
    "# v=Vehicle()\n",
    "# instantiate abstract class = object of abstract class can't be created\n",
    "\n",
    "# abstract class = empty class \n",
    "To implement abstract class, child class is used to implement \n",
    "\n",
    "\"\"\""
   ]
  },
  {
   "cell_type": "markdown",
   "id": "07e52af9",
   "metadata": {},
   "source": [
    "#### case 1"
   ]
  },
  {
   "cell_type": "code",
   "execution_count": 10,
   "id": "38b0b4cc",
   "metadata": {},
   "outputs": [
    {
     "ename": "TypeError",
     "evalue": "Can't instantiate abstract class Test with abstract method m1",
     "output_type": "error",
     "traceback": [
      "\u001b[1;31m---------------------------------------------------------------------------\u001b[0m",
      "\u001b[1;31mTypeError\u001b[0m                                 Traceback (most recent call last)",
      "\u001b[1;32mC:\\Users\\RAKESH~1\\AppData\\Local\\Temp/ipykernel_2068/1703293173.py\u001b[0m in \u001b[0;36m<module>\u001b[1;34m\u001b[0m\n\u001b[0;32m      6\u001b[0m         \u001b[1;32mpass\u001b[0m\u001b[1;33m\u001b[0m\u001b[1;33m\u001b[0m\u001b[0m\n\u001b[0;32m      7\u001b[0m \u001b[1;33m\u001b[0m\u001b[0m\n\u001b[1;32m----> 8\u001b[1;33m \u001b[0mt\u001b[0m \u001b[1;33m=\u001b[0m \u001b[0mTest\u001b[0m\u001b[1;33m(\u001b[0m\u001b[1;33m)\u001b[0m\u001b[1;33m\u001b[0m\u001b[1;33m\u001b[0m\u001b[0m\n\u001b[0m\u001b[0;32m      9\u001b[0m \u001b[1;31m# we can't create object of abstract class\u001b[0m\u001b[1;33m\u001b[0m\u001b[1;33m\u001b[0m\u001b[0m\n\u001b[0;32m     10\u001b[0m \u001b[1;31m# concrete class = normal class\u001b[0m\u001b[1;33m\u001b[0m\u001b[1;33m\u001b[0m\u001b[0m\n",
      "\u001b[1;31mTypeError\u001b[0m: Can't instantiate abstract class Test with abstract method m1"
     ]
    }
   ],
   "source": [
    "from abc import *\n",
    "class Test(ABC):\n",
    "    # no need of decorator coz abstract class don't need one\n",
    "    @abstractmethod\n",
    "    def m1(self):\n",
    "        pass\n",
    "\n",
    "t = Test()\n",
    "# we can't create object of abstract class\n",
    "# concrete class = normal class "
   ]
  },
  {
   "cell_type": "markdown",
   "id": "9351be3b",
   "metadata": {},
   "source": [
    "# Interfarce  == abstract class"
   ]
  },
  {
   "cell_type": "markdown",
   "id": "7171543c",
   "metadata": {},
   "source": [
    "1. abstract class has only abstract method then it is called interface\n",
    "2. outline of service requirement"
   ]
  },
  {
   "cell_type": "code",
   "execution_count": 17,
   "id": "c70faeca",
   "metadata": {},
   "outputs": [
    {
     "name": "stdout",
     "output_type": "stream",
     "text": [
      "rakesh\n",
      "None\n",
      "engineer\n",
      "None\n"
     ]
    },
    {
     "data": {
      "text/plain": [
       "'\\nto be interface \\n    1. all method should be @abstractmethod inside abstract class\\n'"
      ]
     },
     "execution_count": 17,
     "metadata": {},
     "output_type": "execute_result"
    }
   ],
   "source": [
    "from abc import abstractmethod, ABC\n",
    "class Test(ABC):\n",
    "    @abstractmethod\n",
    "    def m1(self):\n",
    "        print('hi')\n",
    "    \n",
    "    @abstractmethod\n",
    "    def m2(self):\n",
    "        print('computer')\n",
    "\n",
    "class A(Test):\n",
    "    def m1(self):\n",
    "        print('rakesh')\n",
    "        \n",
    "    def m2(self):\n",
    "        print('engineer')\n",
    "        \n",
    "a = A()\n",
    "print(a.m1())\n",
    "print(a.m2())\n",
    "\n",
    "\"\"\"\n",
    "to be interface \n",
    "    1. all method should be @abstractmethod inside abstract class\n",
    "\"\"\""
   ]
  },
  {
   "cell_type": "code",
   "execution_count": 21,
   "id": "8755ea37",
   "metadata": {},
   "outputs": [
    {
     "name": "stdout",
     "output_type": "stream",
     "text": [
      "rakesh\n",
      "None\n",
      "rakesh_tolangi\n",
      "None\n",
      "2400\n",
      "None\n"
     ]
    }
   ],
   "source": [
    "# acts as a service requirement specification\n",
    "from abc import *\n",
    "class SMS(ABC):\n",
    "    @abstractmethod\n",
    "    def studentatd(self):\n",
    "        pass\n",
    "    \n",
    "    @abstractmethod\n",
    "    def updatestudentatd(self):\n",
    "        pass\n",
    "    \n",
    "    @abstractmethod\n",
    "    def updatestudentfees(self):\n",
    "        pass\n",
    "    \n",
    "    \n",
    "# disturbute to the fellow coders #uses\n",
    "\n",
    "class A(SMS):\n",
    "    def studentatd(self):\n",
    "        print('rakesh')\n",
    "        \n",
    "    def updatestudentatd(self):\n",
    "        print('rakesh_tolangi')\n",
    "        \n",
    "    def updatestudentfees(self):\n",
    "        print('2400')\n",
    "        \n",
    "a = A()\n",
    "print(a.studentatd())\n",
    "print(a.updatestudentatd())\n",
    "print(a.updatestudentfees())"
   ]
  },
  {
   "cell_type": "markdown",
   "id": "69d818a5",
   "metadata": {},
   "source": [
    "# Incapsulation\n",
    "### access specifiers or access modifiers  => other programming language\\\n",
    "\n",
    "### 1. public member\n",
    "### 2. private member\n",
    "### 3. portected member"
   ]
  },
  {
   "cell_type": "code",
   "execution_count": 26,
   "id": "a36c5811",
   "metadata": {},
   "outputs": [
    {
     "name": "stdout",
     "output_type": "stream",
     "text": [
      "10\n",
      "m1 method\n",
      "10\n",
      "m1 method\n"
     ]
    }
   ],
   "source": [
    "# public member\n",
    "\n",
    "class Test:\n",
    "    def __init__(self):\n",
    "        self.x=10\n",
    "        \n",
    "    def m1(self):\n",
    "        print('m1 method')\n",
    "        \n",
    "    def m2(self):\n",
    "        print(self.x)\n",
    "        self.m1()\n",
    "        \n",
    "t=Test()\n",
    "t.m2()\n",
    "print(t.x)\n",
    "t.m1()"
   ]
  },
  {
   "cell_type": "markdown",
   "id": "6a1b2ab4",
   "metadata": {},
   "source": [
    "## private member\n",
    "\n",
    "1. a member can be used only if it is defined inside the  same class \n",
    "\n",
    "2. is double underscore is used infront of member then it is called private member"
   ]
  },
  {
   "cell_type": "code",
   "execution_count": 29,
   "id": "b7970c47",
   "metadata": {},
   "outputs": [
    {
     "name": "stdout",
     "output_type": "stream",
     "text": [
      "10\n",
      "private method\n"
     ]
    }
   ],
   "source": [
    "# __x = 10 is private variable\n",
    "\n",
    "class Test:\n",
    "    def __init__(self):\n",
    "        self.__x=10\n",
    "        \n",
    "    def __m1(self):\n",
    "        print('private method')\n",
    "        \n",
    "    def m2(self):\n",
    "        # with in the class so this is valid code\n",
    "        print(self.__x)\n",
    "        self.__m1()\n",
    "\n",
    "t = Test()\n",
    "t.m2()\n",
    "\n",
    "# print(t.__x)\n",
    "# t.__m1()"
   ]
  },
  {
   "cell_type": "markdown",
   "id": "185b471e",
   "metadata": {},
   "source": [
    "1. it is not safe as it sound \n",
    "2. if member have normal variable and method then it is public member\n",
    "2. if member have double unserscore then it is private member"
   ]
  },
  {
   "cell_type": "markdown",
   "id": "43388795",
   "metadata": {},
   "source": [
    "# how to access private member outside the class\n",
    "\n",
    "cheat code"
   ]
  },
  {
   "cell_type": "code",
   "execution_count": 31,
   "id": "cacd263b",
   "metadata": {},
   "outputs": [
    {
     "name": "stdout",
     "output_type": "stream",
     "text": [
      "10\n",
      "private method\n",
      "10\n",
      "private method\n",
      "private member access from outside the class\n"
     ]
    }
   ],
   "source": [
    "class Test:\n",
    "    def __init__(self):\n",
    "        self.__x=10\n",
    "        \n",
    "    def __m1(self):\n",
    "        print('private method')\n",
    "        \n",
    "    def m2(self):\n",
    "        # with in the class so this is valid code\n",
    "        print(self.__x)\n",
    "        self.__m1()\n",
    "\n",
    "t = Test()\n",
    "t.m2()\n",
    "\n",
    "#  how python store private member in memory  => (_classname__)\n",
    "print(t._Test__x)\n",
    "t._Test__m1()\n",
    "print(\"private member access from outside the class\")"
   ]
  },
  {
   "cell_type": "markdown",
   "id": "9ae2ea46",
   "metadata": {},
   "source": [
    "# protected member\n",
    "\n",
    "1. can only access member if the member is child class of the base class. \n",
    "2. only inheritated method have access to the protected member\n",
    "\n",
    "3. protected member have single underscore informt of member\n"
   ]
  },
  {
   "cell_type": "code",
   "execution_count": 37,
   "id": "b2b45d2f",
   "metadata": {},
   "outputs": [
    {
     "name": "stdout",
     "output_type": "stream",
     "text": [
      "10\n",
      "10\n",
      "10\n",
      "\n",
      "Thise are naming convention just to follow programming structor\n"
     ]
    }
   ],
   "source": [
    "class Test:\n",
    "    def __init__(self):\n",
    "        self._x=10\n",
    "        \n",
    "    def m1(self):\n",
    "        print(self._x)\n",
    "\n",
    "class SubTest(Test):\n",
    "    def m2(self):\n",
    "        print(self._x)\n",
    "        \n",
    "t= SubTest()\n",
    "t.m1()\n",
    "t.m2()\n",
    "\n",
    "# cheat code for access of private member\n",
    "print(t._x)    # don't do this\n",
    "print()\n",
    "print(\"Thise are naming convention just to follow programming structor\")"
   ]
  },
  {
   "cell_type": "markdown",
   "id": "b7d85150",
   "metadata": {},
   "source": [
    "# Data hiding\n",
    "\n"
   ]
  },
  {
   "cell_type": "markdown",
   "id": "ecf2a6d9",
   "metadata": {},
   "source": []
  }
 ],
 "metadata": {
  "kernelspec": {
   "display_name": "Python 3 (ipykernel)",
   "language": "python",
   "name": "python3"
  },
  "language_info": {
   "codemirror_mode": {
    "name": "ipython",
    "version": 3
   },
   "file_extension": ".py",
   "mimetype": "text/x-python",
   "name": "python",
   "nbconvert_exporter": "python",
   "pygments_lexer": "ipython3",
   "version": "3.9.7"
  }
 },
 "nbformat": 4,
 "nbformat_minor": 5
}
