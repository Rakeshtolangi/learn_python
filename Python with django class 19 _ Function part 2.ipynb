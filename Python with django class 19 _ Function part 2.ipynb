{
 "cells": [
  {
   "cell_type": "code",
   "execution_count": 1,
   "id": "e030c4c8",
   "metadata": {},
   "outputs": [],
   "source": [
    "# Types of arguments\n",
    "\"\"\"\n",
    "1. positional argument\n",
    "        order is important\n",
    "        \n",
    "2. keyword argument\n",
    "        parameter is important\n",
    "        paramenter (keyword ie name=\"rakesh\", age=25)\n",
    "        \n",
    "3. Default argumennt\n",
    "4. variable length argument\n",
    "\"\"\"\n",
    "\n",
    "\n",
    "# 4. variable length argument\n",
    "\n",
    "# why use variable length argument\n",
    "\n",
    "def calc(a,b):\n",
    "    pass\n",
    "\n",
    "calc(5,20)\n",
    "# we have to give 2 argument to satisfy the argument asked value \n",
    "# what if we don't know how many parameters are there and how many to pass\n",
    "# then variable length argument comes into play"
   ]
  },
  {
   "cell_type": "code",
   "execution_count": 7,
   "id": "cb9392b0",
   "metadata": {},
   "outputs": [
    {
     "name": "stdout",
     "output_type": "stream",
     "text": [
      "We are learning variable length argument\n",
      "<class 'tuple'>\n",
      "()\n",
      "We are learning variable length argument\n",
      "<class 'tuple'>\n",
      "(10,)\n",
      "We are learning variable length argument\n",
      "<class 'tuple'>\n",
      "(10, 20)\n",
      "We are learning variable length argument\n",
      "<class 'tuple'>\n",
      "(10, 40, 30, 20, 90)\n"
     ]
    }
   ],
   "source": [
    "# we can declare function that can accept any number of argument such type of argument is called variable length argument\n",
    "# syntax\n",
    "\n",
    "# f1(*args)    # standard syntax\n",
    "\n",
    "def f1(*n):\n",
    "    print(\"We are learning variable length argument\")\n",
    "    print(type((n)))\n",
    "    print(n)\n",
    "\n",
    "f1()\n",
    "f1(10)\n",
    "f1(10,20)\n",
    "f1(10,40,30,20,90)"
   ]
  },
  {
   "cell_type": "code",
   "execution_count": 8,
   "id": "1d440dfa",
   "metadata": {},
   "outputs": [
    {
     "data": {
      "text/plain": [
       "'\\nvariable in argument is internally tuple. ie it returns tuple value\\n\\n'"
      ]
     },
     "execution_count": 8,
     "metadata": {},
     "output_type": "execute_result"
    }
   ],
   "source": [
    "\"\"\"\n",
    "variable in argument is internally tuple. ie it returns tuple value\n",
    "\n",
    "\"\"\""
   ]
  },
  {
   "cell_type": "code",
   "execution_count": 18,
   "id": "504b78b5",
   "metadata": {},
   "outputs": [
    {
     "name": "stdout",
     "output_type": "stream",
     "text": [
      "The number is:  10\n",
      "The sum of 0 and 10\n",
      "Total is :  10\n",
      "The number is:  40\n",
      "The sum of 10 and 40\n",
      "Total is :  50\n",
      "The number is:  30\n",
      "The sum of 50 and 30\n",
      "Total is :  80\n",
      "The number is:  20\n",
      "The sum of 80 and 20\n",
      "Total is :  100\n",
      "The number is:  90\n",
      "The sum of 100 and 90\n",
      "Total is :  190\n",
      "Grand Total is :  190\n"
     ]
    }
   ],
   "source": [
    "# variable length argument(*args)\n",
    "def add(*n):\n",
    "    total = 0\n",
    "    for x in n:\n",
    "        print(\"The number is: \",x)\n",
    "        print(f\"The sum of {total} and {x}\")\n",
    "        total = total + x\n",
    "        print(\"Total is : \", total)\n",
    "        \n",
    "    print(\"Grand Total is : \", total)\n",
    "\n",
    "# add()\n",
    "# add(10)\n",
    "# add(10,20)\n",
    "add(10,40,30,20,90)"
   ]
  },
  {
   "cell_type": "code",
   "execution_count": 21,
   "id": "9c5e9eb8",
   "metadata": {},
   "outputs": [
    {
     "name": "stdout",
     "output_type": "stream",
     "text": [
      "((10, 20), (30, 40))\n"
     ]
    }
   ],
   "source": [
    "# diff datatype input as an argument \n",
    "\n",
    "def f(*n):\n",
    "    print(n)\n",
    "    \n",
    "f((10,20),(30,40))\n",
    "# f({\"hari\"= 34},{\"rakeh\"=\"engineer\"})"
   ]
  },
  {
   "cell_type": "code",
   "execution_count": 26,
   "id": "5ab50074",
   "metadata": {},
   "outputs": [
    {
     "name": "stdout",
     "output_type": "stream",
     "text": [
      "10\n",
      "(20, 30, 40)\n",
      "(20, 30, 40)\n",
      "(20, 30, 40)\n",
      "x = positional arg take 1st value and rest argument will take by variable length argument\n"
     ]
    }
   ],
   "source": [
    "#  positional argument and variable length argument\n",
    "def f(x,*y):\n",
    "    print(x)\n",
    "    \n",
    "    for y1 in y:\n",
    "        print(y)\n",
    "f(10,20,30,40)\n",
    "print(\"x = positional arg take 1st value and rest argument will take by variable length argument\")"
   ]
  },
  {
   "cell_type": "code",
   "execution_count": 27,
   "id": "feb8b5c4",
   "metadata": {},
   "outputs": [
    {
     "ename": "TypeError",
     "evalue": "f() missing 1 required keyword-only argument: 'y'",
     "output_type": "error",
     "traceback": [
      "\u001b[1;31m---------------------------------------------------------------------------\u001b[0m",
      "\u001b[1;31mTypeError\u001b[0m                                 Traceback (most recent call last)",
      "\u001b[1;32mC:\\Users\\RAKESH~1\\AppData\\Local\\Temp/ipykernel_9400/3461606836.py\u001b[0m in \u001b[0;36m<module>\u001b[1;34m\u001b[0m\n\u001b[0;32m      2\u001b[0m     \u001b[0mprint\u001b[0m\u001b[1;33m(\u001b[0m\u001b[0mx\u001b[0m\u001b[1;33m)\u001b[0m\u001b[1;33m\u001b[0m\u001b[1;33m\u001b[0m\u001b[0m\n\u001b[0;32m      3\u001b[0m \u001b[1;33m\u001b[0m\u001b[0m\n\u001b[1;32m----> 4\u001b[1;33m \u001b[0mf\u001b[0m\u001b[1;33m(\u001b[0m\u001b[1;36m10\u001b[0m\u001b[1;33m,\u001b[0m\u001b[1;36m30\u001b[0m\u001b[1;33m,\u001b[0m\u001b[1;36m20\u001b[0m\u001b[1;33m,\u001b[0m\u001b[1;36m50\u001b[0m\u001b[1;33m,\u001b[0m\u001b[1;33m)\u001b[0m\u001b[1;33m\u001b[0m\u001b[1;33m\u001b[0m\u001b[0m\n\u001b[0m",
      "\u001b[1;31mTypeError\u001b[0m: f() missing 1 required keyword-only argument: 'y'"
     ]
    }
   ],
   "source": [
    "def f(*x,y):\n",
    "    print(x)\n",
    "    \n",
    "f(10,30,20,50,)"
   ]
  },
  {
   "cell_type": "code",
   "execution_count": 29,
   "id": "8bcbc072",
   "metadata": {},
   "outputs": [
    {
     "name": "stdout",
     "output_type": "stream",
     "text": [
      "(10, 30, 20)\n",
      "50\n"
     ]
    }
   ],
   "source": [
    "def f(*x,y):\n",
    "    print(x)\n",
    "    print(y)\n",
    "    \n",
    "f(10,30,20,y=50)"
   ]
  },
  {
   "cell_type": "code",
   "execution_count": 34,
   "id": "d90c576d",
   "metadata": {},
   "outputs": [
    {
     "ename": "SyntaxError",
     "evalue": "invalid syntax (Temp/ipykernel_9400/50334095.py, line 2)",
     "output_type": "error",
     "traceback": [
      "\u001b[1;36m  File \u001b[1;32m\"C:\\Users\\RAKESH~1\\AppData\\Local\\Temp/ipykernel_9400/50334095.py\"\u001b[1;36m, line \u001b[1;32m2\u001b[0m\n\u001b[1;33m    def f(*x,*y):\u001b[0m\n\u001b[1;37m             ^\u001b[0m\n\u001b[1;31mSyntaxError\u001b[0m\u001b[1;31m:\u001b[0m invalid syntax\n"
     ]
    }
   ],
   "source": [
    "# both variable length argument is not applicable in same function argument\n",
    "def f(*x,*y):\n",
    "    print(x)\n",
    "    print(y)\n",
    "    \n",
    "f(10,20,30,40)\n",
    "\"\"\"\n",
    "variable length argument takes argument as tuple and there is nothing to distinguish passed argument which argument will take how much argument\n",
    "\"\"\""
   ]
  },
  {
   "cell_type": "code",
   "execution_count": 35,
   "id": "8cf1046e",
   "metadata": {},
   "outputs": [
    {
     "ename": "TypeError",
     "evalue": "f() got an unexpected keyword argument 'x'",
     "output_type": "error",
     "traceback": [
      "\u001b[1;31m---------------------------------------------------------------------------\u001b[0m",
      "\u001b[1;31mTypeError\u001b[0m                                 Traceback (most recent call last)",
      "\u001b[1;32mC:\\Users\\RAKESH~1\\AppData\\Local\\Temp/ipykernel_9400/428993242.py\u001b[0m in \u001b[0;36m<module>\u001b[1;34m\u001b[0m\n\u001b[0;32m      5\u001b[0m     \u001b[0mprint\u001b[0m\u001b[1;33m(\u001b[0m\u001b[0mx\u001b[0m\u001b[1;33m)\u001b[0m\u001b[1;33m\u001b[0m\u001b[1;33m\u001b[0m\u001b[0m\n\u001b[0;32m      6\u001b[0m \u001b[1;33m\u001b[0m\u001b[0m\n\u001b[1;32m----> 7\u001b[1;33m \u001b[0mf\u001b[0m\u001b[1;33m(\u001b[0m\u001b[0mx\u001b[0m\u001b[1;33m=\u001b[0m\u001b[1;36m10\u001b[0m\u001b[1;33m,\u001b[0m\u001b[0my\u001b[0m\u001b[1;33m=\u001b[0m\u001b[1;36m20\u001b[0m\u001b[1;33m)\u001b[0m\u001b[1;33m\u001b[0m\u001b[1;33m\u001b[0m\u001b[0m\n\u001b[0m",
      "\u001b[1;31mTypeError\u001b[0m: f() got an unexpected keyword argument 'x'"
     ]
    }
   ],
   "source": [
    "# argument = single indivisual value\n",
    "# function call with keyword argument\n",
    "\n",
    "def f(*x):\n",
    "    print(x)\n",
    "\n",
    "f(x=10,y=20)\n"
   ]
  },
  {
   "cell_type": "code",
   "execution_count": 40,
   "id": "c61834ec",
   "metadata": {},
   "outputs": [
    {
     "name": "stdout",
     "output_type": "stream",
     "text": [
      "{'x': 10, 'y': 20}\n"
     ]
    }
   ],
   "source": [
    "# variable length keyward argument (**kargs)\n",
    "\"\"\"\n",
    "Now variable length keyword argument is dictionary type\n",
    "returns dictionary values\n",
    "\"\"\"\n",
    "def f(**x):\n",
    "    print(x)\n",
    "\n",
    "f(x=10,y=20)"
   ]
  },
  {
   "cell_type": "code",
   "execution_count": 46,
   "id": "e37ebbcc",
   "metadata": {},
   "outputs": [
    {
     "name": "stdout",
     "output_type": "stream",
     "text": [
      "{}\n",
      "{'a': 10}\n",
      "{'a': 10, 'b': 20}\n"
     ]
    }
   ],
   "source": [
    "def f(**kwargs):\n",
    "    print(kwargs)\n",
    "    \n",
    "f()\n",
    "f(a=10)\n",
    "f(a=10,b=20)"
   ]
  },
  {
   "cell_type": "code",
   "execution_count": 50,
   "id": "45c2aa04",
   "metadata": {},
   "outputs": [
    {
     "name": "stdout",
     "output_type": "stream",
     "text": [
      "()\n",
      "<class 'tuple'>\n",
      "{}\n",
      "<class 'dict'>\n",
      "(10, 20)\n",
      "<class 'tuple'>\n",
      "{'a': 50, 'b': 60}\n",
      "<class 'dict'>\n"
     ]
    }
   ],
   "source": [
    "def f(*args, **kwargs):\n",
    "    print(args)\n",
    "    print(type(args))\n",
    "    print(kwargs)\n",
    "    print(type(kwargs))\n",
    "\n",
    "f()\n",
    "f(10,20, a=50,b=60)"
   ]
  },
  {
   "cell_type": "code",
   "execution_count": 52,
   "id": "9b36fb4c",
   "metadata": {},
   "outputs": [
    {
     "ename": "SyntaxError",
     "evalue": "positional argument follows keyword argument (Temp/ipykernel_9400/2670128541.py, line 6)",
     "output_type": "error",
     "traceback": [
      "\u001b[1;36m  File \u001b[1;32m\"C:\\Users\\RAKESH~1\\AppData\\Local\\Temp/ipykernel_9400/2670128541.py\"\u001b[1;36m, line \u001b[1;32m6\u001b[0m\n\u001b[1;33m    f(a=50,b=70,20,40)    # position argument in kwargs not allowed\u001b[0m\n\u001b[1;37m                     ^\u001b[0m\n\u001b[1;31mSyntaxError\u001b[0m\u001b[1;31m:\u001b[0m positional argument follows keyword argument\n"
     ]
    }
   ],
   "source": [
    "def f(*args, **kwargs):\n",
    "    print(args)\n",
    "    \n",
    "    print(kwargs)\n",
    "    \n",
    "f(a=50,b=70,20,40)    # position argument in kwargs not allowed\n"
   ]
  },
  {
   "cell_type": "code",
   "execution_count": 55,
   "id": "312a1e5a",
   "metadata": {},
   "outputs": [
    {
     "name": "stdout",
     "output_type": "stream",
     "text": [
      "50\n",
      "(10, 20, 30)\n"
     ]
    }
   ],
   "source": [
    "def f(*y,x=90):  # variable length argument and default argument\n",
    "    print(x)\n",
    "    print(y)\n",
    "\n",
    "f(10,20,30,x=50)"
   ]
  },
  {
   "cell_type": "code",
   "execution_count": 56,
   "id": "eaccefb9",
   "metadata": {},
   "outputs": [
    {
     "name": "stdout",
     "output_type": "stream",
     "text": [
      "3 2 3 8\n"
     ]
    }
   ],
   "source": [
    "def f(arg1,arg2,arg3=3,arg4=8):\n",
    "    print(arg1,arg2,arg3,arg4)\n",
    "    \n",
    "f(3,2)"
   ]
  },
  {
   "cell_type": "code",
   "execution_count": 57,
   "id": "4dd071b8",
   "metadata": {},
   "outputs": [
    {
     "name": "stdout",
     "output_type": "stream",
     "text": [
      "10 20 30 40\n"
     ]
    }
   ],
   "source": [
    "def f(arg1,arg2,arg3=3,arg4=8):\n",
    "    print(arg1,arg2,arg3,arg4)\n",
    "    \n",
    "f(10,20,30,40)"
   ]
  },
  {
   "cell_type": "code",
   "execution_count": 58,
   "id": "5ab8b960",
   "metadata": {},
   "outputs": [
    {
     "name": "stdout",
     "output_type": "stream",
     "text": [
      "10 20 3 100\n"
     ]
    }
   ],
   "source": [
    "def f(arg1,arg2,arg3=3,arg4=8):\n",
    "    print(arg1,arg2,arg3,arg4)\n",
    "    \n",
    "f(10,20,arg4=100)    # 10,20,3,100"
   ]
  },
  {
   "cell_type": "code",
   "execution_count": 59,
   "id": "a2a80799",
   "metadata": {},
   "outputs": [
    {
     "ename": "TypeError",
     "evalue": "f() missing 2 required positional arguments: 'arg1' and 'arg2'",
     "output_type": "error",
     "traceback": [
      "\u001b[1;31m---------------------------------------------------------------------------\u001b[0m",
      "\u001b[1;31mTypeError\u001b[0m                                 Traceback (most recent call last)",
      "\u001b[1;32mC:\\Users\\RAKESH~1\\AppData\\Local\\Temp/ipykernel_9400/484850288.py\u001b[0m in \u001b[0;36m<module>\u001b[1;34m\u001b[0m\n\u001b[0;32m      2\u001b[0m     \u001b[0mprint\u001b[0m\u001b[1;33m(\u001b[0m\u001b[0marg1\u001b[0m\u001b[1;33m,\u001b[0m\u001b[0marg2\u001b[0m\u001b[1;33m,\u001b[0m\u001b[0marg3\u001b[0m\u001b[1;33m,\u001b[0m\u001b[0marg4\u001b[0m\u001b[1;33m)\u001b[0m\u001b[1;33m\u001b[0m\u001b[1;33m\u001b[0m\u001b[0m\n\u001b[0;32m      3\u001b[0m \u001b[1;33m\u001b[0m\u001b[0m\n\u001b[1;32m----> 4\u001b[1;33m \u001b[0mf\u001b[0m\u001b[1;33m(\u001b[0m\u001b[1;33m)\u001b[0m\u001b[1;33m\u001b[0m\u001b[1;33m\u001b[0m\u001b[0m\n\u001b[0m",
      "\u001b[1;31mTypeError\u001b[0m: f() missing 2 required positional arguments: 'arg1' and 'arg2'"
     ]
    }
   ],
   "source": [
    "def f(arg1,arg2,arg3=3,arg4=8):\n",
    "    print(arg1,arg2,arg3,arg4)\n",
    "    \n",
    "f()"
   ]
  },
  {
   "cell_type": "code",
   "execution_count": 60,
   "id": "53aeaa2a",
   "metadata": {},
   "outputs": [
    {
     "ename": "TypeError",
     "evalue": "f() got multiple values for argument 'arg2'",
     "output_type": "error",
     "traceback": [
      "\u001b[1;31m---------------------------------------------------------------------------\u001b[0m",
      "\u001b[1;31mTypeError\u001b[0m                                 Traceback (most recent call last)",
      "\u001b[1;32mC:\\Users\\RAKESH~1\\AppData\\Local\\Temp/ipykernel_9400/3004751999.py\u001b[0m in \u001b[0;36m<module>\u001b[1;34m\u001b[0m\n\u001b[0;32m      2\u001b[0m     \u001b[0mprint\u001b[0m\u001b[1;33m(\u001b[0m\u001b[0marg1\u001b[0m\u001b[1;33m,\u001b[0m\u001b[0marg2\u001b[0m\u001b[1;33m,\u001b[0m\u001b[0marg3\u001b[0m\u001b[1;33m,\u001b[0m\u001b[0marg4\u001b[0m\u001b[1;33m)\u001b[0m\u001b[1;33m\u001b[0m\u001b[1;33m\u001b[0m\u001b[0m\n\u001b[0;32m      3\u001b[0m \u001b[1;33m\u001b[0m\u001b[0m\n\u001b[1;32m----> 4\u001b[1;33m \u001b[0mf\u001b[0m\u001b[1;33m(\u001b[0m\u001b[1;36m5\u001b[0m\u001b[1;33m,\u001b[0m\u001b[1;36m5\u001b[0m\u001b[1;33m,\u001b[0m\u001b[0marg2\u001b[0m\u001b[1;33m=\u001b[0m\u001b[1;36m10\u001b[0m\u001b[1;33m)\u001b[0m\u001b[1;33m\u001b[0m\u001b[1;33m\u001b[0m\u001b[0m\n\u001b[0m",
      "\u001b[1;31mTypeError\u001b[0m: f() got multiple values for argument 'arg2'"
     ]
    }
   ],
   "source": [
    "def f(arg1,arg2,arg3=3,arg4=8):\n",
    "    print(arg1,arg2,arg3,arg4)\n",
    "    \n",
    "f(5,5,arg2=10)"
   ]
  },
  {
   "cell_type": "code",
   "execution_count": 64,
   "id": "302342b1",
   "metadata": {},
   "outputs": [
    {
     "name": "stdout",
     "output_type": "stream",
     "text": [
      "Global variable 10\n",
      "global variable called in another function 10\n"
     ]
    }
   ],
   "source": [
    "# types of variables\n",
    "# 1. global variable\n",
    "# 2. local variable\n",
    "\n",
    "a = 10\n",
    "def f():\n",
    "    print(\"Global variable\",a)\n",
    "    \n",
    "def f1():\n",
    "    print(\"global variable called in another function\",a)\n",
    "\n",
    "f()\n",
    "f1()\n"
   ]
  },
  {
   "cell_type": "code",
   "execution_count": 67,
   "id": "45f28623",
   "metadata": {},
   "outputs": [
    {
     "name": "stdout",
     "output_type": "stream",
     "text": [
      "Global variable 10\n",
      "value is b defined inside this funciton: 20\n",
      "global variable called in another function 10\n"
     ]
    },
    {
     "ename": "NameError",
     "evalue": "name 'b' is not defined",
     "output_type": "error",
     "traceback": [
      "\u001b[1;31m---------------------------------------------------------------------------\u001b[0m",
      "\u001b[1;31mNameError\u001b[0m                                 Traceback (most recent call last)",
      "\u001b[1;32mC:\\Users\\RAKESH~1\\AppData\\Local\\Temp/ipykernel_9400/2887518193.py\u001b[0m in \u001b[0;36m<module>\u001b[1;34m\u001b[0m\n\u001b[0;32m     11\u001b[0m     \u001b[0mprint\u001b[0m\u001b[1;33m(\u001b[0m\u001b[0mb\u001b[0m\u001b[1;33m)\u001b[0m\u001b[1;33m\u001b[0m\u001b[1;33m\u001b[0m\u001b[0m\n\u001b[0;32m     12\u001b[0m \u001b[0mf\u001b[0m\u001b[1;33m(\u001b[0m\u001b[1;33m)\u001b[0m\u001b[1;33m\u001b[0m\u001b[1;33m\u001b[0m\u001b[0m\n\u001b[1;32m---> 13\u001b[1;33m \u001b[0mf1\u001b[0m\u001b[1;33m(\u001b[0m\u001b[1;33m)\u001b[0m\u001b[1;33m\u001b[0m\u001b[1;33m\u001b[0m\u001b[0m\n\u001b[0m",
      "\u001b[1;32mC:\\Users\\RAKESH~1\\AppData\\Local\\Temp/ipykernel_9400/2887518193.py\u001b[0m in \u001b[0;36mf1\u001b[1;34m()\u001b[0m\n\u001b[0;32m      9\u001b[0m \u001b[1;32mdef\u001b[0m \u001b[0mf1\u001b[0m\u001b[1;33m(\u001b[0m\u001b[1;33m)\u001b[0m\u001b[1;33m:\u001b[0m\u001b[1;33m\u001b[0m\u001b[1;33m\u001b[0m\u001b[0m\n\u001b[0;32m     10\u001b[0m     \u001b[0mprint\u001b[0m\u001b[1;33m(\u001b[0m\u001b[1;34m\"global variable called in another function\"\u001b[0m\u001b[1;33m,\u001b[0m\u001b[0ma\u001b[0m\u001b[1;33m)\u001b[0m\u001b[1;33m\u001b[0m\u001b[1;33m\u001b[0m\u001b[0m\n\u001b[1;32m---> 11\u001b[1;33m     \u001b[0mprint\u001b[0m\u001b[1;33m(\u001b[0m\u001b[0mb\u001b[0m\u001b[1;33m)\u001b[0m\u001b[1;33m\u001b[0m\u001b[1;33m\u001b[0m\u001b[0m\n\u001b[0m\u001b[0;32m     12\u001b[0m \u001b[0mf\u001b[0m\u001b[1;33m(\u001b[0m\u001b[1;33m)\u001b[0m\u001b[1;33m\u001b[0m\u001b[1;33m\u001b[0m\u001b[0m\n\u001b[0;32m     13\u001b[0m \u001b[0mf1\u001b[0m\u001b[1;33m(\u001b[0m\u001b[1;33m)\u001b[0m\u001b[1;33m\u001b[0m\u001b[1;33m\u001b[0m\u001b[0m\n",
      "\u001b[1;31mNameError\u001b[0m: name 'b' is not defined"
     ]
    }
   ],
   "source": [
    "# Local variable\n",
    "\n",
    "a = 10\n",
    "def f():\n",
    "    b=20\n",
    "    print(\"Global variable value is\",a)\n",
    "    print(\"value in b defined inside this funciton:\",b)\n",
    "    \n",
    "def f1():\n",
    "    print(\"global variable called in another function\",a)\n",
    "    print(b)\n",
    "f()\n",
    "f1()"
   ]
  },
  {
   "cell_type": "code",
   "execution_count": 69,
   "id": "80ad91e6",
   "metadata": {},
   "outputs": [
    {
     "name": "stdout",
     "output_type": "stream",
     "text": [
      "20\n",
      "10\n"
     ]
    },
    {
     "data": {
      "text/plain": [
       "'\\nin f() function a = 20 is local variable so 1st priority always given to local variable rather than global variable\\n'"
      ]
     },
     "execution_count": 69,
     "metadata": {},
     "output_type": "execute_result"
    }
   ],
   "source": [
    " a = 10   #global variable\n",
    "def f():\n",
    "    a=20    # local variable\n",
    "    print(a)\n",
    "    \n",
    "def f1():\n",
    "    print(a)\n",
    "f()\n",
    "f1()\n",
    "\n",
    "\"\"\"\n",
    "in f() function a = 20 is local variable so 1st priority always given to local variable rather than global variable\n",
    "\"\"\""
   ]
  },
  {
   "cell_type": "code",
   "execution_count": 71,
   "id": "20fe1f0b",
   "metadata": {},
   "outputs": [
    {
     "name": "stdout",
     "output_type": "stream",
     "text": [
      "20\n",
      "20\n"
     ]
    }
   ],
   "source": [
    " a = 10   #global variable\n",
    "def f():\n",
    "    global a    # changing local variable into global using global keyword\n",
    "    a=20    # local variable\n",
    "    print(a)\n",
    "    \n",
    "def f1():\n",
    "    print(a)\n",
    "f()\n",
    "f1()"
   ]
  },
  {
   "cell_type": "code",
   "execution_count": 75,
   "id": "4a0404dc",
   "metadata": {},
   "outputs": [
    {
     "ename": "IndentationError",
     "evalue": "unexpected indent (Temp/ipykernel_9400/2224823434.py, line 8)",
     "output_type": "error",
     "traceback": [
      "\u001b[1;36m  File \u001b[1;32m\"C:\\Users\\RAKESH~1\\AppData\\Local\\Temp/ipykernel_9400/2224823434.py\"\u001b[1;36m, line \u001b[1;32m8\u001b[0m\n\u001b[1;33m    a=20    # local variable\u001b[0m\n\u001b[1;37m    ^\u001b[0m\n\u001b[1;31mIndentationError\u001b[0m\u001b[1;31m:\u001b[0m unexpected indent\n"
     ]
    }
   ],
   "source": [
    "a = 10   #global variable\n",
    "def f():\n",
    "    print(a)\n",
    "    global a\n",
    "\"\"\"\n",
    "if you are making variable global inside function then you can't print variable after global \n",
    "\"\"\"\n",
    "    a=20    # local variable\n",
    "    print(a)\n",
    "    \n",
    "def f1():\n",
    "    print(a)\n",
    "f()\n",
    "f1()\n",
    "\n",
    "\n",
    "# 10 20  20"
   ]
  },
  {
   "cell_type": "code",
   "execution_count": 76,
   "id": "955a9db6",
   "metadata": {},
   "outputs": [
    {
     "name": "stdout",
     "output_type": "stream",
     "text": [
      "10\n",
      "20\n",
      "20\n"
     ]
    }
   ],
   "source": [
    "a = 10   #global variable\n",
    "def f():\n",
    "    \n",
    "    global a\n",
    "    print(a)\n",
    "    a=20    # local variable\n",
    "    print(a)\n",
    "    \n",
    "def f1():\n",
    "    print(a)\n",
    "f()\n",
    "f1()"
   ]
  },
  {
   "cell_type": "markdown",
   "id": "23da56ab",
   "metadata": {},
   "source": [
    "# Recursion"
   ]
  },
  {
   "cell_type": "code",
   "execution_count": 3,
   "id": "c75a4fe8",
   "metadata": {},
   "outputs": [
    {
     "name": "stdout",
     "output_type": "stream",
     "text": [
      "Enter number: 5\n",
      "20\n"
     ]
    }
   ],
   "source": [
    "n = int(input(\"Enter number: \"))\n",
    "\n",
    "facto = n*(n-1)\n",
    "print(facto)"
   ]
  },
  {
   "cell_type": "code",
   "execution_count": 10,
   "id": "436ff1a2",
   "metadata": {},
   "outputs": [
    {
     "name": "stdout",
     "output_type": "stream",
     "text": [
      "120\n"
     ]
    }
   ],
   "source": [
    "# recursion using function\n",
    "def factorial(n):\n",
    "    result = 1\n",
    "    while n>=1:\n",
    "        result  = result *n\n",
    "        n=n-1\n",
    "    return result\n",
    "\n",
    "x= factorial(5)\n",
    "\n",
    "print(x)"
   ]
  },
  {
   "cell_type": "code",
   "execution_count": 19,
   "id": "a8ee6e4c",
   "metadata": {},
   "outputs": [
    {
     "name": "stdout",
     "output_type": "stream",
     "text": [
      "Enter the number: 5\n",
      "120\n",
      "0\n"
     ]
    }
   ],
   "source": [
    "# using recursion\n",
    "\n",
    "# count = 0\n",
    "def function(n):\n",
    "#     global count\n",
    "#     count = count+1\n",
    "    if n==0 or n==1:\n",
    "        return 1\n",
    "    else:\n",
    "        return n*factorial(n-1)\n",
    "\n",
    "n = int(input(\"Enter the number: \"))\n",
    "res = factorial(n)\n",
    "print(res)\n",
    "# print(count)"
   ]
  },
  {
   "cell_type": "markdown",
   "id": "ca36f2cf",
   "metadata": {},
   "source": [
    "# anonymous or lambda function"
   ]
  },
  {
   "cell_type": "code",
   "execution_count": 21,
   "id": "e7da238a",
   "metadata": {},
   "outputs": [
    {
     "name": "stdout",
     "output_type": "stream",
     "text": [
      "25\n"
     ]
    }
   ],
   "source": [
    "s= lambda n:n*n\n",
    "print(s(5))"
   ]
  },
  {
   "cell_type": "code",
   "execution_count": 23,
   "id": "0727b438",
   "metadata": {},
   "outputs": [
    {
     "name": "stdout",
     "output_type": "stream",
     "text": [
      "9\n"
     ]
    }
   ],
   "source": [
    "s= lambda a,b:a+b\n",
    "print(s(5,4))"
   ]
  },
  {
   "cell_type": "code",
   "execution_count": 25,
   "id": "506908cf",
   "metadata": {},
   "outputs": [
    {
     "name": "stdout",
     "output_type": "stream",
     "text": [
      "100\n"
     ]
    }
   ],
   "source": [
    "s= lambda a,b: a if a>b else b\n",
    "print(s(5,100))"
   ]
  },
  {
   "cell_type": "code",
   "execution_count": 27,
   "id": "f0e51861",
   "metadata": {},
   "outputs": [
    {
     "name": "stdout",
     "output_type": "stream",
     "text": [
      "99\n"
     ]
    }
   ],
   "source": [
    "s= lambda a,b,c: a if a>b and a>c else b if b>c else c\n",
    "print(s(5,99,1))"
   ]
  },
  {
   "cell_type": "code",
   "execution_count": 30,
   "id": "35dd5d8e",
   "metadata": {},
   "outputs": [
    {
     "name": "stdout",
     "output_type": "stream",
     "text": [
      "hello\n"
     ]
    }
   ],
   "source": [
    "# function as argument\n",
    "\n",
    "def mylower(text):\n",
    "    return text.lower()\n",
    "\n",
    "# t = mylower('HELLO')\n",
    "# print(t)\n",
    "\n",
    "    "
   ]
  },
  {
   "cell_type": "code",
   "execution_count": 32,
   "id": "d5e03a7e",
   "metadata": {},
   "outputs": [
    {
     "name": "stdout",
     "output_type": "stream",
     "text": [
      "welcome rakesh\n"
     ]
    }
   ],
   "source": [
    "# Function as argument\n",
    "def mylower(text):\n",
    "    return text.lower()\n",
    "\n",
    "def wish(function):\n",
    "    mywish = function('WELCOME RAKESH')\n",
    "    print(mywish)\n",
    "    \n",
    "wish(mylower)"
   ]
  },
  {
   "cell_type": "code",
   "execution_count": null,
   "id": "0b3dfb3a",
   "metadata": {},
   "outputs": [],
   "source": [
    "\"\"\"\n",
    "filter(function,sequence)\n",
    "        takes function as argument\n",
    "        return boolean\n",
    "        \n",
    "        \n",
    "map(function,sequence)\n",
    "reduce(function,sequence)\n",
    "\"\"\"\n",
    "\n",
    "filter(function,sequence)\n"
   ]
  },
  {
   "cell_type": "code",
   "execution_count": 33,
   "id": "94b81d2f",
   "metadata": {},
   "outputs": [
    {
     "name": "stdout",
     "output_type": "stream",
     "text": [
      "[0, 2, 4, 6, 8, 10]\n"
     ]
    }
   ],
   "source": [
    "# filter(function,sequence)\n",
    "# just example without filter()\n",
    "l = [0,1,2,3,4,5,6,7,8,9,10]\n",
    "def isEven(n):\n",
    "    if n%2==0:\n",
    "        return True\n",
    "    else:\n",
    "        return False\n",
    "\n",
    "l1 = []\n",
    "for n in l:\n",
    "    if isEven(n)==True:\n",
    "        l1.append(n)\n",
    "print(l1)\n"
   ]
  },
  {
   "cell_type": "code",
   "execution_count": 36,
   "id": "f452ac16",
   "metadata": {},
   "outputs": [
    {
     "name": "stdout",
     "output_type": "stream",
     "text": [
      "[0, 2, 4, 6, 8, 10]\n"
     ]
    }
   ],
   "source": [
    "l = [0,1,2,3,4,5,6,7,8,9,10]\n",
    "def isEven(n):\n",
    "    if n%2==0:\n",
    "        return True\n",
    "    else:\n",
    "        return False\n",
    "    \n",
    "l1 = list(filter(isEven,l))\n",
    "print(l1)"
   ]
  },
  {
   "cell_type": "code",
   "execution_count": 37,
   "id": "88fd7ad4",
   "metadata": {},
   "outputs": [
    {
     "name": "stdout",
     "output_type": "stream",
     "text": [
      "[0, 2, 4, 6, 8, 10]\n"
     ]
    }
   ],
   "source": [
    "l = [0,1,2,3,4,5,6,7,8,9,10]\n",
    "\n",
    "l1 = list(filter(lambda n:n%2==0,l))\n",
    "print(l1)"
   ]
  },
  {
   "cell_type": "code",
   "execution_count": 38,
   "id": "d82cca34",
   "metadata": {},
   "outputs": [
    {
     "name": "stdout",
     "output_type": "stream",
     "text": [
      "[0, 6]\n"
     ]
    }
   ],
   "source": [
    "l = [0,1,2,3,4,5,6,7,8,9,10]\n",
    "\n",
    "l1 = list(filter(lambda n:n%2==0 and n%3==0,l))\n",
    "print(l1)"
   ]
  },
  {
   "cell_type": "code",
   "execution_count": 39,
   "id": "ef5c2f7d",
   "metadata": {},
   "outputs": [
    {
     "name": "stdout",
     "output_type": "stream",
     "text": [
      "[1, 4, 9, 16, 25]\n"
     ]
    }
   ],
   "source": [
    "# map()\n",
    "l = [1,2,3,4,5]\n",
    "\n",
    "def squareit(n):\n",
    "    return n*n\n",
    "l1 = list(map(squareit,l))\n",
    "print(l1)"
   ]
  },
  {
   "cell_type": "code",
   "execution_count": 42,
   "id": "70307402",
   "metadata": {},
   "outputs": [
    {
     "name": "stdout",
     "output_type": "stream",
     "text": [
      "[1, 4, 9, 16, 25]\n"
     ]
    }
   ],
   "source": [
    "# map()\n",
    "l = [1,2,3,4,5]\n",
    "l2 = [10,20,30,40,50]\n",
    "def squareit(n):\n",
    "    return n*n\n",
    "l1 = list(map(lambda n:n*n,l))\n",
    "print(l1)"
   ]
  },
  {
   "cell_type": "code",
   "execution_count": 43,
   "id": "ba7e7fa7",
   "metadata": {},
   "outputs": [
    {
     "name": "stdout",
     "output_type": "stream",
     "text": [
      "[11, 22, 33, 44, 55]\n"
     ]
    }
   ],
   "source": [
    "# map()        # return every element \n",
    "l = [1,2,3,4,5]\n",
    "l2 = [10,20,30,40,50]\n",
    "def squareit(n):\n",
    "    return n*n\n",
    "l1 = list(map(lambda x,y:x+y,l,l2))\n",
    "print(l1)"
   ]
  },
  {
   "cell_type": "code",
   "execution_count": 46,
   "id": "1d50bffe",
   "metadata": {},
   "outputs": [
    {
     "name": "stdout",
     "output_type": "stream",
     "text": [
      "[11, 22, 33, 44, 55]\n"
     ]
    }
   ],
   "source": [
    "# reduce()    # give single output\n",
    "from functools import reduce\n",
    "l2 = [10,20,30,40,50]\n",
    "l = reduce(lambda x,y:x+y,l2)\n",
    "print(l1)\n"
   ]
  },
  {
   "cell_type": "code",
   "execution_count": null,
   "id": "1c24e556",
   "metadata": {},
   "outputs": [],
   "source": [
    "\"\"\"reduce ()  multiple items to single item\n",
    "        reduce()  is not built in function so\n",
    "        from functools import reduce\n",
    "        \n",
    "        \n",
    "map ()    sequence of items to individual work\n",
    "filter()   multiple items but filter them by ignoring itmes\n",
    "\n",
    "note: use lambda function for each of them despite using user-define function\n",
    "\n",
    "\n",
    "\"\"\""
   ]
  }
 ],
 "metadata": {
  "kernelspec": {
   "display_name": "Python 3 (ipykernel)",
   "language": "python",
   "name": "python3"
  },
  "language_info": {
   "codemirror_mode": {
    "name": "ipython",
    "version": 3
   },
   "file_extension": ".py",
   "mimetype": "text/x-python",
   "name": "python",
   "nbconvert_exporter": "python",
   "pygments_lexer": "ipython3",
   "version": "3.9.7"
  }
 },
 "nbformat": 4,
 "nbformat_minor": 5
}
