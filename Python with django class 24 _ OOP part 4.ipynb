{
 "cells": [
  {
   "cell_type": "markdown",
   "id": "b74655af",
   "metadata": {},
   "source": [
    "### Using member of one class into another class\n",
    "\n",
    "1. Has - a relationship = Composition  = Aggregration\n",
    "        two types or uses in Has a relationship\n",
    "2. Is - a relationship = Inheritance\n",
    "\n",
    "super()  = method()"
   ]
  },
  {
   "cell_type": "code",
   "execution_count": 2,
   "id": "e8bf466b",
   "metadata": {},
   "outputs": [
    {
     "data": {
      "text/plain": [
       "'\\naccess member of one class to another class is common in programming\\nbecause of DIY rule\\n\\n1.    Has a relationship\\n2.    Is a relationship\\n\\n\\n'"
      ]
     },
     "execution_count": 2,
     "metadata": {},
     "output_type": "execute_result"
    }
   ],
   "source": [
    "\"\"\"\n",
    "access member of one class to another class is common in programming\n",
    "because of DIY rule\n",
    "\n",
    "1.    Has a relationship\n",
    "2.    Is a relationship\n",
    "\n",
    "\n",
    "\"\"\""
   ]
  },
  {
   "cell_type": "code",
   "execution_count": 5,
   "id": "4c0af3a7",
   "metadata": {},
   "outputs": [
    {
     "name": "stdout",
     "output_type": "stream",
     "text": [
      "car specific functionality\n",
      "Engine specific functionality\n"
     ]
    }
   ],
   "source": [
    "# 1. Has a relationship\n",
    "# used by accessing object from 1st class to 2nd class \n",
    "# composition of different object in car such as mirror, tire, seat etc.\n",
    "\n",
    "class Engine:\n",
    "    def m1(self):\n",
    "        print(\"Engine specific functionality\")\n",
    "        \n",
    "class Car:\n",
    "    def __init__(self):\n",
    "        self.engine = Engine()    # creating object of Engine class ie. reference variable created\n",
    "    \n",
    "    def m2(self):\n",
    "        print('car specific functionality')\n",
    "        self.engine.m1()    # calling object from engine class_9.py\n",
    "        \n",
    "c = Car()\n",
    "c.m2()"
   ]
  },
  {
   "cell_type": "code",
   "execution_count": 1,
   "id": "5df69688",
   "metadata": {},
   "outputs": [
    {
     "name": "stdout",
     "output_type": "stream",
     "text": [
      "Employee name :  Rakesh\n",
      "Employee number :  101\n",
      "Car info : \n",
      "car Name: i20 model: m30 color: red\n"
     ]
    }
   ],
   "source": [
    "# another example\n",
    "class Car:\n",
    "    def __init__(self,name,model,color):\n",
    "        self.name = name\n",
    "        self.model = model\n",
    "        self.color = color\n",
    "    def getInfo(self):\n",
    "        print(f'car Name: {self.name} model: {self.model} color: {self.color}')\n",
    "        \n",
    "class Employee:\n",
    "    def __init__(self,ename,eno,car):\n",
    "        self.ename=ename\n",
    "        self.eno=eno\n",
    "        self.car=car\n",
    "         \n",
    "    def empinfo(self):\n",
    "        print('Employee name : ', self.ename)\n",
    "        print('Employee number : ', self.eno)\n",
    "        print('Car info : ')\n",
    "        self.car.getInfo()\n",
    "        \n",
    "# car is object created            \n",
    "car = Car('i20', 'm30','red')\n",
    "emp = Employee('Rakesh', 101,car)\n",
    "emp.empinfo()"
   ]
  },
  {
   "cell_type": "code",
   "execution_count": 2,
   "id": "c6e8810a",
   "metadata": {},
   "outputs": [
    {
     "name": "stdout",
     "output_type": "stream",
     "text": [
      "Employee name: Rakesh\n",
      "Employee number 101\n",
      "Car Info\n",
      "Car Name i20 model: m30 color: m30\n"
     ]
    }
   ],
   "source": [
    "class Car:\n",
    "    def __init__(self,name,model,color):\n",
    "        self.name = name\n",
    "        self.model = model\n",
    "        self.color = color\n",
    "    def getInfo(self):\n",
    "        print(f'Car Name {self.name} model: {self.model} color: {self.model}')\n",
    "    \n",
    "class Employee:\n",
    "    def __init__(self,ename,eno,car):\n",
    "        self.ename = ename\n",
    "        self.eno = eno\n",
    "        self.car = car\n",
    "        \n",
    "    def empinfo(self):\n",
    "        print('Employee name:', self.ename)\n",
    "        print('Employee number', self.eno)\n",
    "        print('Car Info')\n",
    "        self.car.getInfo()\n",
    "        \n",
    "car = Car('i20', 'm30','red')\n",
    "emp = Employee('Rakesh', 101,car)\n",
    "emp.empinfo()\n",
    "        "
   ]
  },
  {
   "cell_type": "code",
   "execution_count": 23,
   "id": "eadf6e41",
   "metadata": {},
   "outputs": [
    {
     "name": "stdout",
     "output_type": "stream",
     "text": [
      "\n",
      "This is news portal\n",
      "This is sports news 1\n",
      "This is sports news 2\n",
      "This is sports news 3\n",
      "\n",
      "This is movie news 1\n",
      "This is movie news 2\n",
      "This is movie news 3\n",
      "\n",
      "This is Politics news 1\n",
      "This is Politics news 2\n",
      "This is Politics news 3\n"
     ]
    }
   ],
   "source": [
    "# another example\n",
    "\n",
    "class SportsNews:\n",
    "    def sportsInfo(self):\n",
    "        print(\"This is sports news 1\")\n",
    "        print(\"This is sports news 2\")\n",
    "        print(\"This is sports news 3\")\n",
    "        \n",
    "class MovieNews:\n",
    "    def movieInfo(self):\n",
    "        print(\"This is movie news 1\")\n",
    "        print(\"This is movie news 2\")\n",
    "        print(\"This is movie news 3\")\n",
    "\n",
    "class PoliticsNews:\n",
    "    def politicsInfo(self):\n",
    "        print(\"This is Politics news 1\")\n",
    "        print(\"This is Politics news 2\")\n",
    "        print(\"This is Politics news 3\")\n",
    "\n",
    "class News:\n",
    "    def __init__(self):\n",
    "        self.sports = SportsNews()\n",
    "        self.movies = MovieNews()\n",
    "        self.politics = PoliticsNews()\n",
    "        \n",
    "    def getTotalNews(self):\n",
    "        print()\n",
    "        print('This is news portal')\n",
    "        self.sports.sportsInfo()\n",
    "        print()\n",
    "        self.movies.movieInfo()\n",
    "        print()\n",
    "        self.politics.politicsInfo()\n",
    "        \n",
    "Allnews = News()\n",
    "Allnews.getTotalNews()"
   ]
  },
  {
   "cell_type": "markdown",
   "id": "b89f18a3",
   "metadata": {},
   "source": [
    "# IS a relationship => Inheritance\n",
    "\n",
    "1. Accessing of one class member to another class member => Has a relation\n",
    "2. inherite character from parent class to child class => Inheritance"
   ]
  },
  {
   "cell_type": "code",
   "execution_count": 10,
   "id": "42e95d49",
   "metadata": {},
   "outputs": [
    {
     "name": "stdout",
     "output_type": "stream",
     "text": [
      "Parent Method\n",
      "Child method\n"
     ]
    }
   ],
   "source": [
    "class P:\n",
    "    def m1(self):\n",
    "        print('Parent Method')\n",
    "\n",
    "class C(P):\n",
    "    def m2(self):\n",
    "        print('Child method')\n",
    "        \n",
    "c = C()\n",
    "c.m1()\n",
    "c.m2()"
   ]
  },
  {
   "cell_type": "code",
   "execution_count": 11,
   "id": "646cc7f0",
   "metadata": {},
   "outputs": [
    {
     "name": "stdout",
     "output_type": "stream",
     "text": [
      "Parent Method\n"
     ]
    }
   ],
   "source": [
    "# or other way\n",
    "p = P()\n",
    "p.m1()"
   ]
  },
  {
   "cell_type": "code",
   "execution_count": 21,
   "id": "e0f843f9",
   "metadata": {},
   "outputs": [
    {
     "name": "stdout",
     "output_type": "stream",
     "text": [
      "Parent Constructor\n",
      "10\n",
      "20\n",
      "Parent instance method\n",
      "Parent class method\n"
     ]
    }
   ],
   "source": [
    "# another example\n",
    "class P:\n",
    "    a = 10 # static variable\n",
    "    def __init__(self):\n",
    "        print('Parent Constructor')\n",
    "        self.b=20    #instance variable\n",
    "        \n",
    "    def m1(self):\n",
    "        print('Parent instance method')\n",
    "        \n",
    "    @classmethod\n",
    "    def m2(cls):\n",
    "        print('Parent class method')\n",
    "        \n",
    "    @staticmethod\n",
    "    def m3():\n",
    "        print('Parent static method')\n",
    "        \n",
    "class C(P):\n",
    "    pass\n",
    "\n",
    "c = C()\n",
    "print(c.a)\n",
    "print(c.b)\n",
    "c.m1()    # object reference calling\n",
    "C.m2()    # class reference calling\n",
    "\n",
    "#  while calling staticmethod and classmethod => standared way is to use class based name to call"
   ]
  },
  {
   "cell_type": "code",
   "execution_count": 29,
   "id": "ce7ee30f",
   "metadata": {},
   "outputs": [
    {
     "name": "stdout",
     "output_type": "stream",
     "text": [
      "Person can eat\n",
      "Coding python\n",
      "Employee Name:  Rakesh\n",
      "Employee Age 23\n",
      "Employee number 101\n",
      "Employee salary 45000\n"
     ]
    }
   ],
   "source": [
    "# another example\n",
    "class Person:\n",
    "    def __init__(self,name,age):\n",
    "        self.name=name\n",
    "        self.age= age\n",
    "        \n",
    "    def eat(self):\n",
    "        print('Person can eat')\n",
    "        \n",
    "class Employee(Person):\n",
    "    def __init__(self,name,age,eno,esal):# inherated class takes same parameter as parent class\n",
    "        super().__init__(name,age)\n",
    "\n",
    "\n",
    "# To call parent calss constructor from child class we use super() method\n",
    "#  DIY rule => don't repeat yourself\n",
    "        \n",
    "#         self.name=name\n",
    "#         self.age=age\n",
    "        self.eno=eno\n",
    "        self.esal=esal\n",
    "        \n",
    "    def work(self):\n",
    "        print('Coding python')\n",
    "    \n",
    "    def empinfo(self):\n",
    "        print('Employee Name: ', self.name)\n",
    "        print('Employee Age', self.age)\n",
    "        print('Employee number', self.eno)\n",
    "        print('Employee salary', self.esal)\n",
    "        \n",
    "e = Employee('Rakesh',23,101,45000)\n",
    "e.eat()\n",
    "e.work()\n",
    "e.empinfo()\n",
    "        "
   ]
  },
  {
   "cell_type": "markdown",
   "id": "d488b6b1",
   "metadata": {},
   "source": [
    "## when to use Is a relationship and Has a relationship\n",
    "\n",
    "1. child class can have their parent class and can have more properties other than their parent then we use IS a relationship (inheritance)\n",
    "\n",
    "2. child class has just their parents character. Then we use Has a relationship"
   ]
  },
  {
   "cell_type": "code",
   "execution_count": 1,
   "id": "34ff8ca0",
   "metadata": {},
   "outputs": [
    {
     "name": "stdout",
     "output_type": "stream",
     "text": [
      "Every person can eat\n",
      "\n",
      "Work: coding in python\n",
      "\n",
      "Employee name :  Rakesh\n",
      "Employee age:  24\n",
      "Employee Number:  101\n",
      "Employee Salary:  45000\n",
      "Car Info\n",
      "\tcar Name: Innova\n",
      "\tCar Model:2.5v\n",
      "\tCar color:red\n"
     ]
    }
   ],
   "source": [
    "# combined program\n",
    "class Car:\n",
    "    def __init__(self,name,model,color):\n",
    "        self.name=name\n",
    "        self.model=model\n",
    "        self.color=color\n",
    "        \n",
    "    def getInfo(self):\n",
    "        print(f'\\tcar Name: {self.name}\\n\\tCar Model:{self.model}\\n\\tCar color:{self.color}')\n",
    "        \n",
    "class Person:\n",
    "    def __init__(self,name,age):\n",
    "        self.name=name\n",
    "        self.age = age\n",
    "        \n",
    "    def eat(self):\n",
    "        print('Every person can eat')\n",
    "        \n",
    "class Employee(Person):\n",
    "    def __init__(self,name,age,eno,esal,car):\n",
    "        super().__init__(name,age)\n",
    "        self.eno=eno\n",
    "        self.esal=esal\n",
    "        self.car=car\n",
    "        \n",
    "    def work(self):\n",
    "        print('Work: coding in python')\n",
    "        \n",
    "    def empinfo(self):\n",
    "        print('Employee name : ',self.name)\n",
    "        print('Employee age: ', self.age)\n",
    "        print('Employee Number: ', self.eno)\n",
    "        print('Employee Salary: ', self.esal)\n",
    "        print('Car Info')\n",
    "        self.car.getInfo()    # has a relation\n",
    "\n",
    "car = Car('Innova','2.5v','red')\n",
    "e = Employee('Rakesh',24,101,45000,car)\n",
    "e.eat()\n",
    "print()\n",
    "e.work()\n",
    "print()\n",
    "e.empinfo()"
   ]
  },
  {
   "cell_type": "code",
   "execution_count": 17,
   "id": "bbb4d908",
   "metadata": {},
   "outputs": [
    {
     "name": "stdout",
     "output_type": "stream",
     "text": [
      "Enter number: 7\n",
      "7 is a prime number\n",
      "7 is a prime number\n",
      "7 is a prime number\n",
      "7 is a prime number\n",
      "7 is a prime number\n"
     ]
    }
   ],
   "source": [
    "num = int(input('Enter number: '))\n",
    "\n",
    "if num >1:\n",
    "    for i in range(2,num):\n",
    "        if (num%i) ==0:\n",
    "            print(num,\"is not a prime number\")\n",
    "            print(i,\"times\",num//i,\"is\",num)\n",
    "            break\n",
    "\n",
    "        else:\n",
    "            print(num,\"is a prime number\")\n",
    "else:\n",
    "    print(num,\"is not a prime number\")"
   ]
  },
  {
   "cell_type": "code",
   "execution_count": 18,
   "id": "e33934c8",
   "metadata": {},
   "outputs": [],
   "source": [
    "# create composition\n",
    "\n",
    "class University:\n",
    "    def __init__(self):\n",
    "        self.dept = self.Department()    # calling below class to name object\n",
    "        \n",
    "    class Department():\n",
    "        pass"
   ]
  },
  {
   "cell_type": "code",
   "execution_count": 19,
   "id": "5c129249",
   "metadata": {},
   "outputs": [],
   "source": [
    "# create aggregration\n",
    "class Professor:\n",
    "    pass\n",
    "\n",
    "class Department:\n",
    "    def __init__(self,prof):\n",
    "        self.prof=prof\n",
    "        \n",
    "prof = Professor()\n",
    "bex_department = Department(prof)\n",
    "civil_department = Department(prof)\n",
    "\n",
    "\n",
    "# independent class with has a relationship = aggregration\n",
    "# inner class with has a relationship = composition\n"
   ]
  },
  {
   "cell_type": "markdown",
   "id": "186d6521",
   "metadata": {},
   "source": [
    "# Types of inheritance\n",
    "\n",
    "####  1. single inheritance   \n",
    "single parent and single child\n",
    "####  2. multilevel inheritance    \n",
    "single parent with single child and next child forming single chain\n",
    "####  3. hierarchical inheritance   \n",
    "one parent and multiple child classes\n",
    "####  4. multiple inheritance   \n",
    "multiple parent with single child class (most used in programming)\n",
    "####  5. hybrid inheritance   \n",
    "overall combination of inheritance\n",
    "####  6. cyclic inheritance  \n",
    "single parent and single child continuously inherite with each other"
   ]
  },
  {
   "cell_type": "markdown",
   "id": "8fbe3bb7",
   "metadata": {},
   "source": [
    "## 1. single inheritance\n",
    "\n",
    "-> single child inherit character from singe parent then it is called single inheritance"
   ]
  },
  {
   "cell_type": "code",
   "execution_count": 21,
   "id": "3c422e43",
   "metadata": {},
   "outputs": [
    {
     "name": "stdout",
     "output_type": "stream",
     "text": [
      "Parent Method\n",
      "Child class\n"
     ]
    }
   ],
   "source": [
    "class P:\n",
    "    def m(self):\n",
    "        print('Parent Method')\n",
    "class C(P):\n",
    "    def m1(self):\n",
    "        print('Child class')\n",
    "\n",
    "c = C()\n",
    "c.m()\n",
    "c.m1()\n",
    "\n",
    "        \n",
    "        \n",
    "        "
   ]
  },
  {
   "cell_type": "markdown",
   "id": "975a7ed7",
   "metadata": {},
   "source": [
    "## 2. multilevel inheritance\n",
    "\n",
    "multiple level class(parent) property can be inherited to child class\n"
   ]
  },
  {
   "cell_type": "code",
   "execution_count": 22,
   "id": "7ceacc31",
   "metadata": {},
   "outputs": [
    {
     "name": "stdout",
     "output_type": "stream",
     "text": [
      "3 child class\n",
      "2 child class\n",
      "Child class\n",
      "Parent Method\n"
     ]
    }
   ],
   "source": [
    "class P:\n",
    "    def m(self):\n",
    "        print('Parent Method')\n",
    "class C(P):\n",
    "    def m1(self):\n",
    "        print('Child class')\n",
    "\n",
    "class CC(C):\n",
    "    def m2(self):\n",
    "        print(\"2 child class\")\n",
    "        \n",
    "class CCC(CC):\n",
    "    def m3(self):\n",
    "        print('3 child class')\n",
    "        \n",
    "c=CCC()\n",
    "\n",
    "c.m3()\n",
    "c.m2()\n",
    "c.m1()\n",
    "c.m()\n"
   ]
  },
  {
   "cell_type": "markdown",
   "id": "d7baca44",
   "metadata": {},
   "source": [
    "#### 3. Hierarchical inheritance\n",
    "\n",
    "n number of childs and only one parent class"
   ]
  },
  {
   "cell_type": "code",
   "execution_count": 25,
   "id": "beea1f32",
   "metadata": {},
   "outputs": [
    {
     "name": "stdout",
     "output_type": "stream",
     "text": [
      "Parent Method\n",
      "right child class\n"
     ]
    }
   ],
   "source": [
    "class P:\n",
    "    def m(self):\n",
    "        print('Parent Method')\n",
    "class C1(P):\n",
    "    def m1(self):\n",
    "        print('Child class')\n",
    "        \n",
    "class C2(P):\n",
    "    def m2(self):\n",
    "        print('mid child class')\n",
    "\n",
    "class C3(P):\n",
    "    def m3(self):\n",
    "        print('right child class')\n",
    "        \n",
    "c = C3()\n",
    "c.m()\n",
    "# c.m2()\n",
    "c.m3()\n"
   ]
  },
  {
   "cell_type": "markdown",
   "id": "9ada5488",
   "metadata": {},
   "source": [
    "## 4. Multiple inheritance\n",
    "\n",
    "reverse of hierarchical inheritance\n",
    "\n",
    "multiple parents with single child\n",
    "\n"
   ]
  },
  {
   "cell_type": "code",
   "execution_count": 33,
   "id": "2233fa02",
   "metadata": {},
   "outputs": [
    {
     "name": "stdout",
     "output_type": "stream",
     "text": [
      "Parent 1 Method\n",
      "parent 2 class\n",
      "Child class\n"
     ]
    }
   ],
   "source": [
    "class P1:\n",
    "    def m(self):\n",
    "        print('Parent 1 Method')\n",
    "class P2:\n",
    "    def m1(self):\n",
    "        print('parent 2 class')\n",
    "        \n",
    "class P3:\n",
    "    def m(self):\n",
    "        print('parent 3 class')\n",
    "        \n",
    "class C(P1,P2,P3):\n",
    "    def m2(self):\n",
    "        print('Child class')\n",
    "        \n",
    "c = C()\n",
    "c.m()\n",
    "c.m1()\n",
    "c.m2()\n",
    "\n",
    "# dimond access problem in other programming language\n",
    "# first priority to the fist indication class method"
   ]
  },
  {
   "cell_type": "markdown",
   "id": "b9f7470d",
   "metadata": {},
   "source": [
    "## 5. cyclic inheritance\n",
    "\n",
    "1. parent called child and child called parent \n",
    "2. a inherit b and b inherit a then it is called cyclic inheritance\n",
    "3. None of the existing programming language support cyclic inheritance \n"
   ]
  },
  {
   "cell_type": "markdown",
   "id": "4574498c",
   "metadata": {},
   "source": [
    "## 6. Hybrid Inheritance\n",
    "\n",
    "1. combination of all of the inheritance is called hybrid inheritance\n",
    "\n",
    "2. MRO algorithm to solve conflicting method call\n"
   ]
  },
  {
   "cell_type": "code",
   "execution_count": 37,
   "id": "6b14a485",
   "metadata": {},
   "outputs": [
    {
     "name": "stdout",
     "output_type": "stream",
     "text": [
      "[<class '__main__.A'>, <class 'object'>]\n",
      "[<class '__main__.B'>, <class '__main__.A'>, <class 'object'>]\n",
      "[<class '__main__.C'>, <class '__main__.A'>, <class 'object'>]\n",
      "[<class '__main__.D'>, <class '__main__.B'>, <class '__main__.C'>, <class '__main__.A'>, <class 'object'>]\n"
     ]
    }
   ],
   "source": [
    "class A:\n",
    "    pass\n",
    "\n",
    "class B(A):\n",
    "    pass\n",
    "\n",
    "class C(A):\n",
    "    pass\n",
    "\n",
    "class D(B,C):\n",
    "    pass\n",
    "\n",
    "\n",
    "print(A.mro())\n",
    "print(B.mro())\n",
    "print(C.mro())\n",
    "print(D.mro())"
   ]
  },
  {
   "cell_type": "code",
   "execution_count": null,
   "id": "47b9fb2f",
   "metadata": {},
   "outputs": [],
   "source": []
  },
  {
   "cell_type": "code",
   "execution_count": null,
   "id": "7d81545e",
   "metadata": {},
   "outputs": [],
   "source": []
  }
 ],
 "metadata": {
  "kernelspec": {
   "display_name": "Python 3 (ipykernel)",
   "language": "python",
   "name": "python3"
  },
  "language_info": {
   "codemirror_mode": {
    "name": "ipython",
    "version": 3
   },
   "file_extension": ".py",
   "mimetype": "text/x-python",
   "name": "python",
   "nbconvert_exporter": "python",
   "pygments_lexer": "ipython3",
   "version": "3.9.7"
  }
 },
 "nbformat": 4,
 "nbformat_minor": 5
}
