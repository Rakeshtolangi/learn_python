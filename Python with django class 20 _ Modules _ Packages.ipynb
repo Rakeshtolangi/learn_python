{
 "cells": [
  {
   "cell_type": "code",
   "execution_count": null,
   "id": "96f7d29a",
   "metadata": {},
   "outputs": [],
   "source": [
    "x = 20\n",
    "y = 30\n",
    "\n",
    "def f1():\n",
    "    print(\"Hello this is funciton number one.\")\n",
    "    \n",
    "def f2():\n",
    "    print(\"Hello this is funcetion number two.\")\n",
    "\n",
    "class A:\n",
    "    pass"
   ]
  }
 ],
 "metadata": {
  "kernelspec": {
   "display_name": "Python 3 (ipykernel)",
   "language": "python",
   "name": "python3"
  },
  "language_info": {
   "codemirror_mode": {
    "name": "ipython",
    "version": 3
   },
   "file_extension": ".py",
   "mimetype": "text/x-python",
   "name": "python",
   "nbconvert_exporter": "python",
   "pygments_lexer": "ipython3",
   "version": "3.9.7"
  }
 },
 "nbformat": 4,
 "nbformat_minor": 5
}
