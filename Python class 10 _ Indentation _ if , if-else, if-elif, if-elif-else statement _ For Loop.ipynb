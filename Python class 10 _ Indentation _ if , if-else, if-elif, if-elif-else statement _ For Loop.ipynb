{
 "cells": [
  {
   "cell_type": "markdown",
   "id": "7911d359",
   "metadata": {},
   "source": [
    "# flow control"
   ]
  },
  {
   "cell_type": "code",
   "execution_count": 1,
   "id": "de618bad",
   "metadata": {},
   "outputs": [
    {
     "data": {
      "text/plain": [
       "'\\nselection statement\\n\\n    if \\n    if else\\n    if elif else\\n    if elif\\n\\nIterative statement\\n\\n    for\\n    while\\n\\nTransfer statement\\n    break\\n    continue\\n    \\n\\nbonus keyword\\n    pass\\n    del\\n'"
      ]
     },
     "execution_count": 1,
     "metadata": {},
     "output_type": "execute_result"
    }
   ],
   "source": [
    "\"\"\"\n",
    "selection statement\n",
    "\n",
    "    if \n",
    "    if else\n",
    "    if elif else\n",
    "    if elif\n",
    "\n",
    "Iterative statement\n",
    "\n",
    "    for\n",
    "    while\n",
    "\n",
    "Transfer statement\n",
    "    break\n",
    "    continue\n",
    "    \n",
    "\n",
    "bonus keyword\n",
    "    pass\n",
    "    del\n",
    "\"\"\""
   ]
  },
  {
   "cell_type": "markdown",
   "id": "b3e03f25",
   "metadata": {},
   "source": [
    "# Indentation error"
   ]
  },
  {
   "cell_type": "code",
   "execution_count": 3,
   "id": "d6509e2c",
   "metadata": {},
   "outputs": [
    {
     "name": "stdout",
     "output_type": "stream",
     "text": [
      "Enter namerakesh\n",
      "hello rakesh\n",
      "good morning\n"
     ]
    }
   ],
   "source": [
    "name = input(\"Enter name\")\n",
    "if name == \"rakesh\":\n",
    "    print(\"hello rakesh\")\n",
    "print(\"good morning\")\n"
   ]
  },
  {
   "cell_type": "code",
   "execution_count": 4,
   "id": "7bcb7db0",
   "metadata": {},
   "outputs": [
    {
     "data": {
      "text/plain": [
       "'\\nfor each_item in sequence:\\n    statement        # consider the value each time executed loop\\n    \\n'"
      ]
     },
     "execution_count": 4,
     "metadata": {},
     "output_type": "execute_result"
    }
   ],
   "source": [
    "# for loop\n",
    "# sequence:  list set tuple dict range string\n",
    "\"\"\"\n",
    "for each_item in sequence:\n",
    "    statement        # consider the value each time executed loop\n",
    "    \n",
    "\"\"\""
   ]
  },
  {
   "cell_type": "code",
   "execution_count": 8,
   "id": "9a304872",
   "metadata": {},
   "outputs": [
    {
     "name": "stdout",
     "output_type": "stream",
     "text": [
      "14\n",
      "r-a-k-e-s-h- -t-o-l-a-n-g-i-"
     ]
    }
   ],
   "source": [
    "s = \"rakesh tolangi\"\n",
    "print(len(s))\n",
    "for x in s:\n",
    "    print(x, end=\"-\")"
   ]
  },
  {
   "cell_type": "code",
   "execution_count": 12,
   "id": "71603fac",
   "metadata": {},
   "outputs": [
    {
     "name": "stdout",
     "output_type": "stream",
     "text": [
      "Enter your nameram\n",
      "The character present is 0index is:r\n",
      "The character present is 1index is:a\n",
      "The character present is 2index is:m\n"
     ]
    }
   ],
   "source": [
    "s = input(\"Enter your name\")\n",
    "i = 0\n",
    "for x in s:\n",
    "    print(f\"The character present is {i}index is:{x}\")\n",
    "    i+=1"
   ]
  },
  {
   "cell_type": "code",
   "execution_count": 14,
   "id": "32d4e423",
   "metadata": {},
   "outputs": [
    {
     "name": "stdout",
     "output_type": "stream",
     "text": [
      "Hello world\n",
      "Hello world\n",
      "Hello world\n",
      "Hello world\n",
      "Hello world\n",
      "Hello world\n",
      "Hello world\n",
      "Hello world\n",
      "Hello world\n",
      "Hello world\n"
     ]
    }
   ],
   "source": [
    "for x in range(10):\n",
    "    print(\"Hello world\")"
   ]
  },
  {
   "cell_type": "code",
   "execution_count": 16,
   "id": "4d6c1b3c",
   "metadata": {},
   "outputs": [
    {
     "name": "stdout",
     "output_type": "stream",
     "text": [
      "1\n",
      "2\n",
      "3\n",
      "4\n",
      "5\n",
      "6\n",
      "7\n",
      "8\n",
      "9\n",
      "10\n",
      "11\n"
     ]
    }
   ],
   "source": [
    "for x in range(1, 12):\n",
    "    print(x)"
   ]
  },
  {
   "cell_type": "code",
   "execution_count": 17,
   "id": "b3da4d06",
   "metadata": {},
   "outputs": [
    {
     "name": "stdout",
     "output_type": "stream",
     "text": [
      "1\n",
      "3\n",
      "5\n",
      "7\n",
      "9\n",
      "11\n",
      "13\n",
      "15\n",
      "17\n",
      "19\n"
     ]
    }
   ],
   "source": [
    "for x in range(1,20,2):\n",
    "    print(x)"
   ]
  },
  {
   "cell_type": "code",
   "execution_count": 21,
   "id": "68d1903f",
   "metadata": {},
   "outputs": [
    {
     "name": "stdout",
     "output_type": "stream",
     "text": [
      "1\n",
      "3\n",
      "5\n",
      "7\n",
      "9\n",
      "11\n",
      "13\n",
      "15\n",
      "17\n",
      "19\n"
     ]
    }
   ],
   "source": [
    "for x in range(21):\n",
    "    if x % 2!= 0:\n",
    "        print(x)"
   ]
  },
  {
   "cell_type": "code",
   "execution_count": 2,
   "id": "a3dcb817",
   "metadata": {},
   "outputs": [
    {
     "name": "stdout",
     "output_type": "stream",
     "text": [
      "20\n",
      "19\n",
      "18\n",
      "17\n",
      "16\n",
      "15\n",
      "14\n",
      "13\n",
      "12\n",
      "11\n",
      "10\n",
      "9\n",
      "8\n",
      "7\n",
      "6\n",
      "5\n",
      "4\n",
      "3\n",
      "2\n",
      "1\n"
     ]
    }
   ],
   "source": [
    "for x in range(20,0,-1):\n",
    "    print(x)"
   ]
  },
  {
   "cell_type": "code",
   "execution_count": 9,
   "id": "a534c2bf",
   "metadata": {},
   "outputs": [
    {
     "name": "stdout",
     "output_type": "stream",
     "text": [
      "Enter list number: [10,20,30]\n",
      "The sum is :  60\n"
     ]
    }
   ],
   "source": [
    "list = eval(input(\"Enter list number: \"))\n",
    "sum = 0    # if list is empty\n",
    "for a in list:\n",
    "    sum = sum + a\n",
    " \n",
    "print(\"The sum is : \", sum)\n"
   ]
  },
  {
   "cell_type": "code",
   "execution_count": 11,
   "id": "f68029ad",
   "metadata": {},
   "outputs": [
    {
     "name": "stdout",
     "output_type": "stream",
     "text": [
      "Enter list number: [10,20,30]\n"
     ]
    },
    {
     "ename": "TypeError",
     "evalue": "'int' object is not callable",
     "output_type": "error",
     "traceback": [
      "\u001b[1;31m---------------------------------------------------------------------------\u001b[0m",
      "\u001b[1;31mTypeError\u001b[0m                                 Traceback (most recent call last)",
      "\u001b[1;32mC:\\Users\\RAKESH~1\\AppData\\Local\\Temp/ipykernel_4836/322884957.py\u001b[0m in \u001b[0;36m<module>\u001b[1;34m\u001b[0m\n\u001b[0;32m      1\u001b[0m \u001b[0mlist2\u001b[0m \u001b[1;33m=\u001b[0m \u001b[0meval\u001b[0m\u001b[1;33m(\u001b[0m\u001b[0minput\u001b[0m\u001b[1;33m(\u001b[0m\u001b[1;34m\"Enter list number: \"\u001b[0m\u001b[1;33m)\u001b[0m\u001b[1;33m)\u001b[0m\u001b[1;33m\u001b[0m\u001b[1;33m\u001b[0m\u001b[0m\n\u001b[1;32m----> 2\u001b[1;33m \u001b[0mprint\u001b[0m\u001b[1;33m(\u001b[0m\u001b[1;34m\"The sum is: \"\u001b[0m\u001b[1;33m,\u001b[0m \u001b[0msum\u001b[0m\u001b[1;33m(\u001b[0m\u001b[0mlist2\u001b[0m\u001b[1;33m)\u001b[0m\u001b[1;33m)\u001b[0m\u001b[1;33m\u001b[0m\u001b[1;33m\u001b[0m\u001b[0m\n\u001b[0m",
      "\u001b[1;31mTypeError\u001b[0m: 'int' object is not callable"
     ]
    }
   ],
   "source": [
    "list2 = eval(input(\"Enter list number: \"))\n",
    "print(\"The sum is: \", sum(list2))"
   ]
  },
  {
   "cell_type": "markdown",
   "id": "d69d4d52",
   "metadata": {},
   "source": [
    "# multiplication table"
   ]
  },
  {
   "cell_type": "code",
   "execution_count": 14,
   "id": "cce0fc19",
   "metadata": {},
   "outputs": [
    {
     "name": "stdout",
     "output_type": "stream",
     "text": [
      "Enter the number: 4\n",
      "4*1=4\n",
      "4*2=8\n",
      "4*3=12\n",
      "4*4=16\n",
      "4*5=20\n",
      "4*6=24\n",
      "4*7=28\n",
      "4*8=32\n",
      "4*9=36\n",
      "4*10=40\n"
     ]
    }
   ],
   "source": [
    "n = int(input(\"Enter the number: \"))\n",
    "for x in range(1,11):\n",
    "    print(f\"{n}*{x}={n*x}\")"
   ]
  },
  {
   "cell_type": "code",
   "execution_count": null,
   "id": "39bd1ffb",
   "metadata": {},
   "outputs": [],
   "source": []
  }
 ],
 "metadata": {
  "kernelspec": {
   "display_name": "Python 3 (ipykernel)",
   "language": "python",
   "name": "python3"
  },
  "language_info": {
   "codemirror_mode": {
    "name": "ipython",
    "version": 3
   },
   "file_extension": ".py",
   "mimetype": "text/x-python",
   "name": "python",
   "nbconvert_exporter": "python",
   "pygments_lexer": "ipython3",
   "version": "3.9.7"
  }
 },
 "nbformat": 4,
 "nbformat_minor": 5
}
