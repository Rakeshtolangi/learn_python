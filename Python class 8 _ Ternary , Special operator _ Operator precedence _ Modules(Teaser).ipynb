{
 "cells": [
  {
   "cell_type": "markdown",
   "id": "b4d43b17",
   "metadata": {},
   "source": [
    "# Ternary operator (conditional operator"
   ]
  },
  {
   "cell_type": "code",
   "execution_count": 5,
   "id": "ba41dd47",
   "metadata": {},
   "outputs": [
    {
     "name": "stdout",
     "output_type": "stream",
     "text": [
      "40\n",
      "Enter first number: 6\n",
      "Enter second number: 5\n",
      "5\n"
     ]
    }
   ],
   "source": [
    "a = 10\n",
    "b = 20\n",
    "c = 30 if a > b else 40\n",
    "print(c)\n",
    "\n",
    "# (~4) unary operator\n",
    "# (a>b) binary operator\n",
    "# c = first_value if condition else second_value\n",
    "\n",
    "a = int(input(\"Enter first number: \"))\n",
    "b = int(input(\"Enter second number: \"))\n",
    "\n",
    "c = a if a < b else b\n",
    "print(c)"
   ]
  },
  {
   "cell_type": "markdown",
   "id": "96fbf92f",
   "metadata": {},
   "source": [
    "## Nesting of ternary operator"
   ]
  },
  {
   "cell_type": "code",
   "execution_count": 7,
   "id": "120c937a",
   "metadata": {},
   "outputs": [
    {
     "name": "stdout",
     "output_type": "stream",
     "text": [
      "Enter first number: 10\n",
      "Enter second number: 20\n",
      "Enter third number: 30\n"
     ]
    },
    {
     "data": {
      "text/plain": [
       "10"
      ]
     },
     "execution_count": 7,
     "metadata": {},
     "output_type": "execute_result"
    }
   ],
   "source": [
    "a = int(input(\"Enter first number: \"))\n",
    "b = int(input(\"Enter second number: \"))\n",
    "c = int(input(\"Enter third number: \"))\n",
    "\n",
    "min = a if a < b and a < c else b if b <c else c\n",
    "min"
   ]
  },
  {
   "cell_type": "code",
   "execution_count": 11,
   "id": "154bf689",
   "metadata": {},
   "outputs": [
    {
     "name": "stdout",
     "output_type": "stream",
     "text": [
      "Enter first number: 5\n",
      "Enter second number: 35\n",
      "Enter third number: 30\n"
     ]
    },
    {
     "data": {
      "text/plain": [
       "30"
      ]
     },
     "execution_count": 11,
     "metadata": {},
     "output_type": "execute_result"
    }
   ],
   "source": [
    "a = int(input(\"Enter first number: \"))\n",
    "b = int(input(\"Enter second number: \"))\n",
    "c = int(input(\"Enter third number: \"))\n",
    "\n",
    "min = a if a<b<c else b if b<c else c\n",
    "min"
   ]
  },
  {
   "cell_type": "markdown",
   "id": "5bbc7f7b",
   "metadata": {},
   "source": [
    "## identity operator\n",
    "\n",
    "###### is  is not"
   ]
  },
  {
   "cell_type": "code",
   "execution_count": 13,
   "id": "95669cba",
   "metadata": {},
   "outputs": [
    {
     "name": "stdout",
     "output_type": "stream",
     "text": [
      "True\n"
     ]
    }
   ],
   "source": [
    "a = 10 \n",
    "b = 10\n",
    "print(a is b)"
   ]
  },
  {
   "cell_type": "code",
   "execution_count": 14,
   "id": "4ae46f51",
   "metadata": {},
   "outputs": [
    {
     "name": "stdout",
     "output_type": "stream",
     "text": [
      "False\n"
     ]
    }
   ],
   "source": [
    "a = 10 \n",
    "b = 10\n",
    "print(a is not b)"
   ]
  },
  {
   "cell_type": "code",
   "execution_count": 16,
   "id": "969dde33",
   "metadata": {},
   "outputs": [
    {
     "name": "stdout",
     "output_type": "stream",
     "text": [
      "False\n"
     ]
    }
   ],
   "source": [
    "c = [10,20,30]\n",
    "d = [10,20,30]\n",
    "print(c is d)"
   ]
  },
  {
   "cell_type": "code",
   "execution_count": 17,
   "id": "a1d695e8",
   "metadata": {},
   "outputs": [
    {
     "name": "stdout",
     "output_type": "stream",
     "text": [
      "True\n"
     ]
    }
   ],
   "source": [
    "c = [10,20,30]\n",
    "d = [10,20,30]\n",
    "print(c is not d)"
   ]
  },
  {
   "cell_type": "markdown",
   "id": "6112f211",
   "metadata": {},
   "source": [
    "## membership operator\n",
    "\n",
    "###### is, is not\n",
    "\n",
    "###### syntax \n",
    "######  a in sequence"
   ]
  },
  {
   "cell_type": "code",
   "execution_count": 18,
   "id": "74052dde",
   "metadata": {},
   "outputs": [
    {
     "name": "stdout",
     "output_type": "stream",
     "text": [
      "True\n"
     ]
    }
   ],
   "source": [
    "s = \"Rakesh is computer engineer\"\n",
    "print('e' in s)"
   ]
  },
  {
   "cell_type": "code",
   "execution_count": 20,
   "id": "c56052e5",
   "metadata": {},
   "outputs": [
    {
     "name": "stdout",
     "output_type": "stream",
     "text": [
      "False\n"
     ]
    }
   ],
   "source": [
    "s = \"Rakesh is computer engineer\"\n",
    "print('rakesh' in s)"
   ]
  },
  {
   "cell_type": "code",
   "execution_count": 21,
   "id": "b67994cd",
   "metadata": {},
   "outputs": [
    {
     "name": "stdout",
     "output_type": "stream",
     "text": [
      "True\n"
     ]
    }
   ],
   "source": [
    "s = \"Rakesh is computer engineer\"\n",
    "print('rakesh' not in s)"
   ]
  },
  {
   "cell_type": "code",
   "execution_count": 22,
   "id": "8e3efe5d",
   "metadata": {},
   "outputs": [
    {
     "name": "stdout",
     "output_type": "stream",
     "text": [
      "23\n"
     ]
    }
   ],
   "source": [
    "print(3 + 10*2)    #precedance"
   ]
  },
  {
   "cell_type": "code",
   "execution_count": 23,
   "id": "e4a69af6",
   "metadata": {},
   "outputs": [
    {
     "data": {
      "text/plain": [
       "'\\noperator precedance\\n\\n()\\n**\\n~\\n*\\n/\\n%\\n//\\n+\\n-\\n<<\\n>>\\n&\\n^\\n|\\n>\\n>=\\n<=\\n==\\n!=\\n=\\n+=\\n-=\\nis is not\\nin in not\\nnot\\nand\\n\\n\\n'"
      ]
     },
     "execution_count": 23,
     "metadata": {},
     "output_type": "execute_result"
    }
   ],
   "source": [
    "\"\"\"\n",
    "operator precedance\n",
    "\n",
    "()\n",
    "**\n",
    "~\n",
    "*\n",
    "/\n",
    "%\n",
    "//\n",
    "+\n",
    "-\n",
    "<<\n",
    ">>\n",
    "&\n",
    "^\n",
    "|\n",
    ">\n",
    ">=\n",
    "<=\n",
    "==\n",
    "!=\n",
    "=\n",
    "+=\n",
    "-=\n",
    "is is not\n",
    "in in not\n",
    "not\n",
    "and\n",
    "\n",
    "\n",
    "\"\"\""
   ]
  },
  {
   "cell_type": "code",
   "execution_count": 28,
   "id": "fcb7d620",
   "metadata": {},
   "outputs": [
    {
     "name": "stdout",
     "output_type": "stream",
     "text": [
      "15.0\n"
     ]
    }
   ],
   "source": [
    "a = 3/2*4+3+(10/5)**3-2\n",
    "print(a)"
   ]
  },
  {
   "cell_type": "markdown",
   "id": "9320859a",
   "metadata": {},
   "source": [
    "## module\n",
    "\n",
    "file that are saved in .py extensions are called module"
   ]
  },
  {
   "cell_type": "code",
   "execution_count": 42,
   "id": "a6bb9ac5",
   "metadata": {},
   "outputs": [
    {
     "name": "stdout",
     "output_type": "stream",
     "text": [
      "Sum is  30\n",
      "Multiply is  200\n"
     ]
    }
   ],
   "source": [
    "import test       # test is .py file extextion function exists\n",
    "test.add(10,20)\n",
    "test.multiply(10,20)"
   ]
  },
  {
   "cell_type": "code",
   "execution_count": 43,
   "id": "653c945f",
   "metadata": {},
   "outputs": [
    {
     "name": "stdout",
     "output_type": "stream",
     "text": [
      "Sum is  30\n"
     ]
    },
    {
     "data": {
      "text/plain": [
       "'\\n\\nalliancing\\n\\nfrom test import add as a    # add is function inside test.py module and add is denoted by a bellow\\na(10,20)\\n\\n'"
      ]
     },
     "execution_count": 43,
     "metadata": {},
     "output_type": "execute_result"
    }
   ],
   "source": [
    "from test import add  # add is function in test.py module\n",
    "add(10,20)\n",
    "\"\"\"\n",
    "\n",
    "alliancing\n",
    "\n",
    "from test import add as a    # add is function inside test.py module and add is denoted by a bellow\n",
    "a(10,20)\n",
    "\n",
    "\"\"\""
   ]
  },
  {
   "cell_type": "code",
   "execution_count": 32,
   "id": "01c73c4e",
   "metadata": {},
   "outputs": [
    {
     "data": {
      "text/plain": [
       "'\\nfrom test import *     # * import all the function inside test.py file\\nadd(10,20)\\nmultiply(10,20)\\n\\n'"
      ]
     },
     "execution_count": 32,
     "metadata": {},
     "output_type": "execute_result"
    }
   ],
   "source": [
    "\"\"\"\n",
    "from test import *     # * import all the function inside test.py file\n",
    "add(10,20)\n",
    "multiply(10,20)\n",
    "\n",
    "\"\"\""
   ]
  },
  {
   "cell_type": "code",
   "execution_count": 34,
   "id": "01a1e469",
   "metadata": {},
   "outputs": [
    {
     "name": "stdout",
     "output_type": "stream",
     "text": [
      "['__doc__', '__loader__', '__name__', '__package__', '__spec__', 'acos', 'acosh', 'asin', 'asinh', 'atan', 'atan2', 'atanh', 'ceil', 'comb', 'copysign', 'cos', 'cosh', 'degrees', 'dist', 'e', 'erf', 'erfc', 'exp', 'expm1', 'fabs', 'factorial', 'floor', 'fmod', 'frexp', 'fsum', 'gamma', 'gcd', 'hypot', 'inf', 'isclose', 'isfinite', 'isinf', 'isnan', 'isqrt', 'lcm', 'ldexp', 'lgamma', 'log', 'log10', 'log1p', 'log2', 'modf', 'nan', 'nextafter', 'perm', 'pi', 'pow', 'prod', 'radians', 'remainder', 'sin', 'sinh', 'sqrt', 'tan', 'tanh', 'tau', 'trunc', 'ulp']\n"
     ]
    }
   ],
   "source": [
    "# math\n",
    "import math\n",
    "print(dir(math))"
   ]
  },
  {
   "cell_type": "code",
   "execution_count": 35,
   "id": "e6ad93d1",
   "metadata": {},
   "outputs": [
    {
     "name": "stdout",
     "output_type": "stream",
     "text": [
      "4.0\n"
     ]
    }
   ],
   "source": [
    "import math\n",
    "print(math.sqrt(16))"
   ]
  },
  {
   "cell_type": "code",
   "execution_count": 37,
   "id": "0ece8ef5",
   "metadata": {},
   "outputs": [
    {
     "name": "stdout",
     "output_type": "stream",
     "text": [
      "2.718281828459045\n"
     ]
    }
   ],
   "source": [
    "import math\n",
    "print(math.e)"
   ]
  },
  {
   "cell_type": "code",
   "execution_count": 38,
   "id": "ed003c01",
   "metadata": {},
   "outputs": [
    {
     "name": "stdout",
     "output_type": "stream",
     "text": [
      "3.141592653589793\n"
     ]
    }
   ],
   "source": [
    "import math\n",
    "print(math.pi)"
   ]
  },
  {
   "cell_type": "code",
   "execution_count": 39,
   "id": "200c3857",
   "metadata": {},
   "outputs": [
    {
     "name": "stdout",
     "output_type": "stream",
     "text": [
      "3.141592653589793\n"
     ]
    }
   ],
   "source": [
    "from math import *\n",
    "print(pi)"
   ]
  },
  {
   "cell_type": "code",
   "execution_count": 45,
   "id": "f9723a0a",
   "metadata": {},
   "outputs": [
    {
     "name": "stdout",
     "output_type": "stream",
     "text": [
      "Sum is  30\n"
     ]
    }
   ],
   "source": [
    "from test import add as a\n",
    "a(10,20)"
   ]
  },
  {
   "cell_type": "code",
   "execution_count": 46,
   "id": "7277309a",
   "metadata": {},
   "outputs": [
    {
     "name": "stdout",
     "output_type": "stream",
     "text": [
      "Sum is  30\n",
      "Multiply is  200\n"
     ]
    }
   ],
   "source": [
    "from test import *\n",
    "add(10,20)\n",
    "multiply(10,20)"
   ]
  },
  {
   "cell_type": "code",
   "execution_count": null,
   "id": "af9c85ca",
   "metadata": {},
   "outputs": [],
   "source": []
  }
 ],
 "metadata": {
  "kernelspec": {
   "display_name": "Python 3 (ipykernel)",
   "language": "python",
   "name": "python3"
  },
  "language_info": {
   "codemirror_mode": {
    "name": "ipython",
    "version": 3
   },
   "file_extension": ".py",
   "mimetype": "text/x-python",
   "name": "python",
   "nbconvert_exporter": "python",
   "pygments_lexer": "ipython3",
   "version": "3.9.7"
  }
 },
 "nbformat": 4,
 "nbformat_minor": 5
}
