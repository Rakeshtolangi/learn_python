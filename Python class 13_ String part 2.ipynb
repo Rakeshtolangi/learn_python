{
 "cells": [
  {
   "cell_type": "code",
   "execution_count": 1,
   "id": "2eb69ec3",
   "metadata": {},
   "outputs": [
    {
     "name": "stdout",
     "output_type": "stream",
     "text": [
      "AbAbAbAbAbAb\n"
     ]
    }
   ],
   "source": [
    "# .replace()\n",
    "s = \"abababababab\"\n",
    "print(s.replace('a','A'))"
   ]
  },
  {
   "cell_type": "code",
   "execution_count": 2,
   "id": "bb1b62b8",
   "metadata": {},
   "outputs": [
    {
     "name": "stdout",
     "output_type": "stream",
     "text": [
      "rakeshiscomputerengineer\n",
      "the number of spaces 3\n"
     ]
    }
   ],
   "source": [
    "# replace() space\n",
    "s = \"rakesh is computer engineer\"\n",
    "print(s.replace(\" \",\"\"))\n",
    "print(\"the number of spaces\",s.count(\" \"))\n"
   ]
  },
  {
   "cell_type": "code",
   "execution_count": 3,
   "id": "f0909246",
   "metadata": {},
   "outputs": [
    {
     "name": "stdout",
     "output_type": "stream",
     "text": [
      "Rakesh is computer sciencist\n"
     ]
    }
   ],
   "source": [
    "s = \"Rakesh is computer engineer\"\n",
    "s1=s.replace('engineer', 'sciencist')\n",
    "print(s1)"
   ]
  },
  {
   "cell_type": "code",
   "execution_count": 5,
   "id": "da6c56af",
   "metadata": {},
   "outputs": [
    {
     "name": "stdout",
     "output_type": "stream",
     "text": [
      "['Rakesh', 'is', 'python', 'developer']\n",
      "['Rakesh', 'is', 'backend', 'developer']\n"
     ]
    }
   ],
   "source": [
    "# splitting of string\n",
    "s = \"Rakesh is python developer\"\n",
    "r = \"Rakesh-is-backend-developer\"\n",
    "print(s.split())  # [\"rakesh\" \"is\" \"python\" 'developer']\n",
    "print(r.split(\"-\"))"
   ]
  },
  {
   "cell_type": "code",
   "execution_count": 7,
   "id": "68b98db5",
   "metadata": {},
   "outputs": [
    {
     "name": "stdout",
     "output_type": "stream",
     "text": [
      "Rakesh\n",
      "is\n",
      "python\n",
      "developer\n"
     ]
    }
   ],
   "source": [
    "# list into string\n",
    "l = s.split()\n",
    "for x in l:\n",
    "    print(x)"
   ]
  },
  {
   "cell_type": "code",
   "execution_count": 9,
   "id": "4fcb9c75",
   "metadata": {},
   "outputs": [
    {
     "name": "stdout",
     "output_type": "stream",
     "text": [
      "05\n",
      "02\n",
      "2021\n"
     ]
    }
   ],
   "source": [
    "d = \"05-02-2021\"\n",
    "l = d.split(\"-\")\n",
    "for i in l:\n",
    "    print(i)"
   ]
  },
  {
   "cell_type": "markdown",
   "id": "feb9582b",
   "metadata": {},
   "source": [
    "# joining of string"
   ]
  },
  {
   "cell_type": "code",
   "execution_count": 16,
   "id": "e8bc4f2c",
   "metadata": {},
   "outputs": [
    {
     "name": "stdout",
     "output_type": "stream",
     "text": [
      "Rakesh is python developer\n",
      "<class 'str'>\n"
     ]
    }
   ],
   "source": [
    "# syntax:  seperator.join()\n",
    "\n",
    "l=['Rakesh', 'is', 'python', 'developer']\n",
    "s = \" \".join(l)\n",
    "print(s)\n",
    "print(type(s))"
   ]
  },
  {
   "cell_type": "code",
   "execution_count": 17,
   "id": "fcf1feed",
   "metadata": {},
   "outputs": [
    {
     "name": "stdout",
     "output_type": "stream",
     "text": [
      "Rakesh-is-backend-developer\n"
     ]
    }
   ],
   "source": [
    "l=['Rakesh', 'is', 'backend', 'developer']\n",
    "\n",
    "s1 = \"-\".join(l)\n",
    "\n",
    "print(s1)"
   ]
  },
  {
   "cell_type": "code",
   "execution_count": null,
   "id": "63e44a95",
   "metadata": {},
   "outputs": [],
   "source": [
    "# changing case of charactres of string\n",
    "\"\"\"\n",
    "lower()\n",
    "upper()\n",
    "swapcase()\n",
    "title()\n",
    "capitalize()\n",
    "\"\"\""
   ]
  },
  {
   "cell_type": "code",
   "execution_count": 20,
   "id": "e5c6f4d2",
   "metadata": {},
   "outputs": [
    {
     "name": "stdout",
     "output_type": "stream",
     "text": [
      "MY NAME IS rakesh TOLANGI\n"
     ]
    }
   ],
   "source": [
    "s = \"my name is RAKESH tolangi\".swapcase()\n",
    "print(s)"
   ]
  },
  {
   "cell_type": "code",
   "execution_count": 21,
   "id": "39f21020",
   "metadata": {},
   "outputs": [
    {
     "name": "stdout",
     "output_type": "stream",
     "text": [
      "my name is rakesh tolangi\n"
     ]
    }
   ],
   "source": [
    "s = \"my name is RAKESH tolangi\".lower()\n",
    "print(s)"
   ]
  },
  {
   "cell_type": "code",
   "execution_count": 22,
   "id": "0b74db97",
   "metadata": {},
   "outputs": [
    {
     "name": "stdout",
     "output_type": "stream",
     "text": [
      "MY NAME IS RAKESH TOLANGI\n"
     ]
    }
   ],
   "source": [
    "s = \"my name is RAKESH tolangi\".upper()\n",
    "print(s)"
   ]
  },
  {
   "cell_type": "code",
   "execution_count": 24,
   "id": "a5723ad2",
   "metadata": {},
   "outputs": [
    {
     "name": "stdout",
     "output_type": "stream",
     "text": [
      "My Name Is Rakesh Tolangi\n"
     ]
    }
   ],
   "source": [
    "s = \"my name is RAKESH tolangi\".title() # each 1st letter upper case\n",
    "print(s)"
   ]
  },
  {
   "cell_type": "code",
   "execution_count": 26,
   "id": "75ad4c03",
   "metadata": {},
   "outputs": [
    {
     "name": "stdout",
     "output_type": "stream",
     "text": [
      "My name is rakesh tolangi\n"
     ]
    }
   ],
   "source": [
    "s = \"my name is RAKESH tolangi\".capitalize() # 1st letter capital only\n",
    "print(s)"
   ]
  },
  {
   "cell_type": "code",
   "execution_count": 30,
   "id": "923f9bc9",
   "metadata": {},
   "outputs": [
    {
     "name": "stdout",
     "output_type": "stream",
     "text": [
      "Enter first string: rakesh\n",
      "Enter second sring: RAKESH\n",
      "Both strings are equal\n"
     ]
    }
   ],
   "source": [
    "# small letters and capital letters\n",
    "s1 = input(\"Enter first string: \").lower()\n",
    "s2 = input(\"Enter second sring: \").lower()\n",
    "if s1==s2:\n",
    "    print(\"Both strings are equal\")\n",
    "else:\n",
    "    print(\"Strings are not equal\")"
   ]
  },
  {
   "cell_type": "code",
   "execution_count": 33,
   "id": "cad04eb2",
   "metadata": {},
   "outputs": [
    {
     "name": "stdout",
     "output_type": "stream",
     "text": [
      "Enter your username: harrY\n",
      "Enter your username: harry1234\n",
      "user is valid\n"
     ]
    }
   ],
   "source": [
    "s1 = input(\"Enter your username: \")\n",
    "s2 = input(\"Enter your username: \")\n",
    "if s1.lower()== \"harry\" and s2.lower()==\"harry1234\":\n",
    "    print(\"user is valid\")\n",
    "else:\n",
    "    print(\"User is not valid\")"
   ]
  },
  {
   "cell_type": "code",
   "execution_count": 38,
   "id": "c807577e",
   "metadata": {},
   "outputs": [
    {
     "name": "stdout",
     "output_type": "stream",
     "text": [
      "Enter sting:raKESH IS COMPUTER ENGineer\n",
      "Rakesh is computer engineeR\n"
     ]
    }
   ],
   "source": [
    "n = input(\"Enter sting:\")\n",
    "s = n[0].upper() + n[1:-1].lower()+ n[-1].upper()\n",
    "print(s)"
   ]
  },
  {
   "cell_type": "code",
   "execution_count": 40,
   "id": "a8072ce5",
   "metadata": {},
   "outputs": [
    {
     "name": "stdout",
     "output_type": "stream",
     "text": [
      "True\n",
      "True\n"
     ]
    }
   ],
   "source": [
    "# checking starting and ending part of string\n",
    "#     startswith(\"rakesh\")\n",
    "#     endswith(\"h\")\n",
    "\n",
    "s = \"Rakesh is computer engineer\"\n",
    "print(s.startswith(\"Rakesh\"))\n",
    "print(s.startswith(\"R\"))"
   ]
  },
  {
   "cell_type": "code",
   "execution_count": 41,
   "id": "79000c96",
   "metadata": {},
   "outputs": [
    {
     "name": "stdout",
     "output_type": "stream",
     "text": [
      "True\n"
     ]
    }
   ],
   "source": [
    "print(s.endswith(\"engineer\"))"
   ]
  },
  {
   "cell_type": "code",
   "execution_count": 42,
   "id": "c165fe6c",
   "metadata": {},
   "outputs": [
    {
     "name": "stdout",
     "output_type": "stream",
     "text": [
      "True\n"
     ]
    }
   ],
   "source": [
    "print(s.endswith(\"er\"))"
   ]
  },
  {
   "cell_type": "code",
   "execution_count": 43,
   "id": "afcbb6b5",
   "metadata": {},
   "outputs": [
    {
     "name": "stdout",
     "output_type": "stream",
     "text": [
      "False\n"
     ]
    }
   ],
   "source": [
    "print(s.endswith(\"engineering\"))"
   ]
  },
  {
   "cell_type": "markdown",
   "id": "9bba7382",
   "metadata": {},
   "source": [
    "# checking type of characters present in a string"
   ]
  },
  {
   "cell_type": "code",
   "execution_count": 50,
   "id": "f1289c7d",
   "metadata": {},
   "outputs": [
    {
     "name": "stdout",
     "output_type": "stream",
     "text": [
      "True\n",
      "True\n",
      "True\n"
     ]
    },
    {
     "ename": "AttributeError",
     "evalue": "'str' object has no attribute 'issupper'",
     "output_type": "error",
     "traceback": [
      "\u001b[1;31m---------------------------------------------------------------------------\u001b[0m",
      "\u001b[1;31mAttributeError\u001b[0m                            Traceback (most recent call last)",
      "\u001b[1;32mC:\\Users\\RAKESH~1\\AppData\\Local\\Temp/ipykernel_11640/3995280071.py\u001b[0m in \u001b[0;36m<module>\u001b[1;34m\u001b[0m\n\u001b[0;32m     14\u001b[0m \u001b[0mprint\u001b[0m\u001b[1;33m(\u001b[0m\u001b[1;34m\"Bishal\"\u001b[0m\u001b[1;33m.\u001b[0m\u001b[0misalpha\u001b[0m\u001b[1;33m(\u001b[0m\u001b[1;33m)\u001b[0m\u001b[1;33m)\u001b[0m\u001b[1;33m\u001b[0m\u001b[1;33m\u001b[0m\u001b[0m\n\u001b[0;32m     15\u001b[0m \u001b[0mprint\u001b[0m\u001b[1;33m(\u001b[0m\u001b[1;34m\"bishal\"\u001b[0m\u001b[1;33m.\u001b[0m\u001b[0mislower\u001b[0m\u001b[1;33m(\u001b[0m\u001b[1;33m)\u001b[0m\u001b[1;33m)\u001b[0m\u001b[1;33m\u001b[0m\u001b[1;33m\u001b[0m\u001b[0m\n\u001b[1;32m---> 16\u001b[1;33m \u001b[0mprint\u001b[0m\u001b[1;33m(\u001b[0m\u001b[1;34m\"Bishal2345\"\u001b[0m\u001b[1;33m.\u001b[0m\u001b[0missupper\u001b[0m\u001b[1;33m(\u001b[0m\u001b[1;33m)\u001b[0m\u001b[1;33m)\u001b[0m\u001b[1;33m\u001b[0m\u001b[1;33m\u001b[0m\u001b[0m\n\u001b[0m",
      "\u001b[1;31mAttributeError\u001b[0m: 'str' object has no attribute 'issupper'"
     ]
    }
   ],
   "source": [
    "\"\"\"\n",
    "isalnum()\n",
    "isalpha()\n",
    "islower()\n",
    "issupper()\n",
    "isdigit()\n",
    "istitle()\n",
    "isspace()\n",
    "isnumeric()\n",
    "\n",
    "\"\"\"\n",
    "\n",
    "print(\"Bishal2345\".isalnum())\n",
    "print(\"Bishal\".isalpha())\n",
    "print(\"bishal\".islower())\n",
    "print(\"Bishal2345\".issupper())"
   ]
  },
  {
   "cell_type": "code",
   "execution_count": 51,
   "id": "998314ed",
   "metadata": {},
   "outputs": [
    {
     "name": "stdout",
     "output_type": "stream",
     "text": [
      "False\n"
     ]
    }
   ],
   "source": [
    "print(\"l2345\".isdigit())"
   ]
  },
  {
   "cell_type": "code",
   "execution_count": 52,
   "id": "ec489710",
   "metadata": {},
   "outputs": [
    {
     "ename": "NameError",
     "evalue": "name 'l2345' is not defined",
     "output_type": "error",
     "traceback": [
      "\u001b[1;31m---------------------------------------------------------------------------\u001b[0m",
      "\u001b[1;31mNameError\u001b[0m                                 Traceback (most recent call last)",
      "\u001b[1;32mC:\\Users\\RAKESH~1\\AppData\\Local\\Temp/ipykernel_11640/249113121.py\u001b[0m in \u001b[0;36m<module>\u001b[1;34m\u001b[0m\n\u001b[1;32m----> 1\u001b[1;33m \u001b[0mprint\u001b[0m\u001b[1;33m(\u001b[0m\u001b[0ml2345\u001b[0m\u001b[1;33m.\u001b[0m\u001b[0misnumeric\u001b[0m\u001b[1;33m(\u001b[0m\u001b[1;33m)\u001b[0m\u001b[1;33m)\u001b[0m\u001b[1;33m\u001b[0m\u001b[1;33m\u001b[0m\u001b[0m\n\u001b[0m",
      "\u001b[1;31mNameError\u001b[0m: name 'l2345' is not defined"
     ]
    }
   ],
   "source": [
    "print(l2345.isnumeric())"
   ]
  },
  {
   "cell_type": "code",
   "execution_count": null,
   "id": "252b97f8",
   "metadata": {},
   "outputs": [],
   "source": []
  }
 ],
 "metadata": {
  "kernelspec": {
   "display_name": "Python 3 (ipykernel)",
   "language": "python",
   "name": "python3"
  },
  "language_info": {
   "codemirror_mode": {
    "name": "ipython",
    "version": 3
   },
   "file_extension": ".py",
   "mimetype": "text/x-python",
   "name": "python",
   "nbconvert_exporter": "python",
   "pygments_lexer": "ipython3",
   "version": "3.9.7"
  }
 },
 "nbformat": 4,
 "nbformat_minor": 5
}
