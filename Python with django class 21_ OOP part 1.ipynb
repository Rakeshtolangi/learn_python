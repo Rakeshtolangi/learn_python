{
 "cells": [
  {
   "cell_type": "markdown",
   "id": "fb2bfb88",
   "metadata": {},
   "source": [
    "# Object oriented programming"
   ]
  },
  {
   "cell_type": "code",
   "execution_count": 1,
   "id": "bd9f4be4",
   "metadata": {},
   "outputs": [
    {
     "data": {
      "text/plain": [
       "'\\nclass\\nobject\\nreference variable\\n\\n'"
      ]
     },
     "execution_count": 1,
     "metadata": {},
     "output_type": "execute_result"
    }
   ],
   "source": [
    " \"\"\"\n",
    " class\n",
    " object\n",
    " reference variable\n",
    " \n",
    " \"\"\""
   ]
  },
  {
   "cell_type": "code",
   "execution_count": 2,
   "id": "3ec83bb7",
   "metadata": {},
   "outputs": [],
   "source": [
    "# How to define a class\n",
    "\"\"\"\n",
    "class_name = capital letter\n",
    "function_name = small letter\n",
    "\"\"\"\n",
    "\n",
    "class class_name:\n",
    "    \"\"\"This is class made for demo purpose\"\"\"\n",
    "#     n no. of variables\n",
    "# n no. of methods\n",
    "#     function created inside class is method. method = class"
   ]
  },
  {
   "cell_type": "code",
   "execution_count": 3,
   "id": "1bd61d86",
   "metadata": {},
   "outputs": [
    {
     "name": "stdout",
     "output_type": "stream",
     "text": [
      "Help on class Student in module __main__:\n",
      "\n",
      "class Student(builtins.object)\n",
      " |  This is sutdent class\n",
      " |  \n",
      " |  Data descriptors defined here:\n",
      " |  \n",
      " |  __dict__\n",
      " |      dictionary for instance variables (if defined)\n",
      " |  \n",
      " |  __weakref__\n",
      " |      list of weak references to the object (if defined)\n",
      "\n"
     ]
    },
    {
     "data": {
      "text/plain": [
       "'\\ndirect execution of function gives __main__: \\n'"
      ]
     },
     "execution_count": 3,
     "metadata": {},
     "output_type": "execute_result"
    }
   ],
   "source": [
    "class Student:\n",
    "    \"\"\"This is sutdent class\"\"\"\n",
    "    \n",
    "help(Student)\n",
    "\n",
    "\"\"\"\n",
    "direct execution of function gives __main__: \n",
    "\"\"\""
   ]
  },
  {
   "cell_type": "code",
   "execution_count": 4,
   "id": "bd061c97",
   "metadata": {},
   "outputs": [
    {
     "name": "stdout",
     "output_type": "stream",
     "text": [
      "This is sutdent class\n"
     ]
    }
   ],
   "source": [
    "print(Student.__doc__)"
   ]
  },
  {
   "cell_type": "markdown",
   "id": "39d29f1c",
   "metadata": {},
   "source": [
    "# variables and methods types"
   ]
  },
  {
   "cell_type": "code",
   "execution_count": 5,
   "id": "ce6a927a",
   "metadata": {},
   "outputs": [
    {
     "data": {
      "text/plain": [
       "'\\n\\nvariables\\n\\n\\ninstance variable(object level variable)\\nstatic variable(class level variable)\\nlocal variable(methods level variable)\\n\\n\\n# methods\\ninstance method\\nclass method \\nstatic method\\n'"
      ]
     },
     "execution_count": 5,
     "metadata": {},
     "output_type": "execute_result"
    }
   ],
   "source": [
    "\"\"\"\n",
    "\n",
    "variables\n",
    "\n",
    "\n",
    "instance variable(object level variable)\n",
    "static variable(class level variable)\n",
    "local variable(methods level variable)\n",
    "\n",
    "\n",
    "# methods\n",
    "instance method\n",
    "class method \n",
    "static method\n",
    "\"\"\""
   ]
  },
  {
   "cell_type": "code",
   "execution_count": 12,
   "id": "6567f965",
   "metadata": {},
   "outputs": [
    {
     "name": "stdout",
     "output_type": "stream",
     "text": [
      "Hello my name is rakesh\n",
      "Hello my roll no is 23\n",
      "rakesh\n"
     ]
    }
   ],
   "source": [
    "class Student:\n",
    "    def __init__(self):\n",
    "        self.name = \"rakesh\"\n",
    "        self.roll=23\n",
    "    \n",
    "    def talk(self):\n",
    "        print(\"Hello my name is\", self.name)\n",
    "        print(\"Hello my roll no is\", self.roll)\n",
    "\n",
    "# class_name()\n",
    "s = Student()\n",
    "\n",
    "# class_name.reference_variable()\n",
    "# s.talk()\n",
    "\n",
    "# access name\n",
    "print(s.name)"
   ]
  },
  {
   "cell_type": "code",
   "execution_count": 8,
   "id": "cf90d993",
   "metadata": {},
   "outputs": [
    {
     "name": "stdout",
     "output_type": "stream",
     "text": [
      "3026236677664\n",
      "3026236677664\n",
      "hello ram\n",
      "and 23\n",
      "ram\n"
     ]
    }
   ],
   "source": [
    "class Student:\n",
    "    def __init__(self,name,roll):\n",
    "        print(id(self))\n",
    "        self.names=name\n",
    "        self.rolls=roll\n",
    "    \n",
    "    def talk(self):\n",
    "        print(\"hello\", self.names)\n",
    "        print(\"and\", self.rolls)\n",
    "\n",
    "        \n",
    "\n",
    "# print(s.roll)\n",
    "\n",
    "s=Student(\"ram\", 23) # tempory place_holder for argument\n",
    "print(id(s))\n",
    "s.talk()\n",
    "print(s.names)"
   ]
  },
  {
   "cell_type": "code",
   "execution_count": 6,
   "id": "9817e863",
   "metadata": {},
   "outputs": [
    {
     "name": "stdout",
     "output_type": "stream",
     "text": [
      "3026236674304\n"
     ]
    }
   ],
   "source": [
    "print(id(s))"
   ]
  },
  {
   "cell_type": "code",
   "execution_count": 4,
   "id": "1a85ba7e",
   "metadata": {},
   "outputs": [
    {
     "data": {
      "text/plain": [
       "' when __init__ is called\\n\\nit is called just before object is created.\\n'"
      ]
     },
     "execution_count": 4,
     "metadata": {},
     "output_type": "execute_result"
    }
   ],
   "source": [
    "\"\"\" when __init__ is called\n",
    "\n",
    "it is called just before object is created.\n",
    "\"\"\""
   ]
  },
  {
   "cell_type": "markdown",
   "id": "966fca5a",
   "metadata": {},
   "source": [
    "# self"
   ]
  },
  {
   "cell_type": "code",
   "execution_count": null,
   "id": "4bae4934",
   "metadata": {},
   "outputs": [],
   "source": [
    "\"\"\"\n",
    "\n",
    "self is used with any reference variable if variable needs to be called\n",
    "if any varable or model needs to be called inside the class then we used self.reference_variable\n",
    "\n",
    "\n",
    "if any reference variable is called outside the class then self is not used.\n",
    "\n",
    "self = s \n",
    "self is used to call reference variable inside the class \n",
    "s. is used to call reference variable outside the class\n",
    "\n",
    "python passes argument for self as id of self.\n",
    "\n",
    "self = kelf\n",
    "meaning self can be replaced by any variable   \n",
    "but it is not standard practice\n",
    "\"\"\""
   ]
  },
  {
   "cell_type": "code",
   "execution_count": 5,
   "id": "8d30298e",
   "metadata": {},
   "outputs": [
    {
     "ename": "TypeError",
     "evalue": "__init__() missing 2 required positional arguments: 'name' and 'roll'",
     "output_type": "error",
     "traceback": [
      "\u001b[1;31m---------------------------------------------------------------------------\u001b[0m",
      "\u001b[1;31mTypeError\u001b[0m                                 Traceback (most recent call last)",
      "\u001b[1;32mC:\\Users\\RAKESH~1\\AppData\\Local\\Temp/ipykernel_2168/245874933.py\u001b[0m in \u001b[0;36m<module>\u001b[1;34m\u001b[0m\n\u001b[0;32m      9\u001b[0m         \u001b[0mprint\u001b[0m\u001b[1;33m(\u001b[0m\u001b[1;34m\"and\"\u001b[0m\u001b[1;33m,\u001b[0m \u001b[0mself\u001b[0m\u001b[1;33m.\u001b[0m\u001b[0mrolls\u001b[0m\u001b[1;33m)\u001b[0m\u001b[1;33m\u001b[0m\u001b[1;33m\u001b[0m\u001b[0m\n\u001b[0;32m     10\u001b[0m \u001b[1;33m\u001b[0m\u001b[0m\n\u001b[1;32m---> 11\u001b[1;33m \u001b[0ms\u001b[0m \u001b[1;33m=\u001b[0m \u001b[0mStudent\u001b[0m\u001b[1;33m(\u001b[0m\u001b[1;33m)\u001b[0m\u001b[1;33m\u001b[0m\u001b[1;33m\u001b[0m\u001b[0m\n\u001b[0m\u001b[0;32m     12\u001b[0m \u001b[0ms\u001b[0m\u001b[1;33m.\u001b[0m\u001b[0mtalk\u001b[0m\u001b[1;33m(\u001b[0m\u001b[1;33m)\u001b[0m\u001b[1;33m\u001b[0m\u001b[1;33m\u001b[0m\u001b[0m\n\u001b[0;32m     13\u001b[0m \u001b[1;33m\u001b[0m\u001b[0m\n",
      "\u001b[1;31mTypeError\u001b[0m: __init__() missing 2 required positional arguments: 'name' and 'roll'"
     ]
    }
   ],
   "source": [
    "class Student:\n",
    "    def __init__(self,name,roll):\n",
    "        print(id(self))\n",
    "        self.names=name\n",
    "        self.rolls=roll\n",
    "    \n",
    "    def talk(self):\n",
    "        print(\"hello\", self.names)\n",
    "        print(\"and\", self.rolls)\n",
    "        \n",
    "s = Student()\n",
    "s.talk()\n",
    "\n",
    "print(\"second init will replace the first one becoz all are objects and being replaced by latest created object\")"
   ]
  },
  {
   "cell_type": "code",
   "execution_count": 2,
   "id": "cf36c022",
   "metadata": {},
   "outputs": [
    {
     "ename": "AttributeError",
     "evalue": "'Student' object has no attribute 'name'",
     "output_type": "error",
     "traceback": [
      "\u001b[1;31m---------------------------------------------------------------------------\u001b[0m",
      "\u001b[1;31mAttributeError\u001b[0m                            Traceback (most recent call last)",
      "\u001b[1;32mC:\\Users\\RAKESH~1\\AppData\\Local\\Temp/ipykernel_1836/4122868265.py\u001b[0m in \u001b[0;36m<module>\u001b[1;34m\u001b[0m\n\u001b[0;32m     13\u001b[0m \u001b[1;33m\u001b[0m\u001b[0m\n\u001b[0;32m     14\u001b[0m \u001b[0ms\u001b[0m \u001b[1;33m=\u001b[0m \u001b[0mStudent\u001b[0m\u001b[1;33m(\u001b[0m\u001b[1;33m)\u001b[0m\u001b[1;33m\u001b[0m\u001b[1;33m\u001b[0m\u001b[0m\n\u001b[1;32m---> 15\u001b[1;33m \u001b[0ms\u001b[0m\u001b[1;33m.\u001b[0m\u001b[0mtalk\u001b[0m\u001b[1;33m(\u001b[0m\u001b[1;33m)\u001b[0m\u001b[1;33m\u001b[0m\u001b[1;33m\u001b[0m\u001b[0m\n\u001b[0m",
      "\u001b[1;32mC:\\Users\\RAKESH~1\\AppData\\Local\\Temp/ipykernel_1836/4122868265.py\u001b[0m in \u001b[0;36mtalk\u001b[1;34m(self)\u001b[0m\n\u001b[0;32m      9\u001b[0m \u001b[1;33m\u001b[0m\u001b[0m\n\u001b[0;32m     10\u001b[0m     \u001b[1;32mdef\u001b[0m \u001b[0mtalk\u001b[0m\u001b[1;33m(\u001b[0m\u001b[0mself\u001b[0m\u001b[1;33m)\u001b[0m\u001b[1;33m:\u001b[0m\u001b[1;33m\u001b[0m\u001b[1;33m\u001b[0m\u001b[0m\n\u001b[1;32m---> 11\u001b[1;33m         \u001b[0mprint\u001b[0m\u001b[1;33m(\u001b[0m\u001b[1;34m\"hello\"\u001b[0m\u001b[1;33m,\u001b[0m \u001b[0mself\u001b[0m\u001b[1;33m.\u001b[0m\u001b[0mname\u001b[0m\u001b[1;33m)\u001b[0m\u001b[1;33m\u001b[0m\u001b[1;33m\u001b[0m\u001b[0m\n\u001b[0m\u001b[0;32m     12\u001b[0m         \u001b[0mprint\u001b[0m\u001b[1;33m(\u001b[0m\u001b[1;34m\"and\"\u001b[0m\u001b[1;33m,\u001b[0m \u001b[0mself\u001b[0m\u001b[1;33m.\u001b[0m\u001b[0mroll\u001b[0m\u001b[1;33m)\u001b[0m\u001b[1;33m\u001b[0m\u001b[1;33m\u001b[0m\u001b[0m\n\u001b[0;32m     13\u001b[0m \u001b[1;33m\u001b[0m\u001b[0m\n",
      "\u001b[1;31mAttributeError\u001b[0m: 'Student' object has no attribute 'name'"
     ]
    }
   ],
   "source": [
    "class Student:\n",
    "    def __init__(self,name,roll):\n",
    "        print(id(self))\n",
    "        self.names=name\n",
    "        self.rolls=roll\n",
    "        \n",
    "    def __init__(self):\n",
    "        pass\n",
    "    \n",
    "    def talk(self):\n",
    "        print(\"hello\", self.name)\n",
    "        print(\"and\", self.roll)\n",
    "        \n",
    "s = Student()\n",
    "s.talk()"
   ]
  },
  {
   "cell_type": "markdown",
   "id": "df793389",
   "metadata": {},
   "source": [
    "# Constructor\n",
    "\n",
    "constructor is itself a method\n",
    "\n",
    "if @=(decorator) is not used while creating class then compolsary parameter is (self)\n",
    "\n",
    "if you are creating object of class and want to call it automatically then put inside constructor.\n",
    "\n"
   ]
  },
  {
   "cell_type": "code",
   "execution_count": 4,
   "id": "17b851b5",
   "metadata": {},
   "outputs": [
    {
     "name": "stdout",
     "output_type": "stream",
     "text": [
      "This is constructor\n",
      "This is constructor\n",
      "This is constructor\n"
     ]
    }
   ],
   "source": [
    "# __init__  => dumdor variable/magic variable\n",
    "class Test:\n",
    "    def __init__(self):\n",
    "        print('This is constructor')\n",
    "        \n",
    "t=Test()    # created object or reference variable.\n",
    "Test() # no need to call by reference variable\n",
    "        # it is called by itself. because dundor/magic method call itself just before the declarion of variable.\n",
    "    \n",
    "t2 = Test() # for every object  constructor run one time."
   ]
  },
  {
   "cell_type": "code",
   "execution_count": 8,
   "id": "8c10fbe7",
   "metadata": {},
   "outputs": [
    {
     "name": "stdout",
     "output_type": "stream",
     "text": [
      "This is constructor\n",
      "This is constructor\n"
     ]
    }
   ],
   "source": [
    "\"\"\"\n",
    "declare instance variable = declare inside constructor\n",
    "\n",
    "\"\"\"\n",
    "class Test:\n",
    "    def __init__(self):\n",
    "        self.name = 'rakesh'    #this is instance variable declaraiton inside constructor.\n",
    "        print('This is constructor')\n",
    "        \n",
    "Test()\n",
    "t=Test()  # call itself no need to call using reference variable."
   ]
  },
  {
   "cell_type": "code",
   "execution_count": 11,
   "id": "a655bd64",
   "metadata": {},
   "outputs": [
    {
     "name": "stdout",
     "output_type": "stream",
     "text": [
      "This is method\n"
     ]
    }
   ],
   "source": [
    "# cases in coustructors\n",
    "\n",
    "# case 1 with out using constructor is it possible to call function. ans= yes by using reference variable.\n",
    "class Test:\n",
    "    def m(self):\n",
    "        print(\"This is method\")\n",
    "    \n",
    "t = Test()\n",
    "t.m()    # constructor is optional and if no constructor \n",
    "            # you need to call function using refernece variable\n",
    "    "
   ]
  },
  {
   "cell_type": "code",
   "execution_count": 13,
   "id": "82790b91",
   "metadata": {},
   "outputs": [
    {
     "name": "stdout",
     "output_type": "stream",
     "text": [
      "This is method\n",
      "This is method\n"
     ]
    }
   ],
   "source": [
    "# case 2   \n",
    "# just like calling normal method does calling constructor is possible.\n",
    "\n",
    "\n",
    "\n",
    "class Test:\n",
    "    def __init__(self):\n",
    "        print(\"This is method\")\n",
    "        \n",
    "t = Test()\n",
    "t.__init__()    # this become normal method calling "
   ]
  },
  {
   "cell_type": "markdown",
   "id": "34f81de9",
   "metadata": {},
   "source": [
    "# program using function using constructor"
   ]
  },
  {
   "cell_type": "code",
   "execution_count": 20,
   "id": "5953cc3a",
   "metadata": {},
   "outputs": [
    {
     "name": "stdout",
     "output_type": "stream",
     "text": [
      "Enter Movie title: november rain\n",
      "Enter hero name: aryan sekdel\n",
      "Enter heroine name: namrata shrestha\n",
      "movie added successfully\n",
      "Do you want to add another movie ?[yes/no]n\n",
      "Enter Movie title: peaky blinders\n",
      "Enter hero name: jimmar katter\n",
      "Enter heroine name: anjolina holy\n",
      "movie added successfully\n",
      "Do you want to add another movie ?[yes/no]no\n",
      "**************************************************\n",
      "All listed movies info\n",
      "Movie name november rain\n",
      "Hero name aryan sekdel\n",
      "Heroine name namrata shrestha\n",
      "\n",
      "Movie name peaky blinders\n",
      "Hero name jimmar katter\n",
      "Heroine name anjolina holy\n",
      "\n"
     ]
    }
   ],
   "source": [
    "class Movie:\n",
    "     # constructor created and self as default parameter unless @ used while creating constructor.\n",
    "    def __init__(self,title,hero,heroine):\n",
    "        self.title = title\n",
    "        self.hero = hero\n",
    "        self.heroine = heroine\n",
    "                 \n",
    "    def info(self):\n",
    "        print(\"Movie name\", self.title)\n",
    "        print(\"Hero name\", self.hero)\n",
    "        print(\"Heroine name\", self.heroine)\n",
    "\n",
    "                 \n",
    "\n",
    "                 \n",
    "# m=Movie(title,hero,heroine) # constructor is call just before the object created\n",
    "# m.info()                     # to call another function we use refernece variable to access the variable\n",
    "\n",
    "\n",
    "List_of_movies = []\n",
    "while True:\n",
    "    title = input(\"Enter Movie title: \")\n",
    "    hero = input(\"Enter hero name: \")\n",
    "    heroine = input(\"Enter heroine name: \")\n",
    "    \n",
    "    m=Movie(title,hero,heroine)\n",
    "    List_of_movies.append(m)\n",
    "    \n",
    "    print(\"movie added successfully\")\n",
    "    option = input(\"Do you want to add another movie ?[yes/no]\")\n",
    "    if option.lower() ==\"no\" or 'n':\n",
    "        break\n",
    "print('*'*50)\n",
    "print(\"All listed movies info\")\n",
    "\n",
    "for movie in List_of_movies:\n",
    "    movie.info()\n",
    "    print()"
   ]
  },
  {
   "cell_type": "markdown",
   "id": "a7b4eb0d",
   "metadata": {},
   "source": [
    "# method vs constructor"
   ]
  },
  {
   "cell_type": "code",
   "execution_count": null,
   "id": "6f1d20f5",
   "metadata": {},
   "outputs": [],
   "source": [
    "\"\"\"\n",
    "method:\n",
    "    any name\n",
    "    by use of reference variable can be called as many time you want\n",
    "    called by explictely (ie. using reference variable)\n",
    "    business logic are implimented\n",
    "    \n",
    "    \n",
    "constructor:\n",
    "    __init__ compolsory\n",
    "    call only one time for one object\n",
    "    call automatically \n",
    "    used for initialization/declarization work\n",
    "\n",
    "\"\"\""
   ]
  },
  {
   "cell_type": "code",
   "execution_count": 21,
   "id": "ca7b3b40",
   "metadata": {},
   "outputs": [
    {
     "name": "stdout",
     "output_type": "stream",
     "text": [
      "hello\n"
     ]
    }
   ],
   "source": [
    "class Test:\n",
    "    def Test(self):\n",
    "        print(\"hello\")\n",
    "t = Test()\n",
    "t.Test()    #calling method using object as t = object and Test as method/function"
   ]
  },
  {
   "cell_type": "code",
   "execution_count": null,
   "id": "adab69a1",
   "metadata": {},
   "outputs": [],
   "source": []
  }
 ],
 "metadata": {
  "kernelspec": {
   "display_name": "Python 3 (ipykernel)",
   "language": "python",
   "name": "python3"
  },
  "language_info": {
   "codemirror_mode": {
    "name": "ipython",
    "version": 3
   },
   "file_extension": ".py",
   "mimetype": "text/x-python",
   "name": "python",
   "nbconvert_exporter": "python",
   "pygments_lexer": "ipython3",
   "version": "3.9.7"
  }
 },
 "nbformat": 4,
 "nbformat_minor": 5
}
