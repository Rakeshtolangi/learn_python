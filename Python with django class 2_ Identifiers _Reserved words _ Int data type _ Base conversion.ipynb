{
 "cells": [
  {
   "cell_type": "code",
   "execution_count": null,
   "id": "9c1a5a48",
   "metadata": {},
   "outputs": [],
   "source": [
    "print(\"hello world\")"
   ]
  },
  {
   "cell_type": "code",
   "execution_count": 27,
   "id": "813887fa",
   "metadata": {},
   "outputs": [
    {
     "data": {
      "text/plain": [
       "' \\nGive an identity to an individual\\nVariable, function, class, modules (names of all)\\n\\n\\na = 10\\ndef hello()\\n\\nclass Hello:\\n\\n\\nrules to define an identifiers\\nA-Z, a-z, _,0-9\\n\\n- idenfitires should not start with digits\\n    hello123 = 100\\n    123hello = 100    # not valid\\n    \\n- identifires are case-sensitive\\n    apple = 10\\n    APPLE = 20\\n    Apple = 30\\n    ApplE = 40\\n    All variables are different form each other\\n\\n- my_name_is_rakesh_ = 500\\n- you cannot use reserved worlds or keywords for defining identifiers\\n\\n_a = 50      protected  \\n__a = 50   private\\n__a__ = 50   duntor\\n\\nused in oop\\n__name__\\n__init__\\n\\n\\n'"
      ]
     },
     "execution_count": 27,
     "metadata": {},
     "output_type": "execute_result"
    }
   ],
   "source": [
    "### identifires\n",
    "\"\"\" \n",
    "Give an identity to an individual\n",
    "Variable, function, class, modules (names of all)\n",
    "\n",
    "\n",
    "a = 10\n",
    "def hello()\n",
    "\n",
    "class Hello:\n",
    "\n",
    "\n",
    "rules to define an identifiers\n",
    "A-Z, a-z, _,0-9\n",
    "\n",
    "- idenfitires should not start with digits\n",
    "    hello123 = 100\n",
    "    123hello = 100    # not valid\n",
    "    \n",
    "- identifires are case-sensitive\n",
    "    apple = 10\n",
    "    APPLE = 20\n",
    "    Apple = 30\n",
    "    ApplE = 40\n",
    "    All variables are different form each other\n",
    "\n",
    "- my_name_is_rakesh_ = 500\n",
    "- you cannot use reserved worlds or keywords for defining identifiers\n",
    "\n",
    "_a = 50      protected  \n",
    "__a = 50   private\n",
    "__a__ = 50   duntor\n",
    "\n",
    "used in oop\n",
    "__name__\n",
    "__init__\n",
    "\n",
    "\n",
    "\"\"\"\n"
   ]
  },
  {
   "cell_type": "code",
   "execution_count": 2,
   "id": "6a857a17",
   "metadata": {},
   "outputs": [
    {
     "ename": "SyntaxError",
     "evalue": "invalid syntax (Temp/ipykernel_8760/1566016297.py, line 13)",
     "output_type": "error",
     "traceback": [
      "\u001b[1;36m  File \u001b[1;32m\"C:\\Users\\RAKESH~1\\AppData\\Local\\Temp/ipykernel_8760/1566016297.py\"\u001b[1;36m, line \u001b[1;32m13\u001b[0m\n\u001b[1;33m    import (keyword.kwlist)\u001b[0m\n\u001b[1;37m           ^\u001b[0m\n\u001b[1;31mSyntaxError\u001b[0m\u001b[1;31m:\u001b[0m invalid syntax\n"
     ]
    }
   ],
   "source": [
    "\"\"\"\n",
    "reserved words or keywords\n",
    "33\n",
    "True,False,None\n",
    "and or not is\n",
    "if elif else\n",
    "while for break continue rueturn in yield\n",
    "try except finally raise asseert\n",
    "import from as class def pass global nonlocal del with\n",
    "\n",
    "\"\"\"\n",
    "\n"
   ]
  },
  {
   "cell_type": "code",
   "execution_count": 3,
   "id": "2401f257",
   "metadata": {},
   "outputs": [
    {
     "ename": "SyntaxError",
     "evalue": "invalid syntax (Temp/ipykernel_8760/2345589077.py, line 1)",
     "output_type": "error",
     "traceback": [
      "\u001b[1;36m  File \u001b[1;32m\"C:\\Users\\RAKESH~1\\AppData\\Local\\Temp/ipykernel_8760/2345589077.py\"\u001b[1;36m, line \u001b[1;32m1\u001b[0m\n\u001b[1;33m    import (keyword.kwlist)\u001b[0m\n\u001b[1;37m           ^\u001b[0m\n\u001b[1;31mSyntaxError\u001b[0m\u001b[1;31m:\u001b[0m invalid syntax\n"
     ]
    }
   ],
   "source": [
    "import (keyword.kwlist)"
   ]
  },
  {
   "cell_type": "code",
   "execution_count": 4,
   "id": "d846c551",
   "metadata": {},
   "outputs": [
    {
     "data": {
      "text/plain": [
       "'\\nvariable\\n\\neverything in python is object\\n    if object exist there is class\\n\\n \\n'"
      ]
     },
     "execution_count": 4,
     "metadata": {},
     "output_type": "execute_result"
    }
   ],
   "source": [
    "\"\"\"\n",
    "variable\n",
    "\n",
    "everything in python is object\n",
    "    if object exist there is class\n",
    "\n",
    " \n",
    "\"\"\""
   ]
  },
  {
   "cell_type": "code",
   "execution_count": 6,
   "id": "77150baf",
   "metadata": {},
   "outputs": [
    {
     "name": "stdout",
     "output_type": "stream",
     "text": [
      "<class 'float'>\n",
      "2735774817936\n"
     ]
    }
   ],
   "source": [
    "a = 10.5 \n",
    "print(type(a))\n"
   ]
  },
  {
   "cell_type": "code",
   "execution_count": 7,
   "id": "50900ed1",
   "metadata": {},
   "outputs": [
    {
     "name": "stdout",
     "output_type": "stream",
     "text": [
      "2735662197328\n"
     ]
    }
   ],
   "source": [
    "a = 10\n",
    "print(id(a))"
   ]
  },
  {
   "cell_type": "code",
   "execution_count": null,
   "id": "1999cb54",
   "metadata": {},
   "outputs": [],
   "source": [
    "\"\"\"\n",
    "data types\n",
    "\n",
    "types of data types (14)\n",
    "\n",
    "-fundamental data types\n",
    "int\n",
    "float\n",
    "complex\n",
    "bool\n",
    "str\n",
    "\n",
    "\n",
    "\n",
    "bytes\n",
    "bytearray\n",
    "range\n",
    "tuple\n",
    "set\n",
    "frozenset\n",
    "dict\n",
    "None\n",
    "\"\"\""
   ]
  },
  {
   "cell_type": "code",
   "execution_count": null,
   "id": "b8fca449",
   "metadata": {},
   "outputs": [],
   "source": [
    "\"\"\"\n",
    "a = 10 \n",
    "a = 20\n",
    "\n",
    "How many object is there/ is it same?\n",
    "    There is one object becoz a = 10 is now reference variable of a = 20 \n",
    "    so a = 20 doesnot has any reference to any variable hence has no existance\n",
    "    in program.\n",
    "    a = 20 is now new and only one object.\n",
    "\n",
    "\n",
    "a = 10 \n",
    "b = 20\n",
    "\n",
    "How many object is there ?\n",
    "    There are two reference a and b but only one object.\n",
    "    a and b refers to same value so there is only one object but there are two references\n",
    "    \n",
    "\"\"\""
   ]
  },
  {
   "cell_type": "code",
   "execution_count": 9,
   "id": "9acbeb65",
   "metadata": {},
   "outputs": [
    {
     "name": "stdout",
     "output_type": "stream",
     "text": [
      "<class 'int'>\n",
      "42\n"
     ]
    },
    {
     "data": {
      "text/plain": [
       "'\\n\\n'"
      ]
     },
     "execution_count": 9,
     "metadata": {},
     "output_type": "execute_result"
    }
   ],
   "source": [
    "\"\"\"\n",
    "data types\n",
    "\n",
    "int\n",
    "\n",
    "a = 10\n",
    "print(type(a))\n",
    "\n",
    "\n",
    "\n",
    "int can be expressin following forms\n",
    "\n",
    "decimal form (base-10)\n",
    "binary form (base-2)\n",
    "octal form (base-8)\n",
    "hex(base-16)\n",
    "\n",
    "\n",
    "binary \n",
    "allowed digits 0-1\n",
    "\"\"\"\n",
    "print(type(11011))\n",
    "\n",
    "a = 0B101010\n",
    "print(a)\n"
   ]
  },
  {
   "cell_type": "code",
   "execution_count": 10,
   "id": "01c33134",
   "metadata": {},
   "outputs": [
    {
     "name": "stdout",
     "output_type": "stream",
     "text": [
      "4957483074056\n"
     ]
    }
   ],
   "source": [
    "# octal\n",
    " \n",
    "#  allowed character 0 - 7\n",
    " \n",
    "a = 0o110110101101010\n",
    "print(a)"
   ]
  },
  {
   "cell_type": "code",
   "execution_count": 12,
   "id": "e898759a",
   "metadata": {},
   "outputs": [
    {
     "name": "stdout",
     "output_type": "stream",
     "text": [
      "64206\n"
     ]
    }
   ],
   "source": [
    "# hex(base-16)\n",
    "#  allowed character => 0-9 and a-f\n",
    "#  0x 0X\n",
    "\n",
    "print(0xFACE)"
   ]
  },
  {
   "cell_type": "code",
   "execution_count": 13,
   "id": "1038656d",
   "metadata": {},
   "outputs": [
    {
     "name": "stdout",
     "output_type": "stream",
     "text": [
      "0b1111\n"
     ]
    }
   ],
   "source": [
    "# BASE conversion functions\n",
    "\n",
    "print(bin(15))"
   ]
  },
  {
   "cell_type": "code",
   "execution_count": 14,
   "id": "4a871466",
   "metadata": {},
   "outputs": [
    {
     "name": "stdout",
     "output_type": "stream",
     "text": [
      "0b1001\n"
     ]
    }
   ],
   "source": [
    "print(bin(0o11))"
   ]
  },
  {
   "cell_type": "code",
   "execution_count": 26,
   "id": "366cc280",
   "metadata": {},
   "outputs": [
    {
     "name": "stdout",
     "output_type": "stream",
     "text": [
      "257\n",
      "257\n"
     ]
    }
   ],
   "source": [
    "# binary into decimal\n",
    "print(0x101)"
   ]
  },
  {
   "cell_type": "code",
   "execution_count": 16,
   "id": "3b46cc47",
   "metadata": {},
   "outputs": [
    {
     "name": "stdout",
     "output_type": "stream",
     "text": [
      "0o17\n"
     ]
    }
   ],
   "source": [
    "# decimal into octal\n",
    "print(oct(15))"
   ]
  },
  {
   "cell_type": "code",
   "execution_count": 23,
   "id": "3b16cd13",
   "metadata": {},
   "outputs": [
    {
     "name": "stdout",
     "output_type": "stream",
     "text": [
      "0o33\n"
     ]
    }
   ],
   "source": [
    "# binary into octal\n",
    "print(oct(0b11011))"
   ]
  },
  {
   "cell_type": "code",
   "execution_count": 19,
   "id": "985f1892",
   "metadata": {},
   "outputs": [
    {
     "name": "stdout",
     "output_type": "stream",
     "text": [
      "0o175316\n"
     ]
    }
   ],
   "source": [
    "# Hex into octal\n",
    "print(oct(0xFACE))"
   ]
  },
  {
   "cell_type": "code",
   "execution_count": 20,
   "id": "c428923f",
   "metadata": {},
   "outputs": [
    {
     "name": "stdout",
     "output_type": "stream",
     "text": [
      "0xf\n"
     ]
    }
   ],
   "source": [
    "# binary into hex \n",
    "print(hex(15))"
   ]
  },
  {
   "cell_type": "code",
   "execution_count": 21,
   "id": "89fba8cd",
   "metadata": {},
   "outputs": [
    {
     "name": "stdout",
     "output_type": "stream",
     "text": [
      "0x250\n"
     ]
    }
   ],
   "source": [
    "# hex into octal\n",
    "print(hex(0o1120))"
   ]
  },
  {
   "cell_type": "code",
   "execution_count": 22,
   "id": "58983f69",
   "metadata": {},
   "outputs": [
    {
     "name": "stdout",
     "output_type": "stream",
     "text": [
      "0x1e\n"
     ]
    }
   ],
   "source": [
    "# hex into binary\n",
    "print(hex(0b11110))"
   ]
  },
  {
   "cell_type": "code",
   "execution_count": null,
   "id": "cd929819",
   "metadata": {},
   "outputs": [],
   "source": []
  }
 ],
 "metadata": {
  "kernelspec": {
   "display_name": "Python 3 (ipykernel)",
   "language": "python",
   "name": "python3"
  },
  "language_info": {
   "codemirror_mode": {
    "name": "ipython",
    "version": 3
   },
   "file_extension": ".py",
   "mimetype": "text/x-python",
   "name": "python",
   "nbconvert_exporter": "python",
   "pygments_lexer": "ipython3",
   "version": "3.9.7"
  }
 },
 "nbformat": 4,
 "nbformat_minor": 5
}
