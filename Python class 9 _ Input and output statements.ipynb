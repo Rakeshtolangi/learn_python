{
 "cells": [
  {
   "cell_type": "markdown",
   "id": "a7bfb277",
   "metadata": {},
   "source": [
    "# QRCode generator of any link"
   ]
  },
  {
   "cell_type": "code",
   "execution_count": 8,
   "id": "5acf66b1",
   "metadata": {},
   "outputs": [
    {
     "name": "stdout",
     "output_type": "stream",
     "text": [
      "Requirement already satisfied: pyqrcode in c:\\programdata\\anaconda3\\lib\\site-packages (1.2.1)\n"
     ]
    }
   ],
   "source": [
    "!pip install pyqrcode"
   ]
  },
  {
   "cell_type": "code",
   "execution_count": 12,
   "id": "7a474548",
   "metadata": {},
   "outputs": [
    {
     "name": "stdout",
     "output_type": "stream",
     "text": [
      "Requirement already satisfied: pypng in c:\\programdata\\anaconda3\\lib\\site-packages (0.0.21)\n",
      "Note: you may need to restart the kernel to use updated packages.\n"
     ]
    }
   ],
   "source": [
    "pip install pypng"
   ]
  },
  {
   "cell_type": "code",
   "execution_count": 15,
   "id": "f00d7751",
   "metadata": {},
   "outputs": [
    {
     "name": "stdout",
     "output_type": "stream",
     "text": [
      "Collecting qrcode[pil]\n",
      "  Downloading qrcode-7.3.1.tar.gz (43 kB)\n",
      "Requirement already satisfied: colorama in c:\\programdata\\anaconda3\\lib\\site-packages (from qrcode[pil]) (0.4.4)\n",
      "Requirement already satisfied: pillow in c:\\users\\rakesh tolangi\\appdata\\roaming\\python\\python39\\site-packages (from qrcode[pil]) (8.2.0)\n",
      "Building wheels for collected packages: qrcode\n",
      "  Building wheel for qrcode (setup.py): started\n",
      "  Building wheel for qrcode (setup.py): finished with status 'done'\n",
      "  Created wheel for qrcode: filename=qrcode-7.3.1-py3-none-any.whl size=40401 sha256=a6fbc5b0befe1712f94d2ec2d44bcc4b999455427323ef98fa8ff8a59dde386d\n",
      "  Stored in directory: c:\\users\\rakesh tolangi\\appdata\\local\\pip\\cache\\wheels\\93\\54\\16\\55cec87f8d902ed84b94ab8fdb7e89ae1158c06e130bc83b03\n",
      "Successfully built qrcode\n",
      "Installing collected packages: qrcode\n",
      "Successfully installed qrcode-7.3.1\n"
     ]
    }
   ],
   "source": [
    "!pip install qrcode[pil]"
   ]
  },
  {
   "cell_type": "code",
   "execution_count": 19,
   "id": "f5a6eaf0",
   "metadata": {},
   "outputs": [],
   "source": [
    "# Import QRCode from pyqrcode\n",
    "import pyqrcode\n",
    "import png\n",
    "from pyqrcode import QRCode\n",
    "\n",
    "\n",
    "# String which represents the QR code\n",
    "s = \"https://www.linkedin.com/in/rakesh-tolangi/\"\n",
    "\n",
    "# Generate QR code\n",
    "url = pyqrcode.create(s)\n",
    "\n",
    "# Create and save the svg file naming \"myqr.svg\"\n",
    "url.svg(\"linkedin.svg\", scale = 8)\n",
    "\n",
    "# Create and save the png file naming \"myqr.png\"\n",
    "url.png('linkedin.png', scale = 6)\n"
   ]
  },
  {
   "cell_type": "markdown",
   "id": "ae41bdc4",
   "metadata": {},
   "source": [
    "# Input and output in python"
   ]
  },
  {
   "cell_type": "code",
   "execution_count": 1,
   "id": "cfc965bc",
   "metadata": {},
   "outputs": [
    {
     "name": "stdout",
     "output_type": "stream",
     "text": [
      "Enter first number: 33\n",
      "Enter second number: 22\n",
      "55\n"
     ]
    }
   ],
   "source": [
    "i = int(input(\"Enter first number: \"))\n",
    "j = int(input(\"Enter second number: \"))\n",
    "print(i + j)"
   ]
  },
  {
   "cell_type": "code",
   "execution_count": 4,
   "id": "10d94652",
   "metadata": {},
   "outputs": [
    {
     "name": "stdout",
     "output_type": "stream",
     "text": [
      "Enter Employee number: 44\n",
      "Enter Employee name: rakesh\n",
      "Enter Employee salary: 50000\n",
      "Enter Employee address: skt\n",
      "Enter Employee married[True/False]: False\n",
      "Please confirm your data: \n",
      "Employee Number:  44\n",
      "Employee name:  rakesh\n",
      "Employee salary:  50000\n",
      "Employee address:  skt\n",
      "Employee married:  False\n"
     ]
    }
   ],
   "source": [
    "eno = int(input(\"Enter Employee number: \"))\n",
    "ename = input(\"Enter Employee name: \")\n",
    "esal = int(input(\"Enter Employee salary: \"))\n",
    "eaddress =input(\"Enter Employee address: \")\n",
    "# emarried = bool(input(\"Enter Employee married[yes/no]: \"))\n",
    "emarried = eval(input(\"Enter Employee married[True/False]: \"))\n",
    "\n",
    "print(\"Please confirm your data: \")\n",
    "print(\"Employee Number: \", eno)\n",
    "\n",
    "print(\"Employee name: \", ename)\n",
    "\n",
    "print(\"Employee salary: \", esal)\n",
    "\n",
    "print(\"Employee address: \", eaddress)\n",
    "\n",
    "print(\"Employee married: \", emarried)"
   ]
  },
  {
   "cell_type": "code",
   "execution_count": 7,
   "id": "077611c2",
   "metadata": {},
   "outputs": [
    {
     "name": "stdout",
     "output_type": "stream",
     "text": [
      "Enter two numbers: 30 30\n",
      "The sum is :  60\n"
     ]
    }
   ],
   "source": [
    "\"\"\"\n",
    "list comprehension\n",
    "\n",
    "\n",
    "list unpacking\n",
    "    storing value in individual variable is call list unpacking\n",
    "\"\"\"\n"
   ]
  },
  {
   "cell_type": "code",
   "execution_count": 21,
   "id": "4fb87ab6",
   "metadata": {},
   "outputs": [
    {
     "name": "stdout",
     "output_type": "stream",
     "text": [
      "Enter two numbers: 4 6\n",
      "The sum is :  10\n"
     ]
    }
   ],
   "source": [
    "a,b = [int(x) for x in input(\"Enter two numbers: \").split()]\n",
    "print(\"The sum is : \", a+b)"
   ]
  },
  {
   "cell_type": "code",
   "execution_count": 25,
   "id": "987bd498",
   "metadata": {},
   "outputs": [
    {
     "name": "stdout",
     "output_type": "stream",
     "text": [
      "Enter any number: 5\n",
      "Enter any number: \"sunil\"\n",
      "<class 'int'>\n",
      "<class 'str'>\n"
     ]
    }
   ],
   "source": [
    "a = int(input(\"Enter any number: \"))\n",
    "x = eval(input(\"Enter any number: \"))  # input should be \" \" if string\n",
    "\n",
    "print(type(a))\n",
    "print(type(x))"
   ]
  },
  {
   "cell_type": "code",
   "execution_count": 27,
   "id": "ac1a85c1",
   "metadata": {},
   "outputs": [
    {
     "name": "stdout",
     "output_type": "stream",
     "text": [
      "400.0\n"
     ]
    }
   ],
   "source": [
    "x=eval('20+50+80+100*20/8')\n",
    "print(x)\n",
    "\n",
    "# eval is alternative of type casting"
   ]
  },
  {
   "cell_type": "markdown",
   "id": "0ba0994d",
   "metadata": {},
   "source": [
    "## command line argument"
   ]
  },
  {
   "cell_type": "code",
   "execution_count": 32,
   "id": "8f633d1e",
   "metadata": {},
   "outputs": [
    {
     "name": "stdout",
     "output_type": "stream",
     "text": [
      "<class 'list'>\n"
     ]
    }
   ],
   "source": [
    "\"\"\"\n",
    "to access command line we have to import sys model \n",
    "argv = command line argument (function)/member\n",
    "it is itself a list\n",
    "\n",
    "\"\"\"\n",
    "import sys\n",
    "from sys import argv\n",
    "print(type(argv))"
   ]
  },
  {
   "cell_type": "code",
   "execution_count": 37,
   "id": "dd76ab76",
   "metadata": {},
   "outputs": [],
   "source": [
    "# import sys\n",
    "# from sys import argv\n",
    "\n",
    "# f1=open(argv[1])    # 1st index is always the file address\n",
    "# f2=open(argv[2])\n",
    "# f3=open(argv[3])\n",
    "# for x in f1:\n",
    "#     f3.write(x)\n",
    "# for x in f2:\n",
    "#     f3.write(x)\n",
    "    \n"
   ]
  },
  {
   "cell_type": "code",
   "execution_count": 34,
   "id": "3a74afeb",
   "metadata": {},
   "outputs": [
    {
     "name": "stdout",
     "output_type": "stream",
     "text": [
      "['C:\\\\ProgramData\\\\Anaconda3\\\\lib\\\\site-packages\\\\ipykernel_launcher.py', '-f', 'C:\\\\Users\\\\Rakesh tolangi\\\\AppData\\\\Roaming\\\\jupyter\\\\runtime\\\\kernel-6ba8cdf9-4825-417f-acc7-2af7c7b09260.json']\n"
     ]
    }
   ],
   "source": [
    "\"\"\"\n",
    "argv is itself a list\n",
    "1st item in list is name of module\n",
    "eg:\n",
    "    [class9.py, 20,30,40]\n",
    "\"\"\"\n"
   ]
  },
  {
   "cell_type": "code",
   "execution_count": 39,
   "id": "ed209699",
   "metadata": {},
   "outputs": [
    {
     "name": "stdout",
     "output_type": "stream",
     "text": [
      "-f\n"
     ]
    }
   ],
   "source": [
    "from sys import argv\n",
    "print(argv[1])"
   ]
  },
  {
   "cell_type": "code",
   "execution_count": 41,
   "id": "44870e50",
   "metadata": {},
   "outputs": [
    {
     "name": "stdout",
     "output_type": "stream",
     "text": [
      "The number of command line arguments 3\n",
      "The number of command line arguments ['C:\\\\ProgramData\\\\Anaconda3\\\\lib\\\\site-packages\\\\ipykernel_launcher.py', '-f', 'C:\\\\Users\\\\Rakesh tolangi\\\\AppData\\\\Roaming\\\\jupyter\\\\runtime\\\\kernel-6ba8cdf9-4825-417f-acc7-2af7c7b09260.json']\n",
      "The numbero of command line argumets one by one \n",
      "C:\\ProgramData\\Anaconda3\\lib\\site-packages\\ipykernel_launcher.py\n",
      "-f\n",
      "C:\\Users\\Rakesh tolangi\\AppData\\Roaming\\jupyter\\runtime\\kernel-6ba8cdf9-4825-417f-acc7-2af7c7b09260.json\n"
     ]
    }
   ],
   "source": [
    "from sys import argv\n",
    "print(\"The number of command line arguments\", len(argv))\n",
    "print(\"The number of command line arguments\",argv)\n",
    "print(\"The numbero of command line argumets one by one \")\n",
    "for x in argv:\n",
    "    print(x)"
   ]
  },
  {
   "cell_type": "markdown",
   "id": "6feb500c",
   "metadata": {},
   "source": [
    "# print()\n"
   ]
  },
  {
   "cell_type": "code",
   "execution_count": 45,
   "id": "65da8c69",
   "metadata": {},
   "outputs": [
    {
     "name": "stdout",
     "output_type": "stream",
     "text": [
      "ram\n",
      "\n",
      "engineer\n"
     ]
    }
   ],
   "source": [
    "print(\"ram\") \n",
    "print(\"\")        # print new line character\n",
    "print(\"engineer\")"
   ]
  },
  {
   "cell_type": "code",
   "execution_count": 47,
   "id": "bb04f027",
   "metadata": {},
   "outputs": [
    {
     "name": "stdout",
     "output_type": "stream",
     "text": [
      "mani\n",
      "sh\n"
     ]
    }
   ],
   "source": [
    "# form 2:\n",
    "\n",
    "print(\"mani\\nsh\") # scape character inside print statement"
   ]
  },
  {
   "cell_type": "code",
   "execution_count": 48,
   "id": "8164bbd7",
   "metadata": {},
   "outputs": [
    {
     "name": "stdout",
     "output_type": "stream",
     "text": [
      "hellomanish\n"
     ]
    }
   ],
   "source": [
    "print(\"hello\"+\"manish\")"
   ]
  },
  {
   "cell_type": "code",
   "execution_count": 50,
   "id": "d0014b06",
   "metadata": {},
   "outputs": [
    {
     "name": "stdout",
     "output_type": "stream",
     "text": [
      "hello hello hello \n"
     ]
    }
   ],
   "source": [
    "print(\"hello \"*3)"
   ]
  },
  {
   "cell_type": "code",
   "execution_count": 52,
   "id": "ab10f60b",
   "metadata": {},
   "outputs": [
    {
     "name": "stdout",
     "output_type": "stream",
     "text": [
      "10 20 30\n"
     ]
    }
   ],
   "source": [
    "# form 3: multiple variable\n",
    "a = 10\n",
    "b= 20\n",
    "c=30\n",
    "print(a,b,c)    # by default python add space in beteween"
   ]
  },
  {
   "cell_type": "code",
   "execution_count": 57,
   "id": "2fbb36b2",
   "metadata": {},
   "outputs": [
    {
     "name": "stdout",
     "output_type": "stream",
     "text": [
      "The values are:10:20:30\n"
     ]
    }
   ],
   "source": [
    "a = 10\n",
    "b= 20\n",
    "c=30\n",
    "print(\"The values are\",a,b,c,sep=\":\")  # end=\"\" or sep=\":\"\n",
    "#  sep=\": \" uses: multiple values within same print statement"
   ]
  },
  {
   "cell_type": "code",
   "execution_count": 60,
   "id": "ffaee5b8",
   "metadata": {},
   "outputs": [
    {
     "name": "stdout",
     "output_type": "stream",
     "text": [
      "10,20,30\n"
     ]
    }
   ],
   "source": [
    "a = 10\n",
    "b= 20\n",
    "c=30\n",
    "print(a,end=\",\") \n",
    "print(b,end=\",\")\n",
    "print(c)\n",
    "# end=\" \" uses: multiple print statement with in same line"
   ]
  },
  {
   "cell_type": "code",
   "execution_count": 61,
   "id": "1b875395",
   "metadata": {},
   "outputs": [
    {
     "name": "stdout",
     "output_type": "stream",
     "text": [
      "10:20:30***40::50::60\n"
     ]
    }
   ],
   "source": [
    "print(10,20,30,sep=\":\",end=\"***\")\n",
    "print(40,50,60,sep=\"::\")"
   ]
  },
  {
   "cell_type": "code",
   "execution_count": 62,
   "id": "7f48e2d0",
   "metadata": {},
   "outputs": [
    {
     "name": "stdout",
     "output_type": "stream",
     "text": [
      "rakeshTolangi\n",
      "rakesh tolangi\n"
     ]
    }
   ],
   "source": [
    "print(\"rakesh\"+\"Tolangi\")\n",
    "print(\"rakesh\",\"tolangi\")"
   ]
  },
  {
   "cell_type": "code",
   "execution_count": 63,
   "id": "8997d6e6",
   "metadata": {},
   "outputs": [
    {
     "name": "stdout",
     "output_type": "stream",
     "text": [
      "[10, 20, 30, 40, 50]\n"
     ]
    }
   ],
   "source": [
    "# form 4: print Object\n",
    "l = [10,20,30,40,50]\n",
    "print(l)"
   ]
  },
  {
   "cell_type": "code",
   "execution_count": 68,
   "id": "160589e5",
   "metadata": {},
   "outputs": [
    {
     "name": "stdout",
     "output_type": "stream",
     "text": [
      "a value is 10\n",
      "a value is 10.000000\n"
     ]
    }
   ],
   "source": [
    "# form 5: print with formatted string\n",
    "# %i => integer number / signed decimal value\n",
    "#  %d, %f , %s\n",
    " \n",
    "a = 10\n",
    "print(\"a value is %i\" %a)\n",
    "print(\"a value is %f\" %a)"
   ]
  },
  {
   "cell_type": "code",
   "execution_count": 71,
   "id": "751d37e5",
   "metadata": {},
   "outputs": [
    {
     "name": "stdout",
     "output_type": "stream",
     "text": [
      "a=10, b=20,c=30\n"
     ]
    }
   ],
   "source": [
    "a = 10\n",
    "b = 20\n",
    "c = 30 \n",
    "print(\"a=%d, b=%d,c=%d\" %(a,b,c))"
   ]
  },
  {
   "cell_type": "code",
   "execution_count": 74,
   "id": "e4a24a3c",
   "metadata": {},
   "outputs": [
    {
     "name": "stdout",
     "output_type": "stream",
     "text": [
      "value is 10.235479\n",
      "value is 10.24\n"
     ]
    }
   ],
   "source": [
    "a = 10.235478945\n",
    "print(\"value is %f\"%a)\n",
    "print(\"value is %.2f\"%a)"
   ]
  },
  {
   "cell_type": "code",
   "execution_count": 84,
   "id": "f43504d4",
   "metadata": {},
   "outputs": [
    {
     "name": "stdout",
     "output_type": "stream",
     "text": [
      "Hello rakesh, your age is 25 and your gf is katie_leung\n",
      "Hello rakesh, your age is 25 and your gf is katie_leung\n"
     ]
    }
   ],
   "source": [
    "# form 6: print with replacement operator {}\n",
    "name = 'rakesh'\n",
    "age = 25\n",
    "gf = \"katie_leung\"\n",
    "\n",
    "print(f\"Hello {name}, your age is {age} and your gf is {gf}\".format(name,age,gf))\n",
    "print(\"Hello {0}, your age is {1} and your gf is {2}\".format(name,age,gf))"
   ]
  },
  {
   "cell_type": "code",
   "execution_count": null,
   "id": "defede91",
   "metadata": {},
   "outputs": [],
   "source": []
  }
 ],
 "metadata": {
  "kernelspec": {
   "display_name": "Python 3 (ipykernel)",
   "language": "python",
   "name": "python3"
  },
  "language_info": {
   "codemirror_mode": {
    "name": "ipython",
    "version": 3
   },
   "file_extension": ".py",
   "mimetype": "text/x-python",
   "name": "python",
   "nbconvert_exporter": "python",
   "pygments_lexer": "ipython3",
   "version": "3.9.7"
  }
 },
 "nbformat": 4,
 "nbformat_minor": 5
}
