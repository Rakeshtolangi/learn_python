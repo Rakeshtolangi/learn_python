{
 "cells": [
  {
   "cell_type": "code",
   "execution_count": 1,
   "id": "db402cab",
   "metadata": {},
   "outputs": [
    {
     "data": {
      "text/plain": [
       "'RakeshTolangi'"
      ]
     },
     "execution_count": 1,
     "metadata": {},
     "output_type": "execute_result"
    }
   ],
   "source": [
    "# Mathematical operators in string\n",
    "\"\"\"\n",
    "+   concatination operator\n",
    "\n",
    "*   multiplication or repeter\n",
    "\"\"\"\n",
    "\n",
    "a = \"Rakesh\"\n",
    "b = \"Tolangi\"\n",
    "c = a + b\n",
    "c"
   ]
  },
  {
   "cell_type": "code",
   "execution_count": 2,
   "id": "b6730434",
   "metadata": {},
   "outputs": [
    {
     "name": "stdout",
     "output_type": "stream",
     "text": [
      "Rakesh10\n"
     ]
    }
   ],
   "source": [
    "\n",
    "a = \"Rakesh\"\n",
    "b = \"10\"\n",
    "print(a + b)"
   ]
  },
  {
   "cell_type": "code",
   "execution_count": 8,
   "id": "d31b5ee6",
   "metadata": {},
   "outputs": [
    {
     "name": "stdout",
     "output_type": "stream",
     "text": [
      "rakeshrakeshrakeshrakeshrakeshrakeshrakeshrakeshrakeshrakesh\n",
      "\n",
      "\n",
      "ramramramramramramramramramram\n"
     ]
    }
   ],
   "source": [
    "\n",
    "print('rakesh' * 10)\n",
    "print(\"\\n\")\n",
    "print(10*\"ram\")"
   ]
  },
  {
   "cell_type": "code",
   "execution_count": 11,
   "id": "a4d36a7a",
   "metadata": {},
   "outputs": [
    {
     "name": "stdout",
     "output_type": "stream",
     "text": [
      "********************\n",
      "Rakesh is an engineer\n",
      "********************\n"
     ]
    }
   ],
   "source": [
    "print(\"*\" *20)\n",
    "print(\"Rakesh is an engineer\")\n",
    "print(\"*\" *20)"
   ]
  },
  {
   "cell_type": "code",
   "execution_count": 16,
   "id": "0f0751ef",
   "metadata": {},
   "outputs": [
    {
     "data": {
      "text/plain": [
       "'\\nint()\\nfloat()\\ncomplex()\\nbool()\\nstr()\\n'"
      ]
     },
     "execution_count": 16,
     "metadata": {},
     "output_type": "execute_result"
    }
   ],
   "source": [
    "\n",
    "\"\"\"\n",
    "int\n",
    "float \n",
    "complex\n",
    "bool\n",
    "str\n",
    "\n",
    "\n",
    "type coersion\n",
    "type casting\n",
    "type conversion\n",
    "\"\"\"\n",
    "\n",
    "\"\"\"\n",
    "int()\n",
    "float()\n",
    "complex()\n",
    "bool()\n",
    "str()\n",
    "\"\"\"\n",
    "\n",
    "\n"
   ]
  },
  {
   "cell_type": "markdown",
   "id": "269a7848",
   "metadata": {},
   "source": [
    "# floating --> int"
   ]
  },
  {
   "cell_type": "code",
   "execution_count": 17,
   "id": "27510397",
   "metadata": {},
   "outputs": [
    {
     "name": "stdout",
     "output_type": "stream",
     "text": [
      "10\n",
      "10\n"
     ]
    }
   ],
   "source": [
    "print(int(10.23))\n",
    "a=10.23\n",
    "b=int(a)\n",
    "print(b)"
   ]
  },
  {
   "cell_type": "markdown",
   "id": "181b8c16",
   "metadata": {},
   "source": [
    "#### complex --> int\n",
    "### bool --> int\n",
    "### str --> int         converts only if number isbase 10"
   ]
  },
  {
   "cell_type": "code",
   "execution_count": 18,
   "id": "3411f3fc",
   "metadata": {},
   "outputs": [
    {
     "name": "stdout",
     "output_type": "stream",
     "text": [
      "10\n"
     ]
    },
    {
     "ename": "ValueError",
     "evalue": "invalid literal for int() with base 10: '0b111'",
     "output_type": "error",
     "traceback": [
      "\u001b[1;31m---------------------------------------------------------------------------\u001b[0m",
      "\u001b[1;31mValueError\u001b[0m                                Traceback (most recent call last)",
      "\u001b[1;32mC:\\Users\\RAKESH~1\\AppData\\Local\\Temp/ipykernel_10760/1407707578.py\u001b[0m in \u001b[0;36m<module>\u001b[1;34m\u001b[0m\n\u001b[0;32m      1\u001b[0m \u001b[0mprint\u001b[0m\u001b[1;33m(\u001b[0m\u001b[0mint\u001b[0m\u001b[1;33m(\u001b[0m\u001b[1;34m'10'\u001b[0m\u001b[1;33m)\u001b[0m\u001b[1;33m)\u001b[0m\u001b[1;33m\u001b[0m\u001b[1;33m\u001b[0m\u001b[0m\n\u001b[1;32m----> 2\u001b[1;33m \u001b[0mprint\u001b[0m\u001b[1;33m(\u001b[0m\u001b[0mint\u001b[0m\u001b[1;33m(\u001b[0m\u001b[1;34m'0b111'\u001b[0m\u001b[1;33m)\u001b[0m\u001b[1;33m)\u001b[0m\u001b[1;33m\u001b[0m\u001b[1;33m\u001b[0m\u001b[0m\n\u001b[0m",
      "\u001b[1;31mValueError\u001b[0m: invalid literal for int() with base 10: '0b111'"
     ]
    }
   ],
   "source": [
    "print(int('10'))\n",
    "print(int('0b111'))"
   ]
  },
  {
   "cell_type": "markdown",
   "id": "80a1683a",
   "metadata": {},
   "source": [
    "### float()"
   ]
  },
  {
   "cell_type": "code",
   "execution_count": 19,
   "id": "fc671032",
   "metadata": {},
   "outputs": [
    {
     "name": "stdout",
     "output_type": "stream",
     "text": [
      "15.0\n",
      "31.0\n"
     ]
    }
   ],
   "source": [
    "#  int --> float\n",
    "print(float(15))\n",
    "print(float(0b11111))"
   ]
  },
  {
   "cell_type": "markdown",
   "id": "59338e17",
   "metadata": {},
   "source": [
    "### complex\n",
    "### 2 types single and double "
   ]
  },
  {
   "cell_type": "code",
   "execution_count": 27,
   "id": "10445ca8",
   "metadata": {},
   "outputs": [
    {
     "name": "stdout",
     "output_type": "stream",
     "text": [
      "(10+0j)\n",
      "(15+0j)\n",
      "(15.4+0j)\n",
      "(1+0j)\n",
      "0j\n",
      "(10+0j)\n",
      "(10.5+0j)\n"
     ]
    },
    {
     "ename": "ValueError",
     "evalue": "complex() arg is a malformed string",
     "output_type": "error",
     "traceback": [
      "\u001b[1;31m---------------------------------------------------------------------------\u001b[0m",
      "\u001b[1;31mValueError\u001b[0m                                Traceback (most recent call last)",
      "\u001b[1;32mC:\\Users\\RAKESH~1\\AppData\\Local\\Temp/ipykernel_10760/2180160541.py\u001b[0m in \u001b[0;36m<module>\u001b[1;34m\u001b[0m\n\u001b[0;32m      6\u001b[0m \u001b[0mprint\u001b[0m\u001b[1;33m(\u001b[0m\u001b[0mcomplex\u001b[0m\u001b[1;33m(\u001b[0m\u001b[1;34m'10'\u001b[0m\u001b[1;33m)\u001b[0m\u001b[1;33m)\u001b[0m\u001b[1;33m\u001b[0m\u001b[1;33m\u001b[0m\u001b[0m\n\u001b[0;32m      7\u001b[0m \u001b[0mprint\u001b[0m\u001b[1;33m(\u001b[0m\u001b[0mcomplex\u001b[0m\u001b[1;33m(\u001b[0m\u001b[1;34m'10.5'\u001b[0m\u001b[1;33m)\u001b[0m\u001b[1;33m)\u001b[0m\u001b[1;33m\u001b[0m\u001b[1;33m\u001b[0m\u001b[0m\n\u001b[1;32m----> 8\u001b[1;33m \u001b[0mprint\u001b[0m\u001b[1;33m(\u001b[0m\u001b[0mcomplex\u001b[0m\u001b[1;33m(\u001b[0m\u001b[1;34m'0b1111'\u001b[0m\u001b[1;33m)\u001b[0m\u001b[1;33m)\u001b[0m\u001b[1;33m\u001b[0m\u001b[1;33m\u001b[0m\u001b[0m\n\u001b[0m",
      "\u001b[1;31mValueError\u001b[0m: complex() arg is a malformed string"
     ]
    }
   ],
   "source": [
    "print(complex(10))\n",
    "print(complex(0b1111))\n",
    "print(complex(15.4))\n",
    "print(complex(True))\n",
    "print(complex(False))\n",
    "print(complex('10'))\n",
    "print(complex('10.5'))\n",
    "print(complex('0b1111'))"
   ]
  },
  {
   "cell_type": "code",
   "execution_count": 28,
   "id": "236a6d4a",
   "metadata": {},
   "outputs": [
    {
     "name": "stdout",
     "output_type": "stream",
     "text": [
      "(10+20j)\n"
     ]
    }
   ],
   "source": [
    "print(complex(10,20))"
   ]
  },
  {
   "cell_type": "code",
   "execution_count": 29,
   "id": "92af30a2",
   "metadata": {},
   "outputs": [
    {
     "ename": "TypeError",
     "evalue": "complex() can't take second arg if first is a string",
     "output_type": "error",
     "traceback": [
      "\u001b[1;31m---------------------------------------------------------------------------\u001b[0m",
      "\u001b[1;31mTypeError\u001b[0m                                 Traceback (most recent call last)",
      "\u001b[1;32mC:\\Users\\RAKESH~1\\AppData\\Local\\Temp/ipykernel_10760/947550882.py\u001b[0m in \u001b[0;36m<module>\u001b[1;34m\u001b[0m\n\u001b[1;32m----> 1\u001b[1;33m \u001b[0mprint\u001b[0m\u001b[1;33m(\u001b[0m\u001b[0mcomplex\u001b[0m\u001b[1;33m(\u001b[0m\u001b[1;34m'10'\u001b[0m\u001b[1;33m,\u001b[0m\u001b[1;34m'10'\u001b[0m\u001b[1;33m)\u001b[0m\u001b[1;33m)\u001b[0m\u001b[1;33m\u001b[0m\u001b[1;33m\u001b[0m\u001b[0m\n\u001b[0m",
      "\u001b[1;31mTypeError\u001b[0m: complex() can't take second arg if first is a string"
     ]
    }
   ],
   "source": [
    "print(complex('10','10'))"
   ]
  },
  {
   "cell_type": "code",
   "execution_count": 30,
   "id": "960b825f",
   "metadata": {},
   "outputs": [
    {
     "ename": "NameError",
     "evalue": "name 'compelx' is not defined",
     "output_type": "error",
     "traceback": [
      "\u001b[1;31m---------------------------------------------------------------------------\u001b[0m",
      "\u001b[1;31mNameError\u001b[0m                                 Traceback (most recent call last)",
      "\u001b[1;32mC:\\Users\\RAKESH~1\\AppData\\Local\\Temp/ipykernel_10760/504531034.py\u001b[0m in \u001b[0;36m<module>\u001b[1;34m\u001b[0m\n\u001b[1;32m----> 1\u001b[1;33m \u001b[0mprint\u001b[0m\u001b[1;33m(\u001b[0m\u001b[0mcompelx\u001b[0m\u001b[1;33m(\u001b[0m\u001b[1;34m'10'\u001b[0m\u001b[1;33m,\u001b[0m\u001b[1;36m10\u001b[0m\u001b[1;33m)\u001b[0m\u001b[1;33m)\u001b[0m\u001b[1;33m\u001b[0m\u001b[1;33m\u001b[0m\u001b[0m\n\u001b[0m",
      "\u001b[1;31mNameError\u001b[0m: name 'compelx' is not defined"
     ]
    }
   ],
   "source": [
    "print(compelx('10',10))"
   ]
  },
  {
   "cell_type": "code",
   "execution_count": 33,
   "id": "5ac7e451",
   "metadata": {},
   "outputs": [
    {
     "name": "stdout",
     "output_type": "stream",
     "text": [
      "(1+1j)\n"
     ]
    }
   ],
   "source": [
    "print(complex(True,True))"
   ]
  },
  {
   "cell_type": "markdown",
   "id": "77876ff7",
   "metadata": {},
   "source": [
    "### bool()   if 0 then False else True always    "
   ]
  },
  {
   "cell_type": "code",
   "execution_count": 37,
   "id": "4aefadbf",
   "metadata": {},
   "outputs": [
    {
     "name": "stdout",
     "output_type": "stream",
     "text": [
      "True\n",
      "False\n",
      "True\n"
     ]
    }
   ],
   "source": [
    "print(bool(15000))\n",
    "print(bool(0))\n",
    "print(bool(0.01))\n"
   ]
  },
  {
   "cell_type": "code",
   "execution_count": 40,
   "id": "0d0204b3",
   "metadata": {},
   "outputs": [
    {
     "name": "stdout",
     "output_type": "stream",
     "text": [
      "True\n",
      "True\n",
      "False\n"
     ]
    }
   ],
   "source": [
    "print(bool(1+2j))\n",
    "print(bool(0+2j))\n",
    "print(bool(0j))"
   ]
  },
  {
   "cell_type": "code",
   "execution_count": 42,
   "id": "3cc8870c",
   "metadata": {},
   "outputs": [
    {
     "name": "stdout",
     "output_type": "stream",
     "text": [
      "True\n",
      "True\n"
     ]
    }
   ],
   "source": [
    "print(bool(\"hello\"))\n",
    "print(bool(\"False\"))"
   ]
  },
  {
   "cell_type": "code",
   "execution_count": 43,
   "id": "caa517ce",
   "metadata": {},
   "outputs": [
    {
     "name": "stdout",
     "output_type": "stream",
     "text": [
      "False\n"
     ]
    }
   ],
   "source": [
    "# string to bool\n",
    "print(bool(\"\"))"
   ]
  },
  {
   "cell_type": "markdown",
   "id": "6f71caa6",
   "metadata": {},
   "source": [
    "### str()\n"
   ]
  },
  {
   "cell_type": "code",
   "execution_count": 46,
   "id": "55755700",
   "metadata": {},
   "outputs": [
    {
     "name": "stdout",
     "output_type": "stream",
     "text": [
      "10\n",
      "14.55\n",
      "(10+5j)\n"
     ]
    }
   ],
   "source": [
    "print(str(10))\n",
    "print(str(14.55))\n",
    "print(str(10+5j))"
   ]
  },
  {
   "cell_type": "markdown",
   "id": "f21b2e66",
   "metadata": {},
   "source": [
    "### immutable and mutable"
   ]
  },
  {
   "cell_type": "code",
   "execution_count": 47,
   "id": "dfc897ac",
   "metadata": {},
   "outputs": [
    {
     "data": {
      "text/plain": [
       "\" once we create an object we can't change it \\nif it change it is an another object\\n\""
      ]
     },
     "execution_count": 47,
     "metadata": {},
     "output_type": "execute_result"
    }
   ],
   "source": [
    "\"\"\" once we create an object we can't change it \n",
    "if it change it is an another object\n",
    "\"\"\""
   ]
  },
  {
   "cell_type": "code",
   "execution_count": 51,
   "id": "9c53d3b8",
   "metadata": {},
   "outputs": [
    {
     "name": "stdout",
     "output_type": "stream",
     "text": [
      "10\n",
      "2518693800528\n",
      "2518693800848\n"
     ]
    }
   ],
   "source": [
    "a=10\n",
    "print(a)\n",
    "print(id(a))\n",
    "a = 20\n",
    "print(id(a))"
   ]
  },
  {
   "cell_type": "code",
   "execution_count": 56,
   "id": "03fd82d1",
   "metadata": {},
   "outputs": [
    {
     "name": "stdout",
     "output_type": "stream",
     "text": [
      "2518693800528\n",
      "2518693800528\n",
      "2518693800528\n",
      "2518693800560\n"
     ]
    }
   ],
   "source": [
    "x = 10\n",
    "y = x \n",
    "# y = 10\n",
    "print(id(x))\n",
    "print(id(y))\n",
    "y = y+1\n",
    "print(id(x))\n",
    "print(id(y))"
   ]
  },
  {
   "cell_type": "code",
   "execution_count": 57,
   "id": "a1f3dea3",
   "metadata": {},
   "outputs": [],
   "source": [
    "# search object is way faster than create object\n"
   ]
  },
  {
   "cell_type": "code",
   "execution_count": 58,
   "id": "102b59b6",
   "metadata": {},
   "outputs": [
    {
     "name": "stdout",
     "output_type": "stream",
     "text": [
      "True\n"
     ]
    }
   ],
   "source": [
    "x = 10\n",
    "y = x \n",
    "print(x is y)  # is = check address if same"
   ]
  },
  {
   "cell_type": "code",
   "execution_count": 59,
   "id": "fd81452c",
   "metadata": {},
   "outputs": [
    {
     "name": "stdout",
     "output_type": "stream",
     "text": [
      "False\n"
     ]
    }
   ],
   "source": [
    "x = 10\n",
    "y = 100\n",
    "print(x is y)"
   ]
  },
  {
   "cell_type": "code",
   "execution_count": 61,
   "id": "0085acf6",
   "metadata": {},
   "outputs": [
    {
     "name": "stdout",
     "output_type": "stream",
     "text": [
      "False\n"
     ]
    }
   ],
   "source": [
    "#  in case of complex no object reusability is not applicable\n",
    "a = 5 + 2j\n",
    "b = 5 + 2j\n",
    "print(a is b)"
   ]
  },
  {
   "cell_type": "code",
   "execution_count": 62,
   "id": "58f52d1e",
   "metadata": {},
   "outputs": [
    {
     "data": {
      "text/plain": [
       "'\\nconcept of immutibility\\n-> object reusability\\n-> need of immutibility\\n \\n'"
      ]
     },
     "execution_count": 62,
     "metadata": {},
     "output_type": "execute_result"
    }
   ],
   "source": [
    "# ktm is refered as object in python\n",
    "# ktm can reference 50 lkh people's location rather than cerating 50 lkh new object\n",
    "\"\"\"\n",
    "concept of immutibility\n",
    "-> object reusability\n",
    "-> need of immutibility\n",
    " \n",
    "\"\"\""
   ]
  },
  {
   "cell_type": "code",
   "execution_count": 64,
   "id": "43e6aa2e",
   "metadata": {},
   "outputs": [
    {
     "name": "stdout",
     "output_type": "stream",
     "text": [
      "2518774728896\n",
      "2518774728896\n",
      "[500, 2, 3, 4, 5]\n"
     ]
    }
   ],
   "source": [
    "# list\n",
    "a = [1,2,3,4,5]\n",
    "print(id(a))\n",
    "\n",
    "\n",
    "a[0]= 500\n",
    "print(id(a))\n",
    "print(a)"
   ]
  },
  {
   "cell_type": "code",
   "execution_count": null,
   "id": "bd9244b9",
   "metadata": {},
   "outputs": [],
   "source": []
  }
 ],
 "metadata": {
  "kernelspec": {
   "display_name": "Python 3 (ipykernel)",
   "language": "python",
   "name": "python3"
  },
  "language_info": {
   "codemirror_mode": {
    "name": "ipython",
    "version": 3
   },
   "file_extension": ".py",
   "mimetype": "text/x-python",
   "name": "python",
   "nbconvert_exporter": "python",
   "pygments_lexer": "ipython3",
   "version": "3.9.7"
  }
 },
 "nbformat": 4,
 "nbformat_minor": 5
}
