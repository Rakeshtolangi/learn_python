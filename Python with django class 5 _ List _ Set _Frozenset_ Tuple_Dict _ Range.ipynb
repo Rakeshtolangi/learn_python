{
 "cells": [
  {
   "cell_type": "code",
   "execution_count": 2,
   "id": "c6a302b5",
   "metadata": {},
   "outputs": [
    {
     "name": "stdout",
     "output_type": "stream",
     "text": [
      "2333764211264\n",
      "2333764211264\n",
      "[666, 2, 3, 4, 5]\n"
     ]
    }
   ],
   "source": [
    "a = [1,2,3,4,5]\n",
    "print(id(a))\n",
    "\n",
    "a[0] = 666\n",
    "print(id(a))\n",
    "print(a)\n",
    "# list is mutable"
   ]
  },
  {
   "cell_type": "markdown",
   "id": "248927b6",
   "metadata": {},
   "source": [
    "# revison\n"
   ]
  },
  {
   "cell_type": "code",
   "execution_count": 3,
   "id": "763a3964",
   "metadata": {},
   "outputs": [
    {
     "data": {
      "text/plain": [
       "' \\nint\\nstr\\ncomplex\\nbool\\nfloat\\n'"
      ]
     },
     "execution_count": 3,
     "metadata": {},
     "output_type": "execute_result"
    }
   ],
   "source": [
    "\"\"\" \n",
    "int\n",
    "str\n",
    "complex\n",
    "bool\n",
    "float\n",
    "\"\"\""
   ]
  },
  {
   "cell_type": "code",
   "execution_count": 4,
   "id": "ec0b0675",
   "metadata": {},
   "outputs": [
    {
     "data": {
      "text/plain": [
       "\"\\na = 10\\nb = 12.4\\nc = 10+5j\\nd = True\\ne = 'Rakesh'\\n\\na, b, c = 10,20,30\\n\\n\""
      ]
     },
     "execution_count": 4,
     "metadata": {},
     "output_type": "execute_result"
    }
   ],
   "source": [
    "\"\"\"\n",
    "a = 10\n",
    "b = 12.4\n",
    "c = 10+5j\n",
    "d = True\n",
    "e = 'Rakesh'\n",
    "\n",
    "a, b, c = 10,20,30\n",
    "\n",
    "all above fundamental datatype carry single value but we \n",
    "need to carry double data type\n",
    "so we need collection related data type\n",
    "\"\"\""
   ]
  },
  {
   "cell_type": "markdown",
   "id": "e2bed1d7",
   "metadata": {},
   "source": [
    "# Collection related data types\n",
    "list\n",
    "\n",
    "tuple\n",
    "\n",
    "set\n",
    "\n",
    "dict\n",
    "\n",
    "frozenset\n",
    "\n",
    "dict\n",
    "\n",
    "range\n",
    "\n",
    "bytes\n",
    "\n",
    "bytearray"
   ]
  },
  {
   "cell_type": "markdown",
   "id": "3de3a232",
   "metadata": {},
   "source": [
    "### List\n",
    "if you want to represent a group of values as a single entity where duplicate are allowed and ordered is preserved."
   ]
  },
  {
   "cell_type": "code",
   "execution_count": 7,
   "id": "14c63015",
   "metadata": {},
   "outputs": [
    {
     "name": "stdout",
     "output_type": "stream",
     "text": [
      "[1, 2, 3, 4, 5, 6]\n",
      "Ordered is preserved\n",
      "[1, 2, 3, 60, 5, 6]\n",
      "<class 'list'>\n"
     ]
    }
   ],
   "source": [
    "a = [1,2,3,4,5,6]\n",
    "print(a)\n",
    "print(\"Ordered is preserved\")\n",
    "a[3]= 60\n",
    "print(a)\n",
    "print(type(a))"
   ]
  },
  {
   "cell_type": "markdown",
   "id": "edc7ec32",
   "metadata": {},
   "source": [
    "### features\n",
    "\n",
    "ordered is preserved\n",
    "duplicates are allowed\n",
    "[]\n",
    "heterogemous bojects are allowed -> diff type of object su"
   ]
  }
 ],
 "metadata": {
  "kernelspec": {
   "display_name": "Python 3 (ipykernel)",
   "language": "python",
   "name": "python3"
  },
  "language_info": {
   "codemirror_mode": {
    "name": "ipython",
    "version": 3
   },
   "file_extension": ".py",
   "mimetype": "text/x-python",
   "name": "python",
   "nbconvert_exporter": "python",
   "pygments_lexer": "ipython3",
   "version": "3.9.7"
  }
 },
 "nbformat": 4,
 "nbformat_minor": 5
}
