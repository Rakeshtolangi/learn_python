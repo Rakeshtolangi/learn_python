{
 "cells": [
  {
   "cell_type": "markdown",
   "id": "b13ca493",
   "metadata": {},
   "source": [
    "####  bool"
   ]
  },
  {
   "cell_type": "code",
   "execution_count": 1,
   "id": "6cffc412",
   "metadata": {},
   "outputs": [
    {
     "name": "stdout",
     "output_type": "stream",
     "text": [
      "True\n"
     ]
    }
   ],
   "source": [
    "print(True>False)"
   ]
  },
  {
   "cell_type": "code",
   "execution_count": 2,
   "id": "9ea52bae",
   "metadata": {},
   "outputs": [
    {
     "ename": "TypeError",
     "evalue": "'<' not supported between instances of 'int' and 'str'",
     "output_type": "error",
     "traceback": [
      "\u001b[1;31m---------------------------------------------------------------------------\u001b[0m",
      "\u001b[1;31mTypeError\u001b[0m                                 Traceback (most recent call last)",
      "\u001b[1;32mC:\\Users\\RAKESH~1\\AppData\\Local\\Temp/ipykernel_8620/1839362857.py\u001b[0m in \u001b[0;36m<module>\u001b[1;34m\u001b[0m\n\u001b[1;32m----> 1\u001b[1;33m \u001b[0mprint\u001b[0m\u001b[1;33m(\u001b[0m\u001b[1;36m10\u001b[0m\u001b[1;33m<\u001b[0m\u001b[1;34m'sunil'\u001b[0m\u001b[1;33m)\u001b[0m\u001b[1;33m\u001b[0m\u001b[1;33m\u001b[0m\u001b[0m\n\u001b[0m",
      "\u001b[1;31mTypeError\u001b[0m: '<' not supported between instances of 'int' and 'str'"
     ]
    }
   ],
   "source": [
    "print(10<'sunil')"
   ]
  },
  {
   "cell_type": "code",
   "execution_count": 3,
   "id": "24e050e5",
   "metadata": {},
   "outputs": [
    {
     "name": "stdout",
     "output_type": "stream",
     "text": [
      "True\n"
     ]
    }
   ],
   "source": [
    "print('rakesh'<\"sunil\")"
   ]
  },
  {
   "cell_type": "code",
   "execution_count": 5,
   "id": "50b8d6c4",
   "metadata": {},
   "outputs": [
    {
     "name": "stdout",
     "output_type": "stream",
     "text": [
      "b is greater than a\n"
     ]
    }
   ],
   "source": [
    "a = 10\n",
    "b = 20\n",
    "if a > b:\n",
    "    print('a is greater than b')\n",
    "else:\n",
    "    print(\"b is greater than a\")"
   ]
  },
  {
   "cell_type": "markdown",
   "id": "bdf000f4",
   "metadata": {},
   "source": [
    "## chainging of relational operator"
   ]
  },
  {
   "cell_type": "code",
   "execution_count": 6,
   "id": "abf788a4",
   "metadata": {},
   "outputs": [
    {
     "name": "stdout",
     "output_type": "stream",
     "text": [
      "True\n",
      "True\n",
      "True\n"
     ]
    }
   ],
   "source": [
    "print(10<20)\n",
    "print(10<20<30)\n",
    "print(10<20<30<40)"
   ]
  },
  {
   "cell_type": "code",
   "execution_count": 8,
   "id": "1402a19e",
   "metadata": {},
   "outputs": [
    {
     "name": "stdout",
     "output_type": "stream",
     "text": [
      "False\n"
     ]
    }
   ],
   "source": [
    "print(10<20<30>40)\n",
    "# if any one of the condition is false it return false"
   ]
  },
  {
   "cell_type": "markdown",
   "id": "eaab8712",
   "metadata": {},
   "source": [
    "## equality operator ( ==, !=)"
   ]
  },
  {
   "cell_type": "code",
   "execution_count": 9,
   "id": "1d73d251",
   "metadata": {},
   "outputs": [
    {
     "name": "stdout",
     "output_type": "stream",
     "text": [
      "False\n"
     ]
    }
   ],
   "source": [
    "print(10 == 20)"
   ]
  },
  {
   "cell_type": "code",
   "execution_count": 10,
   "id": "307af7e6",
   "metadata": {},
   "outputs": [
    {
     "name": "stdout",
     "output_type": "stream",
     "text": [
      "True\n"
     ]
    }
   ],
   "source": [
    "print(10 != 20)"
   ]
  },
  {
   "cell_type": "code",
   "execution_count": 15,
   "id": "ae11e884",
   "metadata": {},
   "outputs": [
    {
     "name": "stdout",
     "output_type": "stream",
     "text": [
      "True\n",
      "False\n",
      "True\n"
     ]
    }
   ],
   "source": [
    "print('rakesh' != \"sunil\")\n",
    "print('rakesh' != \"rakesh\")\n",
    "print('rakesh' != \"Rakesh\")"
   ]
  },
  {
   "cell_type": "code",
   "execution_count": 17,
   "id": "2b867d99",
   "metadata": {},
   "outputs": [
    {
     "name": "stdout",
     "output_type": "stream",
     "text": [
      "True\n"
     ]
    }
   ],
   "source": [
    "print(10 == 10.0)"
   ]
  },
  {
   "cell_type": "markdown",
   "id": "673f12e8",
   "metadata": {},
   "source": [
    "## chinging of equality operator"
   ]
  },
  {
   "cell_type": "code",
   "execution_count": 19,
   "id": "6c7e179e",
   "metadata": {},
   "outputs": [
    {
     "name": "stdout",
     "output_type": "stream",
     "text": [
      "False\n",
      "False\n",
      "True\n"
     ]
    }
   ],
   "source": [
    "print(10==20==30==40)\n",
    "print(10==20==60==40)\n",
    "print(10==10==10==10)"
   ]
  },
  {
   "cell_type": "code",
   "execution_count": 22,
   "id": "630a2cc7",
   "metadata": {},
   "outputs": [
    {
     "name": "stdout",
     "output_type": "stream",
     "text": [
      "True\n",
      "False\n"
     ]
    }
   ],
   "source": [
    "#  is == check weither memory of two object is same or not\n",
    "\n",
    "a = 10\n",
    "b = 10\n",
    "print(a is b)\n",
    "\n",
    "c = 20\n",
    "d = 40\n",
    "print(c is d)"
   ]
  },
  {
   "cell_type": "code",
   "execution_count": 25,
   "id": "2b47119c",
   "metadata": {},
   "outputs": [
    {
     "name": "stdout",
     "output_type": "stream",
     "text": [
      "False\n",
      "True\n"
     ]
    }
   ],
   "source": [
    "l = []\n",
    "l2 = []\n",
    "print(l is l2)   # compare memory\n",
    "print(l == l2)    # compare content / element"
   ]
  },
  {
   "cell_type": "markdown",
   "id": "0c7786e9",
   "metadata": {},
   "source": [
    "## logical operator (and , or , not)"
   ]
  },
  {
   "cell_type": "code",
   "execution_count": 28,
   "id": "817cad45",
   "metadata": {},
   "outputs": [
    {
     "name": "stdout",
     "output_type": "stream",
     "text": [
      "True\n",
      "False\n"
     ]
    }
   ],
   "source": [
    "#  and \n",
    "print(True and True)     # both ture = ture \n",
    "print(True and False)    #1 elemet is false then print false"
   ]
  },
  {
   "cell_type": "code",
   "execution_count": 33,
   "id": "8b46491e",
   "metadata": {},
   "outputs": [
    {
     "name": "stdout",
     "output_type": "stream",
     "text": [
      "True\n",
      "True\n",
      "False\n"
     ]
    }
   ],
   "source": [
    "# or  This is for boolean elements\n",
    "print(True or True)  #if one element is true then true \n",
    "print(True or False)\n",
    "print(False or False) # print false only if both are false\n",
    "\n",
    "#  or = print false only if both condition is false"
   ]
  },
  {
   "cell_type": "code",
   "execution_count": 35,
   "id": "02d6c949",
   "metadata": {},
   "outputs": [
    {
     "name": "stdout",
     "output_type": "stream",
     "text": [
      "False\n",
      "True\n"
     ]
    }
   ],
   "source": [
    "# not operator( compliment operator)\n",
    "print(not True)\n",
    "print(not False)"
   ]
  },
  {
   "cell_type": "code",
   "execution_count": 38,
   "id": "37090661",
   "metadata": {},
   "outputs": [
    {
     "name": "stdout",
     "output_type": "stream",
     "text": [
      "Enter your usernamerakesh\n",
      "Enter your passwordram123\n",
      "you are a valid user. welcome to the system\n"
     ]
    }
   ],
   "source": [
    "\"\"\"  = assign value\n",
    "    == compare value\n",
    "\n",
    "\"\"\"\n",
    "username = input(\"Enter your username\")\n",
    "password = input(\"Enter your password\")\n",
    "\n",
    "if username==\"rakesh\" and password == \"ram123\":\n",
    "    print(\"you are a valid user. welcome to the system\")\n",
    "else:\n",
    "    print(\"Not valid credential. Please check your username or passwowrd\")"
   ]
  },
  {
   "cell_type": "markdown",
   "id": "f367d3ec",
   "metadata": {},
   "source": [
    "## logical operator for non boolean types"
   ]
  },
  {
   "cell_type": "code",
   "execution_count": 39,
   "id": "43f32c95",
   "metadata": {},
   "outputs": [
    {
     "data": {
      "text/plain": [
       "'\\nempty list, tuple, dict, set and 0 = false\\nelse non zero  = true\\n'"
      ]
     },
     "execution_count": 39,
     "metadata": {},
     "output_type": "execute_result"
    }
   ],
   "source": [
    "\"\"\"\n",
    "empty list, tuple, dict, set and 0 = false\n",
    "else non zero  = true\n",
    "\"\"\"\n",
    "\n"
   ]
  },
  {
   "cell_type": "code",
   "execution_count": 40,
   "id": "9e47252c",
   "metadata": {},
   "outputs": [],
   "source": [
    "# and \n",
    "# x and y\n",
    "# result is either x or y\n",
    "\n",
    "# if x evaluates to False, then result is x\n",
    "# if x evaluates to True, then result is y"
   ]
  },
  {
   "cell_type": "code",
   "execution_count": 42,
   "id": "48600b52",
   "metadata": {},
   "outputs": [
    {
     "name": "stdout",
     "output_type": "stream",
     "text": [
      "20\n"
     ]
    }
   ],
   "source": [
    "print(10 and 20)\n",
    "# both of the value is non zero so equation is true so print y"
   ]
  },
  {
   "cell_type": "code",
   "execution_count": 43,
   "id": "90b85699",
   "metadata": {},
   "outputs": [
    {
     "name": "stdout",
     "output_type": "stream",
     "text": [
      "0\n"
     ]
    }
   ],
   "source": [
    "print(0 and 30)"
   ]
  },
  {
   "cell_type": "code",
   "execution_count": 54,
   "id": "b0952878",
   "metadata": {},
   "outputs": [
    {
     "name": "stdout",
     "output_type": "stream",
     "text": [
      "0\n"
     ]
    }
   ],
   "source": [
    "print(20 and 0)"
   ]
  },
  {
   "cell_type": "code",
   "execution_count": 53,
   "id": "71e40a92",
   "metadata": {},
   "outputs": [
    {
     "name": "stdout",
     "output_type": "stream",
     "text": [
      "0\n"
     ]
    }
   ],
   "source": [
    "print(0 and '')"
   ]
  },
  {
   "cell_type": "code",
   "execution_count": 52,
   "id": "6e9413e1",
   "metadata": {},
   "outputs": [
    {
     "name": "stdout",
     "output_type": "stream",
     "text": [
      "\n"
     ]
    }
   ],
   "source": [
    "print(\"ram\" and '')\n",
    "# x evaluates to true then print y"
   ]
  },
  {
   "cell_type": "markdown",
   "id": "ec740112",
   "metadata": {},
   "source": [
    "## or \n",
    "\n",
    "#### if x evaluates to True, then result is x\n",
    "#### if x evaluates to False, then result is y"
   ]
  },
  {
   "cell_type": "code",
   "execution_count": 50,
   "id": "00d5a591",
   "metadata": {},
   "outputs": [
    {
     "name": "stdout",
     "output_type": "stream",
     "text": [
      "10\n"
     ]
    }
   ],
   "source": [
    "print(10 or 20)"
   ]
  },
  {
   "cell_type": "code",
   "execution_count": 55,
   "id": "9faca6e9",
   "metadata": {},
   "outputs": [
    {
     "name": "stdout",
     "output_type": "stream",
     "text": [
      "ram\n"
     ]
    }
   ],
   "source": [
    "print(\"ram\" or '')\n",
    "#  if x evaluates to Ture (ie non-zero value) then print x"
   ]
  },
  {
   "cell_type": "code",
   "execution_count": 56,
   "id": "6f620b29",
   "metadata": {},
   "outputs": [
    {
     "name": "stdout",
     "output_type": "stream",
     "text": [
      "Ram\n"
     ]
    }
   ],
   "source": [
    "print(\"Ram\" or \"Hari\")"
   ]
  },
  {
   "cell_type": "markdown",
   "id": "73fcd038",
   "metadata": {},
   "source": [
    "## not (result is always boolean)"
   ]
  },
  {
   "cell_type": "code",
   "execution_count": 57,
   "id": "04aaf73b",
   "metadata": {},
   "outputs": [
    {
     "name": "stdout",
     "output_type": "stream",
     "text": [
      "False\n"
     ]
    }
   ],
   "source": [
    "print(not \"sagar\")"
   ]
  },
  {
   "cell_type": "code",
   "execution_count": 58,
   "id": "0bdf375b",
   "metadata": {},
   "outputs": [
    {
     "name": "stdout",
     "output_type": "stream",
     "text": [
      "True\n"
     ]
    }
   ],
   "source": [
    "print( not 0)"
   ]
  },
  {
   "cell_type": "markdown",
   "id": "c4fddb66",
   "metadata": {},
   "source": [
    "## Bitwise operator\n",
    "\n",
    "###### & bitwise and\n",
    "###### | bitwise or\n",
    "###### ^ bitwise XOR\n",
    "###### ~ bitwise complement\n",
    "###### << bitwise lift shift operator\n",
    "###### >> bitwise right shift operator\n",
    "\n",
    "###### applicable in integer and bolean"
   ]
  },
  {
   "cell_type": "code",
   "execution_count": 3,
   "id": "2ec96884",
   "metadata": {},
   "outputs": [
    {
     "name": "stdout",
     "output_type": "stream",
     "text": [
      "4\n"
     ]
    }
   ],
   "source": [
    "print(4&5) # 1 if 1 & 1 is added. \n",
    "\n",
    "# if both bits are 1 then result is 1\n",
    "# if atleast one bit is 0 then value is o"
   ]
  },
  {
   "cell_type": "code",
   "execution_count": 6,
   "id": "c2b13210",
   "metadata": {},
   "outputs": [
    {
     "name": "stdout",
     "output_type": "stream",
     "text": [
      "5\n"
     ]
    }
   ],
   "source": [
    "#  | = if atleast one bit is 1 result is 1\n",
    "print(4| 5)"
   ]
  },
  {
   "cell_type": "code",
   "execution_count": 8,
   "id": "070abb47",
   "metadata": {},
   "outputs": [
    {
     "name": "stdout",
     "output_type": "stream",
     "text": [
      "1\n"
     ]
    }
   ],
   "source": [
    "# ^ (exclusive or)\n",
    "# if both bits are different result is 1 else 0\n",
    "print(4^5)"
   ]
  },
  {
   "cell_type": "code",
   "execution_count": 9,
   "id": "b5c81e0b",
   "metadata": {},
   "outputs": [
    {
     "name": "stdout",
     "output_type": "stream",
     "text": [
      "-5\n"
     ]
    }
   ],
   "source": [
    "# bitwise compliment operator or (tilt of 4)\n",
    "print(~4)"
   ]
  },
  {
   "cell_type": "code",
   "execution_count": 10,
   "id": "49bff799",
   "metadata": {},
   "outputs": [
    {
     "name": "stdout",
     "output_type": "stream",
     "text": [
      "40\n"
     ]
    }
   ],
   "source": [
    "# shift operator(<<,>>)\n",
    "print(10<<2)\n"
   ]
  },
  {
   "cell_type": "code",
   "execution_count": 11,
   "id": "e06f5bf0",
   "metadata": {},
   "outputs": [
    {
     "data": {
      "text/plain": [
       "'\\n+=\\n-=\\n*=\\n/=\\n//=\\n**=\\n&=\\n|=\\n^=\\n>>=\\n<<=\\n'"
      ]
     },
     "execution_count": 11,
     "metadata": {},
     "output_type": "execute_result"
    }
   ],
   "source": [
    "\"\"\"\n",
    "+=\n",
    "-=\n",
    "*=\n",
    "/=\n",
    "//=\n",
    "**=\n",
    "&=\n",
    "|=\n",
    "^=\n",
    ">>=\n",
    "<<=\n",
    "\"\"\""
   ]
  },
  {
   "cell_type": "code",
   "execution_count": 13,
   "id": "e3eceabe",
   "metadata": {},
   "outputs": [
    {
     "name": "stdout",
     "output_type": "stream",
     "text": [
      "30\n"
     ]
    }
   ],
   "source": [
    "a = 10\n",
    "a += 20\n",
    "print(a)\n"
   ]
  },
  {
   "cell_type": "code",
   "execution_count": 16,
   "id": "19011b9a",
   "metadata": {},
   "outputs": [
    {
     "name": "stdout",
     "output_type": "stream",
     "text": [
      "0\n"
     ]
    }
   ],
   "source": [
    "b = 10\n",
    "b &=5\n",
    "print(b)"
   ]
  },
  {
   "cell_type": "code",
   "execution_count": null,
   "id": "693359de",
   "metadata": {},
   "outputs": [],
   "source": []
  }
 ],
 "metadata": {
  "kernelspec": {
   "display_name": "Python 3 (ipykernel)",
   "language": "python",
   "name": "python3"
  },
  "language_info": {
   "codemirror_mode": {
    "name": "ipython",
    "version": 3
   },
   "file_extension": ".py",
   "mimetype": "text/x-python",
   "name": "python",
   "nbconvert_exporter": "python",
   "pygments_lexer": "ipython3",
   "version": "3.9.7"
  }
 },
 "nbformat": 4,
 "nbformat_minor": 5
}
