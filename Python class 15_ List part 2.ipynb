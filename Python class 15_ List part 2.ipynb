{
 "cells": [
  {
   "cell_type": "markdown",
   "id": "f13b8fb6",
   "metadata": {},
   "source": [
    "# extend()"
   ]
  },
  {
   "cell_type": "code",
   "execution_count": 1,
   "id": "e72ce977",
   "metadata": {},
   "outputs": [
    {
     "name": "stdout",
     "output_type": "stream",
     "text": [
      "['chicken', 'fish', 'mutton', 'tuborg', 'calsberg', 'arna']\n"
     ]
    }
   ],
   "source": [
    "# l.extend(11)\n",
    "\n",
    "order = ['chicken','fish','mutton']\n",
    "order1 = ['tuborg', 'calsberg','arna']\n",
    "\n",
    "order.extend(order1)\n",
    "print(order)"
   ]
  },
  {
   "cell_type": "code",
   "execution_count": 6,
   "id": "93715939",
   "metadata": {},
   "outputs": [
    {
     "name": "stdout",
     "output_type": "stream",
     "text": [
      "[10, 20, 30, [40, 50]]\n",
      "[40, 50]\n"
     ]
    }
   ],
   "source": [
    "# CASE 1:\n",
    "l1 = [10,20,30]\n",
    "l2 = [40,50]\n",
    "l1.append(l2)    # add whole list as one list as nested list\n",
    "print(l1)\n",
    "print(l1[3])"
   ]
  },
  {
   "cell_type": "code",
   "execution_count": 7,
   "id": "28037163",
   "metadata": {},
   "outputs": [
    {
     "name": "stdout",
     "output_type": "stream",
     "text": [
      "[10, 20, 30, 'A', 'B', 'C']\n"
     ]
    }
   ],
   "source": [
    "l1 = [10,20,30]\n",
    "l2 = [40,50]\n",
    "l1.extend(\"ABC\")    # add individual item inside the list\n",
    "print(l1)"
   ]
  },
  {
   "cell_type": "code",
   "execution_count": 8,
   "id": "46e99873",
   "metadata": {},
   "outputs": [],
   "source": [
    "# Removing items from list\n",
    "#       remove()\n",
    "#       pop()\n",
    "#       clear()"
   ]
  },
  {
   "cell_type": "code",
   "execution_count": 11,
   "id": "515664f3",
   "metadata": {},
   "outputs": [
    {
     "name": "stdout",
     "output_type": "stream",
     "text": [
      "Enter number to remove: 40\n",
      "afer removal [10, 20, 30, 50, 70, 80, 90]\n"
     ]
    }
   ],
   "source": [
    "# remove()\n",
    "l = [10,20,30,40,50,40,40,70,80,40,90]\n",
    "\n",
    "x = int(input(\"Enter number to remove: \"))\n",
    "\n",
    "while True:\n",
    "    if x in l:\n",
    "        l.remove(x)\n",
    "    else:\n",
    "        break\n",
    "print(\"afer removal\",l)"
   ]
  },
  {
   "cell_type": "code",
   "execution_count": 13,
   "id": "9b8f823f",
   "metadata": {},
   "outputs": [
    {
     "name": "stdout",
     "output_type": "stream",
     "text": [
      "30\n",
      "[10, 20]\n"
     ]
    }
   ],
   "source": [
    "# pop()    remove last element in the list\n",
    "\n",
    "l = [10,20,30]\n",
    "print(l.pop())\n",
    "print(l)"
   ]
  },
  {
   "cell_type": "code",
   "execution_count": 15,
   "id": "6985f956",
   "metadata": {},
   "outputs": [
    {
     "name": "stdout",
     "output_type": "stream",
     "text": [
      "20\n",
      "[10, 30]\n"
     ]
    }
   ],
   "source": [
    "l = [10,20,30]\n",
    "print(l.pop(1)) # with argument takes indexing \n",
    "print(l)"
   ]
  },
  {
   "cell_type": "code",
   "execution_count": 17,
   "id": "cc77c744",
   "metadata": {},
   "outputs": [
    {
     "name": "stdout",
     "output_type": "stream",
     "text": [
      "[]\n"
     ]
    }
   ],
   "source": [
    "# clear()\n",
    "l = [10,20,30]\n",
    "l.clear()     # remove every items inside the lsit\n",
    "print(l)"
   ]
  },
  {
   "cell_type": "code",
   "execution_count": 18,
   "id": "153b6d0a",
   "metadata": {},
   "outputs": [
    {
     "data": {
      "text/plain": [
       "'\\nlist \\n\\nadd item to list\\n    append()\\n    insert()\\n    extend()\\n\\ndecrese size of list\\n    remove()\\n    pop()\\n    clear()\\n\\n'"
      ]
     },
     "execution_count": 18,
     "metadata": {},
     "output_type": "execute_result"
    }
   ],
   "source": [
    "\"\"\"\n",
    "list \n",
    "\n",
    "add item to list\n",
    "    append()\n",
    "    insert()\n",
    "    extend()\n",
    "\n",
    "decrese size of list\n",
    "    remove()\n",
    "    pop()\n",
    "    clear()\n",
    "\n",
    "\"\"\"\n",
    "\n"
   ]
  },
  {
   "cell_type": "markdown",
   "id": "086f520a",
   "metadata": {},
   "source": [
    "# ordering elements of list"
   ]
  },
  {
   "cell_type": "code",
   "execution_count": 25,
   "id": "17a55eeb",
   "metadata": {},
   "outputs": [
    {
     "name": "stdout",
     "output_type": "stream",
     "text": [
      "[30, 40, 10]\n"
     ]
    }
   ],
   "source": [
    "# reverse()\n",
    "l = [10,40,30]\n",
    "l.reverse()        # desending order of indexing \n",
    "print(l)           # it is python specific method(list only specific)"
   ]
  },
  {
   "cell_type": "code",
   "execution_count": 26,
   "id": "2e11195f",
   "metadata": {},
   "outputs": [
    {
     "name": "stdout",
     "output_type": "stream",
     "text": [
      "<list_reverseiterator object at 0x00000165DF824D00>\n"
     ]
    }
   ],
   "source": [
    "l = [10,20,30]\n",
    "r = reversed(l)    # it is both list and python specific mehtod\n",
    "print(r)"
   ]
  },
  {
   "cell_type": "code",
   "execution_count": 31,
   "id": "e2eb0d86",
   "metadata": {},
   "outputs": [
    {
     "name": "stdout",
     "output_type": "stream",
     "text": [
      "<list_reverseiterator object at 0x00000165DF824190>\n",
      "[30, 20, 10]\n"
     ]
    }
   ],
   "source": [
    "l = [10,20,30]\n",
    "r = reversed(l)   \n",
    "print(r)\n",
    "l1 = list(r)\n",
    "print(l1)\n"
   ]
  },
  {
   "cell_type": "code",
   "execution_count": 33,
   "id": "1b4051d5",
   "metadata": {},
   "outputs": [
    {
     "name": "stdout",
     "output_type": "stream",
     "text": [
      "<reversed object at 0x00000165DFBFCEB0>\n",
      "['h', 's', 'e', 'k', 'a', 'R']\n"
     ]
    }
   ],
   "source": [
    "l = 'Rakesh'\n",
    "r = reversed(l)   \n",
    "print(r)\n",
    "l1 = list(r)    # give reverse iterator object\n",
    "        # now convert it into list now\n",
    "print(l1)"
   ]
  },
  {
   "cell_type": "code",
   "execution_count": 44,
   "id": "c558070e",
   "metadata": {},
   "outputs": [
    {
     "name": "stdout",
     "output_type": "stream",
     "text": [
      "{'k', 's', 'a', 'e', 'R', 'h'}\n",
      "<class 'set'>\n"
     ]
    }
   ],
   "source": [
    "l = 'Rakesh'\n",
    "r = reversed(l)\n",
    "# l1 = str(r)\n",
    "print(l1)\n",
    "print(type(l1))\n"
   ]
  },
  {
   "cell_type": "code",
   "execution_count": 43,
   "id": "97f8f7d1",
   "metadata": {},
   "outputs": [
    {
     "name": "stdout",
     "output_type": "stream",
     "text": [
      "h\n",
      "s\n",
      "e\n",
      "k\n",
      "a\n",
      "R\n"
     ]
    }
   ],
   "source": [
    "l = 'Rakesh'\n",
    "l2 = reversed(l)\n",
    "\n",
    "for i in l2:\n",
    "    print(i)"
   ]
  },
  {
   "cell_type": "code",
   "execution_count": 40,
   "id": "51201891",
   "metadata": {},
   "outputs": [
    {
     "name": "stdout",
     "output_type": "stream",
     "text": [
      "{'k', 's', 'a', 'e', 'R', 'h'}\n",
      "<class 'set'>\n"
     ]
    }
   ],
   "source": [
    "l = 'Rakesh'\n",
    "r = reversed(l)\n",
    "l1 = set(r)    # set is unordered so value is random output\n",
    "print(l1)\n",
    "print(type(l1))"
   ]
  },
  {
   "cell_type": "code",
   "execution_count": 45,
   "id": "a5316892",
   "metadata": {},
   "outputs": [
    {
     "name": "stdout",
     "output_type": "stream",
     "text": [
      "[0, 2, 10, 20, 40, 70]\n"
     ]
    }
   ],
   "source": [
    "# sort()\n",
    "# l.sort()\n",
    "\n",
    "l = [20,40,10,2,0,70]\n",
    "l.sort()\n",
    "print(l)"
   ]
  },
  {
   "cell_type": "code",
   "execution_count": 46,
   "id": "d449a300",
   "metadata": {},
   "outputs": [
    {
     "name": "stdout",
     "output_type": "stream",
     "text": [
      "['Rakesh', 'engineer', 'is', 'tolangi']\n"
     ]
    }
   ],
   "source": [
    "l = ['Rakesh', 'tolangi', 'is', 'engineer']\n",
    "l.sort()    # ASCII OR alphabeticall order\n",
    "print(l)"
   ]
  },
  {
   "cell_type": "code",
   "execution_count": 47,
   "id": "5717ac3e",
   "metadata": {},
   "outputs": [
    {
     "ename": "TypeError",
     "evalue": "'<' not supported between instances of 'int' and 'str'",
     "output_type": "error",
     "traceback": [
      "\u001b[1;31m---------------------------------------------------------------------------\u001b[0m",
      "\u001b[1;31mTypeError\u001b[0m                                 Traceback (most recent call last)",
      "\u001b[1;32mC:\\Users\\RAKESH~1\\AppData\\Local\\Temp/ipykernel_14068/166011752.py\u001b[0m in \u001b[0;36m<module>\u001b[1;34m\u001b[0m\n\u001b[0;32m      1\u001b[0m \u001b[0ml\u001b[0m \u001b[1;33m=\u001b[0m \u001b[1;33m[\u001b[0m\u001b[1;34m'Rakesh'\u001b[0m\u001b[1;33m,\u001b[0m \u001b[1;34m'tolangi'\u001b[0m\u001b[1;33m,\u001b[0m \u001b[1;34m'is'\u001b[0m\u001b[1;33m,\u001b[0m \u001b[1;34m'engineer'\u001b[0m\u001b[1;33m,\u001b[0m \u001b[1;36m10\u001b[0m\u001b[1;33m]\u001b[0m\u001b[1;33m\u001b[0m\u001b[1;33m\u001b[0m\u001b[0m\n\u001b[1;32m----> 2\u001b[1;33m \u001b[0ml\u001b[0m\u001b[1;33m.\u001b[0m\u001b[0msort\u001b[0m\u001b[1;33m(\u001b[0m\u001b[1;33m)\u001b[0m\u001b[1;33m\u001b[0m\u001b[1;33m\u001b[0m\u001b[0m\n\u001b[0m\u001b[0;32m      3\u001b[0m \u001b[0mprint\u001b[0m\u001b[1;33m(\u001b[0m\u001b[0ml\u001b[0m\u001b[1;33m)\u001b[0m\u001b[1;33m\u001b[0m\u001b[1;33m\u001b[0m\u001b[0m\n",
      "\u001b[1;31mTypeError\u001b[0m: '<' not supported between instances of 'int' and 'str'"
     ]
    }
   ],
   "source": [
    "l = ['Rakesh', 'tolangi', 'is', 'engineer', 10]\n",
    "l.sort()\n",
    "print(l)"
   ]
  },
  {
   "cell_type": "code",
   "execution_count": 52,
   "id": "922870a3",
   "metadata": {},
   "outputs": [
    {
     "name": "stdout",
     "output_type": "stream",
     "text": [
      "[70, 40, 20, 10, 2, 0]\n"
     ]
    }
   ],
   "source": [
    "l = [20,40,10,2,0,70]\n",
    "l.sort()\n",
    "l.reverse()\n",
    "print(l)"
   ]
  },
  {
   "cell_type": "code",
   "execution_count": 53,
   "id": "45afec76",
   "metadata": {},
   "outputs": [
    {
     "name": "stdout",
     "output_type": "stream",
     "text": [
      "[70, 40, 20, 10, 2, 0]\n"
     ]
    }
   ],
   "source": [
    "# sort()       # sort() is list specific\n",
    "l = [20,40,10,2,0,70]\n",
    "l.sort(reverse=True)\n",
    "print(l)"
   ]
  },
  {
   "cell_type": "code",
   "execution_count": 56,
   "id": "e4aeb98a",
   "metadata": {},
   "outputs": [
    {
     "name": "stdout",
     "output_type": "stream",
     "text": [
      "['R', 'a', 'e', 'h', 'k', 's']\n",
      "hsekaR\n"
     ]
    }
   ],
   "source": [
    "# shorted()    # it is python specific \n",
    "\n",
    "l0 = [20,40,10,2,0,70]\n",
    "l=\"Rakesh\"\n",
    "l1 = sorted(l)\n",
    "print(l1)\n",
    "print(l[::-1])"
   ]
  },
  {
   "cell_type": "code",
   "execution_count": 58,
   "id": "99a82d9d",
   "metadata": {},
   "outputs": [
    {
     "name": "stdout",
     "output_type": "stream",
     "text": [
      "[20, 40, 10, 2, 0, 70]\n",
      "[555, 40, 10, 2, 0, 70]\n",
      "[555, 40, 10, 2, 0, 70]\n"
     ]
    }
   ],
   "source": [
    "# aliasing and cloning of list\n",
    "\n",
    "# aliasing = give another name\n",
    "l1 = [20,40,10,2,0,70]\n",
    "l2 = l1\n",
    "print(l2)\n",
    "l2[0] = 555\n",
    "print(l1)\n",
    "print(l2)"
   ]
  },
  {
   "cell_type": "code",
   "execution_count": 61,
   "id": "b58ecf7c",
   "metadata": {},
   "outputs": [
    {
     "name": "stdout",
     "output_type": "stream",
     "text": [
      "[10, 20, 30, 40, 50]\n",
      "[10, 20, 30, 40, 50]\n",
      "[10, 20, 30, 40, 50]\n",
      "[555, 20, 30, 40, 50]\n"
     ]
    }
   ],
   "source": [
    "# cloning of list\n",
    "# The process of creating duplicate objects\n",
    "\n",
    "l1 = [10,20,30,40,50]\n",
    "l2 =l1[:]    # clone l1 to l2\n",
    "print(l1)\n",
    "print(l2)\n",
    "\n",
    "l2[0] = 555   # now change o index in l2 only\n",
    "print(l1)\n",
    "print(l2)"
   ]
  },
  {
   "cell_type": "code",
   "execution_count": 62,
   "id": "08f83d6f",
   "metadata": {},
   "outputs": [
    {
     "name": "stdout",
     "output_type": "stream",
     "text": [
      "[10, 20, 30, 40, 50]\n",
      "[10, 20, 30, 40, 50]\n"
     ]
    }
   ],
   "source": [
    "# copy method\n",
    "l1 = [10,20,30,40,50]\n",
    "l2 = l1.copy()\n",
    "print(l1)\n",
    "print(l2)"
   ]
  },
  {
   "cell_type": "code",
   "execution_count": 67,
   "id": "6ac906cf",
   "metadata": {},
   "outputs": [
    {
     "name": "stdout",
     "output_type": "stream",
     "text": [
      "10\n",
      "[80, 90]\n",
      "80\n"
     ]
    }
   ],
   "source": [
    "# nested list\n",
    "l = [10,20,30,40,[80,90]]\n",
    "print(l[0])\n",
    "print(l[4])\n",
    "print(l[4][0])   # accessing nested list"
   ]
  },
  {
   "cell_type": "code",
   "execution_count": 69,
   "id": "1c289300",
   "metadata": {},
   "outputs": [
    {
     "name": "stdout",
     "output_type": "stream",
     "text": [
      "Elements in martix style\n",
      "[10, 20, 30]\n",
      "[40, 50, 60]\n",
      "[70, 80, 90]\n"
     ]
    }
   ],
   "source": [
    "l= [[10,20,30],[40,50,60],[70,80,90]]\n",
    "print(\"Elements in martix style\")\n",
    "for x in l:\n",
    "    print(x)"
   ]
  },
  {
   "cell_type": "code",
   "execution_count": 68,
   "id": "5ccfea3a",
   "metadata": {
    "scrolled": false
   },
   "outputs": [
    {
     "name": "stdout",
     "output_type": "stream",
     "text": [
      "Elements in martix style\n",
      "10 20 30 \n",
      "40 50 60 \n",
      "70 80 90 \n"
     ]
    }
   ],
   "source": [
    "l= [[10,20,30],[40,50,60],[70,80,90]]\n",
    "print(\"Elements in martix style\")\n",
    "for x in l:\n",
    "    for y in x:\n",
    "        print(y,end=\" \")\n",
    "    print()\n"
   ]
  },
  {
   "cell_type": "code",
   "execution_count": 5,
   "id": "f28efb93",
   "metadata": {},
   "outputs": [
    {
     "name": "stdout",
     "output_type": "stream",
     "text": [
      "[1, 4, 9, 16, 25, 36, 49, 64, 81, 100]\n"
     ]
    }
   ],
   "source": [
    "\n",
    "# list comprehension : broad work in single line of code\n",
    "l = [x*x for x in range(1,11)]\n",
    "print(l)"
   ]
  },
  {
   "cell_type": "code",
   "execution_count": 6,
   "id": "f62ee0b3",
   "metadata": {},
   "outputs": [
    {
     "name": "stdout",
     "output_type": "stream",
     "text": [
      "[10, 20, 30, 40, 50, 60, 70, 80, 90, 100]\n"
     ]
    }
   ],
   "source": [
    "# l = [expression for each_element in sequence]\n",
    "# l = [expression for each_element in sequence if condition]\n",
    "\n",
    "#  1-100 which is divisible by 100\n",
    "l = [x for x in range(1,101) if x%10==0]\n",
    "print(l)"
   ]
  },
  {
   "cell_type": "code",
   "execution_count": 7,
   "id": "731f9345",
   "metadata": {},
   "outputs": [
    {
     "name": "stdout",
     "output_type": "stream",
     "text": [
      "['s', 'p', 'b', 'm', 'i']\n"
     ]
    }
   ],
   "source": [
    "# print first letter of each list \n",
    "l = ['sunil','prabin','bishal','manish','ishan']\n",
    "l1 = [ w[0] for w in l]\n",
    "print(l1)"
   ]
  },
  {
   "cell_type": "code",
   "execution_count": 13,
   "id": "5577ab29",
   "metadata": {},
   "outputs": [
    {
     "name": "stdout",
     "output_type": "stream",
     "text": [
      "['The', 'quick', 'brown', 'fox', 'jumps', 'over', 'the', 'lazy', 'dog']\n"
     ]
    }
   ],
   "source": [
    "s = \"The quick brown fox jumps over the lazy dog\"\n",
    "words = s.split()\n",
    "print(words)"
   ]
  },
  {
   "cell_type": "code",
   "execution_count": 16,
   "id": "a3ec471c",
   "metadata": {},
   "outputs": [
    {
     "name": "stdout",
     "output_type": "stream",
     "text": [
      "[['THE', 3], ['QUICK', 5], ['BROWN', 5], ['FOX', 3], ['JUMPS', 5], ['OVER', 4], ['THE', 3], ['LAZY', 4], ['DOG', 3]] "
     ]
    }
   ],
   "source": [
    "s = \"The quick brown fox jumps over the lazy dog\"\n",
    "words = s.split()\n",
    "l = [ [word.upper(),len(word)]for word in words]\n",
    "print(l)"
   ]
  },
  {
   "cell_type": "code",
   "execution_count": null,
   "id": "cd0aba65",
   "metadata": {},
   "outputs": [],
   "source": []
  }
 ],
 "metadata": {
  "kernelspec": {
   "display_name": "Python 3 (ipykernel)",
   "language": "python",
   "name": "python3"
  },
  "language_info": {
   "codemirror_mode": {
    "name": "ipython",
    "version": 3
   },
   "file_extension": ".py",
   "mimetype": "text/x-python",
   "name": "python",
   "nbconvert_exporter": "python",
   "pygments_lexer": "ipython3",
   "version": "3.9.7"
  }
 },
 "nbformat": 4,
 "nbformat_minor": 5
}
