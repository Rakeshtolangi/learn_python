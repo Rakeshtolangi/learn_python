{
 "cells": [
  {
   "cell_type": "markdown",
   "id": "738ff029",
   "metadata": {},
   "source": [
    " ## bytes\n",
    " \n",
    " ##### media file handle ie image,videos,music\n",
    " ##### internally used bytes nad byte array"
   ]
  },
  {
   "cell_type": "code",
   "execution_count": 3,
   "id": "117acda9",
   "metadata": {},
   "outputs": [
    {
     "name": "stdout",
     "output_type": "stream",
     "text": [
      "<class 'bytes'>\n"
     ]
    },
    {
     "data": {
      "text/plain": [
       "b'\\x01\\x02\\x03\\x04\\x05\\x06'"
      ]
     },
     "execution_count": 3,
     "metadata": {},
     "output_type": "execute_result"
    }
   ],
   "source": [
    "l = [1,2,3,4,5,6]\n",
    "b = bytes(l)\n",
    "print(type(b))\n",
    "b"
   ]
  },
  {
   "cell_type": "code",
   "execution_count": 5,
   "id": "4ed430a7",
   "metadata": {},
   "outputs": [
    {
     "name": "stdout",
     "output_type": "stream",
     "text": [
      "1\n",
      "2\n",
      "3\n",
      "4\n",
      "5\n",
      "6\n"
     ]
    }
   ],
   "source": [
    "for sagar in b:     # sagar is just a variable holding value while looping\n",
    "    print(sagar)"
   ]
  },
  {
   "cell_type": "markdown",
   "id": "1200714d",
   "metadata": {},
   "source": [
    "##### can represent values from 0 to 255"
   ]
  },
  {
   "cell_type": "code",
   "execution_count": 12,
   "id": "620f1ccb",
   "metadata": {},
   "outputs": [
    {
     "name": "stdout",
     "output_type": "stream",
     "text": [
      "1\n",
      "<class 'bytes'>\n",
      "b'\\x01\\x02\\x03\\x04\\x05'\n",
      "This is byte object\n"
     ]
    },
    {
     "ename": "TypeError",
     "evalue": "'bytes' object does not support item assignment",
     "output_type": "error",
     "traceback": [
      "\u001b[1;31m---------------------------------------------------------------------------\u001b[0m",
      "\u001b[1;31mTypeError\u001b[0m                                 Traceback (most recent call last)",
      "\u001b[1;32mC:\\Users\\RAKESH~1\\AppData\\Local\\Temp/ipykernel_10644/349727939.py\u001b[0m in \u001b[0;36m<module>\u001b[1;34m\u001b[0m\n\u001b[0;32m      9\u001b[0m \u001b[1;33m\u001b[0m\u001b[0m\n\u001b[0;32m     10\u001b[0m \u001b[1;33m\u001b[0m\u001b[0m\n\u001b[1;32m---> 11\u001b[1;33m \u001b[0mb\u001b[0m\u001b[1;33m[\u001b[0m\u001b[1;36m0\u001b[0m\u001b[1;33m]\u001b[0m \u001b[1;33m=\u001b[0m \u001b[1;36m44\u001b[0m\u001b[1;33m\u001b[0m\u001b[1;33m\u001b[0m\u001b[0m\n\u001b[0m\u001b[0;32m     12\u001b[0m \u001b[1;31m# byte is immutable (ie can't change value)\u001b[0m\u001b[1;33m\u001b[0m\u001b[1;33m\u001b[0m\u001b[0m\n",
      "\u001b[1;31mTypeError\u001b[0m: 'bytes' object does not support item assignment"
     ]
    }
   ],
   "source": [
    "l = [1,2,3,4,5,6,255]\n",
    "b = bytes(l)\n",
    "print(b[0])\n",
    "\n",
    "print(type(b))\n",
    "\n",
    "print(b[0:5])\n",
    "print(\"This is byte object\")\n",
    "\n",
    "\n",
    "b[0] = 44\n",
    "# byte is immutable (ie can't change value)"
   ]
  },
  {
   "cell_type": "code",
   "execution_count": 18,
   "id": "a7b3e794",
   "metadata": {},
   "outputs": [
    {
     "name": "stdout",
     "output_type": "stream",
     "text": [
      "1\n",
      "2\n",
      "3\n",
      "4\n",
      "5\n",
      "\n",
      "\n",
      "new slicing\n",
      "1\n",
      "2\n",
      "3\n",
      "4\n",
      "5\n",
      "6\n",
      "255\n"
     ]
    }
   ],
   "source": [
    "# slicing in byte\n",
    "l = [1,2,3,4,5,6,255]\n",
    "b = bytes(l)\n",
    "c = b[0:5]\n",
    "d = b[::]\n",
    "\n",
    "for x in c:\n",
    "    print(x)\n",
    "print(\"\\n\")\n",
    "print(\"new slicing\")\n",
    "for y in d:\n",
    "    print(y)"
   ]
  },
  {
   "cell_type": "markdown",
   "id": "baf00735",
   "metadata": {},
   "source": [
    "### bytearray\n",
    "\n",
    "#####  exactely as bytes but mutable in nature"
   ]
  },
  {
   "cell_type": "code",
   "execution_count": 22,
   "id": "814824b7",
   "metadata": {},
   "outputs": [
    {
     "name": "stdout",
     "output_type": "stream",
     "text": [
      "<class 'bytearray'>\n",
      "bytearray(b'd\\x14\\x1e(2')\n",
      "100\n",
      "20\n",
      "30\n",
      "40\n",
      "50\n"
     ]
    }
   ],
   "source": [
    "l = [10,20,30,40,50]\n",
    "b = bytearray(l)\n",
    "print(type(b))\n",
    "b[0]= 100         # supports upto 255\n",
    "print(b)\n",
    "\n",
    "for x in b:\n",
    "    print(x)"
   ]
  },
  {
   "cell_type": "code",
   "execution_count": 23,
   "id": "7eb783bf",
   "metadata": {},
   "outputs": [
    {
     "name": "stdout",
     "output_type": "stream",
     "text": [
      "100\n"
     ]
    }
   ],
   "source": [
    "print(b[0])"
   ]
  },
  {
   "cell_type": "code",
   "execution_count": 25,
   "id": "29433b00",
   "metadata": {},
   "outputs": [
    {
     "name": "stdout",
     "output_type": "stream",
     "text": [
      "50\n"
     ]
    }
   ],
   "source": [
    "print(b[-1])"
   ]
  },
  {
   "cell_type": "markdown",
   "id": "97eadbb9",
   "metadata": {},
   "source": [
    "## None data type"
   ]
  },
  {
   "cell_type": "markdown",
   "id": "cf0d5285",
   "metadata": {},
   "source": [
    "###### None is object : which reference to value with nothing or empty\n",
    "\n",
    "######  for further use of variable only for existance "
   ]
  },
  {
   "cell_type": "code",
   "execution_count": 30,
   "id": "40650c8f",
   "metadata": {},
   "outputs": [
    {
     "name": "stdout",
     "output_type": "stream",
     "text": [
      "10\n"
     ]
    }
   ],
   "source": [
    "def f1():\n",
    "    return 10\n",
    "\n",
    "x = f1()\n",
    "print(x)"
   ]
  },
  {
   "cell_type": "code",
   "execution_count": 32,
   "id": "5609bbf1",
   "metadata": {},
   "outputs": [
    {
     "name": "stdout",
     "output_type": "stream",
     "text": [
      "None\n"
     ]
    }
   ],
   "source": [
    "def f1():\n",
    "     pass\n",
    "\n",
    "x = f1()\n",
    "print(x)\n",
    "# creation of object but return nothing then it will return none"
   ]
  },
  {
   "cell_type": "code",
   "execution_count": 33,
   "id": "b2486dde",
   "metadata": {},
   "outputs": [],
   "source": [
    "# existance of None\n"
   ]
  },
  {
   "cell_type": "code",
   "execution_count": 37,
   "id": "f086cc54",
   "metadata": {},
   "outputs": [
    {
     "name": "stdout",
     "output_type": "stream",
     "text": [
      "140705992940760\n",
      "None\n"
     ]
    }
   ],
   "source": [
    "# existance of None\n",
    "a = None\n",
    "print(id(a))\n",
    "# existance of object in this id\n",
    "print(a)"
   ]
  },
  {
   "cell_type": "markdown",
   "id": "234b7304",
   "metadata": {},
   "source": [
    "## escape characters\n"
   ]
  },
  {
   "cell_type": "code",
   "execution_count": 39,
   "id": "0015fcc8",
   "metadata": {},
   "outputs": [
    {
     "name": "stdout",
     "output_type": "stream",
     "text": [
      "sagar's bag\n",
      "sagar's bag\n"
     ]
    }
   ],
   "source": [
    "\"\"\"\n",
    "\\n == new line\n",
    "\\'\n",
    "\"\"\"\n",
    "print(\"sagar's bag\")\n",
    "print('sagar\\'s bag')"
   ]
  },
  {
   "cell_type": "markdown",
   "id": "3580c035",
   "metadata": {},
   "source": [
    "## Comments"
   ]
  },
  {
   "cell_type": "code",
   "execution_count": 40,
   "id": "6d6fb6dc",
   "metadata": {},
   "outputs": [
    {
     "data": {
      "text/plain": [
       "'\\nThis is multiline comment\\nthis is 2nd line \\nthis is 3rd line \\n'"
      ]
     },
     "execution_count": 40,
     "metadata": {},
     "output_type": "execute_result"
    }
   ],
   "source": [
    "# single line comment\n",
    "\n",
    "'''\n",
    "This is multiline comment\n",
    "this is 2nd line \n",
    "this is 3rd line \n",
    "'''"
   ]
  },
  {
   "cell_type": "markdown",
   "id": "a1773d70",
   "metadata": {},
   "source": [
    "# OPERATORS\n",
    "## arthematic operators\n",
    "## relational operators/ comparision\n",
    "## equality operators\n",
    "## logical operators\n",
    "## bitwise operators\n",
    "## shift operators\n",
    "## assignment operators\n",
    "## ternary operators\n",
    "## special operators\n",
    "###### identity \n",
    "###### membership\n",
    "## operators precedence\n",
    "## module\n",
    "## math module"
   ]
  },
  {
   "cell_type": "markdown",
   "id": "515038f1",
   "metadata": {},
   "source": [
    "# arthematic Operator\n",
    "\n",
    "\n"
   ]
  },
  {
   "cell_type": "code",
   "execution_count": 47,
   "id": "53458c42",
   "metadata": {},
   "outputs": [
    {
     "name": "stdout",
     "output_type": "stream",
     "text": [
      "102\n",
      "98\n",
      "200\n",
      "This is float value \n",
      "50.0\n",
      "0\n",
      "10000\n"
     ]
    }
   ],
   "source": [
    "\"\"\"\n",
    "+\n",
    "-\n",
    "*\n",
    "/        #rerutn value in float data type\n",
    "%\n",
    "//        # return value in int data type\n",
    "**\n",
    "\"\"\"\n",
    "\n",
    "a = 100\n",
    "b = 2\n",
    "print(a+b)\n",
    "print(a-b)\n",
    "print(a*b)\n",
    "print(\"This is float value \")\n",
    "print(a/b)  # return float value\n",
    "print(a//b) # return int value\n",
    "print(a%b)\n",
    "\n",
    "\n",
    "\n",
    "print(a**b)"
   ]
  },
  {
   "cell_type": "code",
   "execution_count": 50,
   "id": "be15edf0",
   "metadata": {},
   "outputs": [
    {
     "name": "stdout",
     "output_type": "stream",
     "text": [
      "5.0\n"
     ]
    }
   ],
   "source": [
    "\n",
    "print(10.0//2)"
   ]
  },
  {
   "cell_type": "code",
   "execution_count": 51,
   "id": "89f43504",
   "metadata": {},
   "outputs": [
    {
     "name": "stdout",
     "output_type": "stream",
     "text": [
      "3.3333333333333335\n"
     ]
    }
   ],
   "source": [
    "print(10/3)"
   ]
  },
  {
   "cell_type": "code",
   "execution_count": 52,
   "id": "8bb601e1",
   "metadata": {},
   "outputs": [
    {
     "name": "stdout",
     "output_type": "stream",
     "text": [
      "3\n"
     ]
    }
   ],
   "source": [
    "print(10//3)"
   ]
  },
  {
   "cell_type": "code",
   "execution_count": 53,
   "id": "3db13cd5",
   "metadata": {},
   "outputs": [
    {
     "name": "stdout",
     "output_type": "stream",
     "text": [
      "3.0\n"
     ]
    }
   ],
   "source": [
    "print(10.0//3)"
   ]
  },
  {
   "cell_type": "code",
   "execution_count": 56,
   "id": "b59de35a",
   "metadata": {},
   "outputs": [
    {
     "name": "stdout",
     "output_type": "stream",
     "text": [
      "27\n"
     ]
    }
   ],
   "source": [
    "# power operator **\n",
    "print(3** 3)"
   ]
  },
  {
   "cell_type": "code",
   "execution_count": 57,
   "id": "ec894e0a",
   "metadata": {},
   "outputs": [],
   "source": [
    "# + = both should be string to concatinate\n",
    "# * = one string and one int should be there to multiply"
   ]
  },
  {
   "cell_type": "code",
   "execution_count": 61,
   "id": "bb3ab421",
   "metadata": {},
   "outputs": [
    {
     "name": "stdout",
     "output_type": "stream",
     "text": [
      "RakeshRakeshRakesh\n"
     ]
    }
   ],
   "source": [
    "print('Rakesh' * int('3'))"
   ]
  },
  {
   "cell_type": "code",
   "execution_count": 62,
   "id": "df3e0d13",
   "metadata": {},
   "outputs": [
    {
     "name": "stdout",
     "output_type": "stream",
     "text": [
      "rakesh\n"
     ]
    }
   ],
   "source": [
    "print(\"rakesh\" * True)"
   ]
  },
  {
   "cell_type": "code",
   "execution_count": 64,
   "id": "127e2f85",
   "metadata": {},
   "outputs": [
    {
     "name": "stdout",
     "output_type": "stream",
     "text": [
      "\n"
     ]
    }
   ],
   "source": [
    "print(\"rakesh\" * False)\n",
    "# do not multiply or do not show value"
   ]
  },
  {
   "cell_type": "code",
   "execution_count": 65,
   "id": "a59b49e6",
   "metadata": {},
   "outputs": [
    {
     "ename": "ZeroDivisionError",
     "evalue": "division by zero",
     "output_type": "error",
     "traceback": [
      "\u001b[1;31m---------------------------------------------------------------------------\u001b[0m",
      "\u001b[1;31mZeroDivisionError\u001b[0m                         Traceback (most recent call last)",
      "\u001b[1;32mC:\\Users\\RAKESH~1\\AppData\\Local\\Temp/ipykernel_10644/691874912.py\u001b[0m in \u001b[0;36m<module>\u001b[1;34m\u001b[0m\n\u001b[1;32m----> 1\u001b[1;33m \u001b[0mprint\u001b[0m\u001b[1;33m(\u001b[0m\u001b[1;36m10\u001b[0m\u001b[1;33m/\u001b[0m\u001b[1;36m0\u001b[0m\u001b[1;33m)\u001b[0m\u001b[1;33m\u001b[0m\u001b[1;33m\u001b[0m\u001b[0m\n\u001b[0m\u001b[0;32m      2\u001b[0m \u001b[0mprint\u001b[0m\u001b[1;33m(\u001b[0m\u001b[1;36m10.0\u001b[0m\u001b[1;33m/\u001b[0m\u001b[1;36m0\u001b[0m\u001b[1;33m)\u001b[0m\u001b[1;33m\u001b[0m\u001b[1;33m\u001b[0m\u001b[0m\n\u001b[0;32m      3\u001b[0m \u001b[0mprint\u001b[0m\u001b[1;33m(\u001b[0m\u001b[1;36m10\u001b[0m\u001b[1;33m//\u001b[0m\u001b[1;36m0\u001b[0m\u001b[1;33m)\u001b[0m\u001b[1;33m\u001b[0m\u001b[1;33m\u001b[0m\u001b[0m\n\u001b[0;32m      4\u001b[0m \u001b[0mprint\u001b[0m\u001b[1;33m(\u001b[0m\u001b[1;36m10.0\u001b[0m\u001b[1;33m//\u001b[0m\u001b[1;36m0\u001b[0m\u001b[1;33m)\u001b[0m\u001b[1;33m\u001b[0m\u001b[1;33m\u001b[0m\u001b[0m\n\u001b[0;32m      5\u001b[0m \u001b[0mprint\u001b[0m\u001b[1;33m(\u001b[0m\u001b[1;36m10\u001b[0m\u001b[1;33m)\u001b[0m\u001b[1;33m\u001b[0m\u001b[1;33m\u001b[0m\u001b[0m\n",
      "\u001b[1;31mZeroDivisionError\u001b[0m: division by zero"
     ]
    }
   ],
   "source": [
    "print(10/0)\n",
    "print(10.0/0)\n",
    "print(10//0)\n",
    "print(10.0//0)\n",
    "print(10%0)"
   ]
  },
  {
   "cell_type": "markdown",
   "id": "3be30843",
   "metadata": {},
   "source": [
    "# Relational operators/ Comparision operator\n",
    "\n",
    "#### >,>=, <, <="
   ]
  },
  {
   "cell_type": "code",
   "execution_count": 67,
   "id": "876ed747",
   "metadata": {},
   "outputs": [
    {
     "name": "stdout",
     "output_type": "stream",
     "text": [
      "True\n",
      "False\n",
      "True\n",
      "False\n"
     ]
    }
   ],
   "source": [
    "a = 10\n",
    "b = 20\n",
    "\n",
    "print(a<b)\n",
    "print(a>b)\n",
    "print(a<=b)\n",
    "print(a>=b)"
   ]
  },
  {
   "cell_type": "code",
   "execution_count": 68,
   "id": "27b0a87b",
   "metadata": {},
   "outputs": [
    {
     "name": "stdout",
     "output_type": "stream",
     "text": [
      "True\n"
     ]
    }
   ],
   "source": [
    "# also applicable for string\n",
    "c = \"dhiraj\"\n",
    "d = \"ishan\"\n",
    "\n",
    "print(c<d)\n",
    "\n",
    "#  ASCII code conversion"
   ]
  },
  {
   "cell_type": "code",
   "execution_count": 69,
   "id": "660db7bc",
   "metadata": {},
   "outputs": [
    {
     "name": "stdout",
     "output_type": "stream",
     "text": [
      "82\n"
     ]
    }
   ],
   "source": [
    "# ASCII code\n",
    "print(ord(\"R\"))"
   ]
  },
  {
   "cell_type": "code",
   "execution_count": 71,
   "id": "b2447e41",
   "metadata": {},
   "outputs": [
    {
     "name": "stdout",
     "output_type": "stream",
     "text": [
      "A\n"
     ]
    }
   ],
   "source": [
    "print(chr(65))"
   ]
  },
  {
   "cell_type": "code",
   "execution_count": null,
   "id": "647e679d",
   "metadata": {},
   "outputs": [],
   "source": []
  }
 ],
 "metadata": {
  "kernelspec": {
   "display_name": "Python 3 (ipykernel)",
   "language": "python",
   "name": "python3"
  },
  "language_info": {
   "codemirror_mode": {
    "name": "ipython",
    "version": 3
   },
   "file_extension": ".py",
   "mimetype": "text/x-python",
   "name": "python",
   "nbconvert_exporter": "python",
   "pygments_lexer": "ipython3",
   "version": "3.9.7"
  }
 },
 "nbformat": 4,
 "nbformat_minor": 5
}
