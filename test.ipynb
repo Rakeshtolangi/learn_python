{
 "cells": [
  {
   "cell_type": "code",
   "execution_count": 2,
   "id": "debc0979",
   "metadata": {},
   "outputs": [
    {
     "name": "stdout",
     "output_type": "stream",
     "text": [
      "20\n",
      "10\n"
     ]
    }
   ],
   "source": [
    "a = 10\n",
    "b = 20\n",
    "a , b = b, a\n",
    "print(a)\n",
    "print(b)"
   ]
  },
  {
   "cell_type": "code",
   "execution_count": 24,
   "id": "e35a4d3f",
   "metadata": {},
   "outputs": [
    {
     "name": "stdout",
     "output_type": "stream",
     "text": [
      "55 is greater than 1 and 9\n"
     ]
    }
   ],
   "source": [
    "# largest of there numbers\n",
    "a = 1\n",
    "b = 9\n",
    "c = 55\n",
    "\n",
    "if a > b and a > c:\n",
    "    print(f'{a} is greater than {b} and {c}')\n",
    "elif b > a and b > c:\n",
    "    print(f'{b} is greater than {a} and {c}')\n",
    "else:\n",
    "    print(f'{c} is greater than {a} and {b}')"
   ]
  },
  {
   "cell_type": "code",
   "execution_count": 20,
   "id": "e4e708e5",
   "metadata": {},
   "outputs": [
    {
     "name": "stdout",
     "output_type": "stream",
     "text": [
      "9\n"
     ]
    }
   ],
   "source": [
    "a = 1\n",
    "b = 9\n",
    "c = 5\n",
    "\n",
    "if a > b and a > c:\n",
    "    print(a)\n",
    "elif b > a and b > c:\n",
    "    print(b)\n",
    "else:\n",
    "    print(c)\n",
    "\n"
   ]
  },
  {
   "cell_type": "code",
   "execution_count": 32,
   "id": "77ebdcb8",
   "metadata": {},
   "outputs": [
    {
     "name": "stdout",
     "output_type": "stream",
     "text": [
      "Enter 1st number: 5\n",
      "Enter 2nd number: 4\n",
      "Enter 3rd number: 3\n",
      "5\n",
      "4\n"
     ]
    }
   ],
   "source": [
    "a = int(input(\"Enter 1st number: \"))\n",
    "b = int(input(\"Enter 2nd number: \"))\n",
    "c = int(input(\"Enter 3rd number: \"))\n",
    "\n",
    "if a > b > c:\n",
    "    print(a)\n",
    "    if b >c:\n",
    "        print(b)\n",
    "else:\n",
    "    print(c)"
   ]
  },
  {
   "cell_type": "code",
   "execution_count": null,
   "id": "a625b21c",
   "metadata": {},
   "outputs": [],
   "source": [
    "# WAP to find the middle number of 3 number\n",
    "\n",
    "a = 5\n",
    "b = 6\n",
    "c = 7\n",
    "\n",
    "if a > b or a"
   ]
  },
  {
   "cell_type": "code",
   "execution_count": 35,
   "id": "a3711589",
   "metadata": {},
   "outputs": [
    {
     "name": "stdout",
     "output_type": "stream",
     "text": [
      "Enter 1st number: 4\n",
      "Enter 2nd number: 3\n",
      "Enter 3rd number: 1\n",
      "3 is a middle number\n"
     ]
    }
   ],
   "source": [
    "a = int(input(\"Enter 1st number: \"))\n",
    "b = int(input(\"Enter 2nd number: \"))\n",
    "c = int(input(\"Enter 3rd number: \"))\n",
    "\n",
    "if(b>a and a>c or c>a and a>b):\n",
    "    print(a, \"is a middle number\")\n",
    "    \n",
    "if(a>b and b>c or c>b and b>a):\n",
    "    print(b, \"is a middle number\")\n",
    "if(a>c and c>b or b>c and c>a):\n",
    "    print(c, \"is a middle number\")"
   ]
  },
  {
   "cell_type": "code",
   "execution_count": 33,
   "id": "94ac1fb0",
   "metadata": {},
   "outputs": [
    {
     "ename": "SyntaxError",
     "evalue": "invalid syntax (Temp/ipykernel_15752/468540982.py, line 5)",
     "output_type": "error",
     "traceback": [
      "\u001b[1;36m  File \u001b[1;32m\"C:\\Users\\RAKESH~1\\AppData\\Local\\Temp/ipykernel_15752/468540982.py\"\u001b[1;36m, line \u001b[1;32m5\u001b[0m\n\u001b[1;33m    if ((a < b && b < c) || (c < b && b <a)):\u001b[0m\n\u001b[1;37m                ^\u001b[0m\n\u001b[1;31mSyntaxError\u001b[0m\u001b[1;31m:\u001b[0m invalid syntax\n"
     ]
    }
   ],
   "source": [
    "a = int(input(\"Enter 1st number: \"))\n",
    "b = int(input(\"Enter 2nd number: \"))\n",
    "c = int(input(\"Enter 3rd number: \"))\n",
    "\n",
    "if ((a < b && b < c) || (c < b && b <a)):\n",
    "    print(b)\n",
    "\n",
    "elif ((b < a && a < c) || (c < a && a < b)) :\n",
    "    print(a)\n",
    "\n",
    "else:\n",
    "    print(c)"
   ]
  },
  {
   "cell_type": "code",
   "execution_count": null,
   "id": "b877256a",
   "metadata": {},
   "outputs": [],
   "source": []
  }
 ],
 "metadata": {
  "kernelspec": {
   "display_name": "Python 3 (ipykernel)",
   "language": "python",
   "name": "python3"
  },
  "language_info": {
   "codemirror_mode": {
    "name": "ipython",
    "version": 3
   },
   "file_extension": ".py",
   "mimetype": "text/x-python",
   "name": "python",
   "nbconvert_exporter": "python",
   "pygments_lexer": "ipython3",
   "version": "3.9.7"
  }
 },
 "nbformat": 4,
 "nbformat_minor": 5
}
