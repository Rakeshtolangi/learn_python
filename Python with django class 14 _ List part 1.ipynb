{
 "cells": [
  {
   "cell_type": "markdown",
   "id": "0833906a",
   "metadata": {},
   "source": [
    "# list"
   ]
  },
  {
   "cell_type": "code",
   "execution_count": 1,
   "id": "c6d3ab49",
   "metadata": {},
   "outputs": [
    {
     "data": {
      "text/plain": [
       "'\\nwant to represent group of data a single entity\\nwhere order is preserved\\nduplication is allowed\\n\\n'"
      ]
     },
     "execution_count": 1,
     "metadata": {},
     "output_type": "execute_result"
    }
   ],
   "source": [
    "\"\"\"\n",
    "want to represent group of data a single entity\n",
    "where order is preserved\n",
    "duplication is allowed\n",
    "\n",
    "\"\"\""
   ]
  },
  {
   "cell_type": "code",
   "execution_count": 3,
   "id": "af3e7dc0",
   "metadata": {},
   "outputs": [
    {
     "name": "stdout",
     "output_type": "stream",
     "text": [
      "[10, 'sunil', 25.5]\n"
     ]
    }
   ],
   "source": [
    "l = []\n",
    "l.append(10)\n",
    "\n",
    "l.append('sunil')\n",
    "l.append(25.5)\n",
    "\n",
    "print(l)"
   ]
  },
  {
   "cell_type": "markdown",
   "id": "9410f423",
   "metadata": {},
   "source": [
    "## features of list"
   ]
  },
  {
   "cell_type": "code",
   "execution_count": 4,
   "id": "a2ac04b9",
   "metadata": {},
   "outputs": [
    {
     "data": {
      "text/plain": [
       "'\\ninsertion order is preserved      # input order is preserved\\nduplication is allowed\\nheterogenous in nature\\ngrowable in nature\\nlist is mutable\\n'"
      ]
     },
     "execution_count": 4,
     "metadata": {},
     "output_type": "execute_result"
    }
   ],
   "source": [
    "\"\"\"\n",
    "insertion order is preserved      # input order is preserved\n",
    "duplication is allowed\n",
    "heterogenous in nature\n",
    "growable in nature\n",
    "list is mutable\n",
    "\"\"\""
   ]
  },
  {
   "cell_type": "code",
   "execution_count": 5,
   "id": "22d345e3",
   "metadata": {},
   "outputs": [
    {
     "name": "stdout",
     "output_type": "stream",
     "text": [
      "[10, 20, 40]\n"
     ]
    }
   ],
   "source": [
    "l = [10,20,30]\n",
    "l[2] = 40\n",
    "print(l)"
   ]
  },
  {
   "cell_type": "code",
   "execution_count": 6,
   "id": "7b81a7c7",
   "metadata": {},
   "outputs": [
    {
     "name": "stdout",
     "output_type": "stream",
     "text": [
      "[]\n"
     ]
    }
   ],
   "source": [
    "# creation of list\n",
    "# empty list\n",
    "l = []\n",
    "print(l)"
   ]
  },
  {
   "cell_type": "code",
   "execution_count": 7,
   "id": "d842ac45",
   "metadata": {},
   "outputs": [
    {
     "name": "stdout",
     "output_type": "stream",
     "text": [
      "[10, 20, 30, 40]\n",
      "<class 'list'>\n"
     ]
    }
   ],
   "source": [
    "# if we know the value already\n",
    "\n",
    "l=[10,20,30,40]\n",
    "print(l)\n",
    "print(type(l))"
   ]
  },
  {
   "cell_type": "code",
   "execution_count": 9,
   "id": "156fc1a6",
   "metadata": {},
   "outputs": [
    {
     "name": "stdout",
     "output_type": "stream",
     "text": [
      "Enter list10,20,30\n",
      "10,20,30\n",
      "<class 'str'>\n"
     ]
    }
   ],
   "source": [
    "# with dynamic input\n",
    "l=input(\"Enter list\")\n",
    "print(l)\n",
    "print(type(l))"
   ]
  },
  {
   "cell_type": "code",
   "execution_count": 11,
   "id": "e8fe39f1",
   "metadata": {},
   "outputs": [
    {
     "name": "stdout",
     "output_type": "stream",
     "text": [
      "Enter list[10,20,30,40]\n",
      "[10, 20, 30, 40]\n",
      "<class 'list'>\n"
     ]
    }
   ],
   "source": [
    "# with dynamic input\n",
    "l= eval(input(\"Enter list\"))\n",
    "print(l)\n",
    "print(type(l))"
   ]
  },
  {
   "cell_type": "code",
   "execution_count": 12,
   "id": "bb980704",
   "metadata": {},
   "outputs": [
    {
     "name": "stdout",
     "output_type": "stream",
     "text": [
      "Rakesh\n"
     ]
    },
    {
     "data": {
      "text/plain": [
       "str"
      ]
     },
     "execution_count": 12,
     "metadata": {},
     "output_type": "execute_result"
    }
   ],
   "source": [
    "# list()\n",
    "l= 'Rakesh'\n",
    "print(l)\n",
    "type(l)"
   ]
  },
  {
   "cell_type": "code",
   "execution_count": 13,
   "id": "bc83213d",
   "metadata": {},
   "outputs": [
    {
     "name": "stdout",
     "output_type": "stream",
     "text": [
      "['r', 'a', 'k', 'e', 's', 'h']\n",
      "<class 'list'>\n"
     ]
    }
   ],
   "source": [
    "l = list('rakesh')\n",
    "print(l)\n",
    "print(type(l))"
   ]
  },
  {
   "cell_type": "code",
   "execution_count": 17,
   "id": "2c33aeca",
   "metadata": {},
   "outputs": [
    {
     "name": "stdout",
     "output_type": "stream",
     "text": [
      "range(0, 9, 2)\n",
      "<class 'range'>\n"
     ]
    }
   ],
   "source": [
    "# any secequence into list\n",
    "l = range(0,9,2)\n",
    "print(l)\n",
    "print(type(l))"
   ]
  },
  {
   "cell_type": "code",
   "execution_count": 16,
   "id": "2fbe3182",
   "metadata": {},
   "outputs": [
    {
     "name": "stdout",
     "output_type": "stream",
     "text": [
      "[0, 2, 4, 6, 8]\n",
      "<class 'list'>\n"
     ]
    }
   ],
   "source": [
    "# any secequence into list\n",
    "l = list(range(0,9,2))\n",
    "print(l)\n",
    "print(type(l))"
   ]
  },
  {
   "cell_type": "code",
   "execution_count": 18,
   "id": "fb0391a3",
   "metadata": {},
   "outputs": [
    {
     "name": "stdout",
     "output_type": "stream",
     "text": [
      "['Learnig', 'python', 'is', 'easy']\n"
     ]
    }
   ],
   "source": [
    "# by splitting string\n",
    "s = \"Learnig python is easy\"\n",
    "l = s.split()\n",
    "print(l)"
   ]
  },
  {
   "cell_type": "code",
   "execution_count": 20,
   "id": "f2393c71",
   "metadata": {},
   "outputs": [
    {
     "name": "stdout",
     "output_type": "stream",
     "text": [
      "40\n"
     ]
    },
    {
     "ename": "IndexError",
     "evalue": "list index out of range",
     "output_type": "error",
     "traceback": [
      "\u001b[1;31m---------------------------------------------------------------------------\u001b[0m",
      "\u001b[1;31mIndexError\u001b[0m                                Traceback (most recent call last)",
      "\u001b[1;32mC:\\Users\\RAKESH~1\\AppData\\Local\\Temp/ipykernel_7448/1199415368.py\u001b[0m in \u001b[0;36m<module>\u001b[1;34m\u001b[0m\n\u001b[0;32m      5\u001b[0m \u001b[0ml\u001b[0m \u001b[1;33m=\u001b[0m \u001b[1;33m[\u001b[0m\u001b[1;36m10\u001b[0m\u001b[1;33m,\u001b[0m\u001b[1;36m20\u001b[0m\u001b[1;33m,\u001b[0m\u001b[1;36m30\u001b[0m\u001b[1;33m,\u001b[0m\u001b[1;36m40\u001b[0m\u001b[1;33m]\u001b[0m\u001b[1;33m\u001b[0m\u001b[1;33m\u001b[0m\u001b[0m\n\u001b[0;32m      6\u001b[0m \u001b[0mprint\u001b[0m\u001b[1;33m(\u001b[0m\u001b[0ml\u001b[0m\u001b[1;33m[\u001b[0m\u001b[1;33m-\u001b[0m\u001b[1;36m1\u001b[0m\u001b[1;33m]\u001b[0m\u001b[1;33m)\u001b[0m\u001b[1;33m\u001b[0m\u001b[1;33m\u001b[0m\u001b[0m\n\u001b[1;32m----> 7\u001b[1;33m \u001b[0mprint\u001b[0m\u001b[1;33m(\u001b[0m\u001b[0ml\u001b[0m\u001b[1;33m[\u001b[0m\u001b[1;36m100\u001b[0m\u001b[1;33m]\u001b[0m\u001b[1;33m)\u001b[0m\u001b[1;33m\u001b[0m\u001b[1;33m\u001b[0m\u001b[0m\n\u001b[0m",
      "\u001b[1;31mIndexError\u001b[0m: list index out of range"
     ]
    }
   ],
   "source": [
    "# Accessing elements of list\n",
    "# index\n",
    "# slice operator\n",
    "\n",
    "l = [10,20,30,40]\n",
    "print(l[-1])\n",
    "print(l[100])"
   ]
  },
  {
   "cell_type": "code",
   "execution_count": 27,
   "id": "07967140",
   "metadata": {},
   "outputs": [
    {
     "name": "stdout",
     "output_type": "stream",
     "text": [
      "[30, 40, 50, 60, 70]\n",
      "[90, 70, 50]\n"
     ]
    }
   ],
   "source": [
    "# slice operator\n",
    "# l[begin:end:step]\n",
    "\n",
    "l = [10,20,30,40,50,60,70,80,90,120]\n",
    "\n",
    "print(l[2:7])\n",
    "print(l[8:2:-2])"
   ]
  },
  {
   "cell_type": "code",
   "execution_count": 30,
   "id": "66d63120",
   "metadata": {},
   "outputs": [
    {
     "name": "stdout",
     "output_type": "stream",
     "text": [
      "10\n",
      "20\n",
      "30\n",
      "40\n",
      "50\n",
      "60\n",
      "70\n",
      "80\n",
      "90\n",
      "120\n"
     ]
    }
   ],
   "source": [
    "# Traversing of lis     # read every element on the list\n",
    "\n",
    "l = [10,20,30,40,50,60,70,80,90,120]\n",
    "\n",
    "for x in l:\n",
    "    print(x)"
   ]
  },
  {
   "cell_type": "code",
   "execution_count": 33,
   "id": "c7c7b119",
   "metadata": {},
   "outputs": [
    {
     "name": "stdout",
     "output_type": "stream",
     "text": [
      "10\n",
      "20\n",
      "30\n",
      "40\n",
      "50\n",
      "60\n",
      "70\n",
      "80\n",
      "90\n",
      "120\n"
     ]
    }
   ],
   "source": [
    "# in case of while loop\n",
    "l = [10,20,30,40,50,60,70,80,90,120]\n",
    "\n",
    "i = 0\n",
    "while i<len(l):            # loop execute up until this condition is true\n",
    "    print(l[i])\n",
    "    i = i+1"
   ]
  },
  {
   "cell_type": "code",
   "execution_count": 38,
   "id": "1e699974",
   "metadata": {},
   "outputs": [
    {
     "name": "stdout",
     "output_type": "stream",
     "text": [
      "even number 2\n",
      "even number 4\n",
      "even number 6\n",
      "even number 8\n"
     ]
    }
   ],
   "source": [
    "# print even number form the list given below\n",
    "a = [1,2,3,4,5,6,7,8,9]\n",
    "\n",
    "for x in a:\n",
    "    if x%2 == 0:\n",
    "        print(\"even number\",x)\n",
    "        "
   ]
  },
  {
   "cell_type": "code",
   "execution_count": 39,
   "id": "77ece2f0",
   "metadata": {},
   "outputs": [],
   "source": [
    "# Mathematical operators\n",
    "\n",
    "# concationation operators(+)\n",
    "# repitation operator(*)"
   ]
  },
  {
   "cell_type": "code",
   "execution_count": 41,
   "id": "0b7eb895",
   "metadata": {},
   "outputs": [
    {
     "name": "stdout",
     "output_type": "stream",
     "text": [
      "[1, 2, 3, 4, 5, 6, 5, 6, 7, 8, 9, 10]\n"
     ]
    }
   ],
   "source": [
    "# concationation operators(+)\n",
    "l1 = [1,2,3,4,5,6]\n",
    "l2 = [5,6,7,8,9,10]\n",
    "print (l1+l2)\n"
   ]
  },
  {
   "cell_type": "code",
   "execution_count": 42,
   "id": "6ec68ba6",
   "metadata": {},
   "outputs": [
    {
     "ename": "TypeError",
     "evalue": "can only concatenate list (not \"int\") to list",
     "output_type": "error",
     "traceback": [
      "\u001b[1;31m---------------------------------------------------------------------------\u001b[0m",
      "\u001b[1;31mTypeError\u001b[0m                                 Traceback (most recent call last)",
      "\u001b[1;32mC:\\Users\\RAKESH~1\\AppData\\Local\\Temp/ipykernel_7448/627212880.py\u001b[0m in \u001b[0;36m<module>\u001b[1;34m\u001b[0m\n\u001b[0;32m      1\u001b[0m \u001b[0ml1\u001b[0m \u001b[1;33m=\u001b[0m \u001b[1;33m[\u001b[0m\u001b[1;36m1\u001b[0m\u001b[1;33m,\u001b[0m\u001b[1;36m2\u001b[0m\u001b[1;33m,\u001b[0m\u001b[1;36m3\u001b[0m\u001b[1;33m,\u001b[0m\u001b[1;36m4\u001b[0m\u001b[1;33m,\u001b[0m\u001b[1;36m5\u001b[0m\u001b[1;33m,\u001b[0m\u001b[1;36m6\u001b[0m\u001b[1;33m]\u001b[0m\u001b[1;33m\u001b[0m\u001b[1;33m\u001b[0m\u001b[0m\n\u001b[0;32m      2\u001b[0m \u001b[0ml2\u001b[0m \u001b[1;33m=\u001b[0m \u001b[1;36m110\u001b[0m\u001b[1;33m\u001b[0m\u001b[1;33m\u001b[0m\u001b[0m\n\u001b[1;32m----> 3\u001b[1;33m \u001b[0mprint\u001b[0m \u001b[1;33m(\u001b[0m\u001b[0ml1\u001b[0m\u001b[1;33m+\u001b[0m\u001b[0ml2\u001b[0m\u001b[1;33m)\u001b[0m\u001b[1;33m\u001b[0m\u001b[1;33m\u001b[0m\u001b[0m\n\u001b[0m",
      "\u001b[1;31mTypeError\u001b[0m: can only concatenate list (not \"int\") to list"
     ]
    }
   ],
   "source": [
    "l1 = [1,2,3,4,5,6]\n",
    "l2 = 110             # this is in list so not compatable\n",
    "print (l1+l2)\n"
   ]
  },
  {
   "cell_type": "code",
   "execution_count": 43,
   "id": "746d7960",
   "metadata": {},
   "outputs": [
    {
     "name": "stdout",
     "output_type": "stream",
     "text": [
      "[1, 2, 3, 4, 5, 6, 110]\n"
     ]
    }
   ],
   "source": [
    "l1 = [1,2,3,4,5,6]\n",
    "l2 = [110]             # this is in list so not compatable\n",
    "print (l1+l2)"
   ]
  },
  {
   "cell_type": "code",
   "execution_count": 44,
   "id": "9581078e",
   "metadata": {},
   "outputs": [
    {
     "name": "stdout",
     "output_type": "stream",
     "text": [
      "[10, 20, 10, 20]\n"
     ]
    }
   ],
   "source": [
    "# repitation operator(*)\n",
    "# multiplication operator(*)\n",
    "\n",
    "l =[10,20]\n",
    "print(l*2)"
   ]
  },
  {
   "cell_type": "code",
   "execution_count": 46,
   "id": "128113f5",
   "metadata": {},
   "outputs": [
    {
     "ename": "TypeError",
     "evalue": "can't multiply sequence by non-int of type 'float'",
     "output_type": "error",
     "traceback": [
      "\u001b[1;31m---------------------------------------------------------------------------\u001b[0m",
      "\u001b[1;31mTypeError\u001b[0m                                 Traceback (most recent call last)",
      "\u001b[1;32mC:\\Users\\RAKESH~1\\AppData\\Local\\Temp/ipykernel_7448/2076797554.py\u001b[0m in \u001b[0;36m<module>\u001b[1;34m\u001b[0m\n\u001b[0;32m      1\u001b[0m \u001b[0ml\u001b[0m \u001b[1;33m=\u001b[0m\u001b[1;33m[\u001b[0m\u001b[1;36m10\u001b[0m\u001b[1;33m,\u001b[0m\u001b[1;36m20\u001b[0m\u001b[1;33m]\u001b[0m\u001b[1;33m\u001b[0m\u001b[1;33m\u001b[0m\u001b[0m\n\u001b[1;32m----> 2\u001b[1;33m \u001b[0mprint\u001b[0m\u001b[1;33m(\u001b[0m\u001b[0ml\u001b[0m\u001b[1;33m*\u001b[0m\u001b[1;36m2.3\u001b[0m\u001b[1;33m)\u001b[0m   \u001b[1;31m# least one of them should be integer to multiply\u001b[0m\u001b[1;33m\u001b[0m\u001b[1;33m\u001b[0m\u001b[0m\n\u001b[0m",
      "\u001b[1;31mTypeError\u001b[0m: can't multiply sequence by non-int of type 'float'"
     ]
    }
   ],
   "source": [
    "\n",
    "l =[10,20]\n",
    "print(l*2.3)   # least one of them should be integer to multiply"
   ]
  },
  {
   "cell_type": "code",
   "execution_count": 48,
   "id": "46f3251d",
   "metadata": {},
   "outputs": [
    {
     "ename": "TypeError",
     "evalue": "can't multiply sequence by non-int of type 'list'",
     "output_type": "error",
     "traceback": [
      "\u001b[1;31m---------------------------------------------------------------------------\u001b[0m",
      "\u001b[1;31mTypeError\u001b[0m                                 Traceback (most recent call last)",
      "\u001b[1;32mC:\\Users\\RAKESH~1\\AppData\\Local\\Temp/ipykernel_7448/2040190274.py\u001b[0m in \u001b[0;36m<module>\u001b[1;34m\u001b[0m\n\u001b[0;32m      1\u001b[0m \u001b[0ml\u001b[0m \u001b[1;33m=\u001b[0m\u001b[1;33m[\u001b[0m\u001b[1;36m10\u001b[0m\u001b[1;33m,\u001b[0m\u001b[1;36m20\u001b[0m\u001b[1;33m]\u001b[0m\u001b[1;33m\u001b[0m\u001b[1;33m\u001b[0m\u001b[0m\n\u001b[0;32m      2\u001b[0m \u001b[0ml1\u001b[0m \u001b[1;33m=\u001b[0m \u001b[1;33m[\u001b[0m\u001b[1;36m10\u001b[0m\u001b[1;33m,\u001b[0m\u001b[1;36m20\u001b[0m\u001b[1;33m]\u001b[0m\u001b[1;33m\u001b[0m\u001b[1;33m\u001b[0m\u001b[0m\n\u001b[1;32m----> 3\u001b[1;33m \u001b[0mprint\u001b[0m\u001b[1;33m(\u001b[0m\u001b[0ml\u001b[0m\u001b[1;33m*\u001b[0m\u001b[0ml1\u001b[0m\u001b[1;33m)\u001b[0m      \u001b[1;31m# one item should be integer to multiply\u001b[0m\u001b[1;33m\u001b[0m\u001b[1;33m\u001b[0m\u001b[0m\n\u001b[0m",
      "\u001b[1;31mTypeError\u001b[0m: can't multiply sequence by non-int of type 'list'"
     ]
    }
   ],
   "source": [
    "\n",
    "l =[10,20]\n",
    "l1 = [10,20]\n",
    "print(l*l1)      # one item should be integer to multiply"
   ]
  },
  {
   "cell_type": "code",
   "execution_count": 50,
   "id": "91e456ec",
   "metadata": {},
   "outputs": [
    {
     "name": "stdout",
     "output_type": "stream",
     "text": [
      "True\n",
      "False\n"
     ]
    }
   ],
   "source": [
    "# equality operator for list  (== or !=)\n",
    "l1=['dog','cat','rat']\n",
    "l2=['dog','cat','rat']\n",
    "l3=['cat','dog','rat']\n",
    "print(l1==l2)        # order of the element should be same\n",
    "print(l1==l3)   # number of elements should be same\n",
    "print(l)        # content also should be same"
   ]
  },
  {
   "cell_type": "code",
   "execution_count": 51,
   "id": "6a338f1a",
   "metadata": {},
   "outputs": [
    {
     "name": "stdout",
     "output_type": "stream",
     "text": [
      "True\n",
      "True\n",
      "False\n",
      "False\n"
     ]
    }
   ],
   "source": [
    "# Relational operator for list (<  <=  > >= )\n",
    "# check item item in the lsit to compare in relation operator\n",
    "\n",
    "l1 = [10,20,30,40]\n",
    "l2 = [50,60]\n",
    "print(l1<l2)    #false\n",
    "print(l1<=l2)   #false\n",
    "print(l1>l2)    #True\n",
    "print(l1>=l2)    #True"
   ]
  },
  {
   "cell_type": "code",
   "execution_count": 52,
   "id": "abe01a27",
   "metadata": {},
   "outputs": [],
   "source": [
    "# relational operator check 1st element on the index\n",
    "# if found greater the value in 1st index it gives greater value index\""
   ]
  },
  {
   "cell_type": "code",
   "execution_count": 53,
   "id": "30b5ebee",
   "metadata": {},
   "outputs": [
    {
     "name": "stdout",
     "output_type": "stream",
     "text": [
      "True\n"
     ]
    }
   ],
   "source": [
    "# menbership operator  (in, not in)\n",
    "\n",
    "l1 = [10,20,30,40]\n",
    "print(20 in l1)"
   ]
  },
  {
   "cell_type": "code",
   "execution_count": 54,
   "id": "66420621",
   "metadata": {},
   "outputs": [
    {
     "name": "stdout",
     "output_type": "stream",
     "text": [
      "True\n"
     ]
    }
   ],
   "source": [
    "l1 = [10,20,30,40]\n",
    "print(200 not in l1)"
   ]
  },
  {
   "cell_type": "code",
   "execution_count": null,
   "id": "0d49bbd4",
   "metadata": {},
   "outputs": [],
   "source": [
    "\"\"\"\n",
    "print(l)\n",
    "and \n",
    "l.append()\n",
    "\n",
    "why we use it\n",
    "\n",
    "  if we use any variable inside it is pre-built function/method\n",
    "  print(l) l= function \n",
    "\n",
    "when we use l.append() l is class specific method. l= method because if a function is written inside the class then it \n",
    "    is called method.\n",
    "\n",
    "\n",
    "if function is written inside the class then it is called method\n",
    "\"\"\""
   ]
  },
  {
   "cell_type": "code",
   "execution_count": null,
   "id": "c467d660",
   "metadata": {},
   "outputs": [],
   "source": [
    "# # To get information about list\n",
    "# len()\n",
    "# count()\n",
    "# index()\n",
    "\n",
    "# all above is python specific function becoz we have to pass variable inside the function\n",
    "#  call or used behind the function"
   ]
  },
  {
   "cell_type": "code",
   "execution_count": 57,
   "id": "a1e39dd8",
   "metadata": {},
   "outputs": [
    {
     "name": "stdout",
     "output_type": "stream",
     "text": [
      "7\n"
     ]
    }
   ],
   "source": [
    "# len()\n",
    "l= [10,20,30,40,50,60,70]\n",
    "print(len(l))"
   ]
  },
  {
   "cell_type": "code",
   "execution_count": 63,
   "id": "e7667209",
   "metadata": {},
   "outputs": [
    {
     "name": "stdout",
     "output_type": "stream",
     "text": [
      "4\n"
     ]
    }
   ],
   "source": [
    "# count\n",
    "l= [10,20,30,40,50,60,10,10,20,50,10,70]\n",
    "print(l.count(10))"
   ]
  },
  {
   "cell_type": "code",
   "execution_count": 66,
   "id": "500b7f31",
   "metadata": {},
   "outputs": [
    {
     "name": "stdout",
     "output_type": "stream",
     "text": [
      "6\n"
     ]
    }
   ],
   "source": [
    "# inded\n",
    "l= [40,20,30,40,50,60,10,10,20,50,10,70]\n",
    "print(l.index(10))   # first occurance of the index() \n",
    "\n",
    "# index is both string specific and list specific"
   ]
  },
  {
   "cell_type": "code",
   "execution_count": 67,
   "id": "d17a4c0b",
   "metadata": {},
   "outputs": [
    {
     "ename": "ValueError",
     "evalue": "8 is not in list",
     "output_type": "error",
     "traceback": [
      "\u001b[1;31m---------------------------------------------------------------------------\u001b[0m",
      "\u001b[1;31mValueError\u001b[0m                                Traceback (most recent call last)",
      "\u001b[1;32mC:\\Users\\RAKESH~1\\AppData\\Local\\Temp/ipykernel_7448/3796691265.py\u001b[0m in \u001b[0;36m<module>\u001b[1;34m\u001b[0m\n\u001b[0;32m      1\u001b[0m \u001b[1;31m# inded\u001b[0m\u001b[1;33m\u001b[0m\u001b[1;33m\u001b[0m\u001b[0m\n\u001b[0;32m      2\u001b[0m \u001b[0ml\u001b[0m\u001b[1;33m=\u001b[0m \u001b[1;33m[\u001b[0m\u001b[1;36m40\u001b[0m\u001b[1;33m,\u001b[0m\u001b[1;36m20\u001b[0m\u001b[1;33m,\u001b[0m\u001b[1;36m30\u001b[0m\u001b[1;33m,\u001b[0m\u001b[1;36m40\u001b[0m\u001b[1;33m,\u001b[0m\u001b[1;36m50\u001b[0m\u001b[1;33m,\u001b[0m\u001b[1;36m60\u001b[0m\u001b[1;33m,\u001b[0m\u001b[1;36m10\u001b[0m\u001b[1;33m,\u001b[0m\u001b[1;36m10\u001b[0m\u001b[1;33m,\u001b[0m\u001b[1;36m20\u001b[0m\u001b[1;33m,\u001b[0m\u001b[1;36m50\u001b[0m\u001b[1;33m,\u001b[0m\u001b[1;36m10\u001b[0m\u001b[1;33m,\u001b[0m\u001b[1;36m70\u001b[0m\u001b[1;33m]\u001b[0m\u001b[1;33m\u001b[0m\u001b[1;33m\u001b[0m\u001b[0m\n\u001b[1;32m----> 3\u001b[1;33m \u001b[0mprint\u001b[0m\u001b[1;33m(\u001b[0m\u001b[0ml\u001b[0m\u001b[1;33m.\u001b[0m\u001b[0mindex\u001b[0m\u001b[1;33m(\u001b[0m\u001b[1;36m8\u001b[0m\u001b[1;33m)\u001b[0m\u001b[1;33m)\u001b[0m   \u001b[1;31m# checks the element first and return index\u001b[0m\u001b[1;33m\u001b[0m\u001b[1;33m\u001b[0m\u001b[0m\n\u001b[0m",
      "\u001b[1;31mValueError\u001b[0m: 8 is not in list"
     ]
    }
   ],
   "source": [
    "# inded\n",
    "l= [40,20,30,40,50,60,10,10,20,50,10,70]\n",
    "print(l.index(8))   # checks the element first and return index\n"
   ]
  },
  {
   "cell_type": "code",
   "execution_count": 73,
   "id": "ab69d7c8",
   "metadata": {},
   "outputs": [
    {
     "name": "stdout",
     "output_type": "stream",
     "text": [
      "Enter element: 10\n",
      "10 present at index: 0\n",
      "20 present at index: 1\n",
      "30 present at index: 2\n",
      "40 present at index: 3\n",
      "10 present at index: 0\n",
      "60 present at index: 5\n",
      "10 present at index: 0\n",
      "10 present at index: 0\n",
      "20 present at index: 1\n",
      "50 present at index: 9\n",
      "10 present at index: 0\n",
      "70 present at index: 11\n",
      "70\n"
     ]
    }
   ],
   "source": [
    "l= [10,20,30,40,10,60,10,10,20,50,10,70]\n",
    "\n",
    "x = int(input(\"Enter element: \"))\n",
    "for x in l:\n",
    "    print(f'{x} present at index: {l.index(x)}')\n",
    "else:\n",
    "    print(x,)"
   ]
  },
  {
   "cell_type": "code",
   "execution_count": 92,
   "id": "b7e97750",
   "metadata": {},
   "outputs": [
    {
     "name": "stdout",
     "output_type": "stream",
     "text": [
      "Enter element: 10\n",
      "10 present at position 0\n",
      "10 present at position 4\n",
      "10 present at position 6\n",
      "10 present at position 7\n",
      "10 present at position 10\n"
     ]
    }
   ],
   "source": [
    "# find how many number is input number and find the index inside list\n",
    "l= [10,20,30,40,10,60,10,10,20,50,10,70]\n",
    "\n",
    "x = int(input(\"Enter element: \"))\n",
    "\n",
    "j = 0\n",
    "for k in l:\n",
    "    if k==x:\n",
    "        print(f'{x} present at position {l.index(x,j,len(l))}')\n",
    "    j+=1"
   ]
  },
  {
   "cell_type": "code",
   "execution_count": 79,
   "id": "e09cc1ee",
   "metadata": {},
   "outputs": [
    {
     "name": "stdout",
     "output_type": "stream",
     "text": [
      "[10, 20, 30]\n"
     ]
    }
   ],
   "source": [
    "# Manupulating list\n",
    "\n",
    "# append() = add element in list\n",
    "# append add element at the end of the list\n",
    "\n",
    "l = []\n",
    "l.append(10)\n",
    "l.append(20)\n",
    "l.append(30)\n",
    "print(l)\n"
   ]
  },
  {
   "cell_type": "code",
   "execution_count": 80,
   "id": "8feba8f1",
   "metadata": {},
   "outputs": [
    {
     "name": "stdout",
     "output_type": "stream",
     "text": [
      "[10, 20, 30, 40, 50, 60, 70, 80, 90, 100]\n"
     ]
    }
   ],
   "source": [
    "l = []\n",
    "for x in range(1,101):\n",
    "    if x%10==0:\n",
    "        l.append(x)\n",
    "\n",
    "print(l)"
   ]
  },
  {
   "cell_type": "code",
   "execution_count": 81,
   "id": "0e29410e",
   "metadata": {},
   "outputs": [
    {
     "name": "stdout",
     "output_type": "stream",
     "text": [
      "[10, 20, 1000, 30]\n"
     ]
    }
   ],
   "source": [
    "# insert()\n",
    "\n",
    "# add element in specified position in list we use insert()\n",
    "# l.insert(index,element)\n",
    "\n",
    "l = [10,20,30]\n",
    "l.insert(2,1000)\n",
    "print(l)"
   ]
  },
  {
   "cell_type": "code",
   "execution_count": 83,
   "id": "b18e8a87",
   "metadata": {},
   "outputs": [
    {
     "name": "stdout",
     "output_type": "stream",
     "text": [
      "[10, 20, 30, 1000]\n"
     ]
    }
   ],
   "source": [
    " l = [10,20,30]\n",
    "l.insert(100,1000)    # add element at the last if it  out of range\n",
    "print(l)"
   ]
  },
  {
   "cell_type": "code",
   "execution_count": 85,
   "id": "520c1e4b",
   "metadata": {},
   "outputs": [
    {
     "name": "stdout",
     "output_type": "stream",
     "text": [
      "[1000, 10, 20, 30]\n"
     ]
    }
   ],
   "source": [
    "l = [10,20,30]\n",
    "l.insert(-100,1000)    # add element at the first if it has negative indexing\n",
    "print(l)"
   ]
  },
  {
   "cell_type": "code",
   "execution_count": null,
   "id": "8a3daba4",
   "metadata": {},
   "outputs": [],
   "source": [
    "# extend()"
   ]
  }
 ],
 "metadata": {
  "kernelspec": {
   "display_name": "Python 3 (ipykernel)",
   "language": "python",
   "name": "python3"
  },
  "language_info": {
   "codemirror_mode": {
    "name": "ipython",
    "version": 3
   },
   "file_extension": ".py",
   "mimetype": "text/x-python",
   "name": "python",
   "nbconvert_exporter": "python",
   "pygments_lexer": "ipython3",
   "version": "3.9.7"
  }
 },
 "nbformat": 4,
 "nbformat_minor": 5
}
