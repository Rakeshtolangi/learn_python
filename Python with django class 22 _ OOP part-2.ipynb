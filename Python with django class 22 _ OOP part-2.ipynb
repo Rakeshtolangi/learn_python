{
 "cells": [
  {
   "cell_type": "markdown",
   "id": "48d222c1",
   "metadata": {},
   "source": [
    "# Types of variables\n",
    "1. Instance variable\n",
    "2. static variables\n",
    "3. Local variables\n"
   ]
  },
  {
   "cell_type": "markdown",
   "id": "980bc564",
   "metadata": {},
   "source": [
    "## 1. Instance variable\n",
    "#### if value of variable differ from object to object is called instance varible"
   ]
  },
  {
   "cell_type": "code",
   "execution_count": 4,
   "id": "8f5c5276",
   "metadata": {},
   "outputs": [
    {
     "ename": "SyntaxError",
     "evalue": "invalid syntax (Temp/ipykernel_10500/791645482.py, line 4)",
     "output_type": "error",
     "traceback": [
      "\u001b[1;36m  File \u001b[1;32m\"C:\\Users\\RAKESH~1\\AppData\\Local\\Temp/ipykernel_10500/791645482.py\"\u001b[1;36m, line \u001b[1;32m4\u001b[0m\n\u001b[1;33m    clsss Student:\u001b[0m\n\u001b[1;37m          ^\u001b[0m\n\u001b[1;31mSyntaxError\u001b[0m\u001b[1;31m:\u001b[0m invalid syntax\n"
     ]
    }
   ],
   "source": [
    "\n",
    "\n",
    "clsss Student:\n",
    "    def __init__(self,name,roll):\n",
    "#         self.name = name\n",
    "#         self.roll = roll\n",
    "        \n",
    "\n",
    "#     self is always there while creting constructor. and while calling variable inside class self is used. if self is there then it is called instance variable.\n",
    "\n"
   ]
  },
  {
   "cell_type": "markdown",
   "id": "b0b7ecc9",
   "metadata": {},
   "source": [
    "# 2. Static variable\n",
    "##### value of variable not change with respect to object created.\n",
    "\n",
    "1. school is variable\n",
    "2. no of object can access school variable \n",
    "3.   so school is same for all objects created inside class"
   ]
  },
  {
   "cell_type": "code",
   "execution_count": 11,
   "id": "80f8aa43",
   "metadata": {},
   "outputs": [
    {
     "name": "stdout",
     "output_type": "stream",
     "text": [
      "hello rakesh\n",
      "roll 23\n"
     ]
    }
   ],
   "source": [
    "\n",
    "\n",
    "class Student:\n",
    "    school_name = \"jana priya school\"\n",
    "    def __init__(self,name,roll):\n",
    "        self.name = name\n",
    "        self.roll = roll\n",
    "        \n",
    "    def std(self):\n",
    "        print(\"hello\",self.name)\n",
    "        print(\"roll\", self.roll)\n",
    "        \n",
    "        \n",
    "s = Student(\"rakesh\", 23)\n",
    "s.std()\n",
    "\n"
   ]
  },
  {
   "cell_type": "code",
   "execution_count": 15,
   "id": "9500d129",
   "metadata": {},
   "outputs": [
    {
     "name": "stdout",
     "output_type": "stream",
     "text": [
      "1\n",
      "2\n",
      "3\n",
      "4\n",
      "5\n",
      "6\n",
      "7\n",
      "8\n",
      "9\n"
     ]
    }
   ],
   "source": [
    "# 3. local variable\n",
    "\n",
    "def info():\n",
    "    x = 10\n",
    "    for i in range(1,10):\n",
    "        print(i)\n",
    "        \n",
    "info()\n",
    "\n",
    "# x = 10 is local variable because variable x can only used inside info function."
   ]
  },
  {
   "cell_type": "markdown",
   "id": "a732e03e",
   "metadata": {},
   "source": [
    "## # Types fo method\n",
    "\n",
    "1. Instance method \n",
    "\n",
    "    ->if you use at least one instance variable inside method then that is instance method.\n",
    "    \n",
    "    ->first argument of instance method is always self.\n",
    "\n",
    "2. Class method\n",
    "\n",
    "    ->no instance variable inside class(ie. no self parameter used) = class method\n",
    "    \n",
    "    -> @classmethod should be present at the top of the method \n",
    "    \n",
    "    -> compolsory cls variable is used inside class parameter\n",
    "    \n",
    "\n",
    "3. static method\n",
    "\n",
    "    -> created for temporary purpose \n",
    "    \n",
    "    ->Both instane and class method are not allowed to used while creating static method\n",
    "    \n",
    "    -> compolsory use @staticmethod decorator\n",
    "\n"
   ]
  },
  {
   "cell_type": "code",
   "execution_count": null,
   "id": "b2dc04b9",
   "metadata": {},
   "outputs": [],
   "source": [
    "# 1. Instance method \n",
    "\"\"\"\n",
    "1. Instance method \n",
    "    -> object to object value difference \n",
    "    ->if you use at least one instance variable inside method then that is instance method.\n",
    "    ->first argument of instance method is always self.\n",
    "\n",
    "\"\"\"\n",
    "class Student:\n",
    "    school_name = \"jana priya school\"\n",
    "    def __init__(self,name,roll):\n",
    "        self.name = name\n",
    "        self.roll = roll\n",
    "        \n",
    "    def std(self):\n",
    "        print(\"hello\",self.name)\n",
    "        print(\"roll\", self.roll)"
   ]
  },
  {
   "cell_type": "code",
   "execution_count": 17,
   "id": "141dc0b8",
   "metadata": {},
   "outputs": [
    {
     "ename": "NameError",
     "evalue": "name 'name' is not defined",
     "output_type": "error",
     "traceback": [
      "\u001b[1;31m---------------------------------------------------------------------------\u001b[0m",
      "\u001b[1;31mNameError\u001b[0m                                 Traceback (most recent call last)",
      "\u001b[1;32mC:\\Users\\RAKESH~1\\AppData\\Local\\Temp/ipykernel_10500/2653984195.py\u001b[0m in \u001b[0;36m<module>\u001b[1;34m\u001b[0m\n\u001b[0;32m     15\u001b[0m \u001b[1;33m\u001b[0m\u001b[0m\n\u001b[0;32m     16\u001b[0m \u001b[0ms\u001b[0m \u001b[1;33m=\u001b[0m \u001b[0mStudent\u001b[0m\u001b[1;33m(\u001b[0m\u001b[1;34m\"rakesh\"\u001b[0m\u001b[1;33m,\u001b[0m \u001b[1;36m23\u001b[0m\u001b[1;33m)\u001b[0m\u001b[1;33m\u001b[0m\u001b[1;33m\u001b[0m\u001b[0m\n\u001b[1;32m---> 17\u001b[1;33m \u001b[0ms\u001b[0m\u001b[1;33m.\u001b[0m\u001b[0mstd\u001b[0m\u001b[1;33m(\u001b[0m\u001b[1;33m)\u001b[0m\u001b[1;33m\u001b[0m\u001b[1;33m\u001b[0m\u001b[0m\n\u001b[0m",
      "\u001b[1;32mC:\\Users\\RAKESH~1\\AppData\\Local\\Temp/ipykernel_10500/2653984195.py\u001b[0m in \u001b[0;36mstd\u001b[1;34m(cls)\u001b[0m\n\u001b[0;32m     10\u001b[0m     \u001b[1;33m@\u001b[0m\u001b[0mclassmethod\u001b[0m\u001b[1;33m\u001b[0m\u001b[1;33m\u001b[0m\u001b[0m\n\u001b[0;32m     11\u001b[0m     \u001b[1;32mdef\u001b[0m \u001b[0mstd\u001b[0m\u001b[1;33m(\u001b[0m\u001b[0mcls\u001b[0m\u001b[1;33m)\u001b[0m\u001b[1;33m:\u001b[0m\u001b[1;33m\u001b[0m\u001b[1;33m\u001b[0m\u001b[0m\n\u001b[1;32m---> 12\u001b[1;33m         \u001b[0mprint\u001b[0m\u001b[1;33m(\u001b[0m\u001b[1;34m\"hello\"\u001b[0m\u001b[1;33m,\u001b[0m\u001b[0mname\u001b[0m\u001b[1;33m)\u001b[0m\u001b[1;33m\u001b[0m\u001b[1;33m\u001b[0m\u001b[0m\n\u001b[0m\u001b[0;32m     13\u001b[0m         \u001b[0mprint\u001b[0m\u001b[1;33m(\u001b[0m\u001b[1;34m\"roll\"\u001b[0m\u001b[1;33m,\u001b[0m \u001b[0mroll\u001b[0m\u001b[1;33m)\u001b[0m\u001b[1;33m\u001b[0m\u001b[1;33m\u001b[0m\u001b[0m\n\u001b[0;32m     14\u001b[0m \u001b[1;33m\u001b[0m\u001b[0m\n",
      "\u001b[1;31mNameError\u001b[0m: name 'name' is not defined"
     ]
    }
   ],
   "source": [
    "# 2. Class method\n",
    "\"\"\"\n",
    "2. Class method\n",
    "    ->no instance variable inside class(ie. no self parameter used) = class method\n",
    "    -> @classmethod should be present at the top of the method \n",
    "    -> compolsory cls variable is used inside class\n",
    "\n",
    "\"\"\"\n",
    "    @classmethod   \n",
    "    def std(cls):\n",
    "        print(\"hello\",name)\n",
    "        print(\"roll\", roll)\n",
    "        \n"
   ]
  },
  {
   "cell_type": "code",
   "execution_count": null,
   "id": "0f3ee57f",
   "metadata": {},
   "outputs": [],
   "source": [
    "# 3. static method\n",
    "\n",
    "\"\"\"\n",
    "3. static method\n",
    "    -> created for temporary purpose \n",
    "    ->Both instane and class method are not allowed to used while creating static method\n",
    "    -> compolsory use @staticmethod decorator\n",
    "\"\"\"\n",
    "\n",
    "@staticmethod\n",
    "def add(a,b):\n",
    "    return a+b"
   ]
  },
  {
   "cell_type": "markdown",
   "id": "bbb5beb7",
   "metadata": {},
   "source": [
    "#### NOTE:\n",
    "\n",
    "1. static variable used @classmethod\n",
    "2. local variable can be used in any method\n",
    "3. self is not the first parameter for every method"
   ]
  },
  {
   "cell_type": "markdown",
   "id": "bdb539b1",
   "metadata": {},
   "source": [
    "# Complete story of instance variable"
   ]
  },
  {
   "cell_type": "markdown",
   "id": "9d2969a5",
   "metadata": {},
   "source": [
    "# 1. Instance variable\n",
    "\n",
    "1. 60% of instance variable are declared inside constructor.\n",
    "2. mandatory variable are declared inside constructor\n",
    "\n",
    "\n",
    "#  Various Place to Declare Instance Variable\n",
    "\n",
    "1. Inside constructor    ( using self parameter)\n",
    "2. Inside instance method   ( using self parameter)\n",
    "3. outside the class        ( using object reference variable)\n"
   ]
  },
  {
   "cell_type": "code",
   "execution_count": 25,
   "id": "4a9d3371",
   "metadata": {},
   "outputs": [
    {
     "name": "stdout",
     "output_type": "stream",
     "text": [
      "{'a': 10, 'b': 20}\n",
      "instane variable c is not declared \n",
      "{'a': 10, 'b': 20, 'c': 30}\n",
      "To call instance method you should declare object ie. m1() in this case \n"
     ]
    }
   ],
   "source": [
    "class Test:\n",
    "    def __init__(self):    # this is constructor\n",
    "        self.a = 10\n",
    "        self.b = 20\n",
    "        \n",
    "    def m1(self):    # this is instance method\n",
    "        self.c = 30\n",
    "        \n",
    "t = Test()     \n",
    "print(t.__dict__)\n",
    "print(\"instane variable c is not declared \")\n",
    "t.m1()\n",
    "print(t.__dict__)\n",
    "\n",
    "print(\"To call instance method you should declare object ie. m1() in this case \")"
   ]
  },
  {
   "cell_type": "code",
   "execution_count": 29,
   "id": "2f3693a8",
   "metadata": {},
   "outputs": [
    {
     "name": "stdout",
     "output_type": "stream",
     "text": [
      "{'a': 10, 'b': 20, 'd': 40}\n",
      "no. of instance variable is differ in python programming language\n",
      "{'a': 10, 'b': 20}\n"
     ]
    }
   ],
   "source": [
    "# Instacne variable call using outside the class\n",
    "class Test:\n",
    "    def __init__(self):    # this is constructor\n",
    "        self.a = 10\n",
    "        self.b = 20\n",
    "        \n",
    "    def m1(self):    # this is instance method\n",
    "        self.c = 30\n",
    "        \n",
    "        \n",
    "t = Test()\n",
    "t.d = 40        # call instance variable outside the class\n",
    "print(t.__dict__)\n",
    "\n",
    "print(\"no. of instance variable is differ in python programming language\")\n",
    "t1 = Test()\n",
    "print(t1.__dict__)"
   ]
  },
  {
   "cell_type": "markdown",
   "id": "201e4166",
   "metadata": {},
   "source": [
    "# How to access instance variable\n",
    "\n",
    "1. use self variable if inside the class\n",
    "2. use object reference variable if outside the class"
   ]
  },
  {
   "cell_type": "code",
   "execution_count": 34,
   "id": "0c1409e5",
   "metadata": {
    "scrolled": true
   },
   "outputs": [
    {
     "name": "stdout",
     "output_type": "stream",
     "text": [
      "access instance variable inside the class\n",
      "10\n",
      "20\n",
      "\n",
      "access instance variable outside the class\n",
      "10\n",
      "20\n"
     ]
    }
   ],
   "source": [
    "# access instance variable\n",
    "class Test:\n",
    "    def __init__(self):\n",
    "        self.a = 10\n",
    "        self.b = 20\n",
    "        \n",
    "    def display(self):\n",
    "        print(self.a)\n",
    "        print(self.b)\n",
    "        \n",
    "t = Test()\n",
    "print(\"access instance variable inside the class\")\n",
    "t.display()\n",
    "print()\n",
    "\n",
    "print(\"access instance variable outside the class\")\n",
    "print(t.a)\n",
    "print(t.b)"
   ]
  },
  {
   "cell_type": "code",
   "execution_count": 38,
   "id": "fd00769c",
   "metadata": {},
   "outputs": [
    {
     "name": "stdout",
     "output_type": "stream",
     "text": [
      "all variables present inside class\n",
      "{'a': 10, 'b': 20, 'c': 30, 'd': 40}\n",
      "\n",
      "after delete instance variable from inside class\n",
      "{'a': 10, 'b': 20, 'd': 40}\n"
     ]
    }
   ],
   "source": [
    "# delete instance variable two methods \n",
    "\n",
    "# delete instance variable from inside the class\n",
    "class Test:\n",
    "    def __init__(self):\n",
    "        self.a = 10\n",
    "        self.b = 20\n",
    "        self.c = 30\n",
    "        self.d = 40\n",
    "        \n",
    "    def m1(self):\n",
    "        del self.c\n",
    "        \n",
    "t = Test()    # always create reference varaible after creating class\n",
    "print(\"all variables present inside class\")\n",
    "print(t.__dict__)\n",
    "\n",
    "print()\n",
    "\n",
    "print(\"after delete instance variable from inside class\")\n",
    "t.m1()\n",
    "print(t.__dict__)"
   ]
  },
  {
   "cell_type": "code",
   "execution_count": 41,
   "id": "9378d9a4",
   "metadata": {},
   "outputs": [
    {
     "name": "stdout",
     "output_type": "stream",
     "text": [
      "{'a': 10, 'b': 20, 'c': 30, 'd': 40}\n",
      "instance variable b is deleted from outside the function\n",
      "{'a': 10, 'c': 30, 'd': 40}\n"
     ]
    }
   ],
   "source": [
    "#  delete instance variable outside the class\n",
    "\n",
    "class Test:\n",
    "    def __init__(self):\n",
    "        self.a = 10\n",
    "        self.b = 20\n",
    "        self.c = 30\n",
    "        self.d = 40\n",
    "        \n",
    "    def m1(self):\n",
    "        del self.c\n",
    "        \n",
    "t = Test()\n",
    "print(t.__dict__)\n",
    "\n",
    "print(\"instance variable b is deleted from outside the function\")\n",
    "del t.b\n",
    "print(t.__dict__)"
   ]
  },
  {
   "cell_type": "markdown",
   "id": "25545ace",
   "metadata": {},
   "source": [
    "###### # multiple variable delete"
   ]
  },
  {
   "cell_type": "code",
   "execution_count": 43,
   "id": "bd35819e",
   "metadata": {},
   "outputs": [
    {
     "name": "stdout",
     "output_type": "stream",
     "text": [
      "{'a': 10, 'b': 20, 'c': 30, 'd': 40}\n",
      "multiple variable delection outside the class\n",
      "{'c': 30, 'd': 40}\n"
     ]
    }
   ],
   "source": [
    "# multiple variable delete\n",
    "\n",
    "class Test:\n",
    "    def __init__(self):\n",
    "        self.a = 10\n",
    "        self.b = 20\n",
    "        self.c = 30\n",
    "        self.d = 40\n",
    "        \n",
    "    def m1(self):\n",
    "        del self.c\n",
    "        \n",
    "t = Test()\n",
    "\n",
    "print(t.__dict__)\n",
    "print(\"multiple variable delection outside the class\")\n",
    "del t.b, t.a\n",
    "\n",
    "print(t.__dict__)"
   ]
  },
  {
   "cell_type": "markdown",
   "id": "b3aeb8b5",
   "metadata": {},
   "source": [
    "##### Updating Instance variable"
   ]
  },
  {
   "cell_type": "code",
   "execution_count": 44,
   "id": "8f50220e",
   "metadata": {},
   "outputs": [
    {
     "name": "stdout",
     "output_type": "stream",
     "text": [
      "5000 8000\n"
     ]
    }
   ],
   "source": [
    "#  update Instance variable\n",
    "\n",
    "class Test:\n",
    "    def __init__(self):\n",
    "        self.a = 10\n",
    "        self.b = 20\n",
    "        \n",
    "t = Test()\n",
    "t.a = 5000\n",
    "t.b = 8000\n",
    "print(t.a,t.b)"
   ]
  },
  {
   "cell_type": "markdown",
   "id": "48bff448",
   "metadata": {},
   "source": [
    "#### static variable\n",
    "\n",
    "1. declared inside class but outside the method\n",
    "2. every object created takes same value declared inside static variable.\n",
    "\n",
    "3. only instance variable/ instance method object declare needed not needed in static variabel (ie. static variable no need for object creation)\n",
    "\n",
    "4. static variable is no way related to object. (no need for object in stactic variable)"
   ]
  },
  {
   "cell_type": "code",
   "execution_count": 46,
   "id": "da4a237f",
   "metadata": {},
   "outputs": [
    {
     "name": "stdout",
     "output_type": "stream",
     "text": [
      "{'__module__': '__main__', 'a': 10, '__init__': <function Test.__init__ at 0x000001D86BB98AF0>, '__dict__': <attribute '__dict__' of 'Test' objects>, '__weakref__': <attribute '__weakref__' of 'Test' objects>, '__doc__': None}\n"
     ]
    }
   ],
   "source": [
    "# declare inside class but outside method. How to access variable?\n",
    "class Test:\n",
    "    a = 10    # static variable\n",
    "    def __init__(self):\n",
    "        pass\n",
    "    \n",
    "print(Test.__dict__)"
   ]
  },
  {
   "cell_type": "code",
   "execution_count": 59,
   "id": "6c27b0e4",
   "metadata": {},
   "outputs": [
    {
     "name": "stdout",
     "output_type": "stream",
     "text": [
      "{'__module__': '__main__', 'a': 10, '__init__': <function Test.__init__ at 0x000001D86BB985E0>, 'm1': <function Test.m1 at 0x000001D86BB980D0>, '__dict__': <attribute '__dict__' of 'Test' objects>, '__weakref__': <attribute '__weakref__' of 'Test' objects>, '__doc__': None, 'b': 20, 'c': 400}\n",
      "\n",
      "After calling m1 method\n",
      "{'__module__': '__main__', 'a': 10, '__init__': <function Test.__init__ at 0x000001D86BB985E0>, 'm1': <function Test.m1 at 0x000001D86BB980D0>, '__dict__': <attribute '__dict__' of 'Test' objects>, '__weakref__': <attribute '__weakref__' of 'Test' objects>, '__doc__': None, 'b': 20, 'c': 400, 'd': 7000}\n"
     ]
    }
   ],
   "source": [
    "#  How to access variable declared inside constructor?\n",
    "class Test:\n",
    "    a = 10    # static variable\n",
    "    def __init__(self):\n",
    "        Test.b=20      # class_name.variable (to create static varaible inside constructor)\n",
    "        Test.c=400\n",
    "        \n",
    "    def m1(self):\n",
    "        Test.d=7000\n",
    "        \n",
    "t= Test()\n",
    "print(Test.__dict__)\n",
    "print()\n",
    "print(\"After calling m1 method\")\n",
    "t.m1()\n",
    "print(Test.__dict__)"
   ]
  },
  {
   "cell_type": "markdown",
   "id": "b5da2bc2",
   "metadata": {},
   "source": [
    "#### Using classmethod in static variable\n",
    "\n",
    "1. @classmethod\n",
    "2. cls as first argument\n",
    "3. class name for accessing variable    (standard use)\n",
    "4. OR use cls for accessing variable\n",
    "5. No need to create object in @classmethod"
   ]
  },
  {
   "cell_type": "code",
   "execution_count": 6,
   "id": "2f025fca",
   "metadata": {},
   "outputs": [
    {
     "name": "stdout",
     "output_type": "stream",
     "text": [
      "accessing variable using classmethod\n",
      "calling variable using object\n",
      "{'__module__': '__main__', 'a': 10, '__init__': <function Test.__init__ at 0x0000014755052B80>, 'm2': <classmethod object at 0x0000014755083070>, '__dict__': <attribute '__dict__' of 'Test' objects>, '__weakref__': <attribute '__weakref__' of 'Test' objects>, '__doc__': None, 'b': 20, 'c': 400, 'd': 7000, 'e': 9000}\n",
      "\n",
      "calling without object\n",
      "{'__module__': '__main__', 'a': 10, '__init__': <function Test.__init__ at 0x0000014755052B80>, 'm2': <classmethod object at 0x0000014755083070>, '__dict__': <attribute '__dict__' of 'Test' objects>, '__weakref__': <attribute '__weakref__' of 'Test' objects>, '__doc__': None, 'b': 20, 'c': 400, 'd': 7000, 'e': 9000}\n"
     ]
    }
   ],
   "source": [
    "class Test:\n",
    "    a = 10    # static variable\n",
    "    def __init__(self):\n",
    "        Test.b=20     \n",
    "        Test.c=400\n",
    "        \n",
    "    @classmethod   \n",
    "    def m2(cls):\n",
    "        Test.d=7000\n",
    "        cls.e = 9000\n",
    "        \n",
    "t = Test()\n",
    "print(\"accessing variable using classmethod\")\n",
    "print(\"calling variable using object\")\n",
    "t.m2()\n",
    "print(Test.__dict__)\n",
    "\n",
    "print()\n",
    "print(\"calling without object\")\n",
    "Test.m2()\n",
    "print((Test.__dict__))"
   ]
  },
  {
   "cell_type": "markdown",
   "id": "b13e9f28",
   "metadata": {},
   "source": [
    "# static method\n",
    "\n",
    "1. must use @staticmethod decorator\n",
    "2. there is no parameter passed\n",
    "3. can be accessed using class_name\n",
    "4. can be accessed using object"
   ]
  },
  {
   "cell_type": "markdown",
   "id": "6a51db5d",
   "metadata": {},
   "source": [
    "#### How to declare static variable"
   ]
  },
  {
   "cell_type": "code",
   "execution_count": 18,
   "id": "278baa75",
   "metadata": {},
   "outputs": [
    {
     "name": "stdout",
     "output_type": "stream",
     "text": [
      "calling variable using method\n",
      "{'__module__': '__main__', '__init__': <function Test.__init__ at 0x000001475513F790>, 'm3': <staticmethod object at 0x000001475513EB20>, '__dict__': <attribute '__dict__' of 'Test' objects>, '__weakref__': <attribute '__weakref__' of 'Test' objects>, '__doc__': None, 'R': 23}\n",
      "\n",
      "declare static variable outside class\n",
      "{'__module__': '__main__', '__init__': <function Test.__init__ at 0x000001475513F790>, 'm3': <staticmethod object at 0x000001475513EB20>, '__dict__': <attribute '__dict__' of 'Test' objects>, '__weakref__': <attribute '__weakref__' of 'Test' objects>, '__doc__': None, 'R': 23, 'g': 90}\n"
     ]
    }
   ],
   "source": [
    "class Test:\n",
    "    def __init__(self):\n",
    "        pass\n",
    "    \n",
    "    @staticmethod\n",
    "    def m3():\n",
    "        Test.R = 23\n",
    "\n",
    "t = Test()\n",
    "print(\"calling variable using method\")\n",
    "t.m3()\n",
    "print(Test.__dict__)\n",
    "print()\n",
    "print(\"declare static variable outside class\")\n",
    "Test.g=90\n",
    "print(Test.__dict__)\n"
   ]
  },
  {
   "cell_type": "markdown",
   "id": "c47c79af",
   "metadata": {},
   "source": [
    "# How to access static variable\n",
    "\n",
    "1. whenever static variable is there then use class_name as bellow. eg: (Test.a)"
   ]
  },
  {
   "cell_type": "code",
   "execution_count": 21,
   "id": "a9e5afbd",
   "metadata": {},
   "outputs": [
    {
     "name": "stdout",
     "output_type": "stream",
     "text": [
      "10\n",
      "10\n"
     ]
    }
   ],
   "source": [
    "class Test:\n",
    "    a = 10\n",
    "    def __init__(self):\n",
    "        print(Test.a)\n",
    "    \n",
    "    def m1(self):\n",
    "        print(Test.a)\n",
    "        \n",
    "#     access static variable using @classmethod\n",
    "\n",
    "    @classmethod\n",
    "    def m2(cls):\n",
    "        print(Test.a)\n",
    "        print(cls.a)\n",
    "        \n",
    "#      access static variable using @staticmethod\n",
    "    \n",
    "    @staticmethod\n",
    "    def m3(): \n",
    "        print(Test.a)\n",
    "\n",
    "\n",
    "\n",
    "t = Test()\n",
    "t.m1()    \n",
    "t.m2()\n",
    "t.m3()\n",
    "print(Test.a)\n"
   ]
  },
  {
   "cell_type": "markdown",
   "id": "b42b0a98",
   "metadata": {},
   "source": [
    "#### where we can modify static variable"
   ]
  },
  {
   "cell_type": "code",
   "execution_count": 9,
   "id": "9c796c8d",
   "metadata": {},
   "outputs": [
    {
     "name": "stdout",
     "output_type": "stream",
     "text": [
      "10\n",
      "after initialize constructor \n",
      "70\n"
     ]
    }
   ],
   "source": [
    "class Test:\n",
    "    a = 10\n",
    "    def __init__(self):\n",
    "        Test.a = 20\n",
    "        \n",
    "    def m1(self):    # instane method\n",
    "        Test.a = 30\n",
    "        \n",
    "        \n",
    "#     classmethod\n",
    "    @classmethod\n",
    "    def m2(cls):\n",
    "        Test.a = 40\n",
    "#         cls.a=50\n",
    "\n",
    "# static method\n",
    "    @staticmethod\n",
    "    def m3():\n",
    "        Test.a = 60\n",
    "        \n",
    "print(Test.a)\n",
    "print(\"after initialize constructor \")\n",
    "t = Test()\n",
    "t.m1()    # calling instance method\n",
    "t.m2()    # calling class method\n",
    "t.m3()\n",
    "\n",
    "# modify static variable outside class\n",
    "Test.a=70\n",
    "\n",
    "print(Test.a)"
   ]
  },
  {
   "cell_type": "code",
   "execution_count": 10,
   "id": "1b684cd8",
   "metadata": {},
   "outputs": [
    {
     "name": "stdout",
     "output_type": "stream",
     "text": [
      "10\n",
      "8000\n"
     ]
    }
   ],
   "source": [
    "class Test:\n",
    "    a = 10\n",
    "    def m1(self):\n",
    "        self.a = 8000\n",
    "\n",
    "t1 = Test()\n",
    "t1.m1()\n",
    "print(Test.a)    # class level calling a = 10\n",
    "print(t1.a)    # object level calling a = 8000"
   ]
  },
  {
   "cell_type": "code",
   "execution_count": 12,
   "id": "7206412a",
   "metadata": {},
   "outputs": [
    {
     "name": "stdout",
     "output_type": "stream",
     "text": [
      "8000\n",
      "8000\n"
     ]
    }
   ],
   "source": [
    "class Test:\n",
    "    a = 10\n",
    "    def m1(self):\n",
    "        Test.a = 8000    # static variable a is updated when Test.a is declared\n",
    "\n",
    "t1 = Test()\n",
    "t1.m1()\n",
    "print(Test.a)\n",
    "print(t1.a)"
   ]
  },
  {
   "cell_type": "code",
   "execution_count": 16,
   "id": "e93f44be",
   "metadata": {},
   "outputs": [
    {
     "name": "stdout",
     "output_type": "stream",
     "text": [
      "10 10\n",
      "20 20\n"
     ]
    }
   ],
   "source": [
    "class Test:\n",
    "    a = 10\n",
    "    def __init__(self):\n",
    "        self.b=20\n",
    "        \n",
    "t1=Test()\n",
    "t2=Test()\n",
    "\n",
    "print(t1.a, t2.a)\n",
    "print(t1.b, t2.b)"
   ]
  },
  {
   "cell_type": "code",
   "execution_count": 18,
   "id": "90c2b1d9",
   "metadata": {},
   "outputs": [
    {
     "name": "stdout",
     "output_type": "stream",
     "text": [
      "888 999\n",
      "10 20\n"
     ]
    }
   ],
   "source": [
    "class Test:\n",
    "    a = 10\n",
    "    def __init__(self):\n",
    "        self.b=20\n",
    "        \n",
    "t1=Test()\n",
    "t2=Test()\n",
    "t1.a = 888\n",
    "t1.b = 999\n",
    "print(t1.a, t1.b)\n",
    "print(t2.a, t2.b)\n"
   ]
  },
  {
   "cell_type": "markdown",
   "id": "fdc8c03d",
   "metadata": {},
   "source": [
    "## How to delete static variable "
   ]
  },
  {
   "cell_type": "code",
   "execution_count": 21,
   "id": "56340e42",
   "metadata": {},
   "outputs": [
    {
     "name": "stdout",
     "output_type": "stream",
     "text": [
      "10\n"
     ]
    }
   ],
   "source": [
    "class Test:\n",
    "    a = 10\n",
    "    @classmethod\n",
    "    def m(cls):\n",
    "#        del cls.a\n",
    "        del Test.a\n",
    "    \n",
    "print(Test.a)"
   ]
  },
  {
   "cell_type": "markdown",
   "id": "882ca911",
   "metadata": {},
   "source": [
    "## local variable\n",
    "\n",
    "1. local variable are only accessable using class"
   ]
  },
  {
   "cell_type": "code",
   "execution_count": 2,
   "id": "e5c06505",
   "metadata": {},
   "outputs": [
    {
     "name": "stdout",
     "output_type": "stream",
     "text": [
      "average is:  30.0\n",
      "no need to create an object because static method doesn't need one but rest 2 method does\n"
     ]
    }
   ],
   "source": [
    "\n",
    "\n",
    "class Test:\n",
    "    @staticmethod\n",
    "    def average(list):\n",
    "        result = sum(list)/len(list)\n",
    "        print(\"average is: \", result)\n",
    "list = [10,20,30,40,50]\n",
    "Test.average(list)    # calling form class\n",
    "print(\"no need to create an object because static method doesn't need one but rest 2 method does\")"
   ]
  },
  {
   "cell_type": "markdown",
   "id": "81f1f7da",
   "metadata": {},
   "source": [
    "# Types of methods \n",
    "\n",
    "1. Instance method \n",
    "2. class method\n",
    "3. static method"
   ]
  },
  {
   "cell_type": "markdown",
   "id": "5860429f",
   "metadata": {},
   "source": [
    "\n",
    "1. Instance method\n",
    "\n",
    "    a. if use of any one instance variable then it is called instance method.\n",
    "    \n",
    "    b. self is always used as parameter\n",
    "  "
   ]
  },
  {
   "cell_type": "code",
   "execution_count": 6,
   "id": "2381ac91",
   "metadata": {},
   "outputs": [
    {
     "name": "stdout",
     "output_type": "stream",
     "text": [
      "Enter number of student: 3\n",
      "Enter name: ram\n",
      "Enter marks: 66\n",
      "Hi my name is:  ram\n",
      "and my marks is:  66\n",
      "grade A\n",
      "\n",
      "Enter name: rajesh\n",
      "Enter marks: 99\n",
      "Hi my name is:  rajesh\n",
      "and my marks is:  99\n",
      "grade A\n",
      "\n",
      "Enter name: resham\n",
      "Enter marks: 44\n",
      "Hi my name is:  resham\n",
      "and my marks is:  44\n",
      "fail\n",
      "\n"
     ]
    }
   ],
   "source": [
    "\n",
    "class Student:\n",
    "    def __init__(self,name,marks):\n",
    "        self.name = name\n",
    "        self.marks = marks\n",
    "        \n",
    "    def display(self):    # instance method\n",
    "        print(\"Hi my name is: \", self.name)\n",
    "        print(\"and my marks is: \", self.marks)\n",
    "        \n",
    "    def grade(self):\n",
    "        if self.marks>=60:\n",
    "            print(\"grade A\")\n",
    "        elif self.marks >= 50:\n",
    "            print(\"grade B\")\n",
    "        else:\n",
    "            print(\"fail\")\n",
    "n = int(input(\"Enter number of student: \"))\n",
    "for i in range(n):\n",
    "    name = input('Enter name: ')\n",
    "    marks = int(input(\"Enter marks: \"))\n",
    "    s = Student(name,marks)    # object is created\n",
    "    s.display()    # calling instance method with an object\n",
    "    s.grade()\n",
    "    print()\n",
    "    "
   ]
  },
  {
   "cell_type": "markdown",
   "id": "e2706b80",
   "metadata": {},
   "source": [
    "# setter / getter\n",
    "\n",
    "   1. I will not put instance variable in consturctor\n",
    "    \n",
    "   2. I don't know what is the result, I will use setter /getter\n",
    "\n",
    "\n",
    "\n",
    "\n",
    "Note:\n",
    "1. setter = put value of instance variable (mutator)\n",
    "2. getter = access value of instance variable (accessor)\n"
   ]
  },
  {
   "cell_type": "code",
   "execution_count": 13,
   "id": "8a99c281",
   "metadata": {},
   "outputs": [
    {
     "name": "stdout",
     "output_type": "stream",
     "text": [
      "Enter number of student: 2\n",
      "Enter student name: ram\n",
      "Enter marks of student: 99\n",
      "Enter student name: shyam\n",
      "Enter marks of student: 88\n",
      "hello ram\n",
      "marks is 99\n",
      "\n",
      "hello shyam\n",
      "marks is 88\n",
      "\n"
     ]
    }
   ],
   "source": [
    "class Student:\n",
    "    # setName = setter( instance variable) set should be there\n",
    "    # only one variable should be there if you want to use setter\n",
    "    def setName(self,name):    \n",
    "        self.name = name\n",
    "    \n",
    "    def setMarks(self,marks):\n",
    "        self.marks = marks\n",
    "    \n",
    "    # using getter to get value form setter \n",
    "    def getName(self):\n",
    "        return self.name\n",
    "    \n",
    "    def getMarks(self):\n",
    "        return self.marks\n",
    "        \n",
    "n = int(input(\"Enter number of student: \"))        \n",
    "students = []\n",
    "for i in range(n):\n",
    "    s = Student()\n",
    "    name = input(\"Enter student name: \")\n",
    "    marks = int(input(\"Enter marks of student: \"))\n",
    "    \n",
    "    # calling method usign object\n",
    "    s.setName(name)\n",
    "    s.setMarks(marks)\n",
    "    students.append(s)\n",
    "    \n",
    "for s in students:\n",
    "    print(\"hello\", s.getName())\n",
    "    print(\"marks is\", s.getMarks())\n",
    "    print()"
   ]
  },
  {
   "cell_type": "markdown",
   "id": "7f89b2ac",
   "metadata": {},
   "source": [
    "\n",
    "2. class method\n",
    "\n",
    "   no use of instance variable \n",
    "   \n",
    "   1st argument cls \n"
   ]
  },
  {
   "cell_type": "code",
   "execution_count": 16,
   "id": "34f7c15c",
   "metadata": {},
   "outputs": [
    {
     "name": "stdout",
     "output_type": "stream",
     "text": [
      "no of objects are:  0\n",
      "no of objects are:  5\n"
     ]
    }
   ],
   "source": [
    "# How many object is created from given class\n",
    "\n",
    "class Test:\n",
    "    count = 0\n",
    "    # to find object we need to repetatively loop through constructor\n",
    "    def __init__(self):\n",
    "        Test.count = Test.count+1\n",
    "        \n",
    "    @classmethod\n",
    "    def noofobject(cls):\n",
    "        # cls.count or Test.count ie (class name or cls)\n",
    "        print('no of objects are: ', cls.count)\n",
    "\n",
    "Test.noofobject()\n",
    "\n",
    "t1 = Test()\n",
    "t2 = Test()\n",
    "t3 = Test()\n",
    "t4 =Test()\n",
    "t5 = Test()\n",
    "\n",
    "Test.noofobject()"
   ]
  },
  {
   "cell_type": "markdown",
   "id": "2dccf84b",
   "metadata": {},
   "source": [
    "3. static method\n",
    "\n",
    "method used to fulfill temporary purpose is called static method\n",
    "\n",
    "neither self nor cls is used to create static method"
   ]
  },
  {
   "cell_type": "code",
   "execution_count": 21,
   "id": "aec9abf3",
   "metadata": {},
   "outputs": [
    {
     "name": "stdout",
     "output_type": "stream",
     "text": [
      "sum is : 30\n",
      "Product is :  6\n"
     ]
    }
   ],
   "source": [
    "class Math:\n",
    "    @staticmethod\n",
    "    def add(a,b):\n",
    "        print(\"sum is :\",a+b)\n",
    "    \n",
    "    @staticmethod\n",
    "    def product(a,b):\n",
    "        print(\"Product is : \", a*b)\n",
    "\n",
    "Math.add(10,20)\n",
    "Math.product(2,3)\n",
    "        \n",
    "        "
   ]
  },
  {
   "cell_type": "markdown",
   "id": "e35c49b0",
   "metadata": {},
   "source": [
    "#### Mini bank application"
   ]
  },
  {
   "cell_type": "code",
   "execution_count": 23,
   "id": "e8c8eb65",
   "metadata": {},
   "outputs": [
    {
     "name": "stdout",
     "output_type": "stream",
     "text": [
      "\n",
      "Welcome to abc bank\n",
      "Enter your name: rakesh\n",
      "\n",
      "d-deposit\n",
      "w-withdraw\n",
      "e-exit\n",
      "Choose the folowing: d\n",
      "Enter your amount for deposit: 6000\n",
      "Your balance after deposit 6000.0\n",
      "\n",
      "d-deposit\n",
      "w-withdraw\n",
      "e-exit\n",
      "Choose the folowing: w\n",
      "Enter your amount for withdraw: 5000\n",
      "Balance after withdraw 1000.0\n",
      "\n",
      "d-deposit\n",
      "w-withdraw\n",
      "e-exit\n",
      "Choose the folowing: d\n",
      "Enter your amount for deposit: 90\n",
      "Your balance after deposit 1090.0\n",
      "\n",
      "d-deposit\n",
      "w-withdraw\n",
      "e-exit\n",
      "Choose the folowing: w\n",
      "Enter your amount for withdraw: 1100\n",
      "Insufficient balance\n"
     ]
    },
    {
     "ename": "SystemExit",
     "evalue": "",
     "output_type": "error",
     "traceback": [
      "An exception has occurred, use %tb to see the full traceback.\n",
      "\u001b[1;31mSystemExit\u001b[0m\n"
     ]
    }
   ],
   "source": [
    "import sys\n",
    "class Customer:\n",
    "    bank_name = \"abc bank\"\n",
    "    def __init__(self,name,balance=0.0):\n",
    "        self.name = name\n",
    "        self.balance = balance\n",
    "        \n",
    "    def deposit(self,amt):\n",
    "        self.balance=self.balance+amt\n",
    "        print(\"Your balance after deposit\", self.balance)\n",
    "        \n",
    "    def withdraw(self,amt):\n",
    "        if amt> self.balance:\n",
    "            print('Insufficient balance')\n",
    "            sys.exit()\n",
    "        self.balance=self.balance-amt\n",
    "        print(\"Balance after withdraw\", self.balance)\n",
    "\n",
    "print()\n",
    "print(\"Welcome to\",Customer.bank_name)\n",
    "name = input(\"Enter your name: \")\n",
    "c = Customer(name)\n",
    "\n",
    "while True:\n",
    "    print()\n",
    "    print('d-deposit\\nw-withdraw\\ne-exit')\n",
    "    option = input('Choose the folowing: ')\n",
    "    if option.lower()=='d':\n",
    "        amt = float(input(\"Enter your amount for deposit: \"))\n",
    "        c.deposit(amt)\n",
    "    elif option.lower()=='w':\n",
    "        amt = float(input(\"Enter your amount for withdraw: \"))\n",
    "        c.withdraw(amt)\n",
    "    elif option.lower()=='e':\n",
    "        print('Thanks for banking with us. See you again')\n",
    "        sys.exit()\n",
    "    else:\n",
    "        print(\"Invalid option\")\n",
    "        "
   ]
  },
  {
   "cell_type": "code",
   "execution_count": null,
   "id": "9cfa64d4",
   "metadata": {},
   "outputs": [],
   "source": []
  }
 ],
 "metadata": {
  "kernelspec": {
   "display_name": "Python 3 (ipykernel)",
   "language": "python",
   "name": "python3"
  },
  "language_info": {
   "codemirror_mode": {
    "name": "ipython",
    "version": 3
   },
   "file_extension": ".py",
   "mimetype": "text/x-python",
   "name": "python",
   "nbconvert_exporter": "python",
   "pygments_lexer": "ipython3",
   "version": "3.9.7"
  }
 },
 "nbformat": 4,
 "nbformat_minor": 5
}
