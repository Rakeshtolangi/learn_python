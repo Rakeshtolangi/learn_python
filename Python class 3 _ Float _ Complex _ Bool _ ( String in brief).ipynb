{
 "cells": [
  {
   "cell_type": "markdown",
   "id": "b6b70180",
   "metadata": {},
   "source": [
    "## float"
   ]
  },
  {
   "cell_type": "code",
   "execution_count": 1,
   "id": "f6b827a6",
   "metadata": {},
   "outputs": [
    {
     "name": "stdout",
     "output_type": "stream",
     "text": [
      "<class 'int'>\n"
     ]
    }
   ],
   "source": [
    "a = 100 \n",
    "print(type(a))"
   ]
  },
  {
   "cell_type": "code",
   "execution_count": 2,
   "id": "ef6bbb93",
   "metadata": {},
   "outputs": [
    {
     "name": "stdout",
     "output_type": "stream",
     "text": [
      "<class 'float'>\n",
      "1200.0\n"
     ]
    }
   ],
   "source": [
    "a = 1.2e3    # 1.2*e^23 or 1.2*E^23\n",
    "print(type(a))\n",
    "print(a)"
   ]
  },
  {
   "cell_type": "markdown",
   "id": "acff4c2d",
   "metadata": {},
   "source": [
    "# complex"
   ]
  },
  {
   "cell_type": "code",
   "execution_count": 7,
   "id": "cbc383bb",
   "metadata": {},
   "outputs": [
    {
     "name": "stdout",
     "output_type": "stream",
     "text": [
      "<class 'complex'>\n",
      "1.0\n",
      "5.0\n"
     ]
    }
   ],
   "source": [
    "# j^2 = -1\n",
    "# ie j = root(-1)\n",
    "\n",
    "\n",
    "a = 1 + 5j\n",
    "print(type(a))\n",
    "\n",
    "print(a.real)\n",
    "print(a.imag)\n"
   ]
  },
  {
   "cell_type": "code",
   "execution_count": 13,
   "id": "05acea76",
   "metadata": {},
   "outputs": [
    {
     "name": "stdout",
     "output_type": "stream",
     "text": [
      "(15+15j)\n",
      "0.0\n",
      "100.0\n",
      "100j\n"
     ]
    }
   ],
   "source": [
    "a = 5+5j\n",
    "b = 10+10j\n",
    "c = a + b\n",
    "d = a * b\n",
    "print(c)\n",
    "print(d.real)\n",
    "print(d.imag)\n",
    "print(d)"
   ]
  },
  {
   "cell_type": "markdown",
   "id": "8f678668",
   "metadata": {},
   "source": [
    "# Bool data type"
   ]
  },
  {
   "cell_type": "code",
   "execution_count": 15,
   "id": "67f2b88b",
   "metadata": {},
   "outputs": [
    {
     "name": "stdout",
     "output_type": "stream",
     "text": [
      "<class 'bool'>\n"
     ]
    }
   ],
   "source": [
    "# True or False\n",
    "a = False\n",
    "print(type(a))"
   ]
  },
  {
   "cell_type": "code",
   "execution_count": 16,
   "id": "359946ce",
   "metadata": {},
   "outputs": [
    {
     "name": "stdout",
     "output_type": "stream",
     "text": [
      "True\n"
     ]
    }
   ],
   "source": [
    "a = 10\n",
    "b=20\n",
    "c = a < b\n",
    "print(c)\n"
   ]
  },
  {
   "cell_type": "code",
   "execution_count": 17,
   "id": "b0201a08",
   "metadata": {},
   "outputs": [
    {
     "name": "stdout",
     "output_type": "stream",
     "text": [
      "False\n"
     ]
    }
   ],
   "source": [
    "a = 10\n",
    "b=20\n",
    "c = a > b\n",
    "print(c)"
   ]
  },
  {
   "cell_type": "code",
   "execution_count": 20,
   "id": "f23b2a71",
   "metadata": {},
   "outputs": [
    {
     "name": "stdout",
     "output_type": "stream",
     "text": [
      "2\n",
      "1\n"
     ]
    }
   ],
   "source": [
    "# True ==> 1\n",
    "#False ==> 0\n",
    "\n",
    "print(True + True)\n",
    "print(True - False)"
   ]
  },
  {
   "cell_type": "markdown",
   "id": "c5c8b8e0",
   "metadata": {},
   "source": [
    "# string data type"
   ]
  },
  {
   "cell_type": "code",
   "execution_count": 21,
   "id": "ae70637e",
   "metadata": {},
   "outputs": [
    {
     "name": "stdout",
     "output_type": "stream",
     "text": [
      "<class 'str'>\n"
     ]
    }
   ],
   "source": [
    "# sequence of character enclosed in quote\n",
    "a = \"sequence\"\n",
    "print(type(a))"
   ]
  },
  {
   "cell_type": "code",
   "execution_count": 22,
   "id": "e9a34173",
   "metadata": {},
   "outputs": [
    {
     "name": "stdout",
     "output_type": "stream",
     "text": [
      "my\n",
      "name\n",
      "is \n",
      "rakesh\n"
     ]
    }
   ],
   "source": [
    "# '''   doc string '''\n",
    "# \"\"\"  doc string  \"\"\"\n",
    "\n",
    "# multi line sting literals\n",
    "\n",
    "a = '''my\n",
    "name\n",
    "is \n",
    "rakesh'''\n",
    "print(a)"
   ]
  },
  {
   "cell_type": "code",
   "execution_count": 23,
   "id": "b4bfb977",
   "metadata": {},
   "outputs": [
    {
     "name": "stdout",
     "output_type": "stream",
     "text": [
      "professor 'rakesh' is computer engineer\n"
     ]
    }
   ],
   "source": [
    "a = \"professor 'rakesh' is computer engineer\"\n",
    "print(a)"
   ]
  },
  {
   "cell_type": "code",
   "execution_count": 26,
   "id": "83f52c90",
   "metadata": {},
   "outputs": [
    {
     "name": "stdout",
     "output_type": "stream",
     "text": [
      "professor 'rakesh' and \"hari \" are computer engineer\n"
     ]
    }
   ],
   "source": [
    "a = \"\"\"professor 'rakesh' and \"hari \" are computer engineer\"\"\"\n",
    "print(a)"
   ]
  },
  {
   "cell_type": "code",
   "execution_count": 27,
   "id": "73f0049d",
   "metadata": {},
   "outputs": [
    {
     "name": "stdout",
     "output_type": "stream",
     "text": [
      "pRaBin\n",
      "prabin\n"
     ]
    }
   ],
   "source": [
    "# to define doc string\n",
    "\"\"\"\n",
    "upper()\n",
    "lower()\n",
    "\"\"\"\n",
    "\n",
    "a = 'pRaBin'\n",
    "print(a)\n",
    "print(a.lower())"
   ]
  },
  {
   "cell_type": "code",
   "execution_count": 28,
   "id": "e721e9ae",
   "metadata": {},
   "outputs": [
    {
     "name": "stdout",
     "output_type": "stream",
     "text": [
      "pRaBin\n",
      "PRABIN\n"
     ]
    }
   ],
   "source": [
    "\n",
    "a = 'pRaBin'\n",
    "print(a)\n",
    "print(a.upper())"
   ]
  },
  {
   "cell_type": "code",
   "execution_count": 35,
   "id": "e3058d91",
   "metadata": {},
   "outputs": [
    {
     "name": "stdout",
     "output_type": "stream",
     "text": [
      "a\n",
      "r\n"
     ]
    }
   ],
   "source": [
    "a = 'rakesh is computer engineer'\n",
    "print(a[1])\n",
    "print(a[-1])"
   ]
  },
  {
   "cell_type": "markdown",
   "id": "00639055",
   "metadata": {},
   "source": [
    "# slicing"
   ]
  },
  {
   "cell_type": "code",
   "execution_count": 36,
   "id": "b26338be",
   "metadata": {},
   "outputs": [
    {
     "name": "stdout",
     "output_type": "stream",
     "text": [
      "Rakesh\n"
     ]
    }
   ],
   "source": [
    "a = \"Rakesh\"\n",
    "print(a[:])"
   ]
  },
  {
   "cell_type": "code",
   "execution_count": 39,
   "id": "3be79ef6",
   "metadata": {},
   "outputs": [
    {
     "ename": "IndexError",
     "evalue": "string index out of range",
     "output_type": "error",
     "traceback": [
      "\u001b[1;31m---------------------------------------------------------------------------\u001b[0m",
      "\u001b[1;31mIndexError\u001b[0m                                Traceback (most recent call last)",
      "\u001b[1;32mC:\\Users\\RAKESH~1\\AppData\\Local\\Temp/ipykernel_8480/1055967258.py\u001b[0m in \u001b[0;36m<module>\u001b[1;34m\u001b[0m\n\u001b[0;32m      1\u001b[0m \u001b[0ma\u001b[0m \u001b[1;33m=\u001b[0m \u001b[1;34m\"Rakesh\"\u001b[0m\u001b[1;33m\u001b[0m\u001b[1;33m\u001b[0m\u001b[0m\n\u001b[1;32m----> 2\u001b[1;33m \u001b[0mprint\u001b[0m\u001b[1;33m(\u001b[0m\u001b[0ma\u001b[0m\u001b[1;33m[\u001b[0m\u001b[1;36m200\u001b[0m\u001b[1;33m]\u001b[0m\u001b[1;33m)\u001b[0m\u001b[1;33m\u001b[0m\u001b[1;33m\u001b[0m\u001b[0m\n\u001b[0m",
      "\u001b[1;31mIndexError\u001b[0m: string index out of range"
     ]
    }
   ],
   "source": [
    "a = \"Rakesh\"\n",
    "print(a[200])"
   ]
  },
  {
   "cell_type": "code",
   "execution_count": 40,
   "id": "24cc9718",
   "metadata": {},
   "outputs": [
    {
     "name": "stdout",
     "output_type": "stream",
     "text": [
      "Rakesh\n"
     ]
    }
   ],
   "source": [
    "a = \"Rakesh\"\n",
    "print(a[:200])"
   ]
  },
  {
   "cell_type": "code",
   "execution_count": 41,
   "id": "756f16f3",
   "metadata": {},
   "outputs": [
    {
     "name": "stdout",
     "output_type": "stream",
     "text": [
      "\n"
     ]
    }
   ],
   "source": [
    "a = \"Rakesh\"\n",
    "print(a[5:1])"
   ]
  },
  {
   "cell_type": "code",
   "execution_count": 46,
   "id": "d0a4f7b8",
   "metadata": {},
   "outputs": [
    {
     "name": "stdout",
     "output_type": "stream",
     "text": [
      "Rakesh\n"
     ]
    }
   ],
   "source": [
    "a = \"RaKESH\"\n",
    "print(a.upper()[0]+a.lower()[1:])"
   ]
  },
  {
   "cell_type": "code",
   "execution_count": 47,
   "id": "0d9a469a",
   "metadata": {},
   "outputs": [
    {
     "name": "stdout",
     "output_type": "stream",
     "text": [
      "RaKESH\n"
     ]
    }
   ],
   "source": [
    "a = \"RaKESH\"\n",
    "print(a.upper()[0]+a[1:])"
   ]
  },
  {
   "cell_type": "code",
   "execution_count": 50,
   "id": "2f7c3be0",
   "metadata": {},
   "outputs": [
    {
     "name": "stdout",
     "output_type": "stream",
     "text": [
      "Rakesh\n"
     ]
    }
   ],
   "source": [
    "# proper output\n",
    "a = \"RaKESH\"\n",
    "output=a[0].upper()+ a.lower()[1:]\n",
    "print(output)"
   ]
  },
  {
   "cell_type": "code",
   "execution_count": 51,
   "id": "3690afad",
   "metadata": {},
   "outputs": [
    {
     "name": "stdout",
     "output_type": "stream",
     "text": [
      "6\n"
     ]
    }
   ],
   "source": [
    "a = \"Rakesh\"\n",
    "print(len(a))"
   ]
  },
  {
   "cell_type": "code",
   "execution_count": 52,
   "id": "01284b3a",
   "metadata": {},
   "outputs": [
    {
     "name": "stdout",
     "output_type": "stream",
     "text": [
      "RH\n"
     ]
    }
   ],
   "source": [
    "a = \"rAKESh\"\n",
    "output = a[0].upper() + a[-1].upper()\n",
    "print(output)"
   ]
  },
  {
   "cell_type": "code",
   "execution_count": 63,
   "id": "92c4696d",
   "metadata": {},
   "outputs": [
    {
     "name": "stdout",
     "output_type": "stream",
     "text": [
      "RRAKES\n",
      "rAKESh\n"
     ]
    }
   ],
   "source": [
    "a = \"rAKESh\"\n",
    "print(a.upper()[0]+a.upper()[:-1])\n",
    "print(a)"
   ]
  },
  {
   "cell_type": "code",
   "execution_count": 61,
   "id": "9a9698f1",
   "metadata": {},
   "outputs": [
    {
     "name": "stdout",
     "output_type": "stream",
     "text": [
      "rAKESH\n"
     ]
    }
   ],
   "source": [
    "# print last letter of string capital letter\n",
    "a = \"rAKESh\" \n",
    "output = a[:len(a)-1]+a[-1].upper()\n",
    "print(output)"
   ]
  },
  {
   "cell_type": "code",
   "execution_count": 74,
   "id": "db11b35c",
   "metadata": {},
   "outputs": [
    {
     "name": "stdout",
     "output_type": "stream",
     "text": [
      "i am a happy persoN\n"
     ]
    }
   ],
   "source": [
    "#print 1st and last letter of string capital letter\n",
    "a = \"i am a happy person\"\n",
    "output = a[:len(a)-1]+a[-1].upper()\n",
    "print(output)"
   ]
  },
  {
   "cell_type": "code",
   "execution_count": 77,
   "id": "e304d06f",
   "metadata": {},
   "outputs": [
    {
     "name": "stdout",
     "output_type": "stream",
     "text": [
      "I am a happy persoN\n"
     ]
    }
   ],
   "source": [
    "#print 1st and last letter of string capital letter\n",
    "a = \"i am a happy person\"\n",
    "output = a[0].upper()+a[1:len(a)-1].lower()+a[-1].upper()\n",
    "print(output) "
   ]
  },
  {
   "cell_type": "code",
   "execution_count": null,
   "id": "f302bbb0",
   "metadata": {},
   "outputs": [],
   "source": []
  }
 ],
 "metadata": {
  "kernelspec": {
   "display_name": "Python 3 (ipykernel)",
   "language": "python",
   "name": "python3"
  },
  "language_info": {
   "codemirror_mode": {
    "name": "ipython",
    "version": 3
   },
   "file_extension": ".py",
   "mimetype": "text/x-python",
   "name": "python",
   "nbconvert_exporter": "python",
   "pygments_lexer": "ipython3",
   "version": "3.9.7"
  }
 },
 "nbformat": 4,
 "nbformat_minor": 5
}
